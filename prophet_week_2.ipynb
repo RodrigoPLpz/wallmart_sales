{
 "cells": [
  {
   "cell_type": "markdown",
   "id": "c9b061fa-52fc-420e-ac51-66549685c779",
   "metadata": {
    "tags": []
   },
   "source": [
    "# Instancia de librarias"
   ]
  },
  {
   "cell_type": "code",
   "execution_count": 1,
   "id": "d4ba69eb-437f-4591-a70f-57af63f7d96a",
   "metadata": {
    "tags": []
   },
   "outputs": [
    {
     "name": "stdout",
     "output_type": "stream",
     "text": [
      "Setup complete\n"
     ]
    }
   ],
   "source": [
    "import pandas as pd\n",
    "import numpy as np\n",
    "import warnings\n",
    "warnings.filterwarnings('ignore')\n",
    "# import datetime as dt\n",
    "from datetime import datetime # Trabajar con fechas\n",
    "\n",
    "# Metricas de desempeño de modelos \n",
    "import scipy.stats as stats\n",
    "import statistics\n",
    "from sklearn import metrics\n",
    "from sklearn.metrics import r2_score\n",
    "from sklearn.preprocessing import StandardScaler  # Estandarización de los datos\n",
    "from sklearn.model_selection import cross_val_score\n",
    "\n",
    "# Series de tiempo\n",
    "# from statsmodels.tsa.seasonal import seasonal_decompose # graficas de estacionalidad y tendencia\n",
    "# from statsmodels.tsa.stattools import adfuller # prueba \n",
    "# from statsmodels.tsa.statespace.sarimax import SARIMAX #SARIMAX\n",
    "# import pmdarima as pm # autoarima\n",
    "# import statsmodels.formula.api as smf\n",
    "\n",
    "# Prophet\n",
    "\n",
    "# !pip3 install more-itertools --user\n",
    "# !pip install prophet --user\n",
    "import itertools\n",
    "from prophet import Prophet\n",
    "from prophet.diagnostics import cross_validation, performance_metrics\n",
    "from prophet.plot import plot_plotly\n",
    "\n",
    "# Formato de visualización por centenas\n",
    "pd.options.display.float_format = '{:,.2f}'.format\n",
    "\n",
    "# Graficas\n",
    "pd.plotting.register_matplotlib_converters()\n",
    "import matplotlib.pyplot as plt\n",
    "%matplotlib inline\n",
    "import seaborn as sns;sns.set_theme(color_codes=True)\n",
    "\n",
    "# Tamaño del cuadro de las gráficas por defult\n",
    "plt.rcParams[\"figure.figsize\"] = (12,6)\n",
    "\n",
    "import plotly.graph_objects as go\n",
    "from plotly.subplots import make_subplots\n",
    "\n",
    "print(\"Setup complete\")"
   ]
  },
  {
   "cell_type": "code",
   "execution_count": null,
   "id": "5beea738",
   "metadata": {},
   "outputs": [],
   "source": [
    "#TODO Skills: Aplica comentarios de prophet_month_2.ipynb"
   ]
  },
  {
   "cell_type": "markdown",
   "id": "a2ad1c17-f717-4514-b0dc-dfd0d2be59a1",
   "metadata": {
    "tags": []
   },
   "source": [
    "# Importación de datos"
   ]
  },
  {
   "cell_type": "code",
   "execution_count": 2,
   "id": "d7d2534d-28c0-4b19-948f-b7927fa7037f",
   "metadata": {},
   "outputs": [],
   "source": [
    "path = r'E:\\\\skillsForIndustry/project_wallmart/data/Walmart_Store_sales.csv'\n",
    "wall_data = pd.read_csv(path, header=0, encoding='utf-8')"
   ]
  },
  {
   "cell_type": "code",
   "execution_count": 3,
   "id": "0df2f0f7-2981-42bd-a0d9-c7e5e5ff8d1b",
   "metadata": {},
   "outputs": [
    {
     "name": "stdout",
     "output_type": "stream",
     "text": [
      "<class 'pandas.core.frame.DataFrame'>\n",
      "RangeIndex: 6435 entries, 0 to 6434\n",
      "Data columns (total 8 columns):\n",
      " #   Column        Non-Null Count  Dtype         \n",
      "---  ------        --------------  -----         \n",
      " 0   Store         6435 non-null   int64         \n",
      " 1   Date          6435 non-null   datetime64[ns]\n",
      " 2   Weekly_Sales  6435 non-null   float64       \n",
      " 3   Holiday_Flag  6435 non-null   int64         \n",
      " 4   Temperature   6435 non-null   float64       \n",
      " 5   Fuel_Price    6435 non-null   float64       \n",
      " 6   CPI           6435 non-null   float64       \n",
      " 7   Unemployment  6435 non-null   float64       \n",
      "dtypes: datetime64[ns](1), float64(5), int64(2)\n",
      "memory usage: 402.3 KB\n"
     ]
    },
    {
     "data": {
      "text/html": [
       "<div>\n",
       "<style scoped>\n",
       "    .dataframe tbody tr th:only-of-type {\n",
       "        vertical-align: middle;\n",
       "    }\n",
       "\n",
       "    .dataframe tbody tr th {\n",
       "        vertical-align: top;\n",
       "    }\n",
       "\n",
       "    .dataframe thead th {\n",
       "        text-align: right;\n",
       "    }\n",
       "</style>\n",
       "<table border=\"1\" class=\"dataframe\">\n",
       "  <thead>\n",
       "    <tr style=\"text-align: right;\">\n",
       "      <th></th>\n",
       "      <th>Store</th>\n",
       "      <th>Date</th>\n",
       "      <th>Weekly_Sales</th>\n",
       "      <th>Holiday_Flag</th>\n",
       "      <th>Temperature</th>\n",
       "      <th>Fuel_Price</th>\n",
       "      <th>CPI</th>\n",
       "      <th>Unemployment</th>\n",
       "    </tr>\n",
       "  </thead>\n",
       "  <tbody>\n",
       "    <tr>\n",
       "      <th>0</th>\n",
       "      <td>1</td>\n",
       "      <td>2010-02-05</td>\n",
       "      <td>1,643,690.90</td>\n",
       "      <td>0</td>\n",
       "      <td>42.31</td>\n",
       "      <td>2.57</td>\n",
       "      <td>211.10</td>\n",
       "      <td>8.11</td>\n",
       "    </tr>\n",
       "    <tr>\n",
       "      <th>1</th>\n",
       "      <td>1</td>\n",
       "      <td>2010-02-12</td>\n",
       "      <td>1,641,957.44</td>\n",
       "      <td>1</td>\n",
       "      <td>38.51</td>\n",
       "      <td>2.55</td>\n",
       "      <td>211.24</td>\n",
       "      <td>8.11</td>\n",
       "    </tr>\n",
       "    <tr>\n",
       "      <th>2</th>\n",
       "      <td>1</td>\n",
       "      <td>2010-02-19</td>\n",
       "      <td>1,611,968.17</td>\n",
       "      <td>0</td>\n",
       "      <td>39.93</td>\n",
       "      <td>2.51</td>\n",
       "      <td>211.29</td>\n",
       "      <td>8.11</td>\n",
       "    </tr>\n",
       "    <tr>\n",
       "      <th>3</th>\n",
       "      <td>1</td>\n",
       "      <td>2010-02-26</td>\n",
       "      <td>1,409,727.59</td>\n",
       "      <td>0</td>\n",
       "      <td>46.63</td>\n",
       "      <td>2.56</td>\n",
       "      <td>211.32</td>\n",
       "      <td>8.11</td>\n",
       "    </tr>\n",
       "    <tr>\n",
       "      <th>4</th>\n",
       "      <td>1</td>\n",
       "      <td>2010-03-05</td>\n",
       "      <td>1,554,806.68</td>\n",
       "      <td>0</td>\n",
       "      <td>46.50</td>\n",
       "      <td>2.62</td>\n",
       "      <td>211.35</td>\n",
       "      <td>8.11</td>\n",
       "    </tr>\n",
       "  </tbody>\n",
       "</table>\n",
       "</div>"
      ],
      "text/plain": [
       "   Store       Date  Weekly_Sales  Holiday_Flag  Temperature  Fuel_Price  \\\n",
       "0      1 2010-02-05  1,643,690.90             0        42.31        2.57   \n",
       "1      1 2010-02-12  1,641,957.44             1        38.51        2.55   \n",
       "2      1 2010-02-19  1,611,968.17             0        39.93        2.51   \n",
       "3      1 2010-02-26  1,409,727.59             0        46.63        2.56   \n",
       "4      1 2010-03-05  1,554,806.68             0        46.50        2.62   \n",
       "\n",
       "     CPI  Unemployment  \n",
       "0 211.10          8.11  \n",
       "1 211.24          8.11  \n",
       "2 211.29          8.11  \n",
       "3 211.32          8.11  \n",
       "4 211.35          8.11  "
      ]
     },
     "execution_count": 3,
     "metadata": {},
     "output_type": "execute_result"
    }
   ],
   "source": [
    "wall_data['Date'] = pd.to_datetime(wall_data['Date'],format=\"%d-%m-%Y\",dayfirst=True)\n",
    "wall_data.info()\n",
    "wall_data.head()"
   ]
  },
  {
   "cell_type": "markdown",
   "id": "d4b5746d-2ed4-43b5-810a-e6594cfd6059",
   "metadata": {
    "tags": []
   },
   "source": [
    "#### Frecuencia de tiempo"
   ]
  },
  {
   "cell_type": "code",
   "execution_count": 4,
   "id": "6a508a82-0529-411d-ab49-3b3ce426f1a6",
   "metadata": {},
   "outputs": [],
   "source": [
    "# Semanal\n",
    "stores = wall_data\n",
    "stores = stores.iloc[:,[1,0,2]]\n",
    "stores['Store'] = stores.Store.astype(str)\n",
    "stores.columns = ['Date','Store','Weekly_Sales']\n",
    "\n",
    "# Mensual\n",
    "# Mensual con frecuencia\n",
    "# stores = wall_data\n",
    "# stores = stores.iloc[:,[1,0,2]]\n",
    "# stores.Date = pd.PeriodIndex(stores.Date, freq='M')\n",
    "# # stores = stores.groupby(['Date'])['Weekly_Sales'].aggregate([sum,min,'mean','count']).reset_index()\n",
    "# stores = stores.groupby(['Date','Store'])['Weekly_Sales'].mean().reset_index()\n",
    "# stores['Date'] = stores['Date'].astype(str)\n",
    "# stores['Store'] = stores.Store.astype(str)\n",
    "# stores['Date'] =pd.to_datetime(stores['Date'])\n",
    "# stores.head()\n",
    "\n",
    "# Mensual sin frecuencia \n",
    "# stores = wall_data\n",
    "# stores = stores.iloc[:,[1,0,2]]\n",
    "# stores['year'] = pd.DatetimeIndex(stores['Date']).year\n",
    "# stores['month'] = pd.DatetimeIndex(stores['Date']).month\n",
    "# stores= stores.groupby(['year','month','Store'])[['Weekly_Sales']].mean().reset_index()\n",
    "# stores['year_str']=stores.year.apply(str)\n",
    "# stores['month_str']=stores.month.apply(str)\n",
    "# stores['Store'] = stores.Store.astype(str)\n",
    "# stores['year_month'] = stores[['year_str','month_str']].apply('-'.join,axis=1)\n",
    "# stores['Date']=pd.to_datetime(stores['year_month'],format=\"%Y-%m\",yearfirst=True)\n",
    "# stores = stores.iloc[:,[7,2,3]]\n",
    "# stores.head()"
   ]
  },
  {
   "cell_type": "code",
   "execution_count": 5,
   "id": "edcccadb-3519-499b-a3b4-fa369db12fa0",
   "metadata": {},
   "outputs": [
    {
     "data": {
      "text/plain": [
       "array(['1', '2', '3', '4', '5', '6', '7', '8', '9', '10', '11', '12',\n",
       "       '13', '14', '15', '16', '17', '18', '19', '20', '21', '22', '23',\n",
       "       '24', '25', '26', '27', '28', '29', '30', '31', '32', '33', '34',\n",
       "       '35', '36', '37', '38', '39', '40', '41', '42', '43', '44', '45'],\n",
       "      dtype=object)"
      ]
     },
     "execution_count": 5,
     "metadata": {},
     "output_type": "execute_result"
    }
   ],
   "source": [
    "num_store = stores['Store'].unique()\n",
    "num_store"
   ]
  },
  {
   "cell_type": "code",
   "execution_count": 6,
   "id": "37b18af6-2f55-480c-95ea-2691f91a9cd8",
   "metadata": {},
   "outputs": [],
   "source": [
    "sem = {}\n",
    "for store in num_store:\n",
    "    df = stores[stores['Store']==store].copy()\n",
    "    df.drop('Store',axis=1, inplace=True)\n",
    "    sem[store] = df\n",
    "    df.columns = ['ds','y']\n",
    "    df.rename_axis(index=None,columns=None)\n",
    "   \n",
    "# Elegir una tienda    \n",
    "# sem['20']"
   ]
  },
  {
   "cell_type": "markdown",
   "id": "e5ceaed1-e4e5-43b0-9009-2e8613771e74",
   "metadata": {},
   "source": [
    "#### Performance"
   ]
  },
  {
   "cell_type": "code",
   "execution_count": 7,
   "id": "4df5f8c7-dd59-40de-981a-a24a4d226800",
   "metadata": {
    "tags": []
   },
   "outputs": [],
   "source": [
    "def performance(a,b):\n",
    "    print('Mean Absolute Error: ',metrics.mean_absolute_error(a,b))\n",
    "    print('Mean Square Error: ',metrics.mean_squared_error(a,b))\n",
    "    print('Root Mean Square Error: ',np.sqrt(metrics.mean_squared_error(a,b)))\n",
    "    print('Mean Absolute Percentage Error: ', metrics.mean_absolute_percentage_error(a,b))\n",
    "    \n",
    "    plt.figure(figsize=(10,8),dpi=60)\n",
    "    sns.regplot(b,a);"
   ]
  },
  {
   "cell_type": "markdown",
   "id": "6e969d63-3b18-4c1b-a634-ec3a204a5b3a",
   "metadata": {},
   "source": [
    "#### Conjunto de entrenamiento y test"
   ]
  },
  {
   "cell_type": "code",
   "execution_count": 8,
   "id": "e1581cbe-0440-4732-9356-5457df891740",
   "metadata": {},
   "outputs": [],
   "source": [
    "def tra_tes(st,period):\n",
    "    train = st.sort_values('ds')[:len(st)-period]  # primero datos\n",
    "    test = st.sort_values('ds')[len(st)-period:]   # últimos datos \n",
    "    return train,test\n",
    "\n",
    "# tra_tes(dataframe,period='num_Semanas')"
   ]
  },
  {
   "cell_type": "markdown",
   "id": "26d3200c-f6ff-4600-84f5-46dd169cebb2",
   "metadata": {
    "tags": []
   },
   "source": [
    "## Semanas y tiendas"
   ]
  },
  {
   "cell_type": "code",
   "execution_count": 9,
   "id": "d6a76548-5811-4310-91da-d999335eb41c",
   "metadata": {},
   "outputs": [],
   "source": [
    "s_20 =  sem['20']\n",
    "s_14 =  sem['14'] # No son datos estacionarios\n",
    "s_13 =  sem['13']\n",
    "s_10 =  sem['10']\n",
    "s_26 =  sem['26']\n",
    "s_27 =  sem['27']\n",
    "s_23 =  sem['23']\n",
    "s_24 =  sem['24']\n",
    "s_37 = sem['37']\n",
    "s_39 = sem['39']\n",
    "s_30 = sem['30']\n",
    "s_44 = sem['44']\n",
    "s_31 = sem['31']\n",
    "s_19 = sem['19']\n",
    "s_5 = sem['5']"
   ]
  },
  {
   "cell_type": "markdown",
   "id": "5bcd7a72-fa23-4c0d-af70-0840b86c9f99",
   "metadata": {
    "tags": []
   },
   "source": [
    "## Prophet"
   ]
  },
  {
   "cell_type": "markdown",
   "id": "7fa2ba16-ed63-43db-8b4c-33610c978f9b",
   "metadata": {},
   "source": [
    "## Elegit tienda y periodicidad"
   ]
  },
  {
   "cell_type": "code",
   "execution_count": 25,
   "id": "053db730-e907-4f0e-a742-900483160601",
   "metadata": {},
   "outputs": [],
   "source": [
    "# pr = 12,24,32,40,48,52\n",
    "pr = 48\n",
    "s_t = s_20"
   ]
  },
  {
   "cell_type": "code",
   "execution_count": 26,
   "id": "9449544c-f26d-4651-a918-f3cd9a31b9eb",
   "metadata": {},
   "outputs": [],
   "source": [
    "vnames = [name for name in globals() if globals()[name] is s_t]\n",
    "# print(vnames[0])"
   ]
  },
  {
   "cell_type": "markdown",
   "id": "a8bbe878-6f18-42ca-8c28-f1963762687e",
   "metadata": {},
   "source": [
    "#### Con Entrenamiento y Test"
   ]
  },
  {
   "cell_type": "code",
   "execution_count": 27,
   "id": "982b6889-c903-4ead-a4b4-e56ba3280cc4",
   "metadata": {
    "tags": []
   },
   "outputs": [],
   "source": [
    "# tra_tes(dataframe,period='num_Semanas')\n",
    "train, test = tra_tes(s_t,pr)"
   ]
  },
  {
   "cell_type": "code",
   "execution_count": 28,
   "id": "597facb8-068f-42e1-96df-6af4dc322fce",
   "metadata": {
    "tags": []
   },
   "outputs": [
    {
     "name": "stdout",
     "output_type": "stream",
     "text": [
      "Tienda: s_20\n"
     ]
    },
    {
     "data": {
      "image/png": "[encoded data removed]",
      "text/plain": [
       "<Figure size 864x432 with 1 Axes>"
      ]
     },
     "metadata": {},
     "output_type": "display_data"
    }
   ],
   "source": [
    "print('Tienda:',vnames[0])\n",
    "sns.lineplot(data=test, x = 'ds',y ='y', label='test');\n",
    "sns.lineplot(data=train, x = 'ds',y ='y', label='train');"
   ]
  },
  {
   "cell_type": "code",
   "execution_count": 29,
   "id": "cb79848a-6db2-47a7-847c-587ac3ae8afb",
   "metadata": {},
   "outputs": [
    {
     "name": "stdout",
     "output_type": "stream",
     "text": [
      "Tienda: s_20\n"
     ]
    },
    {
     "data": {
      "image/png": "[encoded data removed]",
      "text/plain": [
       "<Figure size 720x576 with 2 Axes>"
      ]
     },
     "metadata": {},
     "output_type": "display_data"
    }
   ],
   "source": [
    "print('Tienda:',vnames[0])\n",
    "fig, axs = plt.subplots(2,figsize=(10,8))\n",
    "sns.boxplot(train['y'], ax=axs[0]).set_title(\"train\")\n",
    "sns.boxplot(test['y'], ax=axs[1]).set_title('test')\n",
    "fig.subplots_adjust(hspace=0.3)\n"
   ]
  },
  {
   "cell_type": "markdown",
   "id": "34c8ab4e-c570-4959-8e70-dfe06d4cbc87",
   "metadata": {},
   "source": [
    "#### Intanciar al modelo y entrenarlo"
   ]
  },
  {
   "cell_type": "code",
   "execution_count": 30,
   "id": "34016832-d639-4743-adc1-c03950cbbf6d",
   "metadata": {},
   "outputs": [
    {
     "name": "stderr",
     "output_type": "stream",
     "text": [
      "07:37:22 - cmdstanpy - INFO - Chain [1] start processing\n",
      "07:37:23 - cmdstanpy - INFO - Chain [1] done processing\n"
     ]
    },
    {
     "data": {
      "text/plain": [
       "<prophet.forecaster.Prophet at 0x173436cb220>"
      ]
     },
     "execution_count": 30,
     "metadata": {},
     "output_type": "execute_result"
    }
   ],
   "source": [
    "iw=0.95\n",
    "cps = 0.0001\n",
    "ys= 20\n",
    "m = Prophet(interval_width=iw, changepoint_prior_scale=cps, yearly_seasonality=ys)\n",
    "\n",
    "# Pasandole test o train\n",
    "m.fit(train)\n",
    "# m.fit(test)"
   ]
  },
  {
   "cell_type": "markdown",
   "id": "ce58df4f-ae0b-4407-bf53-8251c1db8a9c",
   "metadata": {},
   "source": [
    "#### Construir futuro"
   ]
  },
  {
   "cell_type": "code",
   "execution_count": 31,
   "id": "a317595b-07d7-4d6f-8852-10ea1ffa0491",
   "metadata": {
    "tags": []
   },
   "outputs": [
    {
     "data": {
      "text/html": [
       "<div>\n",
       "<style scoped>\n",
       "    .dataframe tbody tr th:only-of-type {\n",
       "        vertical-align: middle;\n",
       "    }\n",
       "\n",
       "    .dataframe tbody tr th {\n",
       "        vertical-align: top;\n",
       "    }\n",
       "\n",
       "    .dataframe thead th {\n",
       "        text-align: right;\n",
       "    }\n",
       "</style>\n",
       "<table border=\"1\" class=\"dataframe\">\n",
       "  <thead>\n",
       "    <tr style=\"text-align: right;\">\n",
       "      <th></th>\n",
       "      <th>ds</th>\n",
       "      <th>trend</th>\n",
       "      <th>yhat_lower</th>\n",
       "      <th>yhat_upper</th>\n",
       "      <th>trend_lower</th>\n",
       "      <th>trend_upper</th>\n",
       "      <th>additive_terms</th>\n",
       "      <th>additive_terms_lower</th>\n",
       "      <th>additive_terms_upper</th>\n",
       "      <th>yearly</th>\n",
       "      <th>yearly_lower</th>\n",
       "      <th>yearly_upper</th>\n",
       "      <th>multiplicative_terms</th>\n",
       "      <th>multiplicative_terms_lower</th>\n",
       "      <th>multiplicative_terms_upper</th>\n",
       "      <th>yhat</th>\n",
       "    </tr>\n",
       "  </thead>\n",
       "  <tbody>\n",
       "    <tr>\n",
       "      <th>138</th>\n",
       "      <td>2012-09-28</td>\n",
       "      <td>2,165,419.38</td>\n",
       "      <td>1,781,723.40</td>\n",
       "      <td>2,149,765.96</td>\n",
       "      <td>2,165,419.28</td>\n",
       "      <td>2,165,419.48</td>\n",
       "      <td>-206,109.54</td>\n",
       "      <td>-206,109.54</td>\n",
       "      <td>-206,109.54</td>\n",
       "      <td>-206,109.54</td>\n",
       "      <td>-206,109.54</td>\n",
       "      <td>-206,109.54</td>\n",
       "      <td>0.00</td>\n",
       "      <td>0.00</td>\n",
       "      <td>0.00</td>\n",
       "      <td>1,959,309.84</td>\n",
       "    </tr>\n",
       "    <tr>\n",
       "      <th>139</th>\n",
       "      <td>2012-10-05</td>\n",
       "      <td>2,165,940.27</td>\n",
       "      <td>1,915,432.30</td>\n",
       "      <td>2,290,498.89</td>\n",
       "      <td>2,165,940.18</td>\n",
       "      <td>2,165,940.37</td>\n",
       "      <td>-71,199.04</td>\n",
       "      <td>-71,199.04</td>\n",
       "      <td>-71,199.04</td>\n",
       "      <td>-71,199.04</td>\n",
       "      <td>-71,199.04</td>\n",
       "      <td>-71,199.04</td>\n",
       "      <td>0.00</td>\n",
       "      <td>0.00</td>\n",
       "      <td>0.00</td>\n",
       "      <td>2,094,741.23</td>\n",
       "    </tr>\n",
       "    <tr>\n",
       "      <th>140</th>\n",
       "      <td>2012-10-12</td>\n",
       "      <td>2,166,461.17</td>\n",
       "      <td>1,915,867.73</td>\n",
       "      <td>2,285,344.78</td>\n",
       "      <td>2,166,461.07</td>\n",
       "      <td>2,166,461.27</td>\n",
       "      <td>-61,665.28</td>\n",
       "      <td>-61,665.28</td>\n",
       "      <td>-61,665.28</td>\n",
       "      <td>-61,665.28</td>\n",
       "      <td>-61,665.28</td>\n",
       "      <td>-61,665.28</td>\n",
       "      <td>0.00</td>\n",
       "      <td>0.00</td>\n",
       "      <td>0.00</td>\n",
       "      <td>2,104,795.89</td>\n",
       "    </tr>\n",
       "    <tr>\n",
       "      <th>141</th>\n",
       "      <td>2012-10-19</td>\n",
       "      <td>2,166,982.06</td>\n",
       "      <td>1,831,887.81</td>\n",
       "      <td>2,193,084.13</td>\n",
       "      <td>2,166,981.96</td>\n",
       "      <td>2,166,982.16</td>\n",
       "      <td>-152,554.89</td>\n",
       "      <td>-152,554.89</td>\n",
       "      <td>-152,554.89</td>\n",
       "      <td>-152,554.89</td>\n",
       "      <td>-152,554.89</td>\n",
       "      <td>-152,554.89</td>\n",
       "      <td>0.00</td>\n",
       "      <td>0.00</td>\n",
       "      <td>0.00</td>\n",
       "      <td>2,014,427.17</td>\n",
       "    </tr>\n",
       "    <tr>\n",
       "      <th>142</th>\n",
       "      <td>2012-10-26</td>\n",
       "      <td>2,167,502.95</td>\n",
       "      <td>1,830,731.31</td>\n",
       "      <td>2,214,819.90</td>\n",
       "      <td>2,167,502.85</td>\n",
       "      <td>2,167,503.06</td>\n",
       "      <td>-142,557.22</td>\n",
       "      <td>-142,557.22</td>\n",
       "      <td>-142,557.22</td>\n",
       "      <td>-142,557.22</td>\n",
       "      <td>-142,557.22</td>\n",
       "      <td>-142,557.22</td>\n",
       "      <td>0.00</td>\n",
       "      <td>0.00</td>\n",
       "      <td>0.00</td>\n",
       "      <td>2,024,945.73</td>\n",
       "    </tr>\n",
       "  </tbody>\n",
       "</table>\n",
       "</div>"
      ],
      "text/plain": [
       "            ds        trend   yhat_lower   yhat_upper  trend_lower  \\\n",
       "138 2012-09-28 2,165,419.38 1,781,723.40 2,149,765.96 2,165,419.28   \n",
       "139 2012-10-05 2,165,940.27 1,915,432.30 2,290,498.89 2,165,940.18   \n",
       "140 2012-10-12 2,166,461.17 1,915,867.73 2,285,344.78 2,166,461.07   \n",
       "141 2012-10-19 2,166,982.06 1,831,887.81 2,193,084.13 2,166,981.96   \n",
       "142 2012-10-26 2,167,502.95 1,830,731.31 2,214,819.90 2,167,502.85   \n",
       "\n",
       "     trend_upper  additive_terms  additive_terms_lower  additive_terms_upper  \\\n",
       "138 2,165,419.48     -206,109.54           -206,109.54           -206,109.54   \n",
       "139 2,165,940.37      -71,199.04            -71,199.04            -71,199.04   \n",
       "140 2,166,461.27      -61,665.28            -61,665.28            -61,665.28   \n",
       "141 2,166,982.16     -152,554.89           -152,554.89           -152,554.89   \n",
       "142 2,167,503.06     -142,557.22           -142,557.22           -142,557.22   \n",
       "\n",
       "         yearly  yearly_lower  yearly_upper  multiplicative_terms  \\\n",
       "138 -206,109.54   -206,109.54   -206,109.54                  0.00   \n",
       "139  -71,199.04    -71,199.04    -71,199.04                  0.00   \n",
       "140  -61,665.28    -61,665.28    -61,665.28                  0.00   \n",
       "141 -152,554.89   -152,554.89   -152,554.89                  0.00   \n",
       "142 -142,557.22   -142,557.22   -142,557.22                  0.00   \n",
       "\n",
       "     multiplicative_terms_lower  multiplicative_terms_upper         yhat  \n",
       "138                        0.00                        0.00 1,959,309.84  \n",
       "139                        0.00                        0.00 2,094,741.23  \n",
       "140                        0.00                        0.00 2,104,795.89  \n",
       "141                        0.00                        0.00 2,014,427.17  \n",
       "142                        0.00                        0.00 2,024,945.73  "
      ]
     },
     "execution_count": 31,
     "metadata": {},
     "output_type": "execute_result"
    }
   ],
   "source": [
    "# El pr(perido) puede ser modififcado para calcular más semanas adelante,\n",
    "# en caso contrario tomará el valor que se le pasa al definir train y test\n",
    "# pr = 60\n",
    "fr = 'W-FRI'\n",
    "future = m.make_future_dataframe(periods=pr, freq=fr)\n",
    "\n",
    "# Hacer predicciones\n",
    "forecast = m.predict(future)\n",
    "forecast.tail()"
   ]
  },
  {
   "cell_type": "code",
   "execution_count": 32,
   "id": "1ab7e238-b5b1-46e7-882b-67970ef37b7f",
   "metadata": {},
   "outputs": [
    {
     "name": "stdout",
     "output_type": "stream",
     "text": [
      "Tienda: s_20\n"
     ]
    },
    {
     "data": {
      "image/png": "[encoded data removed]",
      "text/plain": [
       "<Figure size 720x432 with 1 Axes>"
      ]
     },
     "metadata": {},
     "output_type": "display_data"
    }
   ],
   "source": [
    "print('Tienda:',vnames[0])\n",
    "plot = m.plot(forecast)"
   ]
  },
  {
   "cell_type": "code",
   "execution_count": 33,
   "id": "6dd1ce7c-8874-4699-a2a7-4abeb41137b4",
   "metadata": {},
   "outputs": [
    {
     "name": "stdout",
     "output_type": "stream",
     "text": [
      "Tienda: s_20\n"
     ]
    },
    {
     "data": {
      "image/png": "[encoded data removed]",
      "text/plain": [
       "<Figure size 648x432 with 2 Axes>"
      ]
     },
     "metadata": {},
     "output_type": "display_data"
    }
   ],
   "source": [
    "print('Tienda:',vnames[0])\n",
    "plot2 = m.plot_components(forecast)"
   ]
  },
  {
   "cell_type": "code",
   "execution_count": 34,
   "id": "027d3ef6-3df9-4aff-a7ab-f0d75a7cdcb2",
   "metadata": {
    "tags": []
   },
   "outputs": [
    {
     "data": {
      "text/html": [
       "<div>\n",
       "<style scoped>\n",
       "    .dataframe tbody tr th:only-of-type {\n",
       "        vertical-align: middle;\n",
       "    }\n",
       "\n",
       "    .dataframe tbody tr th {\n",
       "        vertical-align: top;\n",
       "    }\n",
       "\n",
       "    .dataframe thead th {\n",
       "        text-align: right;\n",
       "    }\n",
       "</style>\n",
       "<table border=\"1\" class=\"dataframe\">\n",
       "  <thead>\n",
       "    <tr style=\"text-align: right;\">\n",
       "      <th></th>\n",
       "      <th>Date</th>\n",
       "      <th>Pred</th>\n",
       "    </tr>\n",
       "  </thead>\n",
       "  <tbody>\n",
       "    <tr>\n",
       "      <th>95</th>\n",
       "      <td>2011-12-02</td>\n",
       "      <td>2,832,020.24</td>\n",
       "    </tr>\n",
       "    <tr>\n",
       "      <th>96</th>\n",
       "      <td>2011-12-09</td>\n",
       "      <td>2,412,623.59</td>\n",
       "    </tr>\n",
       "    <tr>\n",
       "      <th>97</th>\n",
       "      <td>2011-12-16</td>\n",
       "      <td>3,052,030.64</td>\n",
       "    </tr>\n",
       "    <tr>\n",
       "      <th>98</th>\n",
       "      <td>2011-12-23</td>\n",
       "      <td>3,589,251.92</td>\n",
       "    </tr>\n",
       "    <tr>\n",
       "      <th>99</th>\n",
       "      <td>2011-12-30</td>\n",
       "      <td>2,360,440.57</td>\n",
       "    </tr>\n",
       "  </tbody>\n",
       "</table>\n",
       "</div>"
      ],
      "text/plain": [
       "         Date         Pred\n",
       "95 2011-12-02 2,832,020.24\n",
       "96 2011-12-09 2,412,623.59\n",
       "97 2011-12-16 3,052,030.64\n",
       "98 2011-12-23 3,589,251.92\n",
       "99 2011-12-30 2,360,440.57"
      ]
     },
     "execution_count": 34,
     "metadata": {},
     "output_type": "execute_result"
    }
   ],
   "source": [
    "pp = pd.DataFrame({'Date':forecast[-pr:]['ds'],'Pred':forecast[-pr:]['yhat']})\n",
    "pp.head()"
   ]
  },
  {
   "cell_type": "code",
   "execution_count": 35,
   "id": "f3578cdb-28bb-4566-8df9-c10c4f094f62",
   "metadata": {},
   "outputs": [],
   "source": [
    "train.columns = ['Date','Pred']\n",
    "test.columns = ['Date','Pred']\n",
    "\n",
    "x_train = train.Date\n",
    "y_train  = train.Pred\n",
    "x_test = test.Date\n",
    "y_test  = test.Pred\n",
    "x_pp = pp.Date\n",
    "y_pp = pp.Pred\n"
   ]
  },
  {
   "cell_type": "code",
   "execution_count": 36,
   "id": "a79e42fc-1957-4bca-8998-77e4620cbda9",
   "metadata": {},
   "outputs": [
    {
     "data": {
      "application/vnd.plotly.v1+json": {
       "config": {
        "plotlyServerURL": "https://plot.ly"
       },
       "data": [
        {
         "name": "prophet",
         "type": "scatter",
         "x": [
          "2011-12-02T00:00:00",
          "2011-12-09T00:00:00",
          "2011-12-16T00:00:00",
          "2011-12-23T00:00:00",
          "2011-12-30T00:00:00",
          "2012-01-06T00:00:00",
          "2012-01-13T00:00:00",
          "2012-01-20T00:00:00",
          "2012-01-27T00:00:00",
          "2012-02-03T00:00:00",
          "2012-02-10T00:00:00",
          "2012-02-17T00:00:00",
          "2012-02-24T00:00:00",
          "2012-03-02T00:00:00",
          "2012-03-09T00:00:00",
          "2012-03-16T00:00:00",
          "2012-03-23T00:00:00",
          "2012-03-30T00:00:00",
          "2012-04-06T00:00:00",
          "2012-04-13T00:00:00",
          "2012-04-20T00:00:00",
          "2012-04-27T00:00:00",
          "2012-05-04T00:00:00",
          "2012-05-11T00:00:00",
          "2012-05-18T00:00:00",
          "2012-05-25T00:00:00",
          "2012-06-01T00:00:00",
          "2012-06-08T00:00:00",
          "2012-06-15T00:00:00",
          "2012-06-22T00:00:00",
          "2012-06-29T00:00:00",
          "2012-07-06T00:00:00",
          "2012-07-13T00:00:00",
          "2012-07-20T00:00:00",
          "2012-07-27T00:00:00",
          "2012-08-03T00:00:00",
          "2012-08-10T00:00:00",
          "2012-08-17T00:00:00",
          "2012-08-24T00:00:00",
          "2012-08-31T00:00:00",
          "2012-09-07T00:00:00",
          "2012-09-14T00:00:00",
          "2012-09-21T00:00:00",
          "2012-09-28T00:00:00",
          "2012-10-05T00:00:00",
          "2012-10-12T00:00:00",
          "2012-10-19T00:00:00",
          "2012-10-26T00:00:00"
         ],
         "xaxis": "x",
         "y": [
          2832020.241313199,
          2412623.5915459255,
          3052030.6399708567,
          3589251.917732586,
          2360440.574113183,
          1618990.3688509676,
          2022454.9251659452,
          1794001.029726197,
          1757036.5734513141,
          2314296.0186443427,
          2330972.8062036894,
          2180652.0439638165,
          2104716.5234615034,
          2036981.1425163697,
          2156769.9242538507,
          1981287.8803667156,
          1882332.5795164586,
          2157926.1323187365,
          2119646.987217694,
          2071749.4078943925,
          2136626.3981389212,
          1984605.005125801,
          2072776.9990854159,
          2163064.118260194,
          1963050.9852527953,
          2017259.3419950951,
          2203396.980307474,
          2206662.855724518,
          2127624.6827037754,
          2037386.8547550282,
          2091552.1003788025,
          2185254.7717853957,
          2112302.4734697947,
          1991738.8043318875,
          1954986.74582268,
          2054778.1518605817,
          2131540.5263701016,
          2033852.5444277022,
          2001556.6512093628,
          2114696.5178420036,
          2143412.495697648,
          2023764.3216320577,
          1906691.3395548007,
          1959309.8365173135,
          2094741.2325726105,
          2104795.887260913,
          2014427.1714554697,
          2024945.7348056394
         ],
         "yaxis": "y2"
        },
        {
         "name": "test",
         "type": "scatter",
         "x": [
          "2011-12-02T00:00:00",
          "2011-12-09T00:00:00",
          "2011-12-16T00:00:00",
          "2011-12-23T00:00:00",
          "2011-12-30T00:00:00",
          "2012-01-06T00:00:00",
          "2012-01-13T00:00:00",
          "2012-01-20T00:00:00",
          "2012-01-27T00:00:00",
          "2012-02-03T00:00:00",
          "2012-02-10T00:00:00",
          "2012-02-17T00:00:00",
          "2012-02-24T00:00:00",
          "2012-03-02T00:00:00",
          "2012-03-09T00:00:00",
          "2012-03-16T00:00:00",
          "2012-03-23T00:00:00",
          "2012-03-30T00:00:00",
          "2012-04-06T00:00:00",
          "2012-04-13T00:00:00",
          "2012-04-20T00:00:00",
          "2012-04-27T00:00:00",
          "2012-05-04T00:00:00",
          "2012-05-11T00:00:00",
          "2012-05-18T00:00:00",
          "2012-05-25T00:00:00",
          "2012-06-01T00:00:00",
          "2012-06-08T00:00:00",
          "2012-06-15T00:00:00",
          "2012-06-22T00:00:00",
          "2012-06-29T00:00:00",
          "2012-07-06T00:00:00",
          "2012-07-13T00:00:00",
          "2012-07-20T00:00:00",
          "2012-07-27T00:00:00",
          "2012-08-03T00:00:00",
          "2012-08-10T00:00:00",
          "2012-08-17T00:00:00",
          "2012-08-24T00:00:00",
          "2012-08-31T00:00:00",
          "2012-09-07T00:00:00",
          "2012-09-14T00:00:00",
          "2012-09-21T00:00:00",
          "2012-09-28T00:00:00",
          "2012-10-05T00:00:00",
          "2012-10-12T00:00:00",
          "2012-10-19T00:00:00",
          "2012-10-26T00:00:00"
         ],
         "xaxis": "x",
         "y": [
          2298776.83,
          2546123.78,
          2762816.65,
          3555371.03,
          2043245,
          1964701.94,
          1911510.64,
          1892775.94,
          1761016.51,
          2203523.2,
          2462978.28,
          2309025.16,
          2045837.55,
          2148822.76,
          2139265.4,
          2064991.71,
          1992436.96,
          2074721.74,
          2565259.92,
          2045396.06,
          1884427.84,
          1886503.93,
          2163510.89,
          2168097.11,
          2039222.26,
          2114989,
          2143126.59,
          2231962.13,
          2165160.29,
          2060588.69,
          2055952.61,
          2358055.3,
          2134680.12,
          1970170.29,
          1911559.1,
          2094515.71,
          2144245.39,
          2045061.22,
          2005341.43,
          2062481.56,
          2080529.06,
          2047949.98,
          2028587.24,
          2008350.58,
          2246411.89,
          2162951.36,
          1999363.49,
          2031650.55
         ],
         "yaxis": "y"
        }
       ],
       "layout": {
        "height": 600,
        "template": {
         "data": {
          "bar": [
           {
            "error_x": {
             "color": "#2a3f5f"
            },
            "error_y": {
             "color": "#2a3f5f"
            },
            "marker": {
             "line": {
              "color": "#E5ECF6",
              "width": 0.5
             },
             "pattern": {
              "fillmode": "overlay",
              "size": 10,
              "solidity": 0.2
             }
            },
            "type": "bar"
           }
          ],
          "barpolar": [
           {
            "marker": {
             "line": {
              "color": "#E5ECF6",
              "width": 0.5
             },
             "pattern": {
              "fillmode": "overlay",
              "size": 10,
              "solidity": 0.2
             }
            },
            "type": "barpolar"
           }
          ],
          "carpet": [
           {
            "aaxis": {
             "endlinecolor": "#2a3f5f",
             "gridcolor": "white",
             "linecolor": "white",
             "minorgridcolor": "white",
             "startlinecolor": "#2a3f5f"
            },
            "baxis": {
             "endlinecolor": "#2a3f5f",
             "gridcolor": "white",
             "linecolor": "white",
             "minorgridcolor": "white",
             "startlinecolor": "#2a3f5f"
            },
            "type": "carpet"
           }
          ],
          "choropleth": [
           {
            "colorbar": {
             "outlinewidth": 0,
             "ticks": ""
            },
            "type": "choropleth"
           }
          ],
          "contour": [
           {
            "colorbar": {
             "outlinewidth": 0,
             "ticks": ""
            },
            "colorscale": [
             [
              0,
              "#0d0887"
             ],
             [
              0.1111111111111111,
              "#46039f"
             ],
             [
              0.2222222222222222,
              "#7201a8"
             ],
             [
              0.3333333333333333,
              "#9c179e"
             ],
             [
              0.4444444444444444,
              "#bd3786"
             ],
             [
              0.5555555555555556,
              "#d8576b"
             ],
             [
              0.6666666666666666,
              "#ed7953"
             ],
             [
              0.7777777777777778,
              "#fb9f3a"
             ],
             [
              0.8888888888888888,
              "#fdca26"
             ],
             [
              1,
              "#f0f921"
             ]
            ],
            "type": "contour"
           }
          ],
          "contourcarpet": [
           {
            "colorbar": {
             "outlinewidth": 0,
             "ticks": ""
            },
            "type": "contourcarpet"
           }
          ],
          "heatmap": [
           {
            "colorbar": {
             "outlinewidth": 0,
             "ticks": ""
            },
            "colorscale": [
             [
              0,
              "#0d0887"
             ],
             [
              0.1111111111111111,
              "#46039f"
             ],
             [
              0.2222222222222222,
              "#7201a8"
             ],
             [
              0.3333333333333333,
              "#9c179e"
             ],
             [
              0.4444444444444444,
              "#bd3786"
             ],
             [
              0.5555555555555556,
              "#d8576b"
             ],
             [
              0.6666666666666666,
              "#ed7953"
             ],
             [
              0.7777777777777778,
              "#fb9f3a"
             ],
             [
              0.8888888888888888,
              "#fdca26"
             ],
             [
              1,
              "#f0f921"
             ]
            ],
            "type": "heatmap"
           }
          ],
          "heatmapgl": [
           {
            "colorbar": {
             "outlinewidth": 0,
             "ticks": ""
            },
            "colorscale": [
             [
              0,
              "#0d0887"
             ],
             [
              0.1111111111111111,
              "#46039f"
             ],
             [
              0.2222222222222222,
              "#7201a8"
             ],
             [
              0.3333333333333333,
              "#9c179e"
             ],
             [
              0.4444444444444444,
              "#bd3786"
             ],
             [
              0.5555555555555556,
              "#d8576b"
             ],
             [
              0.6666666666666666,
              "#ed7953"
             ],
             [
              0.7777777777777778,
              "#fb9f3a"
             ],
             [
              0.8888888888888888,
              "#fdca26"
             ],
             [
              1,
              "#f0f921"
             ]
            ],
            "type": "heatmapgl"
           }
          ],
          "histogram": [
           {
            "marker": {
             "pattern": {
              "fillmode": "overlay",
              "size": 10,
              "solidity": 0.2
             }
            },
            "type": "histogram"
           }
          ],
          "histogram2d": [
           {
            "colorbar": {
             "outlinewidth": 0,
             "ticks": ""
            },
            "colorscale": [
             [
              0,
              "#0d0887"
             ],
             [
              0.1111111111111111,
              "#46039f"
             ],
             [
              0.2222222222222222,
              "#7201a8"
             ],
             [
              0.3333333333333333,
              "#9c179e"
             ],
             [
              0.4444444444444444,
              "#bd3786"
             ],
             [
              0.5555555555555556,
              "#d8576b"
             ],
             [
              0.6666666666666666,
              "#ed7953"
             ],
             [
              0.7777777777777778,
              "#fb9f3a"
             ],
             [
              0.8888888888888888,
              "#fdca26"
             ],
             [
              1,
              "#f0f921"
             ]
            ],
            "type": "histogram2d"
           }
          ],
          "histogram2dcontour": [
           {
            "colorbar": {
             "outlinewidth": 0,
             "ticks": ""
            },
            "colorscale": [
             [
              0,
              "#0d0887"
             ],
             [
              0.1111111111111111,
              "#46039f"
             ],
             [
              0.2222222222222222,
              "#7201a8"
             ],
             [
              0.3333333333333333,
              "#9c179e"
             ],
             [
              0.4444444444444444,
              "#bd3786"
             ],
             [
              0.5555555555555556,
              "#d8576b"
             ],
             [
              0.6666666666666666,
              "#ed7953"
             ],
             [
              0.7777777777777778,
              "#fb9f3a"
             ],
             [
              0.8888888888888888,
              "#fdca26"
             ],
             [
              1,
              "#f0f921"
             ]
            ],
            "type": "histogram2dcontour"
           }
          ],
          "mesh3d": [
           {
            "colorbar": {
             "outlinewidth": 0,
             "ticks": ""
            },
            "type": "mesh3d"
           }
          ],
          "parcoords": [
           {
            "line": {
             "colorbar": {
              "outlinewidth": 0,
              "ticks": ""
             }
            },
            "type": "parcoords"
           }
          ],
          "pie": [
           {
            "automargin": true,
            "type": "pie"
           }
          ],
          "scatter": [
           {
            "marker": {
             "colorbar": {
              "outlinewidth": 0,
              "ticks": ""
             }
            },
            "type": "scatter"
           }
          ],
          "scatter3d": [
           {
            "line": {
             "colorbar": {
              "outlinewidth": 0,
              "ticks": ""
             }
            },
            "marker": {
             "colorbar": {
              "outlinewidth": 0,
              "ticks": ""
             }
            },
            "type": "scatter3d"
           }
          ],
          "scattercarpet": [
           {
            "marker": {
             "colorbar": {
              "outlinewidth": 0,
              "ticks": ""
             }
            },
            "type": "scattercarpet"
           }
          ],
          "scattergeo": [
           {
            "marker": {
             "colorbar": {
              "outlinewidth": 0,
              "ticks": ""
             }
            },
            "type": "scattergeo"
           }
          ],
          "scattergl": [
           {
            "marker": {
             "colorbar": {
              "outlinewidth": 0,
              "ticks": ""
             }
            },
            "type": "scattergl"
           }
          ],
          "scattermapbox": [
           {
            "marker": {
             "colorbar": {
              "outlinewidth": 0,
              "ticks": ""
             }
            },
            "type": "scattermapbox"
           }
          ],
          "scatterpolar": [
           {
            "marker": {
             "colorbar": {
              "outlinewidth": 0,
              "ticks": ""
             }
            },
            "type": "scatterpolar"
           }
          ],
          "scatterpolargl": [
           {
            "marker": {
             "colorbar": {
              "outlinewidth": 0,
              "ticks": ""
             }
            },
            "type": "scatterpolargl"
           }
          ],
          "scatterternary": [
           {
            "marker": {
             "colorbar": {
              "outlinewidth": 0,
              "ticks": ""
             }
            },
            "type": "scatterternary"
           }
          ],
          "surface": [
           {
            "colorbar": {
             "outlinewidth": 0,
             "ticks": ""
            },
            "colorscale": [
             [
              0,
              "#0d0887"
             ],
             [
              0.1111111111111111,
              "#46039f"
             ],
             [
              0.2222222222222222,
              "#7201a8"
             ],
             [
              0.3333333333333333,
              "#9c179e"
             ],
             [
              0.4444444444444444,
              "#bd3786"
             ],
             [
              0.5555555555555556,
              "#d8576b"
             ],
             [
              0.6666666666666666,
              "#ed7953"
             ],
             [
              0.7777777777777778,
              "#fb9f3a"
             ],
             [
              0.8888888888888888,
              "#fdca26"
             ],
             [
              1,
              "#f0f921"
             ]
            ],
            "type": "surface"
           }
          ],
          "table": [
           {
            "cells": {
             "fill": {
              "color": "#EBF0F8"
             },
             "line": {
              "color": "white"
             }
            },
            "header": {
             "fill": {
              "color": "#C8D4E3"
             },
             "line": {
              "color": "white"
             }
            },
            "type": "table"
           }
          ]
         },
         "layout": {
          "annotationdefaults": {
           "arrowcolor": "#2a3f5f",
           "arrowhead": 0,
           "arrowwidth": 1
          },
          "autotypenumbers": "strict",
          "coloraxis": {
           "colorbar": {
            "outlinewidth": 0,
            "ticks": ""
           }
          },
          "colorscale": {
           "diverging": [
            [
             0,
             "#8e0152"
            ],
            [
             0.1,
             "#c51b7d"
            ],
            [
             0.2,
             "#de77ae"
            ],
            [
             0.3,
             "#f1b6da"
            ],
            [
             0.4,
             "#fde0ef"
            ],
            [
             0.5,
             "#f7f7f7"
            ],
            [
             0.6,
             "#e6f5d0"
            ],
            [
             0.7,
             "#b8e186"
            ],
            [
             0.8,
             "#7fbc41"
            ],
            [
             0.9,
             "#4d9221"
            ],
            [
             1,
             "#276419"
            ]
           ],
           "sequential": [
            [
             0,
             "#0d0887"
            ],
            [
             0.1111111111111111,
             "#46039f"
            ],
            [
             0.2222222222222222,
             "#7201a8"
            ],
            [
             0.3333333333333333,
             "#9c179e"
            ],
            [
             0.4444444444444444,
             "#bd3786"
            ],
            [
             0.5555555555555556,
             "#d8576b"
            ],
            [
             0.6666666666666666,
             "#ed7953"
            ],
            [
             0.7777777777777778,
             "#fb9f3a"
            ],
            [
             0.8888888888888888,
             "#fdca26"
            ],
            [
             1,
             "#f0f921"
            ]
           ],
           "sequentialminus": [
            [
             0,
             "#0d0887"
            ],
            [
             0.1111111111111111,
             "#46039f"
            ],
            [
             0.2222222222222222,
             "#7201a8"
            ],
            [
             0.3333333333333333,
             "#9c179e"
            ],
            [
             0.4444444444444444,
             "#bd3786"
            ],
            [
             0.5555555555555556,
             "#d8576b"
            ],
            [
             0.6666666666666666,
             "#ed7953"
            ],
            [
             0.7777777777777778,
             "#fb9f3a"
            ],
            [
             0.8888888888888888,
             "#fdca26"
            ],
            [
             1,
             "#f0f921"
            ]
           ]
          },
          "colorway": [
           "#636efa",
           "#EF553B",
           "#00cc96",
           "#ab63fa",
           "#FFA15A",
           "#19d3f3",
           "#FF6692",
           "#B6E880",
           "#FF97FF",
           "#FECB52"
          ],
          "font": {
           "color": "#2a3f5f"
          },
          "geo": {
           "bgcolor": "white",
           "lakecolor": "white",
           "landcolor": "#E5ECF6",
           "showlakes": true,
           "showland": true,
           "subunitcolor": "white"
          },
          "hoverlabel": {
           "align": "left"
          },
          "hovermode": "closest",
          "mapbox": {
           "style": "light"
          },
          "paper_bgcolor": "white",
          "plot_bgcolor": "#E5ECF6",
          "polar": {
           "angularaxis": {
            "gridcolor": "white",
            "linecolor": "white",
            "ticks": ""
           },
           "bgcolor": "#E5ECF6",
           "radialaxis": {
            "gridcolor": "white",
            "linecolor": "white",
            "ticks": ""
           }
          },
          "scene": {
           "xaxis": {
            "backgroundcolor": "#E5ECF6",
            "gridcolor": "white",
            "gridwidth": 2,
            "linecolor": "white",
            "showbackground": true,
            "ticks": "",
            "zerolinecolor": "white"
           },
           "yaxis": {
            "backgroundcolor": "#E5ECF6",
            "gridcolor": "white",
            "gridwidth": 2,
            "linecolor": "white",
            "showbackground": true,
            "ticks": "",
            "zerolinecolor": "white"
           },
           "zaxis": {
            "backgroundcolor": "#E5ECF6",
            "gridcolor": "white",
            "gridwidth": 2,
            "linecolor": "white",
            "showbackground": true,
            "ticks": "",
            "zerolinecolor": "white"
           }
          },
          "shapedefaults": {
           "line": {
            "color": "#2a3f5f"
           }
          },
          "ternary": {
           "aaxis": {
            "gridcolor": "white",
            "linecolor": "white",
            "ticks": ""
           },
           "baxis": {
            "gridcolor": "white",
            "linecolor": "white",
            "ticks": ""
           },
           "bgcolor": "#E5ECF6",
           "caxis": {
            "gridcolor": "white",
            "linecolor": "white",
            "ticks": ""
           }
          },
          "title": {
           "x": 0.05
          },
          "xaxis": {
           "automargin": true,
           "gridcolor": "white",
           "linecolor": "white",
           "ticks": "",
           "title": {
            "standoff": 15
           },
           "zerolinecolor": "white",
           "zerolinewidth": 2
          },
          "yaxis": {
           "automargin": true,
           "gridcolor": "white",
           "linecolor": "white",
           "ticks": "",
           "title": {
            "standoff": 15
           },
           "zerolinecolor": "white",
           "zerolinewidth": 2
          }
         }
        },
        "title": {
         "text": "Prophet Values,s_20"
        },
        "width": 1000,
        "xaxis": {
         "anchor": "y",
         "autorange": true,
         "domain": [
          0,
          0.94
         ],
         "range": [
          "2011-12-02",
          "2012-10-26"
         ],
         "type": "date"
        },
        "yaxis": {
         "anchor": "x",
         "autorange": true,
         "domain": [
          0,
          1
         ],
         "range": [
          1661330.1477777779,
          3655057.392222222
         ],
         "type": "linear"
        },
        "yaxis2": {
         "anchor": "x",
         "autorange": true,
         "overlaying": "y",
         "range": [
          1509531.3939131,
          3698710.892670454
         ],
         "side": "right",
         "type": "linear"
        }
       }
      },
      "image/png": "[encoded data removed]",
      "text/html": [
       "<div>                            <div id=\"c336436d-9605-4a72-aa53-920660aedab0\" class=\"plotly-graph-div\" style=\"height:600px; width:1000px;\"></div>            <script type=\"text/javascript\">                require([\"plotly\"], function(Plotly) {                    window.PLOTLYENV=window.PLOTLYENV || {};                                    if (document.getElementById(\"c336436d-9605-4a72-aa53-920660aedab0\")) {                    Plotly.newPlot(                        \"c336436d-9605-4a72-aa53-920660aedab0\",                        [{\"name\":\"prophet\",\"type\":\"scatter\",\"x\":[\"2011-12-02T00:00:00\",\"2011-12-09T00:00:00\",\"2011-12-16T00:00:00\",\"2011-12-23T00:00:00\",\"2011-12-30T00:00:00\",\"2012-01-06T00:00:00\",\"2012-01-13T00:00:00\",\"2012-01-20T00:00:00\",\"2012-01-27T00:00:00\",\"2012-02-03T00:00:00\",\"2012-02-10T00:00:00\",\"2012-02-17T00:00:00\",\"2012-02-24T00:00:00\",\"2012-03-02T00:00:00\",\"2012-03-09T00:00:00\",\"2012-03-16T00:00:00\",\"2012-03-23T00:00:00\",\"2012-03-30T00:00:00\",\"2012-04-06T00:00:00\",\"2012-04-13T00:00:00\",\"2012-04-20T00:00:00\",\"2012-04-27T00:00:00\",\"2012-05-04T00:00:00\",\"2012-05-11T00:00:00\",\"2012-05-18T00:00:00\",\"2012-05-25T00:00:00\",\"2012-06-01T00:00:00\",\"2012-06-08T00:00:00\",\"2012-06-15T00:00:00\",\"2012-06-22T00:00:00\",\"2012-06-29T00:00:00\",\"2012-07-06T00:00:00\",\"2012-07-13T00:00:00\",\"2012-07-20T00:00:00\",\"2012-07-27T00:00:00\",\"2012-08-03T00:00:00\",\"2012-08-10T00:00:00\",\"2012-08-17T00:00:00\",\"2012-08-24T00:00:00\",\"2012-08-31T00:00:00\",\"2012-09-07T00:00:00\",\"2012-09-14T00:00:00\",\"2012-09-21T00:00:00\",\"2012-09-28T00:00:00\",\"2012-10-05T00:00:00\",\"2012-10-12T00:00:00\",\"2012-10-19T00:00:00\",\"2012-10-26T00:00:00\"],\"xaxis\":\"x\",\"y\":[2832020.241313199,2412623.5915459255,3052030.6399708567,3589251.917732586,2360440.574113183,1618990.3688509676,2022454.9251659452,1794001.029726197,1757036.5734513141,2314296.0186443427,2330972.8062036894,2180652.0439638165,2104716.5234615034,2036981.1425163697,2156769.9242538507,1981287.8803667156,1882332.5795164586,2157926.1323187365,2119646.987217694,2071749.4078943925,2136626.3981389212,1984605.005125801,2072776.9990854159,2163064.118260194,1963050.9852527953,2017259.3419950951,2203396.980307474,2206662.855724518,2127624.6827037754,2037386.8547550282,2091552.1003788025,2185254.7717853957,2112302.4734697947,1991738.8043318875,1954986.74582268,2054778.1518605817,2131540.5263701016,2033852.5444277022,2001556.6512093628,2114696.5178420036,2143412.495697648,2023764.3216320577,1906691.3395548007,1959309.8365173135,2094741.2325726105,2104795.887260913,2014427.1714554697,2024945.7348056394],\"yaxis\":\"y2\"},{\"name\":\"test\",\"type\":\"scatter\",\"x\":[\"2011-12-02T00:00:00\",\"2011-12-09T00:00:00\",\"2011-12-16T00:00:00\",\"2011-12-23T00:00:00\",\"2011-12-30T00:00:00\",\"2012-01-06T00:00:00\",\"2012-01-13T00:00:00\",\"2012-01-20T00:00:00\",\"2012-01-27T00:00:00\",\"2012-02-03T00:00:00\",\"2012-02-10T00:00:00\",\"2012-02-17T00:00:00\",\"2012-02-24T00:00:00\",\"2012-03-02T00:00:00\",\"2012-03-09T00:00:00\",\"2012-03-16T00:00:00\",\"2012-03-23T00:00:00\",\"2012-03-30T00:00:00\",\"2012-04-06T00:00:00\",\"2012-04-13T00:00:00\",\"2012-04-20T00:00:00\",\"2012-04-27T00:00:00\",\"2012-05-04T00:00:00\",\"2012-05-11T00:00:00\",\"2012-05-18T00:00:00\",\"2012-05-25T00:00:00\",\"2012-06-01T00:00:00\",\"2012-06-08T00:00:00\",\"2012-06-15T00:00:00\",\"2012-06-22T00:00:00\",\"2012-06-29T00:00:00\",\"2012-07-06T00:00:00\",\"2012-07-13T00:00:00\",\"2012-07-20T00:00:00\",\"2012-07-27T00:00:00\",\"2012-08-03T00:00:00\",\"2012-08-10T00:00:00\",\"2012-08-17T00:00:00\",\"2012-08-24T00:00:00\",\"2012-08-31T00:00:00\",\"2012-09-07T00:00:00\",\"2012-09-14T00:00:00\",\"2012-09-21T00:00:00\",\"2012-09-28T00:00:00\",\"2012-10-05T00:00:00\",\"2012-10-12T00:00:00\",\"2012-10-19T00:00:00\",\"2012-10-26T00:00:00\"],\"xaxis\":\"x\",\"y\":[2298776.83,2546123.78,2762816.65,3555371.03,2043245.0,1964701.94,1911510.64,1892775.94,1761016.51,2203523.2,2462978.28,2309025.16,2045837.55,2148822.76,2139265.4,2064991.71,1992436.96,2074721.74,2565259.92,2045396.06,1884427.84,1886503.93,2163510.89,2168097.11,2039222.26,2114989.0,2143126.59,2231962.13,2165160.29,2060588.69,2055952.61,2358055.3,2134680.12,1970170.29,1911559.1,2094515.71,2144245.39,2045061.22,2005341.43,2062481.56,2080529.06,2047949.98,2028587.24,2008350.58,2246411.89,2162951.36,1999363.49,2031650.55],\"yaxis\":\"y\"}],                        {\"height\":600,\"template\":{\"data\":{\"bar\":[{\"error_x\":{\"color\":\"#2a3f5f\"},\"error_y\":{\"color\":\"#2a3f5f\"},\"marker\":{\"line\":{\"color\":\"#E5ECF6\",\"width\":0.5},\"pattern\":{\"fillmode\":\"overlay\",\"size\":10,\"solidity\":0.2}},\"type\":\"bar\"}],\"barpolar\":[{\"marker\":{\"line\":{\"color\":\"#E5ECF6\",\"width\":0.5},\"pattern\":{\"fillmode\":\"overlay\",\"size\":10,\"solidity\":0.2}},\"type\":\"barpolar\"}],\"carpet\":[{\"aaxis\":{\"endlinecolor\":\"#2a3f5f\",\"gridcolor\":\"white\",\"linecolor\":\"white\",\"minorgridcolor\":\"white\",\"startlinecolor\":\"#2a3f5f\"},\"baxis\":{\"endlinecolor\":\"#2a3f5f\",\"gridcolor\":\"white\",\"linecolor\":\"white\",\"minorgridcolor\":\"white\",\"startlinecolor\":\"#2a3f5f\"},\"type\":\"carpet\"}],\"choropleth\":[{\"colorbar\":{\"outlinewidth\":0,\"ticks\":\"\"},\"type\":\"choropleth\"}],\"contour\":[{\"colorbar\":{\"outlinewidth\":0,\"ticks\":\"\"},\"colorscale\":[[0.0,\"#0d0887\"],[0.1111111111111111,\"#46039f\"],[0.2222222222222222,\"#7201a8\"],[0.3333333333333333,\"#9c179e\"],[0.4444444444444444,\"#bd3786\"],[0.5555555555555556,\"#d8576b\"],[0.6666666666666666,\"#ed7953\"],[0.7777777777777778,\"#fb9f3a\"],[0.8888888888888888,\"#fdca26\"],[1.0,\"#f0f921\"]],\"type\":\"contour\"}],\"contourcarpet\":[{\"colorbar\":{\"outlinewidth\":0,\"ticks\":\"\"},\"type\":\"contourcarpet\"}],\"heatmap\":[{\"colorbar\":{\"outlinewidth\":0,\"ticks\":\"\"},\"colorscale\":[[0.0,\"#0d0887\"],[0.1111111111111111,\"#46039f\"],[0.2222222222222222,\"#7201a8\"],[0.3333333333333333,\"#9c179e\"],[0.4444444444444444,\"#bd3786\"],[0.5555555555555556,\"#d8576b\"],[0.6666666666666666,\"#ed7953\"],[0.7777777777777778,\"#fb9f3a\"],[0.8888888888888888,\"#fdca26\"],[1.0,\"#f0f921\"]],\"type\":\"heatmap\"}],\"heatmapgl\":[{\"colorbar\":{\"outlinewidth\":0,\"ticks\":\"\"},\"colorscale\":[[0.0,\"#0d0887\"],[0.1111111111111111,\"#46039f\"],[0.2222222222222222,\"#7201a8\"],[0.3333333333333333,\"#9c179e\"],[0.4444444444444444,\"#bd3786\"],[0.5555555555555556,\"#d8576b\"],[0.6666666666666666,\"#ed7953\"],[0.7777777777777778,\"#fb9f3a\"],[0.8888888888888888,\"#fdca26\"],[1.0,\"#f0f921\"]],\"type\":\"heatmapgl\"}],\"histogram\":[{\"marker\":{\"pattern\":{\"fillmode\":\"overlay\",\"size\":10,\"solidity\":0.2}},\"type\":\"histogram\"}],\"histogram2d\":[{\"colorbar\":{\"outlinewidth\":0,\"ticks\":\"\"},\"colorscale\":[[0.0,\"#0d0887\"],[0.1111111111111111,\"#46039f\"],[0.2222222222222222,\"#7201a8\"],[0.3333333333333333,\"#9c179e\"],[0.4444444444444444,\"#bd3786\"],[0.5555555555555556,\"#d8576b\"],[0.6666666666666666,\"#ed7953\"],[0.7777777777777778,\"#fb9f3a\"],[0.8888888888888888,\"#fdca26\"],[1.0,\"#f0f921\"]],\"type\":\"histogram2d\"}],\"histogram2dcontour\":[{\"colorbar\":{\"outlinewidth\":0,\"ticks\":\"\"},\"colorscale\":[[0.0,\"#0d0887\"],[0.1111111111111111,\"#46039f\"],[0.2222222222222222,\"#7201a8\"],[0.3333333333333333,\"#9c179e\"],[0.4444444444444444,\"#bd3786\"],[0.5555555555555556,\"#d8576b\"],[0.6666666666666666,\"#ed7953\"],[0.7777777777777778,\"#fb9f3a\"],[0.8888888888888888,\"#fdca26\"],[1.0,\"#f0f921\"]],\"type\":\"histogram2dcontour\"}],\"mesh3d\":[{\"colorbar\":{\"outlinewidth\":0,\"ticks\":\"\"},\"type\":\"mesh3d\"}],\"parcoords\":[{\"line\":{\"colorbar\":{\"outlinewidth\":0,\"ticks\":\"\"}},\"type\":\"parcoords\"}],\"pie\":[{\"automargin\":true,\"type\":\"pie\"}],\"scatter\":[{\"marker\":{\"colorbar\":{\"outlinewidth\":0,\"ticks\":\"\"}},\"type\":\"scatter\"}],\"scatter3d\":[{\"line\":{\"colorbar\":{\"outlinewidth\":0,\"ticks\":\"\"}},\"marker\":{\"colorbar\":{\"outlinewidth\":0,\"ticks\":\"\"}},\"type\":\"scatter3d\"}],\"scattercarpet\":[{\"marker\":{\"colorbar\":{\"outlinewidth\":0,\"ticks\":\"\"}},\"type\":\"scattercarpet\"}],\"scattergeo\":[{\"marker\":{\"colorbar\":{\"outlinewidth\":0,\"ticks\":\"\"}},\"type\":\"scattergeo\"}],\"scattergl\":[{\"marker\":{\"colorbar\":{\"outlinewidth\":0,\"ticks\":\"\"}},\"type\":\"scattergl\"}],\"scattermapbox\":[{\"marker\":{\"colorbar\":{\"outlinewidth\":0,\"ticks\":\"\"}},\"type\":\"scattermapbox\"}],\"scatterpolar\":[{\"marker\":{\"colorbar\":{\"outlinewidth\":0,\"ticks\":\"\"}},\"type\":\"scatterpolar\"}],\"scatterpolargl\":[{\"marker\":{\"colorbar\":{\"outlinewidth\":0,\"ticks\":\"\"}},\"type\":\"scatterpolargl\"}],\"scatterternary\":[{\"marker\":{\"colorbar\":{\"outlinewidth\":0,\"ticks\":\"\"}},\"type\":\"scatterternary\"}],\"surface\":[{\"colorbar\":{\"outlinewidth\":0,\"ticks\":\"\"},\"colorscale\":[[0.0,\"#0d0887\"],[0.1111111111111111,\"#46039f\"],[0.2222222222222222,\"#7201a8\"],[0.3333333333333333,\"#9c179e\"],[0.4444444444444444,\"#bd3786\"],[0.5555555555555556,\"#d8576b\"],[0.6666666666666666,\"#ed7953\"],[0.7777777777777778,\"#fb9f3a\"],[0.8888888888888888,\"#fdca26\"],[1.0,\"#f0f921\"]],\"type\":\"surface\"}],\"table\":[{\"cells\":{\"fill\":{\"color\":\"#EBF0F8\"},\"line\":{\"color\":\"white\"}},\"header\":{\"fill\":{\"color\":\"#C8D4E3\"},\"line\":{\"color\":\"white\"}},\"type\":\"table\"}]},\"layout\":{\"annotationdefaults\":{\"arrowcolor\":\"#2a3f5f\",\"arrowhead\":0,\"arrowwidth\":1},\"autotypenumbers\":\"strict\",\"coloraxis\":{\"colorbar\":{\"outlinewidth\":0,\"ticks\":\"\"}},\"colorscale\":{\"diverging\":[[0,\"#8e0152\"],[0.1,\"#c51b7d\"],[0.2,\"#de77ae\"],[0.3,\"#f1b6da\"],[0.4,\"#fde0ef\"],[0.5,\"#f7f7f7\"],[0.6,\"#e6f5d0\"],[0.7,\"#b8e186\"],[0.8,\"#7fbc41\"],[0.9,\"#4d9221\"],[1,\"#276419\"]],\"sequential\":[[0.0,\"#0d0887\"],[0.1111111111111111,\"#46039f\"],[0.2222222222222222,\"#7201a8\"],[0.3333333333333333,\"#9c179e\"],[0.4444444444444444,\"#bd3786\"],[0.5555555555555556,\"#d8576b\"],[0.6666666666666666,\"#ed7953\"],[0.7777777777777778,\"#fb9f3a\"],[0.8888888888888888,\"#fdca26\"],[1.0,\"#f0f921\"]],\"sequentialminus\":[[0.0,\"#0d0887\"],[0.1111111111111111,\"#46039f\"],[0.2222222222222222,\"#7201a8\"],[0.3333333333333333,\"#9c179e\"],[0.4444444444444444,\"#bd3786\"],[0.5555555555555556,\"#d8576b\"],[0.6666666666666666,\"#ed7953\"],[0.7777777777777778,\"#fb9f3a\"],[0.8888888888888888,\"#fdca26\"],[1.0,\"#f0f921\"]]},\"colorway\":[\"#636efa\",\"#EF553B\",\"#00cc96\",\"#ab63fa\",\"#FFA15A\",\"#19d3f3\",\"#FF6692\",\"#B6E880\",\"#FF97FF\",\"#FECB52\"],\"font\":{\"color\":\"#2a3f5f\"},\"geo\":{\"bgcolor\":\"white\",\"lakecolor\":\"white\",\"landcolor\":\"#E5ECF6\",\"showlakes\":true,\"showland\":true,\"subunitcolor\":\"white\"},\"hoverlabel\":{\"align\":\"left\"},\"hovermode\":\"closest\",\"mapbox\":{\"style\":\"light\"},\"paper_bgcolor\":\"white\",\"plot_bgcolor\":\"#E5ECF6\",\"polar\":{\"angularaxis\":{\"gridcolor\":\"white\",\"linecolor\":\"white\",\"ticks\":\"\"},\"bgcolor\":\"#E5ECF6\",\"radialaxis\":{\"gridcolor\":\"white\",\"linecolor\":\"white\",\"ticks\":\"\"}},\"scene\":{\"xaxis\":{\"backgroundcolor\":\"#E5ECF6\",\"gridcolor\":\"white\",\"gridwidth\":2,\"linecolor\":\"white\",\"showbackground\":true,\"ticks\":\"\",\"zerolinecolor\":\"white\"},\"yaxis\":{\"backgroundcolor\":\"#E5ECF6\",\"gridcolor\":\"white\",\"gridwidth\":2,\"linecolor\":\"white\",\"showbackground\":true,\"ticks\":\"\",\"zerolinecolor\":\"white\"},\"zaxis\":{\"backgroundcolor\":\"#E5ECF6\",\"gridcolor\":\"white\",\"gridwidth\":2,\"linecolor\":\"white\",\"showbackground\":true,\"ticks\":\"\",\"zerolinecolor\":\"white\"}},\"shapedefaults\":{\"line\":{\"color\":\"#2a3f5f\"}},\"ternary\":{\"aaxis\":{\"gridcolor\":\"white\",\"linecolor\":\"white\",\"ticks\":\"\"},\"baxis\":{\"gridcolor\":\"white\",\"linecolor\":\"white\",\"ticks\":\"\"},\"bgcolor\":\"#E5ECF6\",\"caxis\":{\"gridcolor\":\"white\",\"linecolor\":\"white\",\"ticks\":\"\"}},\"title\":{\"x\":0.05},\"xaxis\":{\"automargin\":true,\"gridcolor\":\"white\",\"linecolor\":\"white\",\"ticks\":\"\",\"title\":{\"standoff\":15},\"zerolinecolor\":\"white\",\"zerolinewidth\":2},\"yaxis\":{\"automargin\":true,\"gridcolor\":\"white\",\"linecolor\":\"white\",\"ticks\":\"\",\"title\":{\"standoff\":15},\"zerolinecolor\":\"white\",\"zerolinewidth\":2}}},\"title\":{\"text\":\"Prophet Values,s_20\"},\"width\":1000,\"xaxis\":{\"anchor\":\"y\",\"domain\":[0.0,0.94]},\"yaxis\":{\"anchor\":\"x\",\"domain\":[0.0,1.0]},\"yaxis2\":{\"anchor\":\"x\",\"overlaying\":\"y\",\"side\":\"right\"}},                        {\"responsive\": true}                    ).then(function(){\n",
       "                            \n",
       "var gd = document.getElementById('c336436d-9605-4a72-aa53-920660aedab0');\n",
       "var x = new MutationObserver(function (mutations, observer) {{\n",
       "        var display = window.getComputedStyle(gd).display;\n",
       "        if (!display || display === 'none') {{\n",
       "            console.log([gd, 'removed!']);\n",
       "            Plotly.purge(gd);\n",
       "            observer.disconnect();\n",
       "        }}\n",
       "}});\n",
       "\n",
       "// Listen for the removal of the full notebook cells\n",
       "var notebookContainer = gd.closest('#notebook-container');\n",
       "if (notebookContainer) {{\n",
       "    x.observe(notebookContainer, {childList: true});\n",
       "}}\n",
       "\n",
       "// Listen for the clearing of the current output cell\n",
       "var outputEl = gd.closest('.output');\n",
       "if (outputEl) {{\n",
       "    x.observe(outputEl, {childList: true});\n",
       "}}\n",
       "\n",
       "                        })                };                });            </script>        </div>"
      ]
     },
     "metadata": {},
     "output_type": "display_data"
    }
   ],
   "source": [
    "fig = make_subplots(specs=[[{\"secondary_y\": True}]])\n",
    "\n",
    "\n",
    "fig.add_trace(\n",
    "    go.Scatter(x = x_pp ,y = y_pp, name=\"prophet\"),\n",
    "    secondary_y=True\n",
    ")\n",
    "\n",
    "fig.add_trace(\n",
    "    go.Scatter(x = x_test,y = y_test, name=\"test\"),\n",
    "    secondary_y=False\n",
    ")\n",
    "\n",
    "\n",
    "fig.update_layout(\n",
    "    title_text=f\"Prophet Values,{vnames[0]}\",\n",
    "    width = 1000, height = 600\n",
    ")\n",
    "\n",
    "fig.show()"
   ]
  },
  {
   "cell_type": "code",
   "execution_count": 37,
   "id": "8889bae1-bfbb-4c10-a974-9a7887425808",
   "metadata": {
    "jupyter": {
     "source_hidden": true
    },
    "tags": []
   },
   "outputs": [],
   "source": [
    "# fig = make_subplots(specs=[[{\"secondary_y\": True}]])\n",
    "\n",
    "# fig.add_trace(\n",
    "#     go.Scatter(x = x_pp ,y = y_pp, name=\"prophet\"),\n",
    "#     secondary_y=True\n",
    "# )\n",
    "\n",
    "# fig.add_trace(\n",
    "#     go.Scatter(x = x_train,y = y_train, name=\"train\"),\n",
    "#     secondary_y=False\n",
    "# )\n",
    "\n",
    "# fig.update_layout(\n",
    "#     title_text=\"Prophet Values\",\n",
    "#     width = 1000, height = 600\n",
    "# )\n",
    "\n",
    "# fig.show()"
   ]
  },
  {
   "cell_type": "code",
   "execution_count": 38,
   "id": "4f53e09b-da82-47ba-9467-74af81999d2b",
   "metadata": {
    "jupyter": {
     "source_hidden": true
    },
    "tags": []
   },
   "outputs": [],
   "source": [
    "# fig = make_subplots(specs=[[{\"secondary_y\": True}]])\n",
    "\n",
    "# fig.add_trace(\n",
    "#     go.Scatter(x = x_test,y = y_test, name=\"test\"),\n",
    "#     secondary_y=False\n",
    "# )\n",
    "\n",
    "# fig.add_trace(\n",
    "#     go.Scatter(x = x_train,y = y_train, name=\"train\"),\n",
    "#     secondary_y=True\n",
    "# )\n",
    "\n",
    "# fig.update_layout(\n",
    "#     title_text=\"Prophet Values\",\n",
    "#     width = 1000, height = 600\n",
    "# )\n",
    "\n",
    "# fig.show()\n"
   ]
  },
  {
   "cell_type": "code",
   "execution_count": 39,
   "id": "e1bdf243-78b0-4b15-b594-1c0f022bf2de",
   "metadata": {},
   "outputs": [
    {
     "name": "stdout",
     "output_type": "stream",
     "text": [
      "Tienda: s_20\n",
      "Accuracy test(R2):  69.7259437161456\n",
      "Mean Absolute Error:  100960.41127847998\n",
      "Mean Square Error:  23063641957.041317\n",
      "Root Mean Square Error:  151867.18525422574\n",
      "Mean Absolute Percentage Error:  0.04623090300461966\n"
     ]
    },
    {
     "data": {
      "image/png": "[encoded data removed]",
      "text/plain": [
       "<Figure size 600x480 with 1 Axes>"
      ]
     },
     "metadata": {},
     "output_type": "display_data"
    }
   ],
   "source": [
    "print('Tienda:',vnames[0])\n",
    "print('Accuracy test(R2): ', metrics.r2_score(test.Pred,pp.Pred)*100)\n",
    "performance(test.Pred,pp.Pred)"
   ]
  }
 ],
 "metadata": {
  "kernelspec": {
   "display_name": "Python 3 (ipykernel)",
   "language": "python",
   "name": "python3"
  },
  "language_info": {
   "codemirror_mode": {
    "name": "ipython",
    "version": 3
   },
   "file_extension": ".py",
   "mimetype": "text/x-python",
   "name": "python",
   "nbconvert_exporter": "python",
   "pygments_lexer": "ipython3",
   "version": "3.8.8"
  }
 },
 "nbformat": 4,
 "nbformat_minor": 5
}

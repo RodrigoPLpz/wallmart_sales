{
 "cells": [
  {
   "cell_type": "markdown",
   "id": "a2b4f56d-896e-40cd-83d5-395cfeb81bec",
   "metadata": {},
   "source": [
    "# Instancia de librarias"
   ]
  },
  {
   "cell_type": "code",
   "execution_count": 81,
   "id": "23afa1f7-8d7f-4bbe-b9bb-a69a49c1cf68",
   "metadata": {},
   "outputs": [
    {
     "name": "stdout",
     "output_type": "stream",
     "text": [
      "Setup complete\n"
     ]
    }
   ],
   "source": [
    "import pandas as pd\n",
    "import numpy as np\n",
    "# import datetime as dt\n",
    "from datetime import datetime\n",
    "\n",
    "import scipy.stats as stats\n",
    "import statistics\n",
    "\n",
    "import warnings\n",
    "warnings.filterwarnings('ignore')\n",
    "\n",
    "# Formato de visualización por centenas\n",
    "pd.options.display.float_format = '{:,.2f}'.format\n",
    "\n",
    "# Graficas\n",
    "pd.plotting.register_matplotlib_converters()\n",
    "import matplotlib.pyplot as plt\n",
    "%matplotlib inline\n",
    "import seaborn as sns;sns.set_theme(color_codes=True)\n",
    "\n",
    "import plotly.graph_objects as go\n",
    "from plotly.subplots import make_subplots\n",
    "\n",
    "\n",
    "print(\"Setup complete\")"
   ]
  },
  {
   "cell_type": "markdown",
   "id": "25169fa4-6cbb-440f-bef2-f71bc50a2544",
   "metadata": {},
   "source": [
    "# Importación de datos"
   ]
  },
  {
   "cell_type": "code",
   "execution_count": 2,
   "id": "e8595b4e-e37b-49a6-b790-59e49008d0a1",
   "metadata": {},
   "outputs": [],
   "source": [
    "path = r'data/Walmart_Store_sales.csv'\n",
    "wall_data = pd.read_csv(path, header=0, encoding='utf-8')"
   ]
  },
  {
   "cell_type": "markdown",
   "id": "dcb5d65f-6397-469a-a2e3-7bcd2ead3b51",
   "metadata": {},
   "source": [
    "# Análisis exploratorio"
   ]
  },
  {
   "cell_type": "code",
   "execution_count": 3,
   "id": "0b29e454-9323-4afa-9a52-2cb5f7969792",
   "metadata": {
    "tags": []
   },
   "outputs": [
    {
     "name": "stdout",
     "output_type": "stream",
     "text": [
      "Número de observaciones: 6435\n",
      "Número de variables: 8\n",
      "Variables Index(['Store', 'Date', 'Weekly_Sales', 'Holiday_Flag', 'Temperature',\n",
      "       'Fuel_Price', 'CPI', 'Unemployment'],\n",
      "      dtype='object')\n"
     ]
    }
   ],
   "source": [
    "# Se identifica el número de variables y observaciones del dataset\n",
    "print(\"Número de observaciones:\", wall_data.shape[0])\n",
    "print(\"Número de variables:\", wall_data.shape[1])\n",
    "print(\"Variables\",wall_data.keys())"
   ]
  },
  {
   "cell_type": "code",
   "execution_count": 4,
   "id": "7ea89bd5-18cf-4281-8c73-cff4d1160c84",
   "metadata": {
    "tags": []
   },
   "outputs": [
    {
     "name": "stdout",
     "output_type": "stream",
     "text": [
      "<class 'pandas.core.frame.DataFrame'>\n",
      "RangeIndex: 6435 entries, 0 to 6434\n",
      "Data columns (total 8 columns):\n",
      " #   Column        Non-Null Count  Dtype  \n",
      "---  ------        --------------  -----  \n",
      " 0   Store         6435 non-null   int64  \n",
      " 1   Date          6435 non-null   object \n",
      " 2   Weekly_Sales  6435 non-null   float64\n",
      " 3   Holiday_Flag  6435 non-null   int64  \n",
      " 4   Temperature   6435 non-null   float64\n",
      " 5   Fuel_Price    6435 non-null   float64\n",
      " 6   CPI           6435 non-null   float64\n",
      " 7   Unemployment  6435 non-null   float64\n",
      "dtypes: float64(5), int64(2), object(1)\n",
      "memory usage: 402.3+ KB\n"
     ]
    }
   ],
   "source": [
    "# Se muestra el tipo de valor de cada variable\n",
    "# y si existen valores nulos\n",
    "wall_data.info()"
   ]
  },
  {
   "cell_type": "code",
   "execution_count": 5,
   "id": "cbfd5516-d95b-4d82-b93a-46e433f2f830",
   "metadata": {},
   "outputs": [],
   "source": [
    "# Establecer el número de filas de la muestra\n",
    "muestra = int(wall_data.shape[0]*.60)"
   ]
  },
  {
   "cell_type": "code",
   "execution_count": 6,
   "id": "664a34c0-70fa-404b-b2cf-4cf0f1bea79e",
   "metadata": {
    "tags": []
   },
   "outputs": [
    {
     "data": {
      "image/png": "[encoded data removed]",
      "text/plain": [
       "<Figure size 648x288 with 1 Axes>"
      ]
     },
     "metadata": {},
     "output_type": "display_data"
    }
   ],
   "source": [
    "# Se  identifica el número de valores unicos por variable. Solo para las que tienen valores numericos\n",
    "wall_data.value_counts(wall_data.dtypes)\n",
    "unq_val = wall_data.select_dtypes(include='number').nunique().sort_values()\n",
    "unq_val.plot.bar(logy=True, figsize=(9,4),title=\"Valores únicos por variable\");"
   ]
  },
  {
   "cell_type": "code",
   "execution_count": 16,
   "id": "a8b3c1e9-2aa9-44f8-a043-5adbc0530757",
   "metadata": {
    "tags": []
   },
   "outputs": [
    {
     "data": {
      "text/plain": [
       "143"
      ]
     },
     "execution_count": 16,
     "metadata": {},
     "output_type": "execute_result"
    }
   ],
   "source": [
    "# Verificando los valores únicos de las fechas que no se tomaron en cuenta en la celda anterior\n",
    "# La variable Date se esta consideranco como un objeto de strings.\n",
    "# wall_data.groupby('Date')[['Store']].nunique().sort_values(by = \"Store\")\n",
    "\n",
    "# Se obtienen los valores únicos de las fechas (semanas) \n",
    "# wall_data['Date'].unique() \n",
    "\n",
    "# Se cuentan los valores únicos de las fechas (semanas) \n",
    "wall_data['Date'].nunique() #<- 143\n",
    "# Hay 143 semanas en que se registron las ventas (en día viernes)\n",
    "#-> 143*45(tiendas) = 6435 observaciones\n",
    "# Corroboración. Verificamos que la desviación estandar sea cero\n",
    "# wall_data.Store.value_counts().std() # <- 0"
   ]
  },
  {
   "cell_type": "code",
   "execution_count": 15,
   "id": "390f9b4a-93da-4c1a-8682-120c1b4abae8",
   "metadata": {},
   "outputs": [
    {
     "data": {
      "image/png": "[encoded data removed]",
      "text/plain": [
       "<Figure size 432x216 with 1 Axes>"
      ]
     },
     "metadata": {},
     "output_type": "display_data"
    }
   ],
   "source": [
    "# Se gráfica la cantidad de semanas por tienda\n",
    "unq_val = wall_data.select_dtypes(include='object').nunique().sort_values()\n",
    "unq_val.plot.bar(logy=True, figsize=(6,3),title=\"Valores únicos por Fecha\");"
   ]
  },
  {
   "cell_type": "code",
   "execution_count": 17,
   "id": "06be0fd3-e1b1-483d-928a-98ad31aed1a3",
   "metadata": {
    "tags": []
   },
   "outputs": [
    {
     "data": {
      "text/html": [
       "<div>\n",
       "<style scoped>\n",
       "    .dataframe tbody tr th:only-of-type {\n",
       "        vertical-align: middle;\n",
       "    }\n",
       "\n",
       "    .dataframe tbody tr th {\n",
       "        vertical-align: top;\n",
       "    }\n",
       "\n",
       "    .dataframe thead th {\n",
       "        text-align: right;\n",
       "    }\n",
       "</style>\n",
       "<table border=\"1\" class=\"dataframe\">\n",
       "  <thead>\n",
       "    <tr style=\"text-align: right;\">\n",
       "      <th></th>\n",
       "      <th>Store</th>\n",
       "      <th>Date</th>\n",
       "      <th>Weekly_Sales</th>\n",
       "      <th>Holiday_Flag</th>\n",
       "      <th>Temperature</th>\n",
       "      <th>Fuel_Price</th>\n",
       "      <th>CPI</th>\n",
       "      <th>Unemployment</th>\n",
       "    </tr>\n",
       "  </thead>\n",
       "  <tbody>\n",
       "    <tr>\n",
       "      <th>5306</th>\n",
       "      <td>38</td>\n",
       "      <td>21-05-2010</td>\n",
       "      <td>340,497.08</td>\n",
       "      <td>0</td>\n",
       "      <td>76.20</td>\n",
       "      <td>3.12</td>\n",
       "      <td>126.18</td>\n",
       "      <td>14.10</td>\n",
       "    </tr>\n",
       "    <tr>\n",
       "      <th>2441</th>\n",
       "      <td>18</td>\n",
       "      <td>16-04-2010</td>\n",
       "      <td>1,135,577.62</td>\n",
       "      <td>0</td>\n",
       "      <td>50.26</td>\n",
       "      <td>2.88</td>\n",
       "      <td>131.98</td>\n",
       "      <td>9.27</td>\n",
       "    </tr>\n",
       "    <tr>\n",
       "      <th>5183</th>\n",
       "      <td>37</td>\n",
       "      <td>08-10-2010</td>\n",
       "      <td>524,483.65</td>\n",
       "      <td>0</td>\n",
       "      <td>66.34</td>\n",
       "      <td>2.63</td>\n",
       "      <td>210.51</td>\n",
       "      <td>8.48</td>\n",
       "    </tr>\n",
       "    <tr>\n",
       "      <th>897</th>\n",
       "      <td>7</td>\n",
       "      <td>05-11-2010</td>\n",
       "      <td>480,512.44</td>\n",
       "      <td>0</td>\n",
       "      <td>49.44</td>\n",
       "      <td>2.73</td>\n",
       "      <td>191.00</td>\n",
       "      <td>9.14</td>\n",
       "    </tr>\n",
       "    <tr>\n",
       "      <th>3194</th>\n",
       "      <td>23</td>\n",
       "      <td>07-01-2011</td>\n",
       "      <td>1,122,034.48</td>\n",
       "      <td>0</td>\n",
       "      <td>27.81</td>\n",
       "      <td>3.19</td>\n",
       "      <td>132.88</td>\n",
       "      <td>5.11</td>\n",
       "    </tr>\n",
       "  </tbody>\n",
       "</table>\n",
       "</div>"
      ],
      "text/plain": [
       "      Store        Date  Weekly_Sales  Holiday_Flag  Temperature  Fuel_Price  \\\n",
       "5306     38  21-05-2010    340,497.08             0        76.20        3.12   \n",
       "2441     18  16-04-2010  1,135,577.62             0        50.26        2.88   \n",
       "5183     37  08-10-2010    524,483.65             0        66.34        2.63   \n",
       "897       7  05-11-2010    480,512.44             0        49.44        2.73   \n",
       "3194     23  07-01-2011  1,122,034.48             0        27.81        3.19   \n",
       "\n",
       "        CPI  Unemployment  \n",
       "5306 126.18         14.10  \n",
       "2441 131.98          9.27  \n",
       "5183 210.51          8.48  \n",
       "897  191.00          9.14  \n",
       "3194 132.88          5.11  "
      ]
     },
     "execution_count": 17,
     "metadata": {},
     "output_type": "execute_result"
    }
   ],
   "source": [
    "# Se verifica el tipo de valores que se  muestran por variable.\n",
    "wall_data.sample(5,random_state=muestra)"
   ]
  },
  {
   "cell_type": "code",
   "execution_count": 18,
   "id": "905f35e8-265c-497b-8f7f-fe0ae84aa975",
   "metadata": {
    "tags": []
   },
   "outputs": [
    {
     "data": {
      "text/html": [
       "<div>\n",
       "<style scoped>\n",
       "    .dataframe tbody tr th:only-of-type {\n",
       "        vertical-align: middle;\n",
       "    }\n",
       "\n",
       "    .dataframe tbody tr th {\n",
       "        vertical-align: top;\n",
       "    }\n",
       "\n",
       "    .dataframe thead th {\n",
       "        text-align: right;\n",
       "    }\n",
       "</style>\n",
       "<table border=\"1\" class=\"dataframe\">\n",
       "  <thead>\n",
       "    <tr style=\"text-align: right;\">\n",
       "      <th></th>\n",
       "      <th>tienda</th>\n",
       "      <th>fecha</th>\n",
       "      <th>vta_semana</th>\n",
       "      <th>feriado</th>\n",
       "      <th>temp</th>\n",
       "      <th>precio_gasolina_reg</th>\n",
       "      <th>ipc</th>\n",
       "      <th>tasa_desempleo</th>\n",
       "    </tr>\n",
       "  </thead>\n",
       "  <tbody>\n",
       "    <tr>\n",
       "      <th>0</th>\n",
       "      <td>1</td>\n",
       "      <td>05-02-2010</td>\n",
       "      <td>1,643,690.90</td>\n",
       "      <td>0</td>\n",
       "      <td>42.31</td>\n",
       "      <td>2.57</td>\n",
       "      <td>211.10</td>\n",
       "      <td>8.11</td>\n",
       "    </tr>\n",
       "    <tr>\n",
       "      <th>1</th>\n",
       "      <td>1</td>\n",
       "      <td>12-02-2010</td>\n",
       "      <td>1,641,957.44</td>\n",
       "      <td>1</td>\n",
       "      <td>38.51</td>\n",
       "      <td>2.55</td>\n",
       "      <td>211.24</td>\n",
       "      <td>8.11</td>\n",
       "    </tr>\n",
       "    <tr>\n",
       "      <th>2</th>\n",
       "      <td>1</td>\n",
       "      <td>19-02-2010</td>\n",
       "      <td>1,611,968.17</td>\n",
       "      <td>0</td>\n",
       "      <td>39.93</td>\n",
       "      <td>2.51</td>\n",
       "      <td>211.29</td>\n",
       "      <td>8.11</td>\n",
       "    </tr>\n",
       "  </tbody>\n",
       "</table>\n",
       "</div>"
      ],
      "text/plain": [
       "   tienda       fecha   vta_semana  feriado  temp  precio_gasolina_reg    ipc  \\\n",
       "0       1  05-02-2010 1,643,690.90        0 42.31                 2.57 211.10   \n",
       "1       1  12-02-2010 1,641,957.44        1 38.51                 2.55 211.24   \n",
       "2       1  19-02-2010 1,611,968.17        0 39.93                 2.51 211.29   \n",
       "\n",
       "   tasa_desempleo  \n",
       "0            8.11  \n",
       "1            8.11  \n",
       "2            8.11  "
      ]
     },
     "execution_count": 18,
     "metadata": {},
     "output_type": "execute_result"
    }
   ],
   "source": [
    "# Se renombran las columnas y muetsra el encabezado\n",
    "wall_data.columns = [\"tienda\",\"fecha\",\"vta_semana\",\"feriado\",\"temp\",\"precio_gasolina_reg\",\"ipc\",\"tasa_desempleo\"]\n",
    "wall_data.head(3)"
   ]
  },
  {
   "cell_type": "code",
   "execution_count": null,
   "id": "a5571418-0763-44ee-a764-086f7ea81a10",
   "metadata": {
    "tags": []
   },
   "outputs": [],
   "source": [
    "# Se convierte la temperatura de °F a °C\n",
    "# print(\"Max: \",wall_data['temp'].max(),\"Min: \",wall_data['temp'].min())\n",
    "wall_data['temp'] = (wall_data['temp']-32)*(5/9)\n",
    "wall_data['temp'].head()"
   ]
  },
  {
   "cell_type": "code",
   "execution_count": null,
   "id": "1462b553-0456-4ceb-87b2-da89efbfc3de",
   "metadata": {
    "tags": []
   },
   "outputs": [],
   "source": [
    "# Se convierte el precio de la gasolina de galones a litros X dolar\n",
    "# print(\"Max: \",wall_data['precio_gasolina_reg'].max(),\"Min: \",wall_data['precio_gasolina_reg'].min())\n",
    "wall_data['precio_gasolina_reg'] = (wall_data['precio_gasolina_reg'] / 3.785412)\n",
    "wall_data['precio_gasolina_reg'].head()\n",
    "\n",
    "# Posiblemente se pueda consumir un api que le pase la fecha y proporcione el precio del dolar ese día"
   ]
  },
  {
   "cell_type": "code",
   "execution_count": null,
   "id": "fca2edd5-169c-4c3a-af9a-692edd536f83",
   "metadata": {
    "tags": []
   },
   "outputs": [],
   "source": [
    "# Se cambia el tipo de valor a la variable fecha de str a date\n",
    "# wall_data['fecha']\n",
    "wall_data['fecha'] = pd.to_datetime(wall_data['fecha'],format=\"%d-%m-%Y\", dayfirst=True)\n",
    "wall_data['fecha'] # año - mes - dia\n"
   ]
  },
  {
   "cell_type": "code",
   "execution_count": 19,
   "id": "f77ca7d7-0ae6-4357-adbe-76ad4e90820e",
   "metadata": {
    "tags": []
   },
   "outputs": [
    {
     "data": {
      "text/plain": [
       "float64    5\n",
       "int64      2\n",
       "object     1\n",
       "dtype: int64"
      ]
     },
     "execution_count": 19,
     "metadata": {},
     "output_type": "execute_result"
    }
   ],
   "source": [
    "# Se verifica el tipo de valores que tiene el dataset\n",
    "pd.value_counts(wall_data.dtypes)"
   ]
  },
  {
   "cell_type": "markdown",
   "id": "f2f6a5fe-37eb-43cd-8415-8f3d2e533532",
   "metadata": {},
   "source": [
    "# Corroboración de valores ausentes"
   ]
  },
  {
   "cell_type": "code",
   "execution_count": 20,
   "id": "c1bca86b-ab21-4c42-9304-b63a321f244e",
   "metadata": {
    "tags": []
   },
   "outputs": [
    {
     "data": {
      "text/plain": [
       "tienda                 0\n",
       "fecha                  0\n",
       "vta_semana             0\n",
       "feriado                0\n",
       "temp                   0\n",
       "precio_gasolina_reg    0\n",
       "ipc                    0\n",
       "tasa_desempleo         0\n",
       "dtype: int64"
      ]
     },
     "execution_count": 20,
     "metadata": {},
     "output_type": "execute_result"
    }
   ],
   "source": [
    "wall_data.isna().sum()"
   ]
  },
  {
   "cell_type": "markdown",
   "id": "0c40a1b3-3775-459a-b3ca-d3896dbfad2d",
   "metadata": {},
   "source": [
    "# Verificando periodicidad de fechas"
   ]
  },
  {
   "cell_type": "code",
   "execution_count": 21,
   "id": "ec15d367-3f99-452c-a389-383888eea2ef",
   "metadata": {
    "tags": []
   },
   "outputs": [
    {
     "data": {
      "text/plain": [
       "fecha\n",
       "01-04-2011    45\n",
       "01-06-2012    45\n",
       "01-07-2011    45\n",
       "01-10-2010    45\n",
       "02-03-2012    45\n",
       "              ..\n",
       "30-07-2010    45\n",
       "30-09-2011    45\n",
       "30-12-2011    45\n",
       "31-08-2012    45\n",
       "31-12-2010    45\n",
       "Length: 143, dtype: int64"
      ]
     },
     "execution_count": 21,
     "metadata": {},
     "output_type": "execute_result"
    }
   ],
   "source": [
    "# wall_data[wall_data['fecha']==\"2010-02-05\"] # Inicio del registro de semana - viernes - febrero 2010\n",
    "# wall_data[wall_data['fecha'] == \"2012-10-26\"] # Registro de última semana - viernes - octubre 2012\n",
    "# wall_data[wall_data['fecha'] >= \"2012-11-02\"] # No hay registros\n",
    "wall_data.groupby(['fecha']).size() # 45 (tiendas)*143 semanas = 6435 registros"
   ]
  },
  {
   "cell_type": "code",
   "execution_count": 22,
   "id": "a3fdefe0-4421-42dc-9b0a-5202d9576f9c",
   "metadata": {
    "tags": []
   },
   "outputs": [],
   "source": [
    "# Función que separa fechas por periodos de tiempo\n",
    "def periodo_tiempo (df,f1,f2):\n",
    "    periodo = df[(df['fecha']>=f1) & (df['fecha']<=f2)].iloc[:,0:4] \n",
    "    return periodo"
   ]
  },
  {
   "cell_type": "markdown",
   "id": "640080e8-8418-40d9-b47a-dfa76689b3cc",
   "metadata": {},
   "source": [
    "### La tienda con el máximo de ventas registradas es:"
   ]
  },
  {
   "cell_type": "code",
   "execution_count": 23,
   "id": "482cd259-4f89-4afd-879d-36f698dd8ed9",
   "metadata": {
    "tags": []
   },
   "outputs": [
    {
     "data": {
      "text/plain": [
       "tienda              14.00\n",
       "vta_semana   3,818,686.45\n",
       "Name: 0, dtype: float64"
      ]
     },
     "execution_count": 23,
     "metadata": {},
     "output_type": "execute_result"
    }
   ],
   "source": [
    "# La tienda con el máximo número de ventas registradas en una semana:\n",
    "# wall_data.groupby('tienda')[['vta_semana']].max().sort_values(by = 'vta_semana', ascending = False)\n",
    "wall_data.groupby('tienda')[['vta_semana']].max().sort_values(by = 'vta_semana', ascending = False).reset_index().iloc[0,:]\n",
    "# wall_data.groupby('vta_semana').get_group(3818686.45)\n",
    "# wall_data[(wall_data['tienda']==14) & (wall_data['vta_semana']==3818686.45)]\n"
   ]
  },
  {
   "cell_type": "code",
   "execution_count": 24,
   "id": "a88c2c19-40fa-453e-a44b-ecbc76fc45b9",
   "metadata": {
    "tags": []
   },
   "outputs": [
    {
     "data": {
      "text/plain": [
       "tienda                20.00\n",
       "vta_semana   301,397,792.46\n",
       "Name: 0, dtype: float64"
      ]
     },
     "execution_count": 24,
     "metadata": {},
     "output_type": "execute_result"
    }
   ],
   "source": [
    "# La tienda con el máximo número de ventas registradas de\"2010-02-05\" al \"2012-10-26\":\n",
    "wall_data.groupby('tienda')[['vta_semana']].sum().sort_values(by = 'vta_semana', ascending = False).reset_index().iloc[0,:]"
   ]
  },
  {
   "cell_type": "code",
   "execution_count": 87,
   "id": "391328b5-4d77-40a0-a706-eb96de992983",
   "metadata": {},
   "outputs": [],
   "source": [
    "# Maximo de ventas por semana\n",
    "max_vta_semana = wall_data.groupby('tienda')[['vta_semana']].max().sort_values(by = 'tienda').reset_index()\n",
    "# Maximo de ventas en todo el periodo\n",
    "max_vtas = wall_data.groupby('tienda')[['vta_semana']].sum().sort_values(by = 'tienda').reset_index()"
   ]
  },
  {
   "cell_type": "code",
   "execution_count": 88,
   "id": "5d4f1062-c07a-4419-a6be-52ace3aeff21",
   "metadata": {
    "tags": []
   },
   "outputs": [
    {
     "data": {
      "image/png": "[encoded data removed]",
      "text/plain": [
       "<Figure size 1080x576 with 1 Axes>"
      ]
     },
     "metadata": {},
     "output_type": "display_data"
    }
   ],
   "source": [
    "# Se gráfica el monto de venta por semana de cada tienda\n",
    "plt.figure(figsize=(15,8))\n",
    "plt.title('Ventas máximas por semana')\n",
    "sns.barplot(data = max_vta_semana,x = 'tienda',y='vta_semana', color='#7EC8E3')\n",
    "plt.xlabel('Tienda')\n",
    "plt.ylabel('Vta_semana [Dollares]')\n",
    "plt.show()"
   ]
  },
  {
   "cell_type": "code",
   "execution_count": 89,
   "id": "3b2c15e1-4cf6-404d-b15f-03e01230c463",
   "metadata": {},
   "outputs": [
    {
     "data": {
      "image/png": "[encoded data removed]",
      "text/plain": [
       "<Figure size 1080x576 with 1 Axes>"
      ]
     },
     "metadata": {},
     "output_type": "display_data"
    }
   ],
   "source": [
    "plt.figure(figsize=(15,8))\n",
    "plt.plot(max_vta_semana.tienda,max_vta_semana.vta_semana,label='promedio__vta_semanal')\n",
    "plt.bar(max_vtas.tienda,max_vtas.vta_semana,width=0.5,alpha=0.5,color='orange',label='total_vta_semanal')\n",
    "plt.xlim(1,46)\n",
    "plt.xticks(range(0,46,1))\n",
    "plt.legend(loc='upper right')\n",
    "plt.show()"
   ]
  },
  {
   "cell_type": "code",
   "execution_count": 176,
   "id": "ad6643f1-2793-4a66-a27a-7d7590d95cec",
   "metadata": {},
   "outputs": [
    {
     "data": {
      "application/vnd.plotly.v1+json": {
       "config": {
        "plotlyServerURL": "https://plot.ly"
       },
       "data": [
        {
         "name": "promedio__vta_semanal",
         "type": "scatter",
         "x": [
          1,
          2,
          3,
          4,
          5,
          6,
          7,
          8,
          9,
          10,
          11,
          12,
          13,
          14,
          15,
          16,
          17,
          18,
          19,
          20,
          21,
          22,
          23,
          24,
          25,
          26,
          27,
          28,
          29,
          30,
          31,
          32,
          33,
          34,
          35,
          36,
          37,
          38,
          39,
          40,
          41,
          42,
          43,
          44,
          45
         ],
         "xaxis": "x",
         "y": [
          2387950.2,
          3436007.68,
          605990.41,
          3676388.98,
          507900.07,
          2727575.18,
          1059715.27,
          1511641.09,
          905324.68,
          3749057.69,
          2306265.36,
          1768249.89,
          3595903.2,
          3818686.45,
          1368318.17,
          1004730.69,
          1309226.79,
          2027507.15,
          2678206.42,
          3766687.43,
          1587257.78,
          1962445.04,
          2734277.1,
          2386015.75,
          1295391.19,
          1573982.47,
          3078162.08,
          2026026.39,
          1130926.79,
          519354.88,
          2068942.97,
          1959526.96,
          331173.51,
          1620748.25,
          1781866.98,
          489372.02,
          605791.46,
          499267.66,
          2554482.84,
          1648829.18,
          2263722.68,
          674919.45,
          725043.04,
          376233.89,
          1682862.03
         ],
         "yaxis": "y"
        },
        {
         "name": "total_vta_semanal",
         "type": "scatter",
         "x": [
          1,
          2,
          3,
          4,
          5,
          6,
          7,
          8,
          9,
          10,
          11,
          12,
          13,
          14,
          15,
          16,
          17,
          18,
          19,
          20,
          21,
          22,
          23,
          24,
          25,
          26,
          27,
          28,
          29,
          30,
          31,
          32,
          33,
          34,
          35,
          36,
          37,
          38,
          39,
          40,
          41,
          42,
          43,
          44,
          45
         ],
         "xaxis": "x",
         "y": [
          222402808.85,
          275382440.98,
          57586735.07,
          299543953.38,
          45475688.9,
          223756130.64,
          81598275.14,
          129951181.13,
          77789218.99,
          271617713.89,
          193962786.8,
          144287230.15,
          286517703.8,
          288999911.34,
          89133683.92,
          74252425.4,
          127782138.83,
          155114734.21,
          206634862.1,
          301397792.46,
          108117878.92,
          147075648.57,
          198750617.85,
          194016021.28,
          101061179.17,
          143416393.79,
          253855916.88,
          189263680.58,
          77141554.31,
          62716885.12,
          199613905.5,
          166819246.16,
          37160221.96,
          138249763,
          131520672.08,
          53412214.97,
          74202740.32,
          55159626.42,
          207445542.47,
          137870309.79,
          181341934.89000002,
          79565752.42999999,
          90565435.41,
          43293087.84,
          112395341.42
         ],
         "yaxis": "y2"
        }
       ],
       "layout": {
        "height": 600,
        "template": {
         "data": {
          "bar": [
           {
            "error_x": {
             "color": "#2a3f5f"
            },
            "error_y": {
             "color": "#2a3f5f"
            },
            "marker": {
             "line": {
              "color": "#E5ECF6",
              "width": 0.5
             },
             "pattern": {
              "fillmode": "overlay",
              "size": 10,
              "solidity": 0.2
             }
            },
            "type": "bar"
           }
          ],
          "barpolar": [
           {
            "marker": {
             "line": {
              "color": "#E5ECF6",
              "width": 0.5
             },
             "pattern": {
              "fillmode": "overlay",
              "size": 10,
              "solidity": 0.2
             }
            },
            "type": "barpolar"
           }
          ],
          "carpet": [
           {
            "aaxis": {
             "endlinecolor": "#2a3f5f",
             "gridcolor": "white",
             "linecolor": "white",
             "minorgridcolor": "white",
             "startlinecolor": "#2a3f5f"
            },
            "baxis": {
             "endlinecolor": "#2a3f5f",
             "gridcolor": "white",
             "linecolor": "white",
             "minorgridcolor": "white",
             "startlinecolor": "#2a3f5f"
            },
            "type": "carpet"
           }
          ],
          "choropleth": [
           {
            "colorbar": {
             "outlinewidth": 0,
             "ticks": ""
            },
            "type": "choropleth"
           }
          ],
          "contour": [
           {
            "colorbar": {
             "outlinewidth": 0,
             "ticks": ""
            },
            "colorscale": [
             [
              0,
              "#0d0887"
             ],
             [
              0.1111111111111111,
              "#46039f"
             ],
             [
              0.2222222222222222,
              "#7201a8"
             ],
             [
              0.3333333333333333,
              "#9c179e"
             ],
             [
              0.4444444444444444,
              "#bd3786"
             ],
             [
              0.5555555555555556,
              "#d8576b"
             ],
             [
              0.6666666666666666,
              "#ed7953"
             ],
             [
              0.7777777777777778,
              "#fb9f3a"
             ],
             [
              0.8888888888888888,
              "#fdca26"
             ],
             [
              1,
              "#f0f921"
             ]
            ],
            "type": "contour"
           }
          ],
          "contourcarpet": [
           {
            "colorbar": {
             "outlinewidth": 0,
             "ticks": ""
            },
            "type": "contourcarpet"
           }
          ],
          "heatmap": [
           {
            "colorbar": {
             "outlinewidth": 0,
             "ticks": ""
            },
            "colorscale": [
             [
              0,
              "#0d0887"
             ],
             [
              0.1111111111111111,
              "#46039f"
             ],
             [
              0.2222222222222222,
              "#7201a8"
             ],
             [
              0.3333333333333333,
              "#9c179e"
             ],
             [
              0.4444444444444444,
              "#bd3786"
             ],
             [
              0.5555555555555556,
              "#d8576b"
             ],
             [
              0.6666666666666666,
              "#ed7953"
             ],
             [
              0.7777777777777778,
              "#fb9f3a"
             ],
             [
              0.8888888888888888,
              "#fdca26"
             ],
             [
              1,
              "#f0f921"
             ]
            ],
            "type": "heatmap"
           }
          ],
          "heatmapgl": [
           {
            "colorbar": {
             "outlinewidth": 0,
             "ticks": ""
            },
            "colorscale": [
             [
              0,
              "#0d0887"
             ],
             [
              0.1111111111111111,
              "#46039f"
             ],
             [
              0.2222222222222222,
              "#7201a8"
             ],
             [
              0.3333333333333333,
              "#9c179e"
             ],
             [
              0.4444444444444444,
              "#bd3786"
             ],
             [
              0.5555555555555556,
              "#d8576b"
             ],
             [
              0.6666666666666666,
              "#ed7953"
             ],
             [
              0.7777777777777778,
              "#fb9f3a"
             ],
             [
              0.8888888888888888,
              "#fdca26"
             ],
             [
              1,
              "#f0f921"
             ]
            ],
            "type": "heatmapgl"
           }
          ],
          "histogram": [
           {
            "marker": {
             "pattern": {
              "fillmode": "overlay",
              "size": 10,
              "solidity": 0.2
             }
            },
            "type": "histogram"
           }
          ],
          "histogram2d": [
           {
            "colorbar": {
             "outlinewidth": 0,
             "ticks": ""
            },
            "colorscale": [
             [
              0,
              "#0d0887"
             ],
             [
              0.1111111111111111,
              "#46039f"
             ],
             [
              0.2222222222222222,
              "#7201a8"
             ],
             [
              0.3333333333333333,
              "#9c179e"
             ],
             [
              0.4444444444444444,
              "#bd3786"
             ],
             [
              0.5555555555555556,
              "#d8576b"
             ],
             [
              0.6666666666666666,
              "#ed7953"
             ],
             [
              0.7777777777777778,
              "#fb9f3a"
             ],
             [
              0.8888888888888888,
              "#fdca26"
             ],
             [
              1,
              "#f0f921"
             ]
            ],
            "type": "histogram2d"
           }
          ],
          "histogram2dcontour": [
           {
            "colorbar": {
             "outlinewidth": 0,
             "ticks": ""
            },
            "colorscale": [
             [
              0,
              "#0d0887"
             ],
             [
              0.1111111111111111,
              "#46039f"
             ],
             [
              0.2222222222222222,
              "#7201a8"
             ],
             [
              0.3333333333333333,
              "#9c179e"
             ],
             [
              0.4444444444444444,
              "#bd3786"
             ],
             [
              0.5555555555555556,
              "#d8576b"
             ],
             [
              0.6666666666666666,
              "#ed7953"
             ],
             [
              0.7777777777777778,
              "#fb9f3a"
             ],
             [
              0.8888888888888888,
              "#fdca26"
             ],
             [
              1,
              "#f0f921"
             ]
            ],
            "type": "histogram2dcontour"
           }
          ],
          "mesh3d": [
           {
            "colorbar": {
             "outlinewidth": 0,
             "ticks": ""
            },
            "type": "mesh3d"
           }
          ],
          "parcoords": [
           {
            "line": {
             "colorbar": {
              "outlinewidth": 0,
              "ticks": ""
             }
            },
            "type": "parcoords"
           }
          ],
          "pie": [
           {
            "automargin": true,
            "type": "pie"
           }
          ],
          "scatter": [
           {
            "marker": {
             "colorbar": {
              "outlinewidth": 0,
              "ticks": ""
             }
            },
            "type": "scatter"
           }
          ],
          "scatter3d": [
           {
            "line": {
             "colorbar": {
              "outlinewidth": 0,
              "ticks": ""
             }
            },
            "marker": {
             "colorbar": {
              "outlinewidth": 0,
              "ticks": ""
             }
            },
            "type": "scatter3d"
           }
          ],
          "scattercarpet": [
           {
            "marker": {
             "colorbar": {
              "outlinewidth": 0,
              "ticks": ""
             }
            },
            "type": "scattercarpet"
           }
          ],
          "scattergeo": [
           {
            "marker": {
             "colorbar": {
              "outlinewidth": 0,
              "ticks": ""
             }
            },
            "type": "scattergeo"
           }
          ],
          "scattergl": [
           {
            "marker": {
             "colorbar": {
              "outlinewidth": 0,
              "ticks": ""
             }
            },
            "type": "scattergl"
           }
          ],
          "scattermapbox": [
           {
            "marker": {
             "colorbar": {
              "outlinewidth": 0,
              "ticks": ""
             }
            },
            "type": "scattermapbox"
           }
          ],
          "scatterpolar": [
           {
            "marker": {
             "colorbar": {
              "outlinewidth": 0,
              "ticks": ""
             }
            },
            "type": "scatterpolar"
           }
          ],
          "scatterpolargl": [
           {
            "marker": {
             "colorbar": {
              "outlinewidth": 0,
              "ticks": ""
             }
            },
            "type": "scatterpolargl"
           }
          ],
          "scatterternary": [
           {
            "marker": {
             "colorbar": {
              "outlinewidth": 0,
              "ticks": ""
             }
            },
            "type": "scatterternary"
           }
          ],
          "surface": [
           {
            "colorbar": {
             "outlinewidth": 0,
             "ticks": ""
            },
            "colorscale": [
             [
              0,
              "#0d0887"
             ],
             [
              0.1111111111111111,
              "#46039f"
             ],
             [
              0.2222222222222222,
              "#7201a8"
             ],
             [
              0.3333333333333333,
              "#9c179e"
             ],
             [
              0.4444444444444444,
              "#bd3786"
             ],
             [
              0.5555555555555556,
              "#d8576b"
             ],
             [
              0.6666666666666666,
              "#ed7953"
             ],
             [
              0.7777777777777778,
              "#fb9f3a"
             ],
             [
              0.8888888888888888,
              "#fdca26"
             ],
             [
              1,
              "#f0f921"
             ]
            ],
            "type": "surface"
           }
          ],
          "table": [
           {
            "cells": {
             "fill": {
              "color": "#EBF0F8"
             },
             "line": {
              "color": "white"
             }
            },
            "header": {
             "fill": {
              "color": "#C8D4E3"
             },
             "line": {
              "color": "white"
             }
            },
            "type": "table"
           }
          ]
         },
         "layout": {
          "annotationdefaults": {
           "arrowcolor": "#2a3f5f",
           "arrowhead": 0,
           "arrowwidth": 1
          },
          "autotypenumbers": "strict",
          "coloraxis": {
           "colorbar": {
            "outlinewidth": 0,
            "ticks": ""
           }
          },
          "colorscale": {
           "diverging": [
            [
             0,
             "#8e0152"
            ],
            [
             0.1,
             "#c51b7d"
            ],
            [
             0.2,
             "#de77ae"
            ],
            [
             0.3,
             "#f1b6da"
            ],
            [
             0.4,
             "#fde0ef"
            ],
            [
             0.5,
             "#f7f7f7"
            ],
            [
             0.6,
             "#e6f5d0"
            ],
            [
             0.7,
             "#b8e186"
            ],
            [
             0.8,
             "#7fbc41"
            ],
            [
             0.9,
             "#4d9221"
            ],
            [
             1,
             "#276419"
            ]
           ],
           "sequential": [
            [
             0,
             "#0d0887"
            ],
            [
             0.1111111111111111,
             "#46039f"
            ],
            [
             0.2222222222222222,
             "#7201a8"
            ],
            [
             0.3333333333333333,
             "#9c179e"
            ],
            [
             0.4444444444444444,
             "#bd3786"
            ],
            [
             0.5555555555555556,
             "#d8576b"
            ],
            [
             0.6666666666666666,
             "#ed7953"
            ],
            [
             0.7777777777777778,
             "#fb9f3a"
            ],
            [
             0.8888888888888888,
             "#fdca26"
            ],
            [
             1,
             "#f0f921"
            ]
           ],
           "sequentialminus": [
            [
             0,
             "#0d0887"
            ],
            [
             0.1111111111111111,
             "#46039f"
            ],
            [
             0.2222222222222222,
             "#7201a8"
            ],
            [
             0.3333333333333333,
             "#9c179e"
            ],
            [
             0.4444444444444444,
             "#bd3786"
            ],
            [
             0.5555555555555556,
             "#d8576b"
            ],
            [
             0.6666666666666666,
             "#ed7953"
            ],
            [
             0.7777777777777778,
             "#fb9f3a"
            ],
            [
             0.8888888888888888,
             "#fdca26"
            ],
            [
             1,
             "#f0f921"
            ]
           ]
          },
          "colorway": [
           "#636efa",
           "#EF553B",
           "#00cc96",
           "#ab63fa",
           "#FFA15A",
           "#19d3f3",
           "#FF6692",
           "#B6E880",
           "#FF97FF",
           "#FECB52"
          ],
          "font": {
           "color": "#2a3f5f"
          },
          "geo": {
           "bgcolor": "white",
           "lakecolor": "white",
           "landcolor": "#E5ECF6",
           "showlakes": true,
           "showland": true,
           "subunitcolor": "white"
          },
          "hoverlabel": {
           "align": "left"
          },
          "hovermode": "closest",
          "mapbox": {
           "style": "light"
          },
          "paper_bgcolor": "white",
          "plot_bgcolor": "#E5ECF6",
          "polar": {
           "angularaxis": {
            "gridcolor": "white",
            "linecolor": "white",
            "ticks": ""
           },
           "bgcolor": "#E5ECF6",
           "radialaxis": {
            "gridcolor": "white",
            "linecolor": "white",
            "ticks": ""
           }
          },
          "scene": {
           "xaxis": {
            "backgroundcolor": "#E5ECF6",
            "gridcolor": "white",
            "gridwidth": 2,
            "linecolor": "white",
            "showbackground": true,
            "ticks": "",
            "zerolinecolor": "white"
           },
           "yaxis": {
            "backgroundcolor": "#E5ECF6",
            "gridcolor": "white",
            "gridwidth": 2,
            "linecolor": "white",
            "showbackground": true,
            "ticks": "",
            "zerolinecolor": "white"
           },
           "zaxis": {
            "backgroundcolor": "#E5ECF6",
            "gridcolor": "white",
            "gridwidth": 2,
            "linecolor": "white",
            "showbackground": true,
            "ticks": "",
            "zerolinecolor": "white"
           }
          },
          "shapedefaults": {
           "line": {
            "color": "#2a3f5f"
           }
          },
          "ternary": {
           "aaxis": {
            "gridcolor": "white",
            "linecolor": "white",
            "ticks": ""
           },
           "baxis": {
            "gridcolor": "white",
            "linecolor": "white",
            "ticks": ""
           },
           "bgcolor": "#E5ECF6",
           "caxis": {
            "gridcolor": "white",
            "linecolor": "white",
            "ticks": ""
           }
          },
          "title": {
           "x": 0.05
          },
          "xaxis": {
           "automargin": true,
           "gridcolor": "white",
           "linecolor": "white",
           "ticks": "",
           "title": {
            "standoff": 15
           },
           "zerolinecolor": "white",
           "zerolinewidth": 2
          },
          "yaxis": {
           "automargin": true,
           "gridcolor": "white",
           "linecolor": "white",
           "ticks": "",
           "title": {
            "standoff": 15
           },
           "zerolinecolor": "white",
           "zerolinewidth": 2
          }
         }
        },
        "title": {
         "text": "Ventas semanales por tienda"
        },
        "width": 1000,
        "xaxis": {
         "anchor": "y",
         "domain": [
          0,
          0.94
         ],
         "nticks": 45,
         "range": [
          1,
          45
         ],
         "tickangle": -40,
         "tickfont": {
          "color": "#050A30",
          "family": "Arial Narrow",
          "size": 10.5
         },
         "ticklen": 5,
         "ticks": "outside",
         "tickwidth": 3,
         "title": {
          "text": "Tiendas"
         },
         "type": "linear"
        },
        "yaxis": {
         "anchor": "x",
         "autorange": true,
         "color": "#050A30",
         "domain": [
          0,
          1
         ],
         "range": [
          137422.7911111111,
          4012437.1688888893
         ],
         "title": {
          "text": "<b>vta_semanal_promedio</b>"
         },
         "type": "linear"
        },
        "yaxis2": {
         "anchor": "x",
         "autorange": true,
         "color": "#050A30",
         "overlaying": "y",
         "range": [
          22480356.932222225,
          316077657.48777777
         ],
         "side": "right",
         "title": {
          "text": "<b>vta_semanal_total</b>"
         },
         "type": "linear"
        }
       }
      },
      "image/png": "[encoded data removed]",
      "text/html": [
       "<div>                            <div id=\"94f0227e-7415-429a-bc21-f64ac1bed685\" class=\"plotly-graph-div\" style=\"height:600px; width:1000px;\"></div>            <script type=\"text/javascript\">                require([\"plotly\"], function(Plotly) {                    window.PLOTLYENV=window.PLOTLYENV || {};                                    if (document.getElementById(\"94f0227e-7415-429a-bc21-f64ac1bed685\")) {                    Plotly.newPlot(                        \"94f0227e-7415-429a-bc21-f64ac1bed685\",                        [{\"name\":\"promedio__vta_semanal\",\"type\":\"scatter\",\"x\":[1,2,3,4,5,6,7,8,9,10,11,12,13,14,15,16,17,18,19,20,21,22,23,24,25,26,27,28,29,30,31,32,33,34,35,36,37,38,39,40,41,42,43,44,45],\"xaxis\":\"x\",\"y\":[2387950.2,3436007.68,605990.41,3676388.98,507900.07,2727575.18,1059715.27,1511641.09,905324.68,3749057.69,2306265.36,1768249.89,3595903.2,3818686.45,1368318.17,1004730.69,1309226.79,2027507.15,2678206.42,3766687.43,1587257.78,1962445.04,2734277.1,2386015.75,1295391.19,1573982.47,3078162.08,2026026.39,1130926.79,519354.88,2068942.97,1959526.96,331173.51,1620748.25,1781866.98,489372.02,605791.46,499267.66,2554482.84,1648829.18,2263722.68,674919.45,725043.04,376233.89,1682862.03],\"yaxis\":\"y\"},{\"name\":\"total_vta_semanal\",\"type\":\"scatter\",\"x\":[1,2,3,4,5,6,7,8,9,10,11,12,13,14,15,16,17,18,19,20,21,22,23,24,25,26,27,28,29,30,31,32,33,34,35,36,37,38,39,40,41,42,43,44,45],\"xaxis\":\"x\",\"y\":[222402808.85,275382440.98,57586735.07,299543953.38,45475688.9,223756130.64,81598275.14,129951181.13,77789218.99,271617713.89,193962786.8,144287230.15,286517703.8,288999911.34,89133683.92,74252425.4,127782138.83,155114734.21,206634862.1,301397792.46,108117878.92,147075648.57,198750617.85,194016021.28,101061179.17,143416393.79,253855916.88,189263680.58,77141554.31,62716885.12,199613905.5,166819246.16,37160221.96,138249763.0,131520672.08,53412214.97,74202740.32,55159626.42,207445542.47,137870309.79,181341934.89000002,79565752.42999999,90565435.41,43293087.84,112395341.42],\"yaxis\":\"y2\"}],                        {\"height\":600,\"template\":{\"data\":{\"bar\":[{\"error_x\":{\"color\":\"#2a3f5f\"},\"error_y\":{\"color\":\"#2a3f5f\"},\"marker\":{\"line\":{\"color\":\"#E5ECF6\",\"width\":0.5},\"pattern\":{\"fillmode\":\"overlay\",\"size\":10,\"solidity\":0.2}},\"type\":\"bar\"}],\"barpolar\":[{\"marker\":{\"line\":{\"color\":\"#E5ECF6\",\"width\":0.5},\"pattern\":{\"fillmode\":\"overlay\",\"size\":10,\"solidity\":0.2}},\"type\":\"barpolar\"}],\"carpet\":[{\"aaxis\":{\"endlinecolor\":\"#2a3f5f\",\"gridcolor\":\"white\",\"linecolor\":\"white\",\"minorgridcolor\":\"white\",\"startlinecolor\":\"#2a3f5f\"},\"baxis\":{\"endlinecolor\":\"#2a3f5f\",\"gridcolor\":\"white\",\"linecolor\":\"white\",\"minorgridcolor\":\"white\",\"startlinecolor\":\"#2a3f5f\"},\"type\":\"carpet\"}],\"choropleth\":[{\"colorbar\":{\"outlinewidth\":0,\"ticks\":\"\"},\"type\":\"choropleth\"}],\"contour\":[{\"colorbar\":{\"outlinewidth\":0,\"ticks\":\"\"},\"colorscale\":[[0.0,\"#0d0887\"],[0.1111111111111111,\"#46039f\"],[0.2222222222222222,\"#7201a8\"],[0.3333333333333333,\"#9c179e\"],[0.4444444444444444,\"#bd3786\"],[0.5555555555555556,\"#d8576b\"],[0.6666666666666666,\"#ed7953\"],[0.7777777777777778,\"#fb9f3a\"],[0.8888888888888888,\"#fdca26\"],[1.0,\"#f0f921\"]],\"type\":\"contour\"}],\"contourcarpet\":[{\"colorbar\":{\"outlinewidth\":0,\"ticks\":\"\"},\"type\":\"contourcarpet\"}],\"heatmap\":[{\"colorbar\":{\"outlinewidth\":0,\"ticks\":\"\"},\"colorscale\":[[0.0,\"#0d0887\"],[0.1111111111111111,\"#46039f\"],[0.2222222222222222,\"#7201a8\"],[0.3333333333333333,\"#9c179e\"],[0.4444444444444444,\"#bd3786\"],[0.5555555555555556,\"#d8576b\"],[0.6666666666666666,\"#ed7953\"],[0.7777777777777778,\"#fb9f3a\"],[0.8888888888888888,\"#fdca26\"],[1.0,\"#f0f921\"]],\"type\":\"heatmap\"}],\"heatmapgl\":[{\"colorbar\":{\"outlinewidth\":0,\"ticks\":\"\"},\"colorscale\":[[0.0,\"#0d0887\"],[0.1111111111111111,\"#46039f\"],[0.2222222222222222,\"#7201a8\"],[0.3333333333333333,\"#9c179e\"],[0.4444444444444444,\"#bd3786\"],[0.5555555555555556,\"#d8576b\"],[0.6666666666666666,\"#ed7953\"],[0.7777777777777778,\"#fb9f3a\"],[0.8888888888888888,\"#fdca26\"],[1.0,\"#f0f921\"]],\"type\":\"heatmapgl\"}],\"histogram\":[{\"marker\":{\"pattern\":{\"fillmode\":\"overlay\",\"size\":10,\"solidity\":0.2}},\"type\":\"histogram\"}],\"histogram2d\":[{\"colorbar\":{\"outlinewidth\":0,\"ticks\":\"\"},\"colorscale\":[[0.0,\"#0d0887\"],[0.1111111111111111,\"#46039f\"],[0.2222222222222222,\"#7201a8\"],[0.3333333333333333,\"#9c179e\"],[0.4444444444444444,\"#bd3786\"],[0.5555555555555556,\"#d8576b\"],[0.6666666666666666,\"#ed7953\"],[0.7777777777777778,\"#fb9f3a\"],[0.8888888888888888,\"#fdca26\"],[1.0,\"#f0f921\"]],\"type\":\"histogram2d\"}],\"histogram2dcontour\":[{\"colorbar\":{\"outlinewidth\":0,\"ticks\":\"\"},\"colorscale\":[[0.0,\"#0d0887\"],[0.1111111111111111,\"#46039f\"],[0.2222222222222222,\"#7201a8\"],[0.3333333333333333,\"#9c179e\"],[0.4444444444444444,\"#bd3786\"],[0.5555555555555556,\"#d8576b\"],[0.6666666666666666,\"#ed7953\"],[0.7777777777777778,\"#fb9f3a\"],[0.8888888888888888,\"#fdca26\"],[1.0,\"#f0f921\"]],\"type\":\"histogram2dcontour\"}],\"mesh3d\":[{\"colorbar\":{\"outlinewidth\":0,\"ticks\":\"\"},\"type\":\"mesh3d\"}],\"parcoords\":[{\"line\":{\"colorbar\":{\"outlinewidth\":0,\"ticks\":\"\"}},\"type\":\"parcoords\"}],\"pie\":[{\"automargin\":true,\"type\":\"pie\"}],\"scatter\":[{\"marker\":{\"colorbar\":{\"outlinewidth\":0,\"ticks\":\"\"}},\"type\":\"scatter\"}],\"scatter3d\":[{\"line\":{\"colorbar\":{\"outlinewidth\":0,\"ticks\":\"\"}},\"marker\":{\"colorbar\":{\"outlinewidth\":0,\"ticks\":\"\"}},\"type\":\"scatter3d\"}],\"scattercarpet\":[{\"marker\":{\"colorbar\":{\"outlinewidth\":0,\"ticks\":\"\"}},\"type\":\"scattercarpet\"}],\"scattergeo\":[{\"marker\":{\"colorbar\":{\"outlinewidth\":0,\"ticks\":\"\"}},\"type\":\"scattergeo\"}],\"scattergl\":[{\"marker\":{\"colorbar\":{\"outlinewidth\":0,\"ticks\":\"\"}},\"type\":\"scattergl\"}],\"scattermapbox\":[{\"marker\":{\"colorbar\":{\"outlinewidth\":0,\"ticks\":\"\"}},\"type\":\"scattermapbox\"}],\"scatterpolar\":[{\"marker\":{\"colorbar\":{\"outlinewidth\":0,\"ticks\":\"\"}},\"type\":\"scatterpolar\"}],\"scatterpolargl\":[{\"marker\":{\"colorbar\":{\"outlinewidth\":0,\"ticks\":\"\"}},\"type\":\"scatterpolargl\"}],\"scatterternary\":[{\"marker\":{\"colorbar\":{\"outlinewidth\":0,\"ticks\":\"\"}},\"type\":\"scatterternary\"}],\"surface\":[{\"colorbar\":{\"outlinewidth\":0,\"ticks\":\"\"},\"colorscale\":[[0.0,\"#0d0887\"],[0.1111111111111111,\"#46039f\"],[0.2222222222222222,\"#7201a8\"],[0.3333333333333333,\"#9c179e\"],[0.4444444444444444,\"#bd3786\"],[0.5555555555555556,\"#d8576b\"],[0.6666666666666666,\"#ed7953\"],[0.7777777777777778,\"#fb9f3a\"],[0.8888888888888888,\"#fdca26\"],[1.0,\"#f0f921\"]],\"type\":\"surface\"}],\"table\":[{\"cells\":{\"fill\":{\"color\":\"#EBF0F8\"},\"line\":{\"color\":\"white\"}},\"header\":{\"fill\":{\"color\":\"#C8D4E3\"},\"line\":{\"color\":\"white\"}},\"type\":\"table\"}]},\"layout\":{\"annotationdefaults\":{\"arrowcolor\":\"#2a3f5f\",\"arrowhead\":0,\"arrowwidth\":1},\"autotypenumbers\":\"strict\",\"coloraxis\":{\"colorbar\":{\"outlinewidth\":0,\"ticks\":\"\"}},\"colorscale\":{\"diverging\":[[0,\"#8e0152\"],[0.1,\"#c51b7d\"],[0.2,\"#de77ae\"],[0.3,\"#f1b6da\"],[0.4,\"#fde0ef\"],[0.5,\"#f7f7f7\"],[0.6,\"#e6f5d0\"],[0.7,\"#b8e186\"],[0.8,\"#7fbc41\"],[0.9,\"#4d9221\"],[1,\"#276419\"]],\"sequential\":[[0.0,\"#0d0887\"],[0.1111111111111111,\"#46039f\"],[0.2222222222222222,\"#7201a8\"],[0.3333333333333333,\"#9c179e\"],[0.4444444444444444,\"#bd3786\"],[0.5555555555555556,\"#d8576b\"],[0.6666666666666666,\"#ed7953\"],[0.7777777777777778,\"#fb9f3a\"],[0.8888888888888888,\"#fdca26\"],[1.0,\"#f0f921\"]],\"sequentialminus\":[[0.0,\"#0d0887\"],[0.1111111111111111,\"#46039f\"],[0.2222222222222222,\"#7201a8\"],[0.3333333333333333,\"#9c179e\"],[0.4444444444444444,\"#bd3786\"],[0.5555555555555556,\"#d8576b\"],[0.6666666666666666,\"#ed7953\"],[0.7777777777777778,\"#fb9f3a\"],[0.8888888888888888,\"#fdca26\"],[1.0,\"#f0f921\"]]},\"colorway\":[\"#636efa\",\"#EF553B\",\"#00cc96\",\"#ab63fa\",\"#FFA15A\",\"#19d3f3\",\"#FF6692\",\"#B6E880\",\"#FF97FF\",\"#FECB52\"],\"font\":{\"color\":\"#2a3f5f\"},\"geo\":{\"bgcolor\":\"white\",\"lakecolor\":\"white\",\"landcolor\":\"#E5ECF6\",\"showlakes\":true,\"showland\":true,\"subunitcolor\":\"white\"},\"hoverlabel\":{\"align\":\"left\"},\"hovermode\":\"closest\",\"mapbox\":{\"style\":\"light\"},\"paper_bgcolor\":\"white\",\"plot_bgcolor\":\"#E5ECF6\",\"polar\":{\"angularaxis\":{\"gridcolor\":\"white\",\"linecolor\":\"white\",\"ticks\":\"\"},\"bgcolor\":\"#E5ECF6\",\"radialaxis\":{\"gridcolor\":\"white\",\"linecolor\":\"white\",\"ticks\":\"\"}},\"scene\":{\"xaxis\":{\"backgroundcolor\":\"#E5ECF6\",\"gridcolor\":\"white\",\"gridwidth\":2,\"linecolor\":\"white\",\"showbackground\":true,\"ticks\":\"\",\"zerolinecolor\":\"white\"},\"yaxis\":{\"backgroundcolor\":\"#E5ECF6\",\"gridcolor\":\"white\",\"gridwidth\":2,\"linecolor\":\"white\",\"showbackground\":true,\"ticks\":\"\",\"zerolinecolor\":\"white\"},\"zaxis\":{\"backgroundcolor\":\"#E5ECF6\",\"gridcolor\":\"white\",\"gridwidth\":2,\"linecolor\":\"white\",\"showbackground\":true,\"ticks\":\"\",\"zerolinecolor\":\"white\"}},\"shapedefaults\":{\"line\":{\"color\":\"#2a3f5f\"}},\"ternary\":{\"aaxis\":{\"gridcolor\":\"white\",\"linecolor\":\"white\",\"ticks\":\"\"},\"baxis\":{\"gridcolor\":\"white\",\"linecolor\":\"white\",\"ticks\":\"\"},\"bgcolor\":\"#E5ECF6\",\"caxis\":{\"gridcolor\":\"white\",\"linecolor\":\"white\",\"ticks\":\"\"}},\"title\":{\"x\":0.05},\"xaxis\":{\"automargin\":true,\"gridcolor\":\"white\",\"linecolor\":\"white\",\"ticks\":\"\",\"title\":{\"standoff\":15},\"zerolinecolor\":\"white\",\"zerolinewidth\":2},\"yaxis\":{\"automargin\":true,\"gridcolor\":\"white\",\"linecolor\":\"white\",\"ticks\":\"\",\"title\":{\"standoff\":15},\"zerolinecolor\":\"white\",\"zerolinewidth\":2}}},\"title\":{\"text\":\"Ventas semanales por tienda\"},\"width\":1000,\"xaxis\":{\"anchor\":\"y\",\"domain\":[0.0,0.94],\"nticks\":45,\"range\":[1,45],\"tickangle\":-40,\"tickfont\":{\"color\":\"#050A30\",\"family\":\"Arial Narrow\",\"size\":10.5},\"ticklen\":5,\"ticks\":\"outside\",\"tickwidth\":3,\"title\":{\"text\":\"Tiendas\"}},\"yaxis\":{\"anchor\":\"x\",\"color\":\"#050A30\",\"domain\":[0.0,1.0],\"title\":{\"text\":\"<b>vta_semanal_promedio</b>\"}},\"yaxis2\":{\"anchor\":\"x\",\"color\":\"#050A30\",\"overlaying\":\"y\",\"side\":\"right\",\"title\":{\"text\":\"<b>vta_semanal_total</b>\"}}},                        {\"responsive\": true}                    ).then(function(){\n",
       "                            \n",
       "var gd = document.getElementById('94f0227e-7415-429a-bc21-f64ac1bed685');\n",
       "var x = new MutationObserver(function (mutations, observer) {{\n",
       "        var display = window.getComputedStyle(gd).display;\n",
       "        if (!display || display === 'none') {{\n",
       "            console.log([gd, 'removed!']);\n",
       "            Plotly.purge(gd);\n",
       "            observer.disconnect();\n",
       "        }}\n",
       "}});\n",
       "\n",
       "// Listen for the removal of the full notebook cells\n",
       "var notebookContainer = gd.closest('#notebook-container');\n",
       "if (notebookContainer) {{\n",
       "    x.observe(notebookContainer, {childList: true});\n",
       "}}\n",
       "\n",
       "// Listen for the clearing of the current output cell\n",
       "var outputEl = gd.closest('.output');\n",
       "if (outputEl) {{\n",
       "    x.observe(outputEl, {childList: true});\n",
       "}}\n",
       "\n",
       "                        })                };                });            </script>        </div>"
      ]
     },
     "metadata": {},
     "output_type": "display_data"
    }
   ],
   "source": [
    "\n",
    "fig = make_subplots(specs=[[{\"secondary_y\": True}]])\n",
    "\n",
    "fig.add_trace(\n",
    "    go.Scatter(x = max_vta_semana.tienda,y = max_vta_semana.vta_semana, name=\"promedio__vta_semanal\"),\n",
    "    secondary_y=False\n",
    ")\n",
    "\n",
    "\n",
    "fig.add_trace(\n",
    "    go.Scatter(x = max_vtas.tienda,y = max_vtas.vta_semana, name=\"total_vta_semanal\"),\n",
    "    secondary_y=True\n",
    ")\n",
    "\n",
    "fig.update_layout(\n",
    "    title_text=\"Ventas semanales por tienda\",\n",
    "    width = 1000, height = 600\n",
    ")\n",
    "\n",
    "\n",
    "fig.update_xaxes(title_text=\"Tiendas\", range = [1,45], ticks='outside',ticklen=5, tickwidth=3,nticks=45, tickangle=320,\n",
    "                 tickfont=dict(family='Arial Narrow',size=10.5,color='#050A30'))\n",
    "\n",
    "# plt.xlim(0,143)\n",
    "# plt.xticks(range(0,143,5))\n",
    "fig.update_yaxes(title_text=\"<b>vta_semanal_promedio</b>\", secondary_y=False,color='#050A30')\n",
    "fig.update_yaxes(title_text=\"<b>vta_semanal_total</b>\", secondary_y=True,color='#050A30')\n",
    "\n",
    "fig.show()"
   ]
  },
  {
   "cell_type": "code",
   "execution_count": null,
   "id": "c82819fa-c383-445c-be2e-ce6fe5927dc6",
   "metadata": {
    "tags": []
   },
   "outputs": [],
   "source": [
    "# Se gráfica el monto de venta por todo el periodo por cada tienda:\n",
    "# \"2010-02-05\" - 2012-10-26\"\n",
    "plt.figure(figsize=(15,8))\n",
    "plt.title('Ventas máximas en todo el periodo:2010-2012')\n",
    "sns.barplot(data = max_vtas,x = 'tienda',y='vta_semana')\n",
    "plt.xlabel('Tienda')\n",
    "plt.ylabel('Ventas totales [Dollares]')\n",
    "plt.show()"
   ]
  },
  {
   "cell_type": "markdown",
   "id": "77fa7235-7711-4e2d-85c0-2bfe8d5b2ed3",
   "metadata": {},
   "source": [
    "### La tienda con la desviación estadar máxima fue:"
   ]
  },
  {
   "cell_type": "code",
   "execution_count": null,
   "id": "8eb5e028-5d03-4427-8bd0-04cd3d3a0f20",
   "metadata": {
    "tags": []
   },
   "outputs": [],
   "source": [
    "# La distribución de los datos del dataset es:\n",
    "# wall_data.plot(lw=0, marker=\".\",subplots=True,layout=(-1,4),figsize=(15,30),markersize=2.5)\n",
    "\n",
    "# La disribucion de los datos referente a las ventas por semana de todas las observaciones es:\n",
    "wall_data.iloc[:,[2]].plot(lw=0, marker=\".\",layout=(-1,4),figsize=(14,6),markersize=3.5)\n"
   ]
  },
  {
   "cell_type": "code",
   "execution_count": null,
   "id": "464d455d-a5ec-466b-ad06-19aa86b4c572",
   "metadata": {},
   "outputs": [],
   "source": [
    "# Se obtiene la desviación estandar de las ventas por semana vta_semana\n",
    "std_des = wall_data.groupby('tienda')['vta_semana'].aggregate(['std','mean']).reset_index().sort_values(by = 'std', ascending=False)\n",
    "std_des[\"cv\"] = (std_des['std']/std_des['mean']) * 100\n",
    "top_5_std_des = std_des.head(5)"
   ]
  },
  {
   "cell_type": "code",
   "execution_count": null,
   "id": "1de2aea7-3994-4712-9642-9bfac8ff8c1e",
   "metadata": {
    "tags": []
   },
   "outputs": [],
   "source": [
    "top_5_std_des"
   ]
  },
  {
   "cell_type": "code",
   "execution_count": null,
   "id": "00b06b07-1912-453c-a7cc-705694d78b29",
   "metadata": {
    "tags": []
   },
   "outputs": [],
   "source": [
    "# wall_data[wall_data['tienda']==14].iloc[:,[2]]\n",
    "plt.figure(figsize=(10,8))\n",
    "sns.distplot(wall_data[wall_data['tienda']==14].iloc[:,[2]])\n",
    "plt.title('Distribución de ventas, tienda 14')\n",
    "plt.xlabel('Ventas [Dolares]')\n",
    "plt.show()"
   ]
  },
  {
   "cell_type": "code",
   "execution_count": null,
   "id": "2907aced-3a0e-45c3-9a9c-4581cf14093c",
   "metadata": {
    "tags": []
   },
   "outputs": [],
   "source": [
    "# std_des.sort_values(by='cv', ascending=False)\n",
    "# std_des.sort_values(by='cv') #<-37\n",
    "plt.figure(figsize=(10,8))\n",
    "sns.distplot(wall_data[wall_data['tienda']==37].iloc[:,[2]])\n",
    "plt.title('Distribución de ventas, tienda 37')\n",
    "plt.xlabel('Ventas [Dolares]')\n",
    "plt.show()"
   ]
  },
  {
   "cell_type": "markdown",
   "id": "bcabff82-a044-42b5-8717-e78e99979914",
   "metadata": {},
   "source": [
    "### Ventas por semanas de una tienda"
   ]
  },
  {
   "cell_type": "code",
   "execution_count": null,
   "id": "d413f7c9-7781-49e6-babb-1dd68346caf4",
   "metadata": {
    "tags": []
   },
   "outputs": [],
   "source": [
    "# Son 143 semanas\n",
    "# El registro de datos se compone por todos los ingresos de ventas en día viernes de 2010 al 2012\n",
    "# por cada tienda de forma ascendente\n",
    "# Para la tienda 1 febrero 2010 a octubre de 2012\n",
    "# Por ejemplo:\n",
    "# wall_data.iloc[0:143,:] # Corresponden a la tienda UNO\n",
    "\n",
    "# Para la tienda 1 febrero 2010 a octubre de 2012\n",
    "# wall_data.iloc[0:143,:]\n",
    "plt.figure(figsize=(16,10))\n",
    "plt.plot(wall_data.iloc[0:143,[2]],color='blue')\n",
    "plt.xlim(0,143)\n",
    "plt.xticks(range(0,143,5))\n",
    "plt.title(\"Tienda 1 Semanas:2010 - 2012\")\n",
    "plt.xlabel(\"Semanas\")\n",
    "plt.ylabel(\"Dolares\")\n",
    "plt.show()"
   ]
  },
  {
   "cell_type": "code",
   "execution_count": null,
   "id": "40f419aa-c91f-4bb1-8db8-7da9e35e3941",
   "metadata": {},
   "outputs": [],
   "source": [
    "wall_data.iloc[0:143,[2]]"
   ]
  },
  {
   "cell_type": "markdown",
   "id": "1a1ab5d0-43a1-4805-91b4-a0b6ce98d5b0",
   "metadata": {},
   "source": [
    "### Ventas por cada año"
   ]
  },
  {
   "cell_type": "markdown",
   "id": "fbac976b-5d93-4ddd-b1f9-71263e872c80",
   "metadata": {},
   "source": [
    "#### 2010"
   ]
  },
  {
   "cell_type": "code",
   "execution_count": null,
   "id": "dbc3f96f-a57a-4559-85b9-45b0f5566ec2",
   "metadata": {
    "tags": []
   },
   "outputs": [],
   "source": [
    "# Por año. 2010\n",
    "# data = wall_data.iloc[0:6435,[2]]\n",
    "vta_2010 = periodo_tiempo(wall_data,\"2010-02-05\",\"2010-12-31\")\n",
    "# vta_2010 = vta_2010.groupby(['fecha'])[['vta_semana']].sum().reset_index()\n",
    "vta_2010['año']= pd.DatetimeIndex(vta_2010['fecha']).year\n",
    "vta_2010['mes']=pd.DatetimeIndex(vta_2010['fecha']).month\n",
    "vta_2010['semana']=pd.DatetimeIndex(vta_2010['fecha']).week\n",
    "\n",
    "# vta_2010['mes'].strftime('%B') \n",
    "# ->AttributeError: 'Series' object has no attribute 'datetime'\n",
    "\n",
    "mes_str = {1:'enero',2:'febrero',3:'marzo',4:'abril',5:'mayo',6:'junio',\\\n",
    "           7:'julio',8:'agosto',9:'septiembre',10:'octubre',11:'noviembre',12:'diciembre'}\n",
    "vta_2010['mes'] = vta_2010['mes'].apply(lambda x: mes_str[x])\n",
    "# vta_2010\n",
    "vta_2010.groupby('mes').ngroups # para todo el periodo sería por año\n",
    "# vta_2010.groupby(['mes','tienda'])['vta_semana'].aggregate([sum,'mean']).iloc[0:46,:]\n",
    "vta_2010_mesual = vta_2010.groupby(['mes'])['vta_semana'].aggregate([sum,'mean']).sort_values(by='sum',ascending=False).reset_index()\n",
    "vta_2010_mesual"
   ]
  },
  {
   "cell_type": "markdown",
   "id": "12cc749e-2d08-401f-a22a-295193b6bb60",
   "metadata": {},
   "source": [
    "#### 2011"
   ]
  },
  {
   "cell_type": "code",
   "execution_count": null,
   "id": "3ace8d81-ae3a-46b8-9426-1f1e924b463a",
   "metadata": {
    "tags": []
   },
   "outputs": [],
   "source": [
    "# Por año. 2011\n",
    "# data = wall_data.iloc[0:6435,[2]]\n",
    "vta_2011 = periodo_tiempo(wall_data,\"2011-01-07\",\"2011-12-30\")\n",
    "# vta_2011 = vta_2011.groupby(['fecha'])[['vta_semana']].sum().reset_index()\n",
    "vta_2011['año']= pd.DatetimeIndex(vta_2011['fecha']).year\n",
    "vta_2011['mes']=pd.DatetimeIndex(vta_2011['fecha']).month\n",
    "vta_2011['semana']=pd.DatetimeIndex(vta_2011['fecha']).week\n",
    "# vta_2011['mes'].strftime('%B') \n",
    "# ->AttributeError: 'Series' object has no attribute 'datetime'\n",
    "mes_str = {1:'enero',2:'febrero',3:'marzo',4:'abril',5:'mayo',6:'junio',\\\n",
    "           7:'julio',8:'agosto',9:'septiembre',10:'octubre',11:'noviembre',12:'diciembre'}\n",
    "vta_2011['mes'] = vta_2011['mes'].apply(lambda x: mes_str[x])\n",
    "# vta_2011\n",
    "vta_2011.groupby('mes').ngroups # para todo el periodo sería por año\n",
    "# vta_2011.groupby(['mes','tienda'])['vta_semana'].aggregate([sum,'mean']).iloc[0:46,:]\n",
    "vta_2011_mesual = vta_2011.groupby(['mes'])['vta_semana'].aggregate([sum,'mean']).sort_values(by='sum',ascending=False).reset_index()\n",
    "vta_2011_mesual"
   ]
  },
  {
   "cell_type": "markdown",
   "id": "f9b82e18-bf40-4a41-a073-70b6e88dbfcd",
   "metadata": {},
   "source": [
    "#### 2012"
   ]
  },
  {
   "cell_type": "code",
   "execution_count": null,
   "id": "9073f22f-b22c-474a-8c1a-d51f086d1209",
   "metadata": {
    "tags": []
   },
   "outputs": [],
   "source": [
    "# Por año. 2012\n",
    "# data = wall_data.iloc[0:6435,[2]]\n",
    "vta_2012 = periodo_tiempo(wall_data,\"2012-01-06\",\"2012-10-26\")\n",
    "# vta_2012 = vta_2012.groupby(['fecha'])[['vta_semana']].sum().reset_index()\n",
    "vta_2012['año']= pd.DatetimeIndex(vta_2012['fecha']).year\n",
    "vta_2012['mes']=pd.DatetimeIndex(vta_2012['fecha']).month\n",
    "vta_2012['semana']=pd.DatetimeIndex(vta_2012['fecha']).week\n",
    "# vta_2012['mes'].strftime('%B') \n",
    "# ->AttributeError: 'Series' object has no attribute 'datetime'\n",
    "mes_str = {1:'enero',2:'febrero',3:'marzo',4:'abril',5:'mayo',6:'junio',\\\n",
    "           7:'julio',8:'agosto',9:'septiembre',10:'octubre',11:'noviembre',12:'diciembre'}\n",
    "vta_2012['mes'] = vta_2012['mes'].apply(lambda x: mes_str[x])\n",
    "# vta_2012\n",
    "vta_2012.groupby('mes').ngroups # para todo el periodo sería por año\n",
    "# vta_2012.groupby(['mes','tienda'])['vta_semana'].aggregate([sum,'mean']).iloc[0:46,:]\n",
    "vta_2012_mesual = vta_2012.groupby(['mes'])['vta_semana'].aggregate([sum,'mean']).sort_values(by='sum',ascending=False).reset_index()\n",
    "vta_2012_mesual"
   ]
  },
  {
   "cell_type": "markdown",
   "id": "41966dba-d075-4490-b627-6704199670c9",
   "metadata": {},
   "source": [
    "#### Gráficas de las ventas por cada año"
   ]
  },
  {
   "cell_type": "code",
   "execution_count": null,
   "id": "1a4f19a2-2e81-4ec1-b80d-7a7f4a60134b",
   "metadata": {
    "tags": []
   },
   "outputs": [],
   "source": [
    "# Grafica de ventas mensuales del 2010\n",
    "plt.figure(figsize=(12,8))\n",
    "plt.title('Ventas mensuales 2010')\n",
    "sns.barplot(x=vta_2010_mesual.iloc[:,0],y=vta_2010_mesual.iloc[:,1])\n",
    "plt.xlabel('mes')\n",
    "plt.ylabel('Ventas [Dolares]')\n",
    "plt.show()"
   ]
  },
  {
   "cell_type": "code",
   "execution_count": null,
   "id": "c2b3f1b0-9c92-4e5d-ac63-72be218aa3cb",
   "metadata": {
    "tags": []
   },
   "outputs": [],
   "source": [
    "# Grafica de ventas mensuales del 2011\n",
    "plt.figure(figsize=(12,8))\n",
    "plt.title('Ventas mensuales 2011')\n",
    "sns.barplot(x=vta_2011_mesual.iloc[:,0],y=vta_2011_mesual.iloc[:,1])\n",
    "plt.xlabel('mes')\n",
    "plt.ylabel('Ventas [Dolares]')\n",
    "plt.show()"
   ]
  },
  {
   "cell_type": "code",
   "execution_count": null,
   "id": "65c735d8-4e05-4cc9-a94d-941b7fa653b0",
   "metadata": {
    "tags": []
   },
   "outputs": [],
   "source": [
    "# Grafica de ventas mensuales del 2012\n",
    "plt.figure(figsize=(12,8))\n",
    "plt.title('Ventas mensuales 2012')\n",
    "sns.barplot(x=vta_2012_mesual.iloc[:,0],y=vta_2012_mesual.iloc[:,1])\n",
    "plt.xlabel('mes')\n",
    "plt.ylabel('Ventas [Dolares]')\n",
    "plt.show()"
   ]
  },
  {
   "cell_type": "markdown",
   "id": "169c1131-24cc-46c4-bc97-9bfa75ef352e",
   "metadata": {},
   "source": [
    "### Ventas de todo el periodo 2010-2012"
   ]
  },
  {
   "cell_type": "code",
   "execution_count": null,
   "id": "8263e240-3f2b-4cff-b9f8-45ba8c4576ed",
   "metadata": {},
   "outputs": [],
   "source": [
    "# Se crea un nuevo dataset (wall_data_2) que contega los agrupamientos de vta_2010\n",
    "# vta_2011,vta_2012\n",
    "wall_data_2 = pd.concat([vta_2010,vta_2011,vta_2012])\n",
    "wall_data_2['año'] = pd.DatetimeIndex(wall_data_2['fecha']).year\n",
    "wall_data_2['mes'] = pd.DatetimeIndex(wall_data_2['fecha']).month\n",
    "wall_data_2['semana'] = pd.DatetimeIndex(wall_data_2['fecha']).week\n",
    "wall_data_2['mes'] = wall_data_2['mes'].apply(lambda x: mes_str[x])\n",
    "\n",
    "# En las siguientes líneas se puede contar el número de grupos por año, agrupar por año el dataset\n",
    "# y despues obtener el grupo de cada año y guardarlo en cada variable\n",
    "# wall_data_2.groupby('año').ngroups #->3\n",
    "# vta_2010_2= wall_data_2.groupby('año').get_group(2010)\n",
    "\n",
    "vta_2010_2=wall_data_2[wall_data_2['año']==2010]\n",
    "vta_2011_2=wall_data_2[wall_data_2['año']==2011]\n",
    "vta_2012_2=wall_data_2[wall_data_2['año']==2012]\n",
    "\n",
    "# # vta_2010.groupby(['mes','tienda'])['vta_semana'].aggregate([sum,'mean']).iloc[0:46,:]\n",
    "# vta_2010_mesual = vta_2010.groupby(['mes'])['vta_semana'].aggregate([sum,'mean']).sort_values(by='sum',ascending=False).reset_index()\n",
    "# vta_2010_mesual"
   ]
  },
  {
   "cell_type": "markdown",
   "id": "ee5e4301-4d2b-4bb6-ac12-0e149d9a3c46",
   "metadata": {},
   "source": [
    "#### Ventas por semana de 2010"
   ]
  },
  {
   "cell_type": "code",
   "execution_count": null,
   "id": "f17bf50a-b22a-4502-9518-4352f4f0584f",
   "metadata": {
    "tags": []
   },
   "outputs": [],
   "source": [
    "vta_2010_semana = vta_2010_2.groupby('semana')[['vta_semana']].sum().reset_index()\n",
    "plt.figure(figsize=(28,8))\n",
    "\n",
    "ax = sns.barplot(x='semana', y='vta_semana',\n",
    "                 data=vta_2010_semana,\n",
    "                 errwidth=0)\n",
    "plt.title('Ventas semanales 2010')\n",
    "plt.xlabel('semana')\n",
    "plt.ylabel('Ventas [Dolares]')\n",
    "\n",
    "for index, row in vta_2010_semana.iterrows():\n",
    "    ax.text(row.name, row.semana, round((row.vta_semana/10000000), 2),\n",
    "            color='black', ha='center')\n",
    "\n",
    "# Días festivos\n",
    "# Super Bowl: 12-Feb-10, 11-Feb-11, 10-Feb-12, 8-Feb-13       1-Trimestre\n",
    "# Labour Day: 10-Sep-10, 9-Sep-11, 7-Sep-12, 6-Sep-13         3-Trimestre\n",
    "# Thanksgiving: 26-Nov-10, 25-Nov-11, 23-Nov-12, 29-Nov-13    4-Trimestre\n",
    "# Christmas: 31-Dec-10, 30-Dec-11, 28-Dec-12, 27-Dec-13       4-Trimestre"
   ]
  },
  {
   "cell_type": "markdown",
   "id": "dbda37f7-81a1-43e6-8ef9-cb7088df542b",
   "metadata": {},
   "source": [
    "#### Ventas por semana de 2011"
   ]
  },
  {
   "cell_type": "code",
   "execution_count": null,
   "id": "b78a2fce-22ef-4d5d-b688-605d61263377",
   "metadata": {
    "tags": []
   },
   "outputs": [],
   "source": [
    "vta_2011_semana = vta_2011_2.groupby('semana')[['vta_semana']].sum().reset_index()\n",
    "plt.figure(figsize=(28,8))\n",
    "\n",
    "ax = sns.barplot(x='semana', y='vta_semana',\n",
    "                 data=vta_2011_semana,\n",
    "                 errwidth=0)\n",
    "plt.title('Ventas semanales 2011')\n",
    "plt.xlabel('semana')\n",
    "plt.ylabel('Ventas [Dolares]')\n",
    "\n",
    "for index, row in vta_2011_semana.iterrows():\n",
    "    ax.text(row.name, row.semana, round((row.vta_semana/10000000), 2),\n",
    "            color='black', ha='center')\n",
    "# Días festivos\n",
    "# Super Bowl: 12-Feb-10, 11-Feb-11, 10-Feb-12, 8-Feb-13       1-Trimestre\n",
    "# Labour Day: 10-Sep-10, 9-Sep-11, 7-Sep-12, 6-Sep-13         3-Trimestre\n",
    "# Thanksgiving: 26-Nov-10, 25-Nov-11, 23-Nov-12, 29-Nov-13    4-Trimestre\n",
    "# Christmas: 31-Dec-10, 30-Dec-11, 28-Dec-12, 27-Dec-13       4-Trimestre"
   ]
  },
  {
   "cell_type": "markdown",
   "id": "c643ffcc-418b-407a-951d-94c4e77b14fc",
   "metadata": {},
   "source": [
    "#### Ventas por semana de 2012"
   ]
  },
  {
   "cell_type": "code",
   "execution_count": null,
   "id": "0e9b6b0a-98fb-412d-96ed-339a2c4e5669",
   "metadata": {
    "tags": []
   },
   "outputs": [],
   "source": [
    "vta_2012_semana = vta_2012_2.groupby('semana')[['vta_semana']].sum().reset_index()\n",
    "plt.figure(figsize=(28,8))\n",
    "\n",
    "ax = sns.barplot(x='semana', y='vta_semana',\n",
    "                 data=vta_2012_semana,\n",
    "                 errwidth=0)\n",
    "plt.title('Ventas semanales 2012')\n",
    "plt.xlabel('semana')\n",
    "plt.ylabel('Ventas [Dolares]')\n",
    "\n",
    "for index, row in vta_2012_semana.iterrows():\n",
    "    ax.text(row.name, row.semana, round((row.vta_semana/10000000), 2),\n",
    "            color='black', ha='center')\n",
    "# Días festivos\n",
    "# Super Bowl: 12-Feb-10, 11-Feb-11, 10-Feb-12, 8-Feb-13       1-Trimestre\n",
    "# Labour Day: 10-Sep-10, 9-Sep-11, 7-Sep-12, 6-Sep-13         3-Trimestre\n",
    "# Thanksgiving: 26-Nov-10, 25-Nov-11, 23-Nov-12, 29-Nov-13    4-Trimestre\n",
    "# Christmas: 31-Dec-10, 30-Dec-11, 28-Dec-12, 27-Dec-13       4-Trimestre"
   ]
  },
  {
   "cell_type": "markdown",
   "id": "7bdd5e6a-64e3-4a71-a15b-67d0a28617ac",
   "metadata": {
    "tags": []
   },
   "source": [
    "### Trimestres / Quartiles de año"
   ]
  },
  {
   "cell_type": "code",
   "execution_count": null,
   "id": "e1148b83-d667-49d2-a77e-cb0eb68f8ef5",
   "metadata": {},
   "outputs": [],
   "source": [
    "# Se crea una columna pivote (trimestre) para categorizar cad trimestre segun el mes\n",
    "vta_2012_2['trimestre']='t'\n",
    "# -----------------TODO-------------\n",
    "# SI NO SE POPNE STR CON REPLACE PARA TEXTOS\n",
    "vta_2012_2['trimestre'] = vta_2012_2['trimestre'][(vta_2012_2['mes'] == 'enero') | (vta_2012_2['mes']=='febrero')|(vta_2012_2['mes']=='marzo')].str.replace('t','t1')\n",
    "# vta_2012_2['trimestre'] = vta_2012_2['trimestre'][(vta_2012_2['mes'] == 'abril') | (vta_2012_2['mes']=='mayo')|(vta_2012_2['mes']=='junio')].replace('t','t2')\n",
    "# el metodo replace sólo funciona en series o en sustituyendo todo los NaN en todo el dataframe, por eso sustituyo directamente en la columna trimestre el valor\n",
    "# que necesito con base a la igualdad de la columna mes que cumpla con los meses.\n",
    "vta_2012_2['trimestre'][(vta_2012_2['mes'] == 'abril') | (vta_2012_2['mes']=='mayo')|(vta_2012_2['mes']=='junio')] = 't2'\n",
    "vta_2012_2['trimestre'][(vta_2012_2['mes'] == 'julio') | (vta_2012_2['mes']=='agosto')|(vta_2012_2['mes']=='septiembre')] = 't3'\n",
    "vta_2012_2['trimestre'][(vta_2012_2['mes'] == 'octubre') | (vta_2012_2['mes']=='noviembre')|(vta_2012_2['mes']=='diciembre')] = 't4'\n",
    "\n",
    "vta_2012_2\n",
    "# ------------------------------------------------------------------------------ #\n",
    "# for i in vta_2012_2['mes']:\n",
    "#     if i in ['enero','febrero','marzo']:\n",
    "#         vta_2012_2['trimestre'][vta_2012_2[vta_2012_2['mes']==i].index]='t1'\n",
    "#     elif i in ['abril','mayo','junio']:\n",
    "#         vta_2012_2['trimestre'][vta_2012_2[vta_2012_2['mes']==i].index]='t2'\n",
    "#     elif i in ['julio','agosto','septiembre']:\n",
    "#         vta_2012_2['trimestre'][vta_2012_2[vta_2012_2['mes']==i].index]='t3'\n",
    "#     elif i in ['octubre','noviembre','diciembre']:\n",
    "#         vta_2012_2['trimestre'][vta_2012_2[vta_2012_2['mes']==i].index]='t4'\n",
    "# vta_2012_2['mes']\n",
    "# vta_2012_2[vta_2012_2['mes']==i].index\n",
    "# vta_2012_2['mes'][vta_2012_2[vta_2012_2['mes']==i].index]\n",
    "# ------------------------------------------------------------------------------ #"
   ]
  },
  {
   "cell_type": "code",
   "execution_count": null,
   "id": "9f7c7964-0dab-4364-bbdc-a26ec6ecd4f8",
   "metadata": {},
   "outputs": [],
   "source": [
    "# TODO PROBAR CON CARACTER VACIO\n",
    "# Se utilia el criterio de la celda anterior pero ya no es necesario usr el replace\n",
    "vta_2011_2['trimestre']='t'\n",
    "vta_2011_2['trimestre'][(vta_2011_2['mes'] == 'enero') | (vta_2011_2['mes']=='febrero')|(vta_2011_2['mes']=='marzo')] = 't1'\n",
    "vta_2011_2['trimestre'][(vta_2011_2['mes'] == 'abril') | (vta_2011_2['mes']=='mayo')|(vta_2011_2['mes']=='junio')] = 't2'\n",
    "vta_2011_2['trimestre'][(vta_2011_2['mes'] == 'julio') | (vta_2011_2['mes']=='agosto')|(vta_2011_2['mes']=='septiembre')] = 't3'\n",
    "vta_2011_2['trimestre'][(vta_2011_2['mes'] == 'octubre') | (vta_2011_2['mes']=='noviembre')|(vta_2011_2['mes']=='diciembre')] = 't4'\n",
    "\n",
    "vta_2011_2\n"
   ]
  },
  {
   "cell_type": "code",
   "execution_count": null,
   "id": "1017417e-998b-4981-8daf-aa42d944611a",
   "metadata": {},
   "outputs": [],
   "source": [
    "      \n",
    "vta_2010_2['trimestre']='t'\n",
    "vta_2010_2['trimestre'][(vta_2010_2['mes'] == 'enero') | (vta_2010_2['mes']=='febrero')|(vta_2010_2['mes']=='marzo')] = 't1'\n",
    "vta_2010_2['trimestre'][(vta_2010_2['mes'] == 'abril') | (vta_2010_2['mes']=='mayo')|(vta_2010_2['mes']=='junio')] = 't2'\n",
    "vta_2010_2['trimestre'][(vta_2010_2['mes'] == 'julio') | (vta_2010_2['mes']=='agosto')|(vta_2010_2['mes']=='septiembre')] = 't3'\n",
    "vta_2010_2['trimestre'][(vta_2010_2['mes'] == 'octubre') | (vta_2010_2['mes']=='noviembre')|(vta_2010_2['mes']=='diciembre')] = 't4'\n",
    "\n",
    "vta_2011_2\n"
   ]
  },
  {
   "cell_type": "code",
   "execution_count": null,
   "id": "c75a902a-d919-4e4f-b35a-488218faa86d",
   "metadata": {},
   "outputs": [],
   "source": [
    "vta_2010_2"
   ]
  },
  {
   "cell_type": "markdown",
   "id": "161b2e29-9411-47b6-9107-d1cf357e7d49",
   "metadata": {},
   "source": [
    "### Ventas por trimestres"
   ]
  },
  {
   "cell_type": "markdown",
   "id": "364d1386-1ae2-498d-bb25-44dd77f9b54d",
   "metadata": {},
   "source": [
    "#### 2010"
   ]
  },
  {
   "cell_type": "code",
   "execution_count": null,
   "id": "5fe07ee9-b923-49c2-8a9e-f8ccff392875",
   "metadata": {
    "tags": []
   },
   "outputs": [],
   "source": [
    "vta_2010_trim = vta_2010_2.groupby('trimestre')[['vta_semana']].sum().reset_index()\n",
    "plt.figure(figsize=(12,8))\n",
    "plt.title('Ventas trimestrales 2010')\n",
    "sns.barplot(x='trimestre',y='vta_semana',data=vta_2010_trim)\n",
    "plt.xlabel('trimestre')\n",
    "plt.ylabel('Ventas [Dolares]')\n",
    "plt.show()"
   ]
  },
  {
   "cell_type": "markdown",
   "id": "51b6e048-aa38-4240-8779-46e2cd5a4252",
   "metadata": {},
   "source": [
    "#### 2011"
   ]
  },
  {
   "cell_type": "code",
   "execution_count": null,
   "id": "151827d5-7a6a-49d2-a796-65559c072503",
   "metadata": {
    "tags": []
   },
   "outputs": [],
   "source": [
    "vta_2011_tri=vta_2011_2.groupby('trimestre')[['vta_semana']].sum().reset_index()\n",
    "plt.figure(figsize=(12,8))\n",
    "plt.title('Ventas trimestrales 2011')\n",
    "sns.barplot(x='trimestre',y='vta_semana',data=vta_2011_tri)\n",
    "plt.xlabel('trimestre')\n",
    "plt.ylabel('Ventas [Dolares]')\n",
    "plt.show()"
   ]
  },
  {
   "cell_type": "markdown",
   "id": "788e397d-de62-4090-aed7-c8fbaeac4aaa",
   "metadata": {},
   "source": [
    "#### 2012"
   ]
  },
  {
   "cell_type": "code",
   "execution_count": null,
   "id": "f446251a-a69f-45f8-aa38-1d29693a6b58",
   "metadata": {},
   "outputs": [],
   "source": [
    "vta_2012_tri=vta_2012_2.groupby('trimestre')[['vta_semana']].sum().reset_index()\n",
    "plt.figure(figsize=(12,8))\n",
    "plt.title('Ventas trimestrales 2012')\n",
    "sns.barplot(x='trimestre',y='vta_semana',data=vta_2012_tri)\n",
    "plt.xlabel('trimestre')\n",
    "plt.ylabel('Ventas [Dolares]')\n",
    "plt.show()"
   ]
  },
  {
   "cell_type": "markdown",
   "id": "ead98f21-6092-4646-98bf-3521c67e6553",
   "metadata": {},
   "source": [
    "#### Análisis anual"
   ]
  },
  {
   "cell_type": "code",
   "execution_count": null,
   "id": "e0e69d2d-24bc-4b1c-ad36-793ac5db7e0b",
   "metadata": {},
   "outputs": [],
   "source": [
    "vta_anual = wall_data_2.groupby('año')[['vta_semana']].sum().reset_index()\n",
    "# vta_anual\n",
    "plt.figure(figsize=(12,8))\n",
    "plt.title('Ventas anuales 2010 - 2012')\n",
    "sns.barplot(x='año',y='vta_semana',data=vta_anual)\n",
    "plt.xlabel('año')\n",
    "plt.ylabel('Ventas [Dolares]')\n",
    "plt.show()"
   ]
  },
  {
   "cell_type": "markdown",
   "id": "7b232c40-f3b7-4d5f-8501-dde830359d1e",
   "metadata": {},
   "source": [
    "### Análisis de los trimestres de 2012"
   ]
  },
  {
   "cell_type": "markdown",
   "id": "5f8a330d-a390-44f0-b99e-afb89c82ece0",
   "metadata": {},
   "source": [
    "#### Tercer trimestre"
   ]
  },
  {
   "cell_type": "code",
   "execution_count": null,
   "id": "831246ae-2125-4c3b-99b5-c5f9da33561a",
   "metadata": {},
   "outputs": [],
   "source": [
    "# vta_2012_2 # \n",
    "# periodo_tiempo(vta_2012_2,\"2012-07-06\",\"2012-09-28\").groupby('tienda')['vta_semana'].sum()\n",
    "# t2_2012 = vta_2012_2.groupby('trimestre').get_group('t2').groupby('tienda')[['vta_semana']].sum().reset_index()\n",
    "# Con reset_index() las observaciones empiezan en cero y para graficar amabs gráficas necesitamos que empiece\n",
    "# por el número de tienda\n",
    "t2_2012 = vta_2012_2.groupby('trimestre').get_group('t2').groupby('tienda')[['vta_semana']].sum()\n",
    "t3_2012 = vta_2012_2.groupby('trimestre').get_group('t3').groupby('tienda')[['vta_semana']].sum()"
   ]
  },
  {
   "cell_type": "code",
   "execution_count": null,
   "id": "806b723d-f825-478b-9efa-3193da05eb2a",
   "metadata": {},
   "outputs": [],
   "source": [
    "# Tiendas con diferencia negativa en sus vetas entre el trimestre 2 y 3:\n",
    "# round(t3_2012.groupby('tienda').get_group(1).iloc[0,0]-t2_2012.groupby('tienda').get_group(1).iloc[0,0],2) #<- -724,812.34\n",
    "# round(t3_2012.groupby('tienda').get_group(4).iloc[0,0]-t2_2012.groupby('tienda').get_group(4).iloc[0,0],2) #<- -657,571.21\n",
    "# round(t3_2012.groupby('tienda').get_group(14).iloc[0,0]-t2_2012.groupby('tienda').get_group(14).iloc[0,0],2) #<- -3,967,974.76\n",
    "\n",
    "# Tiendas con diferencia positiva en sus vetas entre el trimestre 2 y 3:\n",
    "# round(t3_2012.groupby('tienda').get_group(7).iloc[0,0]-t2_2012.groupby('tienda').get_group(7).iloc[0,0],2) #<- 971,928.12\n",
    "# round(t3_2012.groupby('tienda').get_group(26).iloc[0,0]-t2_2012.groupby('tienda').get_group(26).iloc[0,0],2) #<- 520,356.34\n",
    "round(t3_2012.groupby('tienda').get_group(39).iloc[0,0]-t2_2012.groupby('tienda').get_group(39).iloc[0,0],2) #<- 500987.77"
   ]
  },
  {
   "cell_type": "code",
   "execution_count": null,
   "id": "96b9c9c9-827b-4680-b117-5a0060f659e5",
   "metadata": {
    "tags": []
   },
   "outputs": [],
   "source": [
    "plt.rcParams[\"figure.figsize\"] = (18,8)\n",
    "t2_2012.plot(ax = t3_2012.plot(kind='bar',legend=True), kind='bar',color='c',alpha=0.4, legend=True);\n",
    "plt.legend(['t3-2012','t2-2012']);\n",
    "plt.show()"
   ]
  },
  {
   "cell_type": "code",
   "execution_count": null,
   "id": "571823d1-1d24-4201-9aee-e88bb9266aec",
   "metadata": {},
   "outputs": [],
   "source": [
    "t2_2012_2 = vta_2012_2.groupby('trimestre').get_group('t2').groupby('tienda')[['vta_semana']].sum().reset_index()\n",
    "t3_2012_2 = vta_2012_2.groupby('trimestre').get_group('t3').groupby('tienda')[['vta_semana']].sum().reset_index()\n",
    "t2_2012_2.columns = ['tienda','vta_semana_t2']\n",
    "t3_2012_2.columns = ['tienda','vta_semana_t3']"
   ]
  },
  {
   "cell_type": "code",
   "execution_count": null,
   "id": "c8197df3-1878-4cff-8f00-d3c2bfb7f59f",
   "metadata": {},
   "outputs": [],
   "source": [
    "trimestres_2_3_2012 = pd.concat([t2_2012_2,t3_2012_2],axis=1)\n",
    "trimestres_2_3_2012 = trimestres_2_3_2012.iloc[:,[0,1,3]]\n",
    "trimestres_2_3_2012['diferencia'] = trimestres_2_3_2012['vta_semana_t3']-trimestres_2_3_2012['vta_semana_t2']\n",
    "trimestres_2_3_2012['tasa_crecimiento'] = ((trimestres_2_3_2012['vta_semana_t3']-trimestres_2_3_2012['vta_semana_t2'])/trimestres_2_3_2012['vta_semana_t3'])*100\n",
    "# trimestres_2_3_2012"
   ]
  },
  {
   "cell_type": "code",
   "execution_count": null,
   "id": "f6c1edd4-63a8-4198-ad9f-5839a8594127",
   "metadata": {},
   "outputs": [],
   "source": [
    "trimestres_2_3_2012.sort_values(by ='diferencia', ascending= False).head(5)\n",
    "# La tienda con un mayor crecimiento entre el trimestre 2 y 3 es la 7"
   ]
  },
  {
   "cell_type": "code",
   "execution_count": null,
   "id": "a9493502-0a15-45ea-9432-02f591e31e9d",
   "metadata": {},
   "outputs": [],
   "source": [
    "# trimestres_2_3_2012.sort_values(by ='vta_semana_t3', ascending= False)\n",
    "# trimestres_2_3_2012.sort_values(by ='diferencia', ascending= False)[trimestres_2_3_2012['tienda']==4]\n",
    "print(trimestres_2_3_2012.sort_values(by ='diferencia', ascending= False)[trimestres_2_3_2012['tienda']==4])\n",
    "# La tienda con mayor crecimiento en el trimestre  3 es la 4 pero \n",
    "# tuvo una diferencia negativa en sus ganancias respecto al segundot trimestre."
   ]
  },
  {
   "cell_type": "code",
   "execution_count": null,
   "id": "d90d5f06-0008-42ea-8d56-466f31c84f94",
   "metadata": {},
   "outputs": [],
   "source": [
    "trimestres_2_3_2012.sort_values(by ='vta_semana_t3', ascending= False).head(8)\n",
    "print(trimestres_2_3_2012.sort_values(by ='vta_semana_t3', ascending= False)[trimestres_2_3_2012['tienda']==39])\n",
    "# La tienda 39 tuvo mejores ventas en el tercer trimestre del 2012 y\n",
    "# sus ganancias son positivas respecto al segundo trimestre"
   ]
  },
  {
   "cell_type": "markdown",
   "id": "78eb86e8-44e3-4c28-bbcd-519f945986d1",
   "metadata": {},
   "source": [
    "### Análisis por temporadas"
   ]
  },
  {
   "cell_type": "code",
   "execution_count": null,
   "id": "16095239-3853-42ed-b817-0eb8254d2c10",
   "metadata": {},
   "outputs": [],
   "source": [
    "\n",
    "# Super Bowl: 12-Feb-10, 11-Feb-11, 10-Feb-12      1-Trimestre\n",
    "# Labour Day: 10-Sep-10, 9-Sep-11, 7-Sep-12        3-Trimestre\n",
    "# Thanksgiving: 26-Nov-10, 25-Nov-11, 23-Nov-12    4-Trimestre\n",
    "# Christmas: 31-Dec-10, 30-Dec-11, 28-Dec-12       4-Trimestre"
   ]
  },
  {
   "cell_type": "code",
   "execution_count": null,
   "id": "f6460e9e-8f74-4ea0-a99e-d3dab2c56181",
   "metadata": {},
   "outputs": [],
   "source": [
    "# Se genera una variable con el contenido del dataset wall_data2 y se agrega la columna dia\n",
    "wall_data_3 = wall_data_2\n",
    "wall_data_3['dia'] =pd.DatetimeIndex(wall_data_3['fecha']).day\n",
    "# Se crean variables con los valores del dataset correspondientes a los días festivos\n",
    "# Días festivos\n",
    "# wall_data_3[((wall_data_3['dia'] == 12 )|(wall_data_3['dia'] == 11 )|(wall_data_3['dia'] == 10)|(wall_data_3['dia'] == 8)) & (wall_data_3['mes']=='febrero')]\n",
    "# wall_data_3[(wall_data_3['fecha']=='2010-02-12')|(wall_data_3['fecha']=='2011-02-11')|(wall_data_3['fecha']=='2012-02-10')]\n",
    "# sb = ['2010-02-12','2011-02-11','2012-02-10']\n",
    "# wall_data_3.loc[wall_data_3.fecha.isin(sb)]\n",
    "spbowl = wall_data_3[(wall_data_3['fecha']=='2010-02-12')|(wall_data_3['fecha']=='2011-02-11')|(wall_data_3['fecha']=='2012-02-10')]\n",
    "lab_day = wall_data_3[(wall_data_3['fecha']=='2010-09-10')|(wall_data_3['fecha']=='2011-09-09')|(wall_data_3['fecha']=='2012-09-07')]\n",
    "tkg_day = wall_data_3[(wall_data_3['fecha']=='2010-11-26')|(wall_data_3['fecha']=='2011-11-25')|(wall_data_3['fecha']=='2012-11-23')]\n",
    "chris_day = wall_data_3[(wall_data_3['fecha']=='2010-12-31')|(wall_data_3['fecha']=='2011-12-30')|(wall_data_3['fecha']=='2012-12-28')]\n"
   ]
  },
  {
   "cell_type": "code",
   "execution_count": null,
   "id": "036ad2ac-0b67-4a89-b689-5aaf2441526c",
   "metadata": {},
   "outputs": [],
   "source": [
    "# Se genera una variable que contienen el grupo de días feriados y calcula su total y promedio\n",
    "spbowl_tot_mean = spbowl.groupby('feriado')['vta_semana'].aggregate([sum,'mean']).reset_index()\n",
    "spbowl_tot_mean.columns=['feriado','total','promedio']\n",
    "lab_day_tot_mean = lab_day.groupby('feriado')['vta_semana'].aggregate([sum,'mean']).reset_index()\n",
    "lab_day_tot_mean.columns=['feriado','total','promedio']\n",
    "tkg_day_tot_mean = tkg_day.groupby('feriado')['vta_semana'].aggregate([sum,'mean']).reset_index()\n",
    "tkg_day_tot_mean.columns=['feriado','total','promedio']\n",
    "chris_day_tot_mean = chris_day.groupby('feriado')['vta_semana'].aggregate([sum,'mean']).reset_index()\n",
    "chris_day_tot_mean.columns=['feriado','total','promedio']"
   ]
  },
  {
   "cell_type": "code",
   "execution_count": null,
   "id": "7560dd3a-4563-4ab7-9399-fcf4be28971d",
   "metadata": {},
   "outputs": [],
   "source": [
    "# Se genera un dataframe con la suma y promedio del registro de ventas de los días festivos \n",
    "dias_feriados = pd.concat([spbowl_tot_mean,lab_day_tot_mean,tkg_day_tot_mean,chris_day_tot_mean], axis = 0, ignore_index=True)\n",
    "dias_feriados['feriado']=['spbowl','lab_day','tkg_day','chris_day']\n",
    "dias_feriados.sort_values(by = 'promedio', ascending = False)\n",
    "# El día de acción de gracias tiene el mayor valor promedio de ventas registradas pero \n",
    "# el superball tiene el total de ventas más grande en el periodo febrero 2010 - octubre 2012 \n",
    "# Tomar en cuenta que el día de acción de gracias y navidad no tiene registros para el 2012."
   ]
  },
  {
   "cell_type": "code",
   "execution_count": null,
   "id": "77d13115-02fc-4ddf-a5fe-af97133dde32",
   "metadata": {},
   "outputs": [],
   "source": [
    "# wall_data_3.groupby('feriado')[['vta_semana']].get_group(0).mean()\n",
    "dias_no_feriados=wall_data_3[wall_data_3['feriado']==0].groupby('feriado')[['vta_semana']].mean().reset_index()\n",
    "dias_no_feriados['feriado'] = 'no_feriado'\n",
    "dias_no_feriados\n",
    "# Los días feriados con ventas promedio que superan el promedio de ventas de dias no feriados\n",
    "# son acción de gracias,superbowl, y día del trabajo. Seguramente navidad no lo supero porque\n",
    "# hace falta el registro de noviembre y diciembre de 2012"
   ]
  },
  {
   "cell_type": "markdown",
   "id": "46e52892-dea2-446b-aad2-c4cdeaafa773",
   "metadata": {},
   "source": [
    "#### Análisis de día feriado por año"
   ]
  },
  {
   "cell_type": "code",
   "execution_count": null,
   "id": "9908adb6-8fa4-4282-bd2d-e353322bf71a",
   "metadata": {},
   "outputs": [],
   "source": [
    "# Se crean una variable que contenga las fechas de los días festivos\n",
    "sb = ['2010-02-12','2011-02-11','2012-02-10']\n",
    "lab = ['2010-09-10','2011-09-09','2012-09-07']\n",
    "tkg = ['2010-11-26','2011-11-25','2012-11-23']\n",
    "chris = ['2010-12-31','2011-12-30','2012-12-28']\n",
    "\n",
    "# Se define una variable con el conjunto de datos de los días festivos\n",
    "vta_anual_spbowl = wall_data_3.loc[wall_data_3.fecha.isin(sb)]\n",
    "vta_anual_lab = wall_data_3.loc[wall_data_3.fecha.isin(lab)]\n",
    "vta_anual_tkg = wall_data_3.loc[wall_data_3.fecha.isin(tkg)]\n",
    "vta_anual_chris = wall_data_3.loc[wall_data_3.fecha.isin(chris)]\n",
    "\n",
    "# Se sobreescribe el valor de las variables anteriores con el agrupamiento del total\n",
    "# de vetntas por semana\n",
    "vta_anual_spbowl = vta_anual_spbowl.groupby('año')[['vta_semana']].sum().reset_index()\n",
    "vta_anual_lab = vta_anual_lab.groupby('año')[['vta_semana']].sum().reset_index()\n",
    "vta_anual_tkg = vta_anual_tkg.groupby('año')[['vta_semana']].sum().reset_index()\n",
    "vta_anual_chris = vta_anual_chris.groupby('año')[['vta_semana']].sum().reset_index()\n"
   ]
  },
  {
   "cell_type": "code",
   "execution_count": null,
   "id": "b4d30534-ac36-4d99-a25c-cc1f5d276212",
   "metadata": {},
   "outputs": [],
   "source": [
    "# plt.figure(figsize=(8,5))\n",
    "# plt.title('Ventas anuales Super Bowl')\n",
    "# sns.barplot(x='año',y='vta_semana',data=vta_anual_spbowl)\n",
    "# plt.xlabel('año')\n",
    "# plt.ylabel('Ventas [Dolares]')\n",
    "# plt.show()\n",
    "\n",
    "fig, ((ax,bx),(cx,dx))= plt.subplots(2,2,figsize=(10,8))\n",
    "# colors = ['#4F6272', '#0E86D4', '#055C9D']\n",
    "ax.bar(['2010','2011','2012'],vta_anual_spbowl.vta_semana,color = ['#4F6272', '#0E86D4', '#055C9D'])\n",
    "ax.set_title('Ventas anuales Super Bowl')\n",
    "bx.bar(['2010','2011','2012'],vta_anual_lab.vta_semana,color = ['#4F6272', '#0E86D4', '#055C9D'])\n",
    "bx.set_title('Ventas anuales día del trabajo')\n",
    "cx.bar(['2010','2011'],vta_anual_tkg.vta_semana,color = ['#4F6272', '#0E86D4'])\n",
    "cx.set_title('Ventas anuales día de gracias')\n",
    "dx.bar(['2010','2011'],vta_anual_chris.vta_semana,color = ['#4F6272', '#0E86D4'])\n",
    "dx.set_title('Ventas anuales Navidad')\n",
    "plt.tight_layout()\n",
    "plt.show()"
   ]
  },
  {
   "cell_type": "markdown",
   "id": "9209370e-9139-4f48-ace3-15ef44184e70",
   "metadata": {},
   "source": [
    "## Venta Mensual"
   ]
  },
  {
   "cell_type": "code",
   "execution_count": null,
   "id": "70c25f5d-10a3-4a8b-8f1c-4d0b50586ce5",
   "metadata": {},
   "outputs": [],
   "source": [
    "vta_mensual_10_12 = wall_data_2.groupby('mes')['vta_semana'].aggregate([sum,'mean']).reset_index().sort_values(by='sum',ascending=False)\n",
    "vta_mensual_10_12"
   ]
  },
  {
   "cell_type": "code",
   "execution_count": null,
   "id": "24768579-2c12-458b-a022-a62d0413c170",
   "metadata": {},
   "outputs": [],
   "source": [
    "wall_data_4 = wall_data_3\n",
    "wall_data_4['num_mes']= pd.DatetimeIndex(wall_data_4['fecha']).month\n",
    "promedio_vta_mensual_10_12 = wall_data_4.groupby('mes')[['vta_semana','num_mes']].mean().sort_values(by='num_mes').reset_index()\n",
    "total_vta_mensual_10_12 = wall_data_4.groupby('num_mes')[['vta_semana']].sum().sort_values(by='num_mes').reset_index()"
   ]
  },
  {
   "cell_type": "code",
   "execution_count": null,
   "id": "b93eecc5-f8ab-4cb1-a270-4a8fb49d6098",
   "metadata": {},
   "outputs": [],
   "source": [
    "# plt.figure(figsize=(16,10))\n",
    "# plt.plot('mes','vta_semana',data=wall_Data_4,color='blue')\n",
    "# plt.plot('mes','vta_semana',data=total_vta_mensual_10_12,color='red')\n",
    "# plt.title(\"Promedio de ventas mensuales en el periodo:2010 - 2012\")\n",
    "# plt.xlabel(\"mes\")\n",
    "# plt.ylabel(\"Dolares\")\n",
    "# plt.show()\n",
    "\n",
    "# fig, ax = plt.subplots()\n",
    "# ax.plot('mes','vta_semana',data=wall_Data_4,color='blue')\n",
    "# ax.plot('mes','vta_semana',data=total_vta_mensual_10_12,color='red')\n",
    "# plt.title(\"Promedio de ventas mensuales en el periodo:2010 - 2012\")\n",
    "# plt.xlabel(\"mes\")\n",
    "# plt.ylabel(\"Dolares\")\n",
    "# plt.show()\n",
    "\n",
    "fig, (ax,bx)= plt.subplots(2,1,figsize=(12,8))\n",
    "ax.plot('mes','vta_semana',data=promedio_vta_mensual_10_12, color= '#F51720')\n",
    "ax.set_title('Ventas promedio')\n",
    "bx.plot(promedio_vta_mensual_10_12.mes,'vta_semana',data=total_vta_mensual_10_12, color = '#F8D210')\n",
    "bx.set_title('Ventas totales')\n",
    "plt.tight_layout()\n",
    "plt.show()"
   ]
  },
  {
   "cell_type": "code",
   "execution_count": null,
   "id": "da80b11e-6a8c-4a18-9974-7e8563a897d6",
   "metadata": {},
   "outputs": [],
   "source": [
    "# promedio_vta_mensual_10_12_2 = wall_data_4.groupby(['mes','año'])[['vta_semana','num_mes']].mean().sort_values(by=['año','num_mes']).reset_index()\n",
    "\n",
    "dt.to_period('M')\n",
    "\n",
    "# promedio_vta_mensual_10_12_2['año_mes'] = promedio_vta_mensual_10_12_2.año.str.cat(promedio_vta_mensual_10_12_2.mes,sep='-')\n",
    "# promedio_vta_mensual_10_12_2\n",
    "# users['full_name'] = users.first_name.str.cat(users.last_name, sep=' ')\n",
    "# users\n",
    "# plt.figure(figsize=(16,10))\n",
    "# plt.plot('año', 'vta_semana', data =promedio_vta_mensual_10_12_2,color='blue')\n",
    "# plt.xlim(0,143)\n",
    "# plt.xticks(range(0,143,5))\n",
    "# plt.title(\"Meses:2010 - 2012\")\n",
    "# plt.xlabel(\"Meses\")\n",
    "# plt.ylabel(\"Ventas promedio\")\n",
    "# plt.show("
   ]
  }
 ],
 "metadata": {
  "kernelspec": {
   "display_name": "Python 3 (ipykernel)",
   "language": "python",
   "name": "python3"
  },
  "language_info": {
   "codemirror_mode": {
    "name": "ipython",
    "version": 3
   },
   "file_extension": ".py",
   "mimetype": "text/x-python",
   "name": "python",
   "nbconvert_exporter": "python",
   "pygments_lexer": "ipython3",
   "version": "3.8.8"
  }
 },
 "nbformat": 4,
 "nbformat_minor": 5
}

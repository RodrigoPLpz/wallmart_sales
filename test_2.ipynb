{
 "cells": [
  {
   "cell_type": "code",
   "execution_count": null,
   "id": "b3fc75c9-f6f9-4477-a418-798bbec2655d",
   "metadata": {},
   "outputs": [],
   "source": [
    "# wall_data.head(143)\n",
    "# wall_data[(wall_data['vta_semana']>=1400000)&(wall_data['vta_semana']<=1800000)]\n",
    "# wall_data.groupby(['tienda','vta_semana'])['vta_semana'].count()\n",
    "wall_data.iloc[0:143,:]"
   ]
  }
 ],
 "metadata": {
  "kernelspec": {
   "display_name": "Python 3 (ipykernel)",
   "language": "python",
   "name": "python3"
  },
  "language_info": {
   "codemirror_mode": {
    "name": "ipython",
    "version": 3
   },
   "file_extension": ".py",
   "mimetype": "text/x-python",
   "name": "python",
   "nbconvert_exporter": "python",
   "pygments_lexer": "ipython3",
   "version": "3.8.8"
  }
 },
 "nbformat": 4,
 "nbformat_minor": 5
}

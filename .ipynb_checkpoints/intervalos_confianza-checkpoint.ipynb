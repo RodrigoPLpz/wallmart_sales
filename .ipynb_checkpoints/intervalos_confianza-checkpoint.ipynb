{
 "cells": [
  {
   "cell_type": "markdown",
   "id": "905e7b02-0578-41cc-beb1-ec836e4f06aa",
   "metadata": {},
   "source": [
    "# Instancia de librarias"
   ]
  },
  {
   "cell_type": "code",
   "execution_count": 26,
   "id": "6670a4b6-9d76-445e-9c82-6ff82f4320d6",
   "metadata": {},
   "outputs": [
    {
     "name": "stdout",
     "output_type": "stream",
     "text": [
      "Setup complete\n"
     ]
    }
   ],
   "source": [
    "import pandas as pd\n",
    "import numpy as np\n",
    "\n",
    "# Paquetería para trabajar con fechas\n",
    "from datetime import datetime\n",
    "\n",
    "import warnings\n",
    "# Suprimir advertencias de python\n",
    "warnings.filterwarnings('ignore')\n",
    "\n",
    "# Formato de visualización por centenas\n",
    "pd.options.display.float_format = '{:,.2f}'.format\n",
    "\n",
    "# Construcción de elementos gráficos\n",
    "pd.plotting.register_matplotlib_converters()\n",
    "import matplotlib.pyplot as plt\n",
    "%matplotlib inline\n",
    "import seaborn as sns;sns.set_theme(color_codes=True)\n",
    "#   Construye objetos gráficos a los que se puede agregar varias trazos \n",
    "from plotly.subplots import make_subplots\n",
    "import plotly.graph_objects as go\n",
    "\n",
    "# Intervalo de confianza\n",
    "import scipy.stats as stats\n",
    "from math import sqrt\n",
    "\n",
    "# Mensaje de configuración de paqueterías exitoso\n",
    "print(\"Setup complete\")"
   ]
  },
  {
   "cell_type": "markdown",
   "id": "bff9bb50-1540-4920-93ce-e84a82022d21",
   "metadata": {},
   "source": [
    "# Importación de datos"
   ]
  },
  {
   "cell_type": "code",
   "execution_count": 2,
   "id": "d229edb3-3f16-4016-9c51-0a5172298ed1",
   "metadata": {},
   "outputs": [],
   "source": [
    "path = r'E:\\\\skillsForIndustry/project_wallmart/data/Walmart_Store_sales.csv'\n",
    "wall_data = pd.read_csv(path, header=0, encoding='utf-8')\n",
    "# Fuete consultada: https://www.kaggle.com/datasets/rutuspatel/walmart-dataset-retail"
   ]
  },
  {
   "cell_type": "markdown",
   "id": "e65299f1-62d0-4c7a-86cb-f822463d6aff",
   "metadata": {},
   "source": [
    "# Análisis exploratorio"
   ]
  },
  {
   "cell_type": "code",
   "execution_count": 3,
   "id": "df94efd6-cd9e-4dcb-b688-7d433da4f68d",
   "metadata": {
    "tags": []
   },
   "outputs": [
    {
     "name": "stdout",
     "output_type": "stream",
     "text": [
      "Número de observaciones: 6435\n",
      "Número de variables: 8\n",
      "Variables Index(['Store', 'Date', 'Weekly_Sales', 'Holiday_Flag', 'Temperature',\n",
      "       'Fuel_Price', 'CPI', 'Unemployment'],\n",
      "      dtype='object')\n"
     ]
    }
   ],
   "source": [
    "# Se identifica el número de variables y observaciones del dataset\n",
    "print(\"Número de observaciones:\", wall_data.shape[0])\n",
    "print(\"Número de variables:\", wall_data.shape[1])\n",
    "print(\"Variables\",wall_data.keys())"
   ]
  },
  {
   "cell_type": "code",
   "execution_count": 4,
   "id": "8d25cfde-a244-4609-8400-6efcb4a34867",
   "metadata": {
    "tags": []
   },
   "outputs": [
    {
     "name": "stdout",
     "output_type": "stream",
     "text": [
      "<class 'pandas.core.frame.DataFrame'>\n",
      "RangeIndex: 6435 entries, 0 to 6434\n",
      "Data columns (total 8 columns):\n",
      " #   Column        Non-Null Count  Dtype  \n",
      "---  ------        --------------  -----  \n",
      " 0   Store         6435 non-null   int64  \n",
      " 1   Date          6435 non-null   object \n",
      " 2   Weekly_Sales  6435 non-null   float64\n",
      " 3   Holiday_Flag  6435 non-null   int64  \n",
      " 4   Temperature   6435 non-null   float64\n",
      " 5   Fuel_Price    6435 non-null   float64\n",
      " 6   CPI           6435 non-null   float64\n",
      " 7   Unemployment  6435 non-null   float64\n",
      "dtypes: float64(5), int64(2), object(1)\n",
      "memory usage: 402.3+ KB\n"
     ]
    }
   ],
   "source": [
    "# Se muestra el tipo de valor de cada variable\n",
    "# y si existen valores nulos\n",
    "wall_data.info()"
   ]
  },
  {
   "cell_type": "code",
   "execution_count": 5,
   "id": "e782a32c-23bd-405d-8709-bb785b2b5628",
   "metadata": {},
   "outputs": [],
   "source": [
    "# Establecer el número de filas de la muestra\n",
    "muestra = int(wall_data.shape[0]*.60)"
   ]
  },
  {
   "cell_type": "code",
   "execution_count": 6,
   "id": "f291122c-c2d0-41a7-ba3c-3e025b6a3a98",
   "metadata": {
    "tags": []
   },
   "outputs": [
    {
     "data": {
      "image/png": "[encoded data removed]",
      "text/plain": [
       "<Figure size 648x288 with 1 Axes>"
      ]
     },
     "metadata": {},
     "output_type": "display_data"
    }
   ],
   "source": [
    "# Se  identifica el número de valores unicos por variable. Solo para las que tienen valores numericos\n",
    "wall_data.value_counts(wall_data.dtypes)\n",
    "unq_val = wall_data.select_dtypes(include='number').nunique().sort_values()\n",
    "unq_val.plot.bar(logy=True, figsize=(9,4),title=\"Valores únicos por variable\")\n",
    "# Se cambia de notación cintifica a decimal\n",
    "current_values = plt.gca().get_yticks()\n",
    "plt.gca().set_yticklabels('{:,.0f}'.format(i) for i in current_values);"
   ]
  },
  {
   "cell_type": "code",
   "execution_count": 7,
   "id": "13a8e42f-8b79-40a1-bc1f-a985eaf737fb",
   "metadata": {
    "tags": []
   },
   "outputs": [
    {
     "data": {
      "text/plain": [
       "143"
      ]
     },
     "execution_count": 7,
     "metadata": {},
     "output_type": "execute_result"
    }
   ],
   "source": [
    "# Verificando los valores únicos de las fechas que no se tomaron en cuenta en la celda anterior\n",
    "# La variable Date se esta consideranco como un objeto de strings.\n",
    "# wall_data.groupby('Date')[['Store']].nunique().sort_values(by = \"Store\")\n",
    "\n",
    "# Se obtienen los valores únicos de las fechas (semanas) \n",
    "# wall_data['Date'].unique() \n",
    "\n",
    "# Se cuentan los valores únicos de las fechas (semanas) \n",
    "wall_data['Date'].nunique() #<- 143\n",
    "# Hay 143 semanas en que se registron las ventas (en día viernes)\n",
    "#-> 143*45(tiendas) = 6435 observaciones\n",
    "# Corroboración. Verificamos que la desviación estandar sea cero\n",
    "# wall_data.Store.value_counts().std() # <- 0"
   ]
  },
  {
   "cell_type": "code",
   "execution_count": 8,
   "id": "3d2d62b0-09c9-40aa-ad79-f7791e0dd031",
   "metadata": {},
   "outputs": [
    {
     "data": {
      "image/png": "[encoded data removed]",
      "text/plain": [
       "<Figure size 432x432 with 1 Axes>"
      ]
     },
     "metadata": {},
     "output_type": "display_data"
    }
   ],
   "source": [
    "# Se gráfica la cantidad de semanas por tienda\n",
    "unq_val = wall_data.select_dtypes(include='object').nunique().sort_values()\n",
    "unq_val.plot.bar(figsize=(6,6),title=\"Valores únicos por Fecha\")\n",
    "plt.ylabel('semanas',fontweight='bold', fontsize='12');"
   ]
  },
  {
   "cell_type": "code",
   "execution_count": 9,
   "id": "3c32fdd0-6780-40b1-a68e-5c265510e840",
   "metadata": {
    "tags": []
   },
   "outputs": [
    {
     "data": {
      "text/html": [
       "<div>\n",
       "<style scoped>\n",
       "    .dataframe tbody tr th:only-of-type {\n",
       "        vertical-align: middle;\n",
       "    }\n",
       "\n",
       "    .dataframe tbody tr th {\n",
       "        vertical-align: top;\n",
       "    }\n",
       "\n",
       "    .dataframe thead th {\n",
       "        text-align: right;\n",
       "    }\n",
       "</style>\n",
       "<table border=\"1\" class=\"dataframe\">\n",
       "  <thead>\n",
       "    <tr style=\"text-align: right;\">\n",
       "      <th></th>\n",
       "      <th>Store</th>\n",
       "      <th>Date</th>\n",
       "      <th>Weekly_Sales</th>\n",
       "      <th>Holiday_Flag</th>\n",
       "      <th>Temperature</th>\n",
       "      <th>Fuel_Price</th>\n",
       "      <th>CPI</th>\n",
       "      <th>Unemployment</th>\n",
       "    </tr>\n",
       "  </thead>\n",
       "  <tbody>\n",
       "    <tr>\n",
       "      <th>5306</th>\n",
       "      <td>38</td>\n",
       "      <td>21-05-2010</td>\n",
       "      <td>340,497.08</td>\n",
       "      <td>0</td>\n",
       "      <td>76.20</td>\n",
       "      <td>3.12</td>\n",
       "      <td>126.18</td>\n",
       "      <td>14.10</td>\n",
       "    </tr>\n",
       "    <tr>\n",
       "      <th>2441</th>\n",
       "      <td>18</td>\n",
       "      <td>16-04-2010</td>\n",
       "      <td>1,135,577.62</td>\n",
       "      <td>0</td>\n",
       "      <td>50.26</td>\n",
       "      <td>2.88</td>\n",
       "      <td>131.98</td>\n",
       "      <td>9.27</td>\n",
       "    </tr>\n",
       "    <tr>\n",
       "      <th>5183</th>\n",
       "      <td>37</td>\n",
       "      <td>08-10-2010</td>\n",
       "      <td>524,483.65</td>\n",
       "      <td>0</td>\n",
       "      <td>66.34</td>\n",
       "      <td>2.63</td>\n",
       "      <td>210.51</td>\n",
       "      <td>8.48</td>\n",
       "    </tr>\n",
       "    <tr>\n",
       "      <th>897</th>\n",
       "      <td>7</td>\n",
       "      <td>05-11-2010</td>\n",
       "      <td>480,512.44</td>\n",
       "      <td>0</td>\n",
       "      <td>49.44</td>\n",
       "      <td>2.73</td>\n",
       "      <td>191.00</td>\n",
       "      <td>9.14</td>\n",
       "    </tr>\n",
       "    <tr>\n",
       "      <th>3194</th>\n",
       "      <td>23</td>\n",
       "      <td>07-01-2011</td>\n",
       "      <td>1,122,034.48</td>\n",
       "      <td>0</td>\n",
       "      <td>27.81</td>\n",
       "      <td>3.19</td>\n",
       "      <td>132.88</td>\n",
       "      <td>5.11</td>\n",
       "    </tr>\n",
       "  </tbody>\n",
       "</table>\n",
       "</div>"
      ],
      "text/plain": [
       "      Store        Date  Weekly_Sales  Holiday_Flag  Temperature  Fuel_Price  \\\n",
       "5306     38  21-05-2010    340,497.08             0        76.20        3.12   \n",
       "2441     18  16-04-2010  1,135,577.62             0        50.26        2.88   \n",
       "5183     37  08-10-2010    524,483.65             0        66.34        2.63   \n",
       "897       7  05-11-2010    480,512.44             0        49.44        2.73   \n",
       "3194     23  07-01-2011  1,122,034.48             0        27.81        3.19   \n",
       "\n",
       "        CPI  Unemployment  \n",
       "5306 126.18         14.10  \n",
       "2441 131.98          9.27  \n",
       "5183 210.51          8.48  \n",
       "897  191.00          9.14  \n",
       "3194 132.88          5.11  "
      ]
     },
     "execution_count": 9,
     "metadata": {},
     "output_type": "execute_result"
    }
   ],
   "source": [
    "# Se verifica el tipo de valores que se  muestran por variable.\n",
    "wall_data.sample(5,random_state=muestra)"
   ]
  },
  {
   "cell_type": "code",
   "execution_count": 10,
   "id": "6c942937-41ab-433c-8c36-5bdd00c73b15",
   "metadata": {
    "tags": []
   },
   "outputs": [
    {
     "data": {
      "text/html": [
       "<div>\n",
       "<style scoped>\n",
       "    .dataframe tbody tr th:only-of-type {\n",
       "        vertical-align: middle;\n",
       "    }\n",
       "\n",
       "    .dataframe tbody tr th {\n",
       "        vertical-align: top;\n",
       "    }\n",
       "\n",
       "    .dataframe thead th {\n",
       "        text-align: right;\n",
       "    }\n",
       "</style>\n",
       "<table border=\"1\" class=\"dataframe\">\n",
       "  <thead>\n",
       "    <tr style=\"text-align: right;\">\n",
       "      <th></th>\n",
       "      <th>tienda</th>\n",
       "      <th>fecha</th>\n",
       "      <th>vta_semana</th>\n",
       "      <th>feriado</th>\n",
       "      <th>temp</th>\n",
       "      <th>precio_gasolina_reg</th>\n",
       "      <th>ipc</th>\n",
       "      <th>tasa_desempleo</th>\n",
       "    </tr>\n",
       "  </thead>\n",
       "  <tbody>\n",
       "    <tr>\n",
       "      <th>0</th>\n",
       "      <td>1</td>\n",
       "      <td>05-02-2010</td>\n",
       "      <td>1,643,690.90</td>\n",
       "      <td>0</td>\n",
       "      <td>42.31</td>\n",
       "      <td>2.57</td>\n",
       "      <td>211.10</td>\n",
       "      <td>8.11</td>\n",
       "    </tr>\n",
       "    <tr>\n",
       "      <th>1</th>\n",
       "      <td>1</td>\n",
       "      <td>12-02-2010</td>\n",
       "      <td>1,641,957.44</td>\n",
       "      <td>1</td>\n",
       "      <td>38.51</td>\n",
       "      <td>2.55</td>\n",
       "      <td>211.24</td>\n",
       "      <td>8.11</td>\n",
       "    </tr>\n",
       "    <tr>\n",
       "      <th>2</th>\n",
       "      <td>1</td>\n",
       "      <td>19-02-2010</td>\n",
       "      <td>1,611,968.17</td>\n",
       "      <td>0</td>\n",
       "      <td>39.93</td>\n",
       "      <td>2.51</td>\n",
       "      <td>211.29</td>\n",
       "      <td>8.11</td>\n",
       "    </tr>\n",
       "  </tbody>\n",
       "</table>\n",
       "</div>"
      ],
      "text/plain": [
       "   tienda       fecha   vta_semana  feriado  temp  precio_gasolina_reg    ipc  \\\n",
       "0       1  05-02-2010 1,643,690.90        0 42.31                 2.57 211.10   \n",
       "1       1  12-02-2010 1,641,957.44        1 38.51                 2.55 211.24   \n",
       "2       1  19-02-2010 1,611,968.17        0 39.93                 2.51 211.29   \n",
       "\n",
       "   tasa_desempleo  \n",
       "0            8.11  \n",
       "1            8.11  \n",
       "2            8.11  "
      ]
     },
     "execution_count": 10,
     "metadata": {},
     "output_type": "execute_result"
    }
   ],
   "source": [
    "# Se renombran las columnas y muetsra el encabezado\n",
    "wall_data.columns = [\"tienda\",\"fecha\",\"vta_semana\",\"feriado\",\"temp\",\"precio_gasolina_reg\",\"ipc\",\"tasa_desempleo\"]\n",
    "wall_data.head(3)"
   ]
  },
  {
   "cell_type": "code",
   "execution_count": 11,
   "id": "22efd1ea-80ee-46d0-80bc-9217b0e0efd7",
   "metadata": {
    "tags": []
   },
   "outputs": [
    {
     "data": {
      "text/plain": [
       "0      2010-02-05\n",
       "1      2010-02-12\n",
       "2      2010-02-19\n",
       "3      2010-02-26\n",
       "4      2010-03-05\n",
       "          ...    \n",
       "6430   2012-09-28\n",
       "6431   2012-10-05\n",
       "6432   2012-10-12\n",
       "6433   2012-10-19\n",
       "6434   2012-10-26\n",
       "Name: fecha, Length: 6435, dtype: datetime64[ns]"
      ]
     },
     "execution_count": 11,
     "metadata": {},
     "output_type": "execute_result"
    }
   ],
   "source": [
    "# Se cambia el tipo de valor a la variable fecha de str a date\n",
    "wall_data['fecha'] = pd.to_datetime(wall_data['fecha'],format=\"%d-%m-%Y\", dayfirst=True)\n",
    "wall_data['fecha'] # año - mes - dia"
   ]
  },
  {
   "cell_type": "code",
   "execution_count": 12,
   "id": "83d1346f-f4dd-44f4-96d1-59f2e0f55f6d",
   "metadata": {
    "tags": []
   },
   "outputs": [
    {
     "data": {
      "text/plain": [
       "float64           5\n",
       "int64             2\n",
       "datetime64[ns]    1\n",
       "dtype: int64"
      ]
     },
     "execution_count": 12,
     "metadata": {},
     "output_type": "execute_result"
    }
   ],
   "source": [
    "# Se verifica el tipo de valores que tiene el dataset\n",
    "pd.value_counts(wall_data.dtypes)"
   ]
  },
  {
   "cell_type": "markdown",
   "id": "6382b793-f015-4d4e-bac6-a696a9e62b9c",
   "metadata": {},
   "source": [
    "# Corroboración de valores ausentes"
   ]
  },
  {
   "cell_type": "code",
   "execution_count": 13,
   "id": "ac400a29-0bda-41e9-8937-543f37c7df0e",
   "metadata": {
    "tags": []
   },
   "outputs": [
    {
     "data": {
      "text/plain": [
       "tienda                 0\n",
       "fecha                  0\n",
       "vta_semana             0\n",
       "feriado                0\n",
       "temp                   0\n",
       "precio_gasolina_reg    0\n",
       "ipc                    0\n",
       "tasa_desempleo         0\n",
       "dtype: int64"
      ]
     },
     "execution_count": 13,
     "metadata": {},
     "output_type": "execute_result"
    }
   ],
   "source": [
    "wall_data.isna().sum()"
   ]
  },
  {
   "cell_type": "markdown",
   "id": "9c72e3eb-a91e-44f6-b6ad-360a22e9764b",
   "metadata": {},
   "source": [
    "# Verificando periodicidad de fechas"
   ]
  },
  {
   "cell_type": "code",
   "execution_count": 14,
   "id": "aafaab26-944c-4566-8c92-d1433eafb52c",
   "metadata": {
    "tags": []
   },
   "outputs": [
    {
     "data": {
      "text/plain": [
       "fecha\n",
       "2010-02-05    45\n",
       "2010-02-12    45\n",
       "2010-02-19    45\n",
       "2010-02-26    45\n",
       "2010-03-05    45\n",
       "              ..\n",
       "2012-09-28    45\n",
       "2012-10-05    45\n",
       "2012-10-12    45\n",
       "2012-10-19    45\n",
       "2012-10-26    45\n",
       "Length: 143, dtype: int64"
      ]
     },
     "execution_count": 14,
     "metadata": {},
     "output_type": "execute_result"
    }
   ],
   "source": [
    "wall_data.groupby(['fecha']).size() # 45 (tiendas)*143 semanas = 6435 registros"
   ]
  },
  {
   "cell_type": "code",
   "execution_count": 15,
   "id": "06f6f15b-d324-488e-99bd-e0fc55e0d3b5",
   "metadata": {
    "tags": []
   },
   "outputs": [],
   "source": [
    "# Función que separa fechas por periodos de tiempo\n",
    "def periodo_tiempo (df,f1,f2):\n",
    "    periodo = df[(df['fecha']>=f1) & (df['fecha']<=f2)].loc[:,['tienda','fecha','vta_semana','feriado']] \n",
    "    return periodo"
   ]
  },
  {
   "cell_type": "markdown",
   "id": "786f0f74-c6d0-48f4-adee-5e197044002f",
   "metadata": {},
   "source": [
    "### La tienda con el máximo de ventas registradas es:"
   ]
  },
  {
   "cell_type": "code",
   "execution_count": 16,
   "id": "557677b1-d486-4224-975c-b578d689cc6c",
   "metadata": {
    "tags": []
   },
   "outputs": [
    {
     "data": {
      "text/html": [
       "<div>\n",
       "<style scoped>\n",
       "    .dataframe tbody tr th:only-of-type {\n",
       "        vertical-align: middle;\n",
       "    }\n",
       "\n",
       "    .dataframe tbody tr th {\n",
       "        vertical-align: top;\n",
       "    }\n",
       "\n",
       "    .dataframe thead th {\n",
       "        text-align: right;\n",
       "    }\n",
       "</style>\n",
       "<table border=\"1\" class=\"dataframe\">\n",
       "  <thead>\n",
       "    <tr style=\"text-align: right;\">\n",
       "      <th></th>\n",
       "      <th>tienda</th>\n",
       "      <th>vta_semana</th>\n",
       "    </tr>\n",
       "  </thead>\n",
       "  <tbody>\n",
       "    <tr>\n",
       "      <th>0</th>\n",
       "      <td>14</td>\n",
       "      <td>3,818,686.45</td>\n",
       "    </tr>\n",
       "  </tbody>\n",
       "</table>\n",
       "</div>"
      ],
      "text/plain": [
       "   tienda   vta_semana\n",
       "0      14 3,818,686.45"
      ]
     },
     "execution_count": 16,
     "metadata": {},
     "output_type": "execute_result"
    }
   ],
   "source": [
    "# La tienda con el máximo número de ventas registradas en una semana:\n",
    "wall_data.groupby('tienda')[['vta_semana']].max().sort_values(by = 'vta_semana', ascending = False).reset_index().groupby('tienda').get_group(14)"
   ]
  },
  {
   "cell_type": "code",
   "execution_count": 17,
   "id": "4109ecd2-606c-498e-a84f-b793c2e77f99",
   "metadata": {},
   "outputs": [],
   "source": [
    "# La segunda tienda con el máximo número de ventas registradas en una semana:"
   ]
  },
  {
   "cell_type": "code",
   "execution_count": 18,
   "id": "496623a1-1a3e-4d21-815d-95c8a497809f",
   "metadata": {},
   "outputs": [
    {
     "data": {
      "text/html": [
       "<div>\n",
       "<style scoped>\n",
       "    .dataframe tbody tr th:only-of-type {\n",
       "        vertical-align: middle;\n",
       "    }\n",
       "\n",
       "    .dataframe tbody tr th {\n",
       "        vertical-align: top;\n",
       "    }\n",
       "\n",
       "    .dataframe thead th {\n",
       "        text-align: right;\n",
       "    }\n",
       "</style>\n",
       "<table border=\"1\" class=\"dataframe\">\n",
       "  <thead>\n",
       "    <tr style=\"text-align: right;\">\n",
       "      <th></th>\n",
       "      <th>tienda</th>\n",
       "      <th>vta_semana</th>\n",
       "    </tr>\n",
       "  </thead>\n",
       "  <tbody>\n",
       "    <tr>\n",
       "      <th>1</th>\n",
       "      <td>20</td>\n",
       "      <td>3,766,687.43</td>\n",
       "    </tr>\n",
       "  </tbody>\n",
       "</table>\n",
       "</div>"
      ],
      "text/plain": [
       "   tienda   vta_semana\n",
       "1      20 3,766,687.43"
      ]
     },
     "execution_count": 18,
     "metadata": {},
     "output_type": "execute_result"
    }
   ],
   "source": [
    "wall_data.groupby('tienda')[['vta_semana']].max().sort_values(by = 'vta_semana', ascending = False).reset_index().groupby('tienda').get_group(20)"
   ]
  },
  {
   "cell_type": "code",
   "execution_count": 19,
   "id": "17374f68-1b37-48bb-b3eb-57fea580028d",
   "metadata": {
    "tags": []
   },
   "outputs": [
    {
     "data": {
      "text/html": [
       "<div>\n",
       "<style scoped>\n",
       "    .dataframe tbody tr th:only-of-type {\n",
       "        vertical-align: middle;\n",
       "    }\n",
       "\n",
       "    .dataframe tbody tr th {\n",
       "        vertical-align: top;\n",
       "    }\n",
       "\n",
       "    .dataframe thead th {\n",
       "        text-align: right;\n",
       "    }\n",
       "</style>\n",
       "<table border=\"1\" class=\"dataframe\">\n",
       "  <thead>\n",
       "    <tr style=\"text-align: right;\">\n",
       "      <th></th>\n",
       "      <th>tienda</th>\n",
       "      <th>vta_semana</th>\n",
       "    </tr>\n",
       "  </thead>\n",
       "  <tbody>\n",
       "    <tr>\n",
       "      <th>0</th>\n",
       "      <td>20</td>\n",
       "      <td>301,397,792.46</td>\n",
       "    </tr>\n",
       "  </tbody>\n",
       "</table>\n",
       "</div>"
      ],
      "text/plain": [
       "   tienda     vta_semana\n",
       "0      20 301,397,792.46"
      ]
     },
     "execution_count": 19,
     "metadata": {},
     "output_type": "execute_result"
    }
   ],
   "source": [
    "# La tienda con el máximo número de ventas registradas de \"2010-02-05\" al \"2012-10-26\":\n",
    "wall_data.groupby('tienda')[['vta_semana']].sum().sort_values(by = 'vta_semana', ascending = False).reset_index().groupby('tienda').get_group(20)"
   ]
  },
  {
   "cell_type": "code",
   "execution_count": 20,
   "id": "f8b8bdc0-1740-4704-8f64-e0f353441133",
   "metadata": {},
   "outputs": [],
   "source": [
    "# Maximo de ventas por semana\n",
    "max_vta_semana = wall_data.groupby('tienda')[['vta_semana']].max().sort_values(by = 'tienda').reset_index()\n",
    "# Maximo de ventas en todo el periodo\n",
    "max_vtas = wall_data.groupby('tienda')[['vta_semana']].sum().sort_values(by = 'tienda').reset_index()"
   ]
  },
  {
   "cell_type": "code",
   "execution_count": 21,
   "id": "edbc29c8-97d0-4d14-b42b-bfb5cd6f2106",
   "metadata": {
    "tags": []
   },
   "outputs": [
    {
     "data": {
      "image/png": "[encoded data removed]",
      "text/plain": [
       "<Figure size 1080x576 with 1 Axes>"
      ]
     },
     "metadata": {},
     "output_type": "display_data"
    }
   ],
   "source": [
    "# Se gráfica el monto de venta por semana de cada tienda\n",
    "plt.figure(figsize=(15,8))\n",
    "plt.title('Ventas máximas por semana')\n",
    "sns.barplot(data = max_vta_semana,x = 'tienda',y='vta_semana', color='#FF8300')\n",
    "plt.xlabel('Número de Tienda')\n",
    "plt.ylabel('Vta semana [USD]')\n",
    "# Se cambia de notación cintifica a decimal\n",
    "current_values = plt.gca().get_yticks()\n",
    "plt.gca().set_yticklabels('{:,.0f}'.format(i) for i in current_values)\n",
    "plt.show()"
   ]
  },
  {
   "cell_type": "code",
   "execution_count": 22,
   "id": "017918be-3e63-4b9a-b228-cde2abf013d7",
   "metadata": {},
   "outputs": [
    {
     "data": {
      "image/png": "[encoded data removed]",
      "text/plain": [
       "<Figure size 1080x576 with 1 Axes>"
      ]
     },
     "metadata": {},
     "output_type": "display_data"
    }
   ],
   "source": [
    "# Se gráfica el monto de venta por todo el periodo por cada tienda:\n",
    "# \"2010-02-05\" - 2012-10-26\"\n",
    "plt.figure(figsize=(15,8))\n",
    "plt.title('Ventas máximas en todo el periodo:2010-2012')\n",
    "sns.barplot(data = max_vtas,x = 'tienda',y='vta_semana', color= '#DF362D')\n",
    "plt.xlabel('Número de Tienda')\n",
    "plt.ylabel('Ventas totales [USD]')\n",
    "current_values = plt.gca().get_yticks()\n",
    "plt.gca().set_yticklabels('{:,.0f}'.format(i) for i in current_values)\n",
    "plt.show()"
   ]
  },
  {
   "cell_type": "markdown",
   "id": "4438fe66-3043-4a62-b8a4-49adb22b4d3d",
   "metadata": {},
   "source": [
    "### La tienda con la desviación estadar máxima fue:"
   ]
  },
  {
   "cell_type": "code",
   "execution_count": 23,
   "id": "aec56255-3117-4afc-a9ed-06e15cfe0897",
   "metadata": {},
   "outputs": [
    {
     "data": {
      "text/html": [
       "<div>\n",
       "<style scoped>\n",
       "    .dataframe tbody tr th:only-of-type {\n",
       "        vertical-align: middle;\n",
       "    }\n",
       "\n",
       "    .dataframe tbody tr th {\n",
       "        vertical-align: top;\n",
       "    }\n",
       "\n",
       "    .dataframe thead th {\n",
       "        text-align: right;\n",
       "    }\n",
       "</style>\n",
       "<table border=\"1\" class=\"dataframe\">\n",
       "  <thead>\n",
       "    <tr style=\"text-align: right;\">\n",
       "      <th></th>\n",
       "      <th>tienda</th>\n",
       "      <th>std</th>\n",
       "      <th>mean</th>\n",
       "      <th>cv</th>\n",
       "    </tr>\n",
       "  </thead>\n",
       "  <tbody>\n",
       "    <tr>\n",
       "      <th>13</th>\n",
       "      <td>14</td>\n",
       "      <td>317,569.95</td>\n",
       "      <td>2,020,978.40</td>\n",
       "      <td>15.71</td>\n",
       "    </tr>\n",
       "    <tr>\n",
       "      <th>9</th>\n",
       "      <td>10</td>\n",
       "      <td>302,262.06</td>\n",
       "      <td>1,899,424.57</td>\n",
       "      <td>15.91</td>\n",
       "    </tr>\n",
       "    <tr>\n",
       "      <th>19</th>\n",
       "      <td>20</td>\n",
       "      <td>275,900.56</td>\n",
       "      <td>2,107,676.87</td>\n",
       "      <td>13.09</td>\n",
       "    </tr>\n",
       "    <tr>\n",
       "      <th>3</th>\n",
       "      <td>4</td>\n",
       "      <td>266,201.44</td>\n",
       "      <td>2,094,712.96</td>\n",
       "      <td>12.71</td>\n",
       "    </tr>\n",
       "    <tr>\n",
       "      <th>12</th>\n",
       "      <td>13</td>\n",
       "      <td>265,507.00</td>\n",
       "      <td>2,003,620.31</td>\n",
       "      <td>13.25</td>\n",
       "    </tr>\n",
       "  </tbody>\n",
       "</table>\n",
       "</div>"
      ],
      "text/plain": [
       "    tienda        std         mean    cv\n",
       "13      14 317,569.95 2,020,978.40 15.71\n",
       "9       10 302,262.06 1,899,424.57 15.91\n",
       "19      20 275,900.56 2,107,676.87 13.09\n",
       "3        4 266,201.44 2,094,712.96 12.71\n",
       "12      13 265,507.00 2,003,620.31 13.25"
      ]
     },
     "execution_count": 23,
     "metadata": {},
     "output_type": "execute_result"
    }
   ],
   "source": [
    "# Se obtiene la desviación estandar de las ventas por semana vta_semana\n",
    "std_des = wall_data.groupby('tienda')['vta_semana'].aggregate(['std','mean']).reset_index().sort_values(by = 'std', ascending=False)\n",
    "std_des[\"cv\"] = (std_des['std']/std_des['mean']) * 100\n",
    "top_5_std_des = std_des.head(5)\n",
    "# std_des\n",
    "top_5_std_des"
   ]
  },
  {
   "cell_type": "code",
   "execution_count": 64,
   "id": "7c0b2591-281d-48be-8ed8-7015f7de5d1e",
   "metadata": {
    "tags": []
   },
   "outputs": [
    {
     "data": {
      "image/png": "[encoded data removed]",
      "text/plain": [
       "<Figure size 720x576 with 1 Axes>"
      ]
     },
     "metadata": {},
     "output_type": "display_data"
    }
   ],
   "source": [
    "plt.figure(figsize=(10,8))\n",
    "sns.distplot(wall_data[wall_data['tienda']==14].loc[:,['vta_semana']],color='#01949A', kde=True)\n",
    "plt.title('Distribución de ventas semanales, Tienda 14',size=12.5,fontweight='bold')\n",
    "plt.xlabel('Ventas [USD]',fontweight='bold')\n",
    "plt.ylabel('Densidad',fontweight='bold')\n",
    "plt.show()"
   ]
  },
  {
   "cell_type": "code",
   "execution_count": 25,
   "id": "c4c46b21-b992-4617-97fd-a3ef0dbe4d52",
   "metadata": {
    "tags": []
   },
   "outputs": [
    {
     "data": {
      "image/png": "[encoded data removed]",
      "text/plain": [
       "<Figure size 720x576 with 1 Axes>"
      ]
     },
     "metadata": {},
     "output_type": "display_data"
    }
   ],
   "source": [
    "plt.figure(figsize=(10,8))\n",
    "sns.distplot(wall_data[wall_data['tienda']==37].loc[:,['vta_semana']],color='#1DC690', kde=True)\n",
    "plt.title('Distribución de ventas semanales, Tienda 37',size=12.5,fontweight='bold')\n",
    "plt.xlabel('Ventas [USD]',fontweight='bold')\n",
    "plt.ylabel('Densidad',fontweight='bold')\n",
    "plt.show()"
   ]
  },
  {
   "cell_type": "markdown",
   "id": "4275b8f6-ebb3-4d1b-83f5-9edf3a36c99b",
   "metadata": {},
   "source": [
    "### Intervalo de confianza"
   ]
  },
  {
   "cell_type": "code",
   "execution_count": 196,
   "id": "a1ed69d1-cfae-449b-bfee-b7d09bbd7abf",
   "metadata": {},
   "outputs": [],
   "source": [
    "def store(st):\n",
    "    st_ci = wall_data[wall_data['tienda']==st].loc[:,['vta_semana']]\n",
    "    return st_ci\n",
    "\n",
    "def int_con(store,ic):\n",
    "    ci = stats.norm.interval(alpha=ic,\n",
    "                         loc =np.mean(store),\n",
    "                         scale = store.std()/ sqrt(store.shape[0]))\n",
    "    mean_str = store.mean()\n",
    "    return('{:,.0f}'.format(np.int(ci[0])),'{:,.0f}'.format(np.int(ci[1])),mean_str)\n",
    "\n",
    "def graph_ci(store,ic):\n",
    "    gp_ci = sns.barplot(data=store,ci=ic,capsize=0.18)\n",
    "    gp_ci.set(title=f'Intervalo de confianza del {ic}%',\n",
    "             ylabel='Vta promedio [USD]')\n",
    "    plt.show()"
   ]
  },
  {
   "cell_type": "code",
   "execution_count": 198,
   "id": "e06f179b-2481-4304-9c36-7061479aa8f3",
   "metadata": {},
   "outputs": [
    {
     "data": {
      "text/html": [
       "<div>\n",
       "<style scoped>\n",
       "    .dataframe tbody tr th:only-of-type {\n",
       "        vertical-align: middle;\n",
       "    }\n",
       "\n",
       "    .dataframe tbody tr th {\n",
       "        vertical-align: top;\n",
       "    }\n",
       "\n",
       "    .dataframe thead th {\n",
       "        text-align: right;\n",
       "    }\n",
       "</style>\n",
       "<table border=\"1\" class=\"dataframe\">\n",
       "  <thead>\n",
       "    <tr style=\"text-align: right;\">\n",
       "      <th></th>\n",
       "      <th>tienda</th>\n",
       "      <th>std</th>\n",
       "      <th>mean</th>\n",
       "      <th>cv</th>\n",
       "    </tr>\n",
       "  </thead>\n",
       "  <tbody>\n",
       "    <tr>\n",
       "      <th>34</th>\n",
       "      <td>35</td>\n",
       "      <td>211,243.46</td>\n",
       "      <td>919,724.98</td>\n",
       "      <td>22.97</td>\n",
       "    </tr>\n",
       "    <tr>\n",
       "      <th>6</th>\n",
       "      <td>7</td>\n",
       "      <td>112,585.47</td>\n",
       "      <td>570,617.31</td>\n",
       "      <td>19.73</td>\n",
       "    </tr>\n",
       "    <tr>\n",
       "      <th>14</th>\n",
       "      <td>15</td>\n",
       "      <td>120,538.65</td>\n",
       "      <td>623,312.47</td>\n",
       "      <td>19.34</td>\n",
       "    </tr>\n",
       "    <tr>\n",
       "      <th>28</th>\n",
       "      <td>29</td>\n",
       "      <td>99,120.14</td>\n",
       "      <td>539,451.43</td>\n",
       "      <td>18.37</td>\n",
       "    </tr>\n",
       "    <tr>\n",
       "      <th>22</th>\n",
       "      <td>23</td>\n",
       "      <td>249,788.04</td>\n",
       "      <td>1,389,864.46</td>\n",
       "      <td>17.97</td>\n",
       "    </tr>\n",
       "  </tbody>\n",
       "</table>\n",
       "</div>"
      ],
      "text/plain": [
       "    tienda        std         mean    cv\n",
       "34      35 211,243.46   919,724.98 22.97\n",
       "6        7 112,585.47   570,617.31 19.73\n",
       "14      15 120,538.65   623,312.47 19.34\n",
       "28      29  99,120.14   539,451.43 18.37\n",
       "22      23 249,788.04 1,389,864.46 17.97"
      ]
     },
     "execution_count": 198,
     "metadata": {},
     "output_type": "execute_result"
    }
   ],
   "source": [
    "store_cv = std_des.sort_values(by='cv', ascending=False)\n",
    "store_cv.head()\n",
    "# store_cv.tail()"
   ]
  },
  {
   "cell_type": "code",
   "execution_count": 199,
   "id": "89ffbc99-66eb-4d86-bc1c-f93af6106d3e",
   "metadata": {},
   "outputs": [
    {
     "data": {
      "image/png": "[encoded data removed]",
      "text/plain": [
       "<Figure size 432x288 with 1 Axes>"
      ]
     },
     "metadata": {},
     "output_type": "display_data"
    },
    {
     "data": {
      "text/plain": [
       "('2,062,456',\n",
       " '2,152,897',\n",
       " vta_semana   2,107,676.87\n",
       " dtype: float64)"
      ]
     },
     "execution_count": 199,
     "metadata": {},
     "output_type": "execute_result"
    }
   ],
   "source": [
    "st_data = store(20)\n",
    "graph_ci(st_data,95)\n",
    "int_con(st_data,.95)\n",
    "# store_37.std(ddof=1) muestral"
   ]
  },
  {
   "cell_type": "code",
   "execution_count": 195,
   "id": "341cc9e0-4e0b-45d6-8289-4bfbd8dc3ba2",
   "metadata": {},
   "outputs": [
    {
     "data": {
      "text/plain": [
       "'515,321'"
      ]
     },
     "execution_count": 195,
     "metadata": {},
     "output_type": "execute_result"
    }
   ],
   "source": [
    "\n",
    "\n"
   ]
  }
 ],
 "metadata": {
  "kernelspec": {
   "display_name": "Python 3 (ipykernel)",
   "language": "python",
   "name": "python3"
  },
  "language_info": {
   "codemirror_mode": {
    "name": "ipython",
    "version": 3
   },
   "file_extension": ".py",
   "mimetype": "text/x-python",
   "name": "python",
   "nbconvert_exporter": "python",
   "pygments_lexer": "ipython3",
   "version": "3.8.8"
  }
 },
 "nbformat": 4,
 "nbformat_minor": 5
}

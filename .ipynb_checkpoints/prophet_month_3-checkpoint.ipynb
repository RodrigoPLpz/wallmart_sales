{
 "cells": [
  {
   "cell_type": "markdown",
   "id": "c9b061fa-52fc-420e-ac51-66549685c779",
   "metadata": {
    "tags": []
   },
   "source": [
    "# Instancia de librarias"
   ]
  },
  {
   "cell_type": "code",
   "execution_count": 84,
   "id": "d4ba69eb-437f-4591-a70f-57af63f7d96a",
   "metadata": {
    "tags": []
   },
   "outputs": [
    {
     "name": "stdout",
     "output_type": "stream",
     "text": [
      "Setup complete\n"
     ]
    }
   ],
   "source": [
    "import pandas as pd\n",
    "import numpy as np\n",
    "import warnings\n",
    "warnings.filterwarnings('ignore')\n",
    "# import datetime as dt\n",
    "from datetime import datetime # Trabajar con fechas\n",
    "\n",
    "# Metricas de desempeño de modelos \n",
    "import scipy.stats as stats\n",
    "import statistics\n",
    "from sklearn import metrics\n",
    "from sklearn.metrics import r2_score\n",
    "from sklearn.preprocessing import StandardScaler  # Estandarización de los datos\n",
    "from sklearn.model_selection import cross_val_score\n",
    "\n",
    "# Series de tiempo\n",
    "# from statsmodels.tsa.seasonal import seasonal_decompose # graficas de estacionalidad y tendencia\n",
    "# from statsmodels.tsa.stattools import adfuller # prueba \n",
    "# from statsmodels.tsa.statespace.sarimax import SARIMAX #SARIMAX\n",
    "# import pmdarima as pm # autoarima\n",
    "# import statsmodels.formula.api as smf\n",
    "\n",
    "# Prophet\n",
    "\n",
    "# !pip3 install more-itertools --user\n",
    "# !pip install prophet --user\n",
    "import itertools\n",
    "from prophet import Prophet\n",
    "from prophet.diagnostics import cross_validation, performance_metrics\n",
    "from prophet.plot import plot_plotly\n",
    "\n",
    "# Formato de visualización por centenas\n",
    "pd.options.display.float_format = '{:,.2f}'.format\n",
    "\n",
    "# Graficas\n",
    "pd.plotting.register_matplotlib_converters()\n",
    "import matplotlib.pyplot as plt\n",
    "%matplotlib inline\n",
    "import seaborn as sns;sns.set_theme(color_codes=True)\n",
    "\n",
    "# Tamaño del cuadro de las gráficas por defult\n",
    "plt.rcParams[\"figure.figsize\"] = (12,6)\n",
    "\n",
    "import plotly.graph_objects as go\n",
    "from plotly.subplots import make_subplots\n",
    "\n",
    "print(\"Setup complete\")"
   ]
  },
  {
   "cell_type": "markdown",
   "id": "a2ad1c17-f717-4514-b0dc-dfd0d2be59a1",
   "metadata": {
    "tags": []
   },
   "source": [
    "# Importación de datos"
   ]
  },
  {
   "cell_type": "code",
   "execution_count": 85,
   "id": "d7d2534d-28c0-4b19-948f-b7927fa7037f",
   "metadata": {},
   "outputs": [],
   "source": [
    "path = r'E:\\\\skillsForIndustry/project_wallmart/data/Walmart_Store_sales.csv'\n",
    "wall_data = pd.read_csv(path, header=0, encoding='utf-8')"
   ]
  },
  {
   "cell_type": "code",
   "execution_count": 86,
   "id": "0df2f0f7-2981-42bd-a0d9-c7e5e5ff8d1b",
   "metadata": {},
   "outputs": [
    {
     "name": "stdout",
     "output_type": "stream",
     "text": [
      "<class 'pandas.core.frame.DataFrame'>\n",
      "RangeIndex: 6435 entries, 0 to 6434\n",
      "Data columns (total 8 columns):\n",
      " #   Column        Non-Null Count  Dtype         \n",
      "---  ------        --------------  -----         \n",
      " 0   Store         6435 non-null   int64         \n",
      " 1   Date          6435 non-null   datetime64[ns]\n",
      " 2   Weekly_Sales  6435 non-null   float64       \n",
      " 3   Holiday_Flag  6435 non-null   int64         \n",
      " 4   Temperature   6435 non-null   float64       \n",
      " 5   Fuel_Price    6435 non-null   float64       \n",
      " 6   CPI           6435 non-null   float64       \n",
      " 7   Unemployment  6435 non-null   float64       \n",
      "dtypes: datetime64[ns](1), float64(5), int64(2)\n",
      "memory usage: 402.3 KB\n"
     ]
    },
    {
     "data": {
      "text/html": [
       "<div>\n",
       "<style scoped>\n",
       "    .dataframe tbody tr th:only-of-type {\n",
       "        vertical-align: middle;\n",
       "    }\n",
       "\n",
       "    .dataframe tbody tr th {\n",
       "        vertical-align: top;\n",
       "    }\n",
       "\n",
       "    .dataframe thead th {\n",
       "        text-align: right;\n",
       "    }\n",
       "</style>\n",
       "<table border=\"1\" class=\"dataframe\">\n",
       "  <thead>\n",
       "    <tr style=\"text-align: right;\">\n",
       "      <th></th>\n",
       "      <th>Store</th>\n",
       "      <th>Date</th>\n",
       "      <th>Weekly_Sales</th>\n",
       "      <th>Holiday_Flag</th>\n",
       "      <th>Temperature</th>\n",
       "      <th>Fuel_Price</th>\n",
       "      <th>CPI</th>\n",
       "      <th>Unemployment</th>\n",
       "    </tr>\n",
       "  </thead>\n",
       "  <tbody>\n",
       "    <tr>\n",
       "      <th>0</th>\n",
       "      <td>1</td>\n",
       "      <td>2010-02-05</td>\n",
       "      <td>1,643,690.90</td>\n",
       "      <td>0</td>\n",
       "      <td>42.31</td>\n",
       "      <td>2.57</td>\n",
       "      <td>211.10</td>\n",
       "      <td>8.11</td>\n",
       "    </tr>\n",
       "    <tr>\n",
       "      <th>1</th>\n",
       "      <td>1</td>\n",
       "      <td>2010-02-12</td>\n",
       "      <td>1,641,957.44</td>\n",
       "      <td>1</td>\n",
       "      <td>38.51</td>\n",
       "      <td>2.55</td>\n",
       "      <td>211.24</td>\n",
       "      <td>8.11</td>\n",
       "    </tr>\n",
       "    <tr>\n",
       "      <th>2</th>\n",
       "      <td>1</td>\n",
       "      <td>2010-02-19</td>\n",
       "      <td>1,611,968.17</td>\n",
       "      <td>0</td>\n",
       "      <td>39.93</td>\n",
       "      <td>2.51</td>\n",
       "      <td>211.29</td>\n",
       "      <td>8.11</td>\n",
       "    </tr>\n",
       "    <tr>\n",
       "      <th>3</th>\n",
       "      <td>1</td>\n",
       "      <td>2010-02-26</td>\n",
       "      <td>1,409,727.59</td>\n",
       "      <td>0</td>\n",
       "      <td>46.63</td>\n",
       "      <td>2.56</td>\n",
       "      <td>211.32</td>\n",
       "      <td>8.11</td>\n",
       "    </tr>\n",
       "    <tr>\n",
       "      <th>4</th>\n",
       "      <td>1</td>\n",
       "      <td>2010-03-05</td>\n",
       "      <td>1,554,806.68</td>\n",
       "      <td>0</td>\n",
       "      <td>46.50</td>\n",
       "      <td>2.62</td>\n",
       "      <td>211.35</td>\n",
       "      <td>8.11</td>\n",
       "    </tr>\n",
       "  </tbody>\n",
       "</table>\n",
       "</div>"
      ],
      "text/plain": [
       "   Store       Date  Weekly_Sales  Holiday_Flag  Temperature  Fuel_Price  \\\n",
       "0      1 2010-02-05  1,643,690.90             0        42.31        2.57   \n",
       "1      1 2010-02-12  1,641,957.44             1        38.51        2.55   \n",
       "2      1 2010-02-19  1,611,968.17             0        39.93        2.51   \n",
       "3      1 2010-02-26  1,409,727.59             0        46.63        2.56   \n",
       "4      1 2010-03-05  1,554,806.68             0        46.50        2.62   \n",
       "\n",
       "     CPI  Unemployment  \n",
       "0 211.10          8.11  \n",
       "1 211.24          8.11  \n",
       "2 211.29          8.11  \n",
       "3 211.32          8.11  \n",
       "4 211.35          8.11  "
      ]
     },
     "execution_count": 86,
     "metadata": {},
     "output_type": "execute_result"
    }
   ],
   "source": [
    "wall_data['Date'] = pd.to_datetime(wall_data['Date'],format=\"%d-%m-%Y\",dayfirst=True)\n",
    "wall_data.info()\n",
    "wall_data.head()"
   ]
  },
  {
   "cell_type": "markdown",
   "id": "d4b5746d-2ed4-43b5-810a-e6594cfd6059",
   "metadata": {
    "tags": []
   },
   "source": [
    "#### Frecuencia de tiempo"
   ]
  },
  {
   "cell_type": "code",
   "execution_count": 87,
   "id": "6a508a82-0529-411d-ab49-3b3ce426f1a6",
   "metadata": {},
   "outputs": [
    {
     "data": {
      "text/html": [
       "<div>\n",
       "<style scoped>\n",
       "    .dataframe tbody tr th:only-of-type {\n",
       "        vertical-align: middle;\n",
       "    }\n",
       "\n",
       "    .dataframe tbody tr th {\n",
       "        vertical-align: top;\n",
       "    }\n",
       "\n",
       "    .dataframe thead th {\n",
       "        text-align: right;\n",
       "    }\n",
       "</style>\n",
       "<table border=\"1\" class=\"dataframe\">\n",
       "  <thead>\n",
       "    <tr style=\"text-align: right;\">\n",
       "      <th></th>\n",
       "      <th>Date</th>\n",
       "      <th>Store</th>\n",
       "      <th>Weekly_Sales</th>\n",
       "    </tr>\n",
       "  </thead>\n",
       "  <tbody>\n",
       "    <tr>\n",
       "      <th>0</th>\n",
       "      <td>2010-02-01</td>\n",
       "      <td>1</td>\n",
       "      <td>1,576,836.02</td>\n",
       "    </tr>\n",
       "    <tr>\n",
       "      <th>1</th>\n",
       "      <td>2010-02-01</td>\n",
       "      <td>2</td>\n",
       "      <td>2,066,086.94</td>\n",
       "    </tr>\n",
       "    <tr>\n",
       "      <th>2</th>\n",
       "      <td>2010-02-01</td>\n",
       "      <td>3</td>\n",
       "      <td>427,799.56</td>\n",
       "    </tr>\n",
       "    <tr>\n",
       "      <th>3</th>\n",
       "      <td>2010-02-01</td>\n",
       "      <td>4</td>\n",
       "      <td>2,074,760.09</td>\n",
       "    </tr>\n",
       "    <tr>\n",
       "      <th>4</th>\n",
       "      <td>2010-02-01</td>\n",
       "      <td>5</td>\n",
       "      <td>300,682.00</td>\n",
       "    </tr>\n",
       "  </tbody>\n",
       "</table>\n",
       "</div>"
      ],
      "text/plain": [
       "        Date Store  Weekly_Sales\n",
       "0 2010-02-01     1  1,576,836.02\n",
       "1 2010-02-01     2  2,066,086.94\n",
       "2 2010-02-01     3    427,799.56\n",
       "3 2010-02-01     4  2,074,760.09\n",
       "4 2010-02-01     5    300,682.00"
      ]
     },
     "execution_count": 87,
     "metadata": {},
     "output_type": "execute_result"
    }
   ],
   "source": [
    "# Venta mensual Promedio\n",
    "# Mensual con frecuencia\n",
    "stores = wall_data\n",
    "stores = stores.iloc[:,[1,0,2]]\n",
    "stores.Date = pd.PeriodIndex(stores.Date, freq='M')\n",
    "# stores = stores.groupby(['Date'])['Weekly_Sales'].aggregate([sum,min,'mean','count']).reset_index()\n",
    "# stores = stores.groupby(['Date','Store'])['Weekly_Sales'].aggregate([sum,min,'mean','count']).reset_index()\n",
    "stores = stores.groupby(['Date','Store'])['Weekly_Sales'].mean().reset_index()\n",
    "stores['Date'] = stores['Date'].astype(str)\n",
    "stores['Store'] = stores.Store.astype(str)\n",
    "stores['Date'] =pd.to_datetime(stores['Date'])\n",
    "stores.head()"
   ]
  },
  {
   "cell_type": "code",
   "execution_count": 88,
   "id": "edcccadb-3519-499b-a3b4-fa369db12fa0",
   "metadata": {},
   "outputs": [
    {
     "data": {
      "text/plain": [
       "array(['1', '2', '3', '4', '5', '6', '7', '8', '9', '10', '11', '12',\n",
       "       '13', '14', '15', '16', '17', '18', '19', '20', '21', '22', '23',\n",
       "       '24', '25', '26', '27', '28', '29', '30', '31', '32', '33', '34',\n",
       "       '35', '36', '37', '38', '39', '40', '41', '42', '43', '44', '45'],\n",
       "      dtype=object)"
      ]
     },
     "execution_count": 88,
     "metadata": {},
     "output_type": "execute_result"
    }
   ],
   "source": [
    "num_store = stores['Store'].unique()\n",
    "num_store"
   ]
  },
  {
   "cell_type": "code",
   "execution_count": 89,
   "id": "37b18af6-2f55-480c-95ea-2691f91a9cd8",
   "metadata": {},
   "outputs": [],
   "source": [
    "mes = {}\n",
    "for store in num_store:\n",
    "    df = stores[stores['Store']==store].copy()\n",
    "    df.drop('Store',axis=1, inplace=True)\n",
    "    mes[store] = df\n",
    "    df.columns = ['ds','y']\n",
    "    df.rename_axis(index=None,columns=None)\n",
    "   \n",
    "# Elegir una tienda    \n",
    "# mes['20']"
   ]
  },
  {
   "cell_type": "markdown",
   "id": "e5ceaed1-e4e5-43b0-9009-2e8613771e74",
   "metadata": {},
   "source": [
    "#### Performance"
   ]
  },
  {
   "cell_type": "code",
   "execution_count": 90,
   "id": "4df5f8c7-dd59-40de-981a-a24a4d226800",
   "metadata": {
    "tags": []
   },
   "outputs": [],
   "source": [
    "def performance(a,b):\n",
    "    print('Mean Absolute Error: ',metrics.mean_absolute_error(a,b))\n",
    "    print('Mean Square Error: ',metrics.mean_squared_error(a,b))\n",
    "    print('Root Mean Square Error: ',np.sqrt(metrics.mean_squared_error(a,b)))\n",
    "    print('Mean Absolute Percentage Error: ', metrics.mean_absolute_percentage_error(a,b))\n",
    "    \n",
    "    plt.figure(figsize=(10,8),dpi=60)\n",
    "    sns.regplot(b,a);"
   ]
  },
  {
   "cell_type": "markdown",
   "id": "6e969d63-3b18-4c1b-a634-ec3a204a5b3a",
   "metadata": {},
   "source": [
    "#### Conjunto de entrenamiento y test"
   ]
  },
  {
   "cell_type": "code",
   "execution_count": 91,
   "id": "e1581cbe-0440-4732-9356-5457df891740",
   "metadata": {},
   "outputs": [],
   "source": [
    "def tra_tes(st,period):\n",
    "    train = st.sort_values('ds')[:len(st)-period]  # primero datos\n",
    "    test = st.sort_values('ds')[len(st)-period:]   # últimos datos \n",
    "    return train,test\n",
    "\n",
    "# tra_tes(dataframe,period='num_Semanas')"
   ]
  },
  {
   "cell_type": "markdown",
   "id": "26d3200c-f6ff-4600-84f5-46dd169cebb2",
   "metadata": {
    "tags": []
   },
   "source": [
    "## Semanas y tiendas"
   ]
  },
  {
   "cell_type": "code",
   "execution_count": 92,
   "id": "d6a76548-5811-4310-91da-d999335eb41c",
   "metadata": {},
   "outputs": [],
   "source": [
    "s_20 =  mes['20']\n",
    "s_14 =  mes['14'] # No son datos estacionarios\n",
    "s_13 =  mes['13']\n",
    "s_10 =  mes['10']\n",
    "s_26 =  mes['26']\n",
    "s_27 =  mes['27']\n",
    "s_23 =  mes['23']\n",
    "s_24 =  mes['24']\n",
    "s_37 = mes['37']\n",
    "s_39 = mes['39']\n",
    "s_30 = mes['30']\n",
    "s_44 = mes['44']\n",
    "s_31 = mes['31']\n",
    "s_19 = mes['19']\n",
    "s_5 = mes['5']"
   ]
  },
  {
   "cell_type": "markdown",
   "id": "5bcd7a72-fa23-4c0d-af70-0840b86c9f99",
   "metadata": {
    "tags": []
   },
   "source": [
    "## Prophet"
   ]
  },
  {
   "cell_type": "markdown",
   "id": "7fa2ba16-ed63-43db-8b4c-33610c978f9b",
   "metadata": {},
   "source": [
    "## Elegit tienda y periodicidad"
   ]
  },
  {
   "cell_type": "code",
   "execution_count": 374,
   "id": "053db730-e907-4f0e-a742-900483160601",
   "metadata": {
    "tags": []
   },
   "outputs": [],
   "source": [
    "# pr = 12,24,32,40,48,52\n",
    "pr = 12\n",
    "s_t = s_20"
   ]
  },
  {
   "cell_type": "code",
   "execution_count": 375,
   "id": "9449544c-f26d-4651-a918-f3cd9a31b9eb",
   "metadata": {},
   "outputs": [],
   "source": [
    "vnames = [name for name in globals() if globals()[name] is s_t]\n",
    "# print(vnames[0])"
   ]
  },
  {
   "cell_type": "markdown",
   "id": "a8bbe878-6f18-42ca-8c28-f1963762687e",
   "metadata": {},
   "source": [
    "#### Con Entrenamiento y Test"
   ]
  },
  {
   "cell_type": "code",
   "execution_count": 376,
   "id": "982b6889-c903-4ead-a4b4-e56ba3280cc4",
   "metadata": {
    "tags": []
   },
   "outputs": [],
   "source": [
    "# tra_tes(dataframe,period='num_Semanas')\n",
    "train, test = tra_tes(s_t,pr)"
   ]
  },
  {
   "cell_type": "code",
   "execution_count": 377,
   "id": "597facb8-068f-42e1-96df-6af4dc322fce",
   "metadata": {
    "tags": []
   },
   "outputs": [
    {
     "name": "stdout",
     "output_type": "stream",
     "text": [
      "Tienda: s_20\n"
     ]
    },
    {
     "data": {
      "image/png": "[encoded data removed]",
      "text/plain": [
       "<Figure size 864x432 with 1 Axes>"
      ]
     },
     "metadata": {},
     "output_type": "display_data"
    }
   ],
   "source": [
    "print('Tienda:',vnames[0])\n",
    "sns.lineplot(data=test, x = 'ds',y ='y', label='test');\n",
    "sns.lineplot(data=train, x = 'ds',y ='y', label='train');"
   ]
  },
  {
   "cell_type": "code",
   "execution_count": 378,
   "id": "cb79848a-6db2-47a7-847c-587ac3ae8afb",
   "metadata": {
    "tags": []
   },
   "outputs": [
    {
     "name": "stdout",
     "output_type": "stream",
     "text": [
      "Tienda: s_20\n"
     ]
    },
    {
     "data": {
      "image/png": "[encoded data removed]",
      "text/plain": [
       "<Figure size 720x576 with 2 Axes>"
      ]
     },
     "metadata": {},
     "output_type": "display_data"
    }
   ],
   "source": [
    "print('Tienda:',vnames[0])\n",
    "fig, axs = plt.subplots(2,figsize=(10,8))\n",
    "sns.boxplot(train['y'], ax=axs[0]).set_title(\"train\")\n",
    "sns.boxplot(test['y'], ax=axs[1]).set_title('test')\n",
    "fig.subplots_adjust(hspace=0.3)"
   ]
  },
  {
   "cell_type": "markdown",
   "id": "47959920-cd8c-48a6-9384-987e148ae93d",
   "metadata": {},
   "source": [
    "## Cross Validation"
   ]
  },
  {
   "cell_type": "code",
   "execution_count": 379,
   "id": "169c4d2c-94ec-4fdc-add4-8c91800fad9f",
   "metadata": {},
   "outputs": [
    {
     "name": "stdout",
     "output_type": "stream",
     "text": [
      "data:  33 train:  21 test:  12\n"
     ]
    }
   ],
   "source": [
    "print('data: ', len(s_t),'train: ',len(train),'test: ',len(test))"
   ]
  },
  {
   "cell_type": "markdown",
   "id": "34c8ab4e-c570-4959-8e70-dfe06d4cbc87",
   "metadata": {},
   "source": [
    "#### Intanciar al modelo y entrenarlo"
   ]
  },
  {
   "cell_type": "code",
   "execution_count": 126,
   "id": "34016832-d639-4743-adc1-c03950cbbf6d",
   "metadata": {
    "collapsed": true,
    "jupyter": {
     "outputs_hidden": true
    },
    "tags": []
   },
   "outputs": [
    {
     "name": "stderr",
     "output_type": "stream",
     "text": [
      "12:59:35 - cmdstanpy - INFO - Chain [1] start processing\n",
      "12:59:35 - cmdstanpy - INFO - Chain [1] done processing\n"
     ]
    },
    {
     "data": {
      "application/vnd.jupyter.widget-view+json": {
       "model_id": "05fd35f3cce644a9a8128ad783982ee0",
       "version_major": 2,
       "version_minor": 0
      },
      "text/plain": [
       "  0%|          | 0/10 [00:00<?, ?it/s]"
      ]
     },
     "metadata": {},
     "output_type": "display_data"
    },
    {
     "name": "stderr",
     "output_type": "stream",
     "text": [
      "12:59:36 - cmdstanpy - INFO - Chain [1] start processing\n",
      "12:59:36 - cmdstanpy - INFO - Chain [1] done processing\n",
      "12:59:36 - cmdstanpy - INFO - Chain [1] start processing\n",
      "12:59:36 - cmdstanpy - INFO - Chain [1] done processing\n",
      "12:59:37 - cmdstanpy - INFO - Chain [1] start processing\n",
      "12:59:37 - cmdstanpy - INFO - Chain [1] done processing\n",
      "12:59:37 - cmdstanpy - INFO - Chain [1] start processing\n",
      "12:59:37 - cmdstanpy - INFO - Chain [1] done processing\n",
      "12:59:37 - cmdstanpy - INFO - Chain [1] start processing\n",
      "12:59:38 - cmdstanpy - INFO - Chain [1] done processing\n",
      "12:59:38 - cmdstanpy - INFO - Chain [1] start processing\n",
      "12:59:38 - cmdstanpy - INFO - Chain [1] done processing\n",
      "12:59:38 - cmdstanpy - INFO - Chain [1] start processing\n",
      "12:59:38 - cmdstanpy - INFO - Chain [1] done processing\n",
      "12:59:39 - cmdstanpy - INFO - Chain [1] start processing\n",
      "12:59:39 - cmdstanpy - INFO - Chain [1] done processing\n",
      "12:59:39 - cmdstanpy - INFO - Chain [1] start processing\n",
      "12:59:39 - cmdstanpy - INFO - Chain [1] done processing\n",
      "12:59:40 - cmdstanpy - INFO - Chain [1] start processing\n",
      "12:59:40 - cmdstanpy - INFO - Chain [1] done processing\n"
     ]
    }
   ],
   "source": [
    "m = Prophet()\n",
    "m.fit(train)\n",
    "from prophet.diagnostics import cross_validation\n",
    "df_cv = cross_validation(m, initial = '210 days', period ='35 days' , horizon ='70 days') #510,120,60"
   ]
  },
  {
   "cell_type": "code",
   "execution_count": 61,
   "id": "93c7850f-6c1b-4ff3-aa68-59248306d78d",
   "metadata": {
    "collapsed": true,
    "jupyter": {
     "outputs_hidden": true
    },
    "tags": []
   },
   "outputs": [
    {
     "data": {
      "text/html": [
       "<div>\n",
       "<style scoped>\n",
       "    .dataframe tbody tr th:only-of-type {\n",
       "        vertical-align: middle;\n",
       "    }\n",
       "\n",
       "    .dataframe tbody tr th {\n",
       "        vertical-align: top;\n",
       "    }\n",
       "\n",
       "    .dataframe thead th {\n",
       "        text-align: right;\n",
       "    }\n",
       "</style>\n",
       "<table border=\"1\" class=\"dataframe\">\n",
       "  <thead>\n",
       "    <tr style=\"text-align: right;\">\n",
       "      <th></th>\n",
       "      <th>ds</th>\n",
       "      <th>yhat</th>\n",
       "      <th>yhat_lower</th>\n",
       "      <th>yhat_upper</th>\n",
       "      <th>y</th>\n",
       "      <th>cutoff</th>\n",
       "    </tr>\n",
       "  </thead>\n",
       "  <tbody>\n",
       "    <tr>\n",
       "      <th>0</th>\n",
       "      <td>2010-10-01</td>\n",
       "      <td>1,965,251.57</td>\n",
       "      <td>1,911,440.81</td>\n",
       "      <td>2,014,990.29</td>\n",
       "      <td>1,946,111.23</td>\n",
       "      <td>2010-09-11</td>\n",
       "    </tr>\n",
       "    <tr>\n",
       "      <th>1</th>\n",
       "      <td>2010-11-01</td>\n",
       "      <td>1,949,690.48</td>\n",
       "      <td>1,898,330.43</td>\n",
       "      <td>2,005,561.52</td>\n",
       "      <td>2,322,193.72</td>\n",
       "      <td>2010-09-11</td>\n",
       "    </tr>\n",
       "    <tr>\n",
       "      <th>2</th>\n",
       "      <td>2010-11-01</td>\n",
       "      <td>1,941,601.61</td>\n",
       "      <td>1,890,080.96</td>\n",
       "      <td>1,993,685.47</td>\n",
       "      <td>2,322,193.72</td>\n",
       "      <td>2010-10-16</td>\n",
       "    </tr>\n",
       "    <tr>\n",
       "      <th>3</th>\n",
       "      <td>2010-12-01</td>\n",
       "      <td>1,925,354.83</td>\n",
       "      <td>1,872,830.23</td>\n",
       "      <td>1,977,035.12</td>\n",
       "      <td>2,710,758.33</td>\n",
       "      <td>2010-10-16</td>\n",
       "    </tr>\n",
       "    <tr>\n",
       "      <th>4</th>\n",
       "      <td>2010-12-01</td>\n",
       "      <td>2,078,000.88</td>\n",
       "      <td>1,938,078.62</td>\n",
       "      <td>2,206,347.54</td>\n",
       "      <td>2,710,758.33</td>\n",
       "      <td>2010-11-20</td>\n",
       "    </tr>\n",
       "  </tbody>\n",
       "</table>\n",
       "</div>"
      ],
      "text/plain": [
       "          ds         yhat   yhat_lower   yhat_upper            y     cutoff\n",
       "0 2010-10-01 1,965,251.57 1,911,440.81 2,014,990.29 1,946,111.23 2010-09-11\n",
       "1 2010-11-01 1,949,690.48 1,898,330.43 2,005,561.52 2,322,193.72 2010-09-11\n",
       "2 2010-11-01 1,941,601.61 1,890,080.96 1,993,685.47 2,322,193.72 2010-10-16\n",
       "3 2010-12-01 1,925,354.83 1,872,830.23 1,977,035.12 2,710,758.33 2010-10-16\n",
       "4 2010-12-01 2,078,000.88 1,938,078.62 2,206,347.54 2,710,758.33 2010-11-20"
      ]
     },
     "execution_count": 61,
     "metadata": {},
     "output_type": "execute_result"
    }
   ],
   "source": [
    "df_cv.head()"
   ]
  },
  {
   "cell_type": "code",
   "execution_count": 127,
   "id": "b839f75b-8dbf-4530-98d1-c5a1ef6d7944",
   "metadata": {
    "collapsed": true,
    "jupyter": {
     "outputs_hidden": true
    },
    "tags": []
   },
   "outputs": [
    {
     "data": {
      "application/vnd.jupyter.widget-view+json": {
       "model_id": "d559bd361b074939b3f3c74c336ca5f8",
       "version_major": 2,
       "version_minor": 0
      },
      "text/plain": [
       "  0%|          | 0/3 [00:00<?, ?it/s]"
      ]
     },
     "metadata": {},
     "output_type": "display_data"
    },
    {
     "name": "stderr",
     "output_type": "stream",
     "text": [
      "12:59:42 - cmdstanpy - INFO - Chain [1] start processing\n",
      "12:59:42 - cmdstanpy - INFO - Chain [1] done processing\n",
      "12:59:42 - cmdstanpy - INFO - Chain [1] start processing\n",
      "12:59:42 - cmdstanpy - INFO - Chain [1] done processing\n",
      "12:59:42 - cmdstanpy - INFO - Chain [1] start processing\n",
      "12:59:42 - cmdstanpy - INFO - Chain [1] done processing\n"
     ]
    }
   ],
   "source": [
    "cutoffs = pd.to_datetime(['2010-10-01','2010-12-01','2010-09-01'])\n",
    "df_cv2 = cross_validation(m,cutoffs=cutoffs, horizon = '120 days')"
   ]
  },
  {
   "cell_type": "code",
   "execution_count": 128,
   "id": "feb59570-6093-432b-bbe4-c3ecf1003395",
   "metadata": {
    "tags": []
   },
   "outputs": [],
   "source": [
    "from prophet.diagnostics import performance_metrics\n",
    "df_p = performance_metrics(df_cv)\n",
    "df_p2 = performance_metrics(df_cv2)"
   ]
  },
  {
   "cell_type": "code",
   "execution_count": 129,
   "id": "f3c0c63d-9bcf-4d49-a23d-110c3182e1cc",
   "metadata": {
    "collapsed": true,
    "jupyter": {
     "outputs_hidden": true
    },
    "tags": []
   },
   "outputs": [
    {
     "data": {
      "text/html": [
       "<div>\n",
       "<style scoped>\n",
       "    .dataframe tbody tr th:only-of-type {\n",
       "        vertical-align: middle;\n",
       "    }\n",
       "\n",
       "    .dataframe tbody tr th {\n",
       "        vertical-align: top;\n",
       "    }\n",
       "\n",
       "    .dataframe thead th {\n",
       "        text-align: right;\n",
       "    }\n",
       "</style>\n",
       "<table border=\"1\" class=\"dataframe\">\n",
       "  <thead>\n",
       "    <tr style=\"text-align: right;\">\n",
       "      <th></th>\n",
       "      <th>horizon</th>\n",
       "      <th>mse</th>\n",
       "      <th>rmse</th>\n",
       "      <th>mae</th>\n",
       "      <th>mape</th>\n",
       "      <th>mdape</th>\n",
       "      <th>smape</th>\n",
       "      <th>coverage</th>\n",
       "    </tr>\n",
       "  </thead>\n",
       "  <tbody>\n",
       "    <tr>\n",
       "      <th>0</th>\n",
       "      <td>7 days</td>\n",
       "      <td>122,720,079,927.16</td>\n",
       "      <td>350,314.26</td>\n",
       "      <td>255,149.98</td>\n",
       "      <td>0.14</td>\n",
       "      <td>0.14</td>\n",
       "      <td>0.12</td>\n",
       "      <td>0.50</td>\n",
       "    </tr>\n",
       "    <tr>\n",
       "      <th>1</th>\n",
       "      <td>9 days</td>\n",
       "      <td>123,460,495,377.11</td>\n",
       "      <td>351,369.46</td>\n",
       "      <td>268,265.46</td>\n",
       "      <td>0.15</td>\n",
       "      <td>0.15</td>\n",
       "      <td>0.13</td>\n",
       "      <td>0.50</td>\n",
       "    </tr>\n",
       "    <tr>\n",
       "      <th>2</th>\n",
       "      <td>11 days</td>\n",
       "      <td>201,045,584,995.05</td>\n",
       "      <td>448,381.07</td>\n",
       "      <td>337,049.85</td>\n",
       "      <td>0.13</td>\n",
       "      <td>0.13</td>\n",
       "      <td>0.14</td>\n",
       "      <td>0.50</td>\n",
       "    </tr>\n",
       "    <tr>\n",
       "      <th>3</th>\n",
       "      <td>13 days</td>\n",
       "      <td>204,559,405,278.31</td>\n",
       "      <td>452,282.44</td>\n",
       "      <td>363,114.21</td>\n",
       "      <td>0.14</td>\n",
       "      <td>0.14</td>\n",
       "      <td>0.15</td>\n",
       "      <td>0.50</td>\n",
       "    </tr>\n",
       "    <tr>\n",
       "      <th>4</th>\n",
       "      <td>16 days</td>\n",
       "      <td>76,793,586,633.67</td>\n",
       "      <td>277,116.56</td>\n",
       "      <td>237,031.54</td>\n",
       "      <td>0.11</td>\n",
       "      <td>0.11</td>\n",
       "      <td>0.11</td>\n",
       "      <td>0.50</td>\n",
       "    </tr>\n",
       "  </tbody>\n",
       "</table>\n",
       "</div>"
      ],
      "text/plain": [
       "  horizon                mse       rmse        mae  mape  mdape  smape  \\\n",
       "0  7 days 122,720,079,927.16 350,314.26 255,149.98  0.14   0.14   0.12   \n",
       "1  9 days 123,460,495,377.11 351,369.46 268,265.46  0.15   0.15   0.13   \n",
       "2 11 days 201,045,584,995.05 448,381.07 337,049.85  0.13   0.13   0.14   \n",
       "3 13 days 204,559,405,278.31 452,282.44 363,114.21  0.14   0.14   0.15   \n",
       "4 16 days  76,793,586,633.67 277,116.56 237,031.54  0.11   0.11   0.11   \n",
       "\n",
       "   coverage  \n",
       "0      0.50  \n",
       "1      0.50  \n",
       "2      0.50  \n",
       "3      0.50  \n",
       "4      0.50  "
      ]
     },
     "execution_count": 129,
     "metadata": {},
     "output_type": "execute_result"
    }
   ],
   "source": [
    "df_p.head()"
   ]
  },
  {
   "cell_type": "code",
   "execution_count": 130,
   "id": "834cf552-f549-45b7-aaff-1288642d6c4c",
   "metadata": {
    "collapsed": true,
    "jupyter": {
     "outputs_hidden": true
    },
    "tags": []
   },
   "outputs": [
    {
     "data": {
      "text/html": [
       "<div>\n",
       "<style scoped>\n",
       "    .dataframe tbody tr th:only-of-type {\n",
       "        vertical-align: middle;\n",
       "    }\n",
       "\n",
       "    .dataframe tbody tr th {\n",
       "        vertical-align: top;\n",
       "    }\n",
       "\n",
       "    .dataframe thead th {\n",
       "        text-align: right;\n",
       "    }\n",
       "</style>\n",
       "<table border=\"1\" class=\"dataframe\">\n",
       "  <thead>\n",
       "    <tr style=\"text-align: right;\">\n",
       "      <th></th>\n",
       "      <th>horizon</th>\n",
       "      <th>mse</th>\n",
       "      <th>rmse</th>\n",
       "      <th>mae</th>\n",
       "      <th>mape</th>\n",
       "      <th>mdape</th>\n",
       "      <th>smape</th>\n",
       "      <th>coverage</th>\n",
       "    </tr>\n",
       "  </thead>\n",
       "  <tbody>\n",
       "    <tr>\n",
       "      <th>0</th>\n",
       "      <td>30 days</td>\n",
       "      <td>366,352,846.54</td>\n",
       "      <td>19,140.35</td>\n",
       "      <td>19,140.35</td>\n",
       "      <td>0.01</td>\n",
       "      <td>0.01</td>\n",
       "      <td>0.01</td>\n",
       "      <td>1.00</td>\n",
       "    </tr>\n",
       "    <tr>\n",
       "      <th>1</th>\n",
       "      <td>31 days</td>\n",
       "      <td>195,031,079,593.37</td>\n",
       "      <td>441,623.23</td>\n",
       "      <td>437,890.38</td>\n",
       "      <td>0.22</td>\n",
       "      <td>0.22</td>\n",
       "      <td>0.21</td>\n",
       "      <td>0.00</td>\n",
       "    </tr>\n",
       "    <tr>\n",
       "      <th>2</th>\n",
       "      <td>61 days</td>\n",
       "      <td>377,808,662,754.97</td>\n",
       "      <td>614,661.42</td>\n",
       "      <td>578,953.37</td>\n",
       "      <td>0.23</td>\n",
       "      <td>0.23</td>\n",
       "      <td>0.26</td>\n",
       "      <td>0.00</td>\n",
       "    </tr>\n",
       "    <tr>\n",
       "      <th>3</th>\n",
       "      <td>62 days</td>\n",
       "      <td>24,517,582,460.45</td>\n",
       "      <td>156,580.91</td>\n",
       "      <td>156,580.91</td>\n",
       "      <td>0.07</td>\n",
       "      <td>0.07</td>\n",
       "      <td>0.07</td>\n",
       "      <td>1.00</td>\n",
       "    </tr>\n",
       "    <tr>\n",
       "      <th>4</th>\n",
       "      <td>90 days</td>\n",
       "      <td>163,407,900,328.44</td>\n",
       "      <td>404,237.43</td>\n",
       "      <td>404,237.43</td>\n",
       "      <td>0.20</td>\n",
       "      <td>0.20</td>\n",
       "      <td>0.19</td>\n",
       "      <td>0.00</td>\n",
       "    </tr>\n",
       "  </tbody>\n",
       "</table>\n",
       "</div>"
      ],
      "text/plain": [
       "  horizon                mse       rmse        mae  mape  mdape  smape  \\\n",
       "0 30 days     366,352,846.54  19,140.35  19,140.35  0.01   0.01   0.01   \n",
       "1 31 days 195,031,079,593.37 441,623.23 437,890.38  0.22   0.22   0.21   \n",
       "2 61 days 377,808,662,754.97 614,661.42 578,953.37  0.23   0.23   0.26   \n",
       "3 62 days  24,517,582,460.45 156,580.91 156,580.91  0.07   0.07   0.07   \n",
       "4 90 days 163,407,900,328.44 404,237.43 404,237.43  0.20   0.20   0.19   \n",
       "\n",
       "   coverage  \n",
       "0      1.00  \n",
       "1      0.00  \n",
       "2      0.00  \n",
       "3      1.00  \n",
       "4      0.00  "
      ]
     },
     "execution_count": 130,
     "metadata": {},
     "output_type": "execute_result"
    }
   ],
   "source": [
    "df_p2.head()"
   ]
  },
  {
   "cell_type": "code",
   "execution_count": 71,
   "id": "7fb88a11-0b39-43cc-ba91-1309f8e7a8b5",
   "metadata": {
    "collapsed": true,
    "jupyter": {
     "outputs_hidden": true
    },
    "tags": []
   },
   "outputs": [
    {
     "data": {
      "image/png": "[encoded data removed]",
      "text/plain": [
       "<Figure size 720x432 with 1 Axes>"
      ]
     },
     "metadata": {},
     "output_type": "display_data"
    }
   ],
   "source": [
    "from prophet.plot import plot_cross_validation_metric\n",
    "fig = plot_cross_validation_metric(df_cv, metric='mape')"
   ]
  },
  {
   "cell_type": "code",
   "execution_count": 72,
   "id": "c8bf880c-b1ee-4c5e-8ee9-e4bbdb8f0193",
   "metadata": {
    "collapsed": true,
    "jupyter": {
     "outputs_hidden": true
    },
    "tags": []
   },
   "outputs": [
    {
     "data": {
      "image/png": "[encoded data removed]",
      "text/plain": [
       "<Figure size 720x432 with 1 Axes>"
      ]
     },
     "metadata": {},
     "output_type": "display_data"
    }
   ],
   "source": [
    "from prophet.plot import plot_cross_validation_metric\n",
    "fig = plot_cross_validation_metric(df_cv2, metric='mape')"
   ]
  },
  {
   "cell_type": "code",
   "execution_count": 131,
   "id": "0833ac6a-6a46-46cb-8bcf-48256c6afa8c",
   "metadata": {
    "collapsed": true,
    "jupyter": {
     "outputs_hidden": true
    },
    "tags": []
   },
   "outputs": [
    {
     "name": "stderr",
     "output_type": "stream",
     "text": [
      "13:00:08 - cmdstanpy - INFO - Chain [1] start processing\n",
      "13:00:11 - cmdstanpy - INFO - Chain [1] done processing\n",
      "13:00:14 - cmdstanpy - INFO - Chain [1] start processing\n",
      "13:00:17 - cmdstanpy - INFO - Chain [1] done processing\n",
      "13:00:21 - cmdstanpy - INFO - Chain [1] start processing\n",
      "13:00:24 - cmdstanpy - INFO - Chain [1] done processing\n",
      "13:00:28 - cmdstanpy - INFO - Chain [1] start processing\n",
      "13:00:31 - cmdstanpy - INFO - Chain [1] done processing\n",
      "13:00:35 - cmdstanpy - INFO - Chain [1] start processing\n",
      "13:00:35 - cmdstanpy - INFO - Chain [1] done processing\n",
      "13:00:39 - cmdstanpy - INFO - Chain [1] start processing\n",
      "13:00:39 - cmdstanpy - INFO - Chain [1] done processing\n",
      "13:00:43 - cmdstanpy - INFO - Chain [1] start processing\n",
      "13:00:43 - cmdstanpy - INFO - Chain [1] done processing\n",
      "13:00:46 - cmdstanpy - INFO - Chain [1] start processing\n",
      "13:00:47 - cmdstanpy - INFO - Chain [1] done processing\n",
      "13:00:50 - cmdstanpy - INFO - Chain [1] start processing\n",
      "13:00:50 - cmdstanpy - INFO - Chain [1] done processing\n",
      "13:00:54 - cmdstanpy - INFO - Chain [1] start processing\n",
      "13:00:54 - cmdstanpy - INFO - Chain [1] done processing\n",
      "13:00:58 - cmdstanpy - INFO - Chain [1] start processing\n",
      "13:00:58 - cmdstanpy - INFO - Chain [1] done processing\n",
      "13:01:02 - cmdstanpy - INFO - Chain [1] start processing\n",
      "13:01:02 - cmdstanpy - INFO - Chain [1] done processing\n",
      "13:01:06 - cmdstanpy - INFO - Chain [1] start processing\n",
      "13:01:06 - cmdstanpy - INFO - Chain [1] done processing\n",
      "13:01:10 - cmdstanpy - INFO - Chain [1] start processing\n",
      "13:01:10 - cmdstanpy - INFO - Chain [1] done processing\n",
      "13:01:14 - cmdstanpy - INFO - Chain [1] start processing\n",
      "13:01:14 - cmdstanpy - INFO - Chain [1] done processing\n",
      "13:01:18 - cmdstanpy - INFO - Chain [1] start processing\n",
      "13:01:18 - cmdstanpy - INFO - Chain [1] done processing\n"
     ]
    },
    {
     "name": "stdout",
     "output_type": "stream",
     "text": [
      "    changepoint_prior_scale  seasonality_prior_scale       rmse\n",
      "0                      0.00                     0.01 439,574.93\n",
      "1                      0.00                     0.10 439,574.93\n",
      "2                      0.00                     1.00 439,574.93\n",
      "3                      0.00                    10.00 439,574.93\n",
      "4                      0.01                     0.01 437,390.06\n",
      "5                      0.01                     0.10 437,390.06\n",
      "6                      0.01                     1.00 437,390.06\n",
      "7                      0.01                    10.00 437,390.06\n",
      "8                      0.10                     0.01 448,216.16\n",
      "9                      0.10                     0.10 448,216.16\n",
      "10                     0.10                     1.00 448,216.16\n",
      "11                     0.10                    10.00 448,216.16\n",
      "12                     0.50                     0.01 808,644.80\n",
      "13                     0.50                     0.10 808,644.80\n",
      "14                     0.50                     1.00 808,644.80\n",
      "15                     0.50                    10.00 808,644.80\n"
     ]
    }
   ],
   "source": [
    "# Python\n",
    "import itertools\n",
    "import numpy as np\n",
    "import pandas as pd\n",
    "\n",
    "param_grid = {  \n",
    "    'changepoint_prior_scale': [0.0001, 0.01, 0.1, 0.5],\n",
    "    'seasonality_prior_scale': [0.01, 0.1, 1.0, 10.0],\n",
    "}\n",
    "\n",
    "# Generate all combinations of parameters\n",
    "all_params = [dict(zip(param_grid.keys(), v)) for v in itertools.product(*param_grid.values())]\n",
    "rmses = []  # Store the RMSEs for each params here\n",
    "# cutoffs = pd.to_datetime(['2010-10-01','2010-12-01','2010-09-01'])\n",
    "\n",
    "# Use cross validation to evaluate all parameters\n",
    "for params in all_params:\n",
    "    m = Prophet(**params).fit(train)  # Fit model with given params\n",
    "    df_cv = cross_validation(m, cutoffs=cutoffs, horizon='90 days', parallel=\"processes\")\n",
    "    df_p = performance_metrics(df_cv, rolling_window=1)\n",
    "    rmses.append(df_p['rmse'].values[0])\n",
    "\n",
    "# Find the best parameters\n",
    "tuning_results = pd.DataFrame(all_params)\n",
    "tuning_results['rmse'] = rmses\n",
    "print(tuning_results)"
   ]
  },
  {
   "cell_type": "code",
   "execution_count": 132,
   "id": "5f455f83-2b81-4680-a943-461d3fd32d9b",
   "metadata": {},
   "outputs": [
    {
     "name": "stdout",
     "output_type": "stream",
     "text": [
      "{'changepoint_prior_scale': 0.01, 'seasonality_prior_scale': 0.01}\n"
     ]
    }
   ],
   "source": [
    "best_params = all_params[np.argmin(rmses)]\n",
    "print(best_params)"
   ]
  },
  {
   "cell_type": "code",
   "execution_count": 363,
   "id": "bb3a8a77-c15b-4ce4-acc1-69a388ecbfab",
   "metadata": {},
   "outputs": [],
   "source": [
    "pr = 12\n",
    "s_t = s_14\n",
    "train, test = tra_tes(s_t,pr)"
   ]
  },
  {
   "cell_type": "code",
   "execution_count": 364,
   "id": "db77ecd9-c0f9-4bd5-a1bc-020d042d4734",
   "metadata": {},
   "outputs": [
    {
     "name": "stderr",
     "output_type": "stream",
     "text": [
      "13:18:28 - cmdstanpy - INFO - CmdStan installation C:\\ProgramData\\Anaconda3\\lib\\site-packages\\prophet\\stan_model\\cmdstan-2.26.1 missing makefile, cannot get version.\n",
      "13:18:28 - cmdstanpy - INFO - Cannot determine whether version is before 2.28.\n",
      "13:18:28 - cmdstanpy - INFO - CmdStan start processing\n",
      "13:18:28 - cmdstanpy - INFO - Chain [1] start processing\n",
      "13:18:28 - cmdstanpy - INFO - Chain [2] start processing\n",
      "13:18:28 - cmdstanpy - INFO - Chain [3] start processing\n",
      "13:18:28 - cmdstanpy - INFO - Chain [4] start processing\n",
      "13:18:28 - cmdstanpy - INFO - Chain [1] done processing\n",
      "13:18:28 - cmdstanpy - INFO - Chain [3] done processing\n",
      "13:18:28 - cmdstanpy - INFO - Chain [2] done processing\n",
      "13:18:28 - cmdstanpy - INFO - Chain [4] done processing\n",
      "13:18:28 - cmdstanpy - WARNING - Non-fatal error during sampling:\n",
      "Exception: normal_id_glm_lpdf: Scale vector is 0, but must be positive finite! (in 'D:/a/prophet/prophet/python/stan/prophet.stan', line 137, column 2 to line 142, column 4)\n",
      "Exception: normal_id_glm_lpdf: Scale vector is 0, but must be positive finite! (in 'D:/a/prophet/prophet/python/stan/prophet.stan', line 137, column 2 to line 142, column 4)\n",
      "Exception: normal_id_glm_lpdf: Scale vector is 0, but must be positive finite! (in 'D:/a/prophet/prophet/python/stan/prophet.stan', line 137, column 2 to line 142, column 4)\n",
      "Exception: normal_id_glm_lpdf: Scale vector is 0, but must be positive finite! (in 'D:/a/prophet/prophet/python/stan/prophet.stan', line 137, column 2 to line 142, column 4)\n",
      "Consider re-running with show_console=True if the above output is unclear!\n"
     ]
    },
    {
     "data": {
      "text/plain": [
       "<prophet.forecaster.Prophet at 0x25c6dae7d00>"
      ]
     },
     "execution_count": 364,
     "metadata": {},
     "output_type": "execute_result"
    }
   ],
   "source": [
    "cps =0.01\n",
    "sps =0.01\n",
    "iw =0.95 #.80 por default (Parametro de certidumbre hacia el futuro)\n",
    "ys =10 # Que tan rapido puede cambiar la estacionalidad, *10,19\n",
    "sm ='additive'  # por default 'multiplicative'-''additive'\n",
    "mcmc = 300   #habia guardado 2,45,80\n",
    "cr = 0.8 #, changepoint_range=cr\n",
    "m = Prophet(changepoint_prior_scale=cps,seasonality_prior_scale=sps,interval_width=iw,yearly_seasonality=ys,seasonality_mode = sm,mcmc_samples=mcmc,changepoint_range=cr)\n",
    "m.fit(train,show_progress=False)"
   ]
  },
  {
   "cell_type": "markdown",
   "id": "ce58df4f-ae0b-4407-bf53-8251c1db8a9c",
   "metadata": {},
   "source": [
    "#### Construir futuro"
   ]
  },
  {
   "cell_type": "code",
   "execution_count": 365,
   "id": "a317595b-07d7-4d6f-8852-10ea1ffa0491",
   "metadata": {
    "tags": []
   },
   "outputs": [
    {
     "data": {
      "text/html": [
       "<div>\n",
       "<style scoped>\n",
       "    .dataframe tbody tr th:only-of-type {\n",
       "        vertical-align: middle;\n",
       "    }\n",
       "\n",
       "    .dataframe tbody tr th {\n",
       "        vertical-align: top;\n",
       "    }\n",
       "\n",
       "    .dataframe thead th {\n",
       "        text-align: right;\n",
       "    }\n",
       "</style>\n",
       "<table border=\"1\" class=\"dataframe\">\n",
       "  <thead>\n",
       "    <tr style=\"text-align: right;\">\n",
       "      <th></th>\n",
       "      <th>ds</th>\n",
       "      <th>trend</th>\n",
       "      <th>yhat_lower</th>\n",
       "      <th>yhat_upper</th>\n",
       "      <th>trend_lower</th>\n",
       "      <th>trend_upper</th>\n",
       "      <th>additive_terms</th>\n",
       "      <th>additive_terms_lower</th>\n",
       "      <th>additive_terms_upper</th>\n",
       "      <th>yearly</th>\n",
       "      <th>yearly_lower</th>\n",
       "      <th>yearly_upper</th>\n",
       "      <th>multiplicative_terms</th>\n",
       "      <th>multiplicative_terms_lower</th>\n",
       "      <th>multiplicative_terms_upper</th>\n",
       "      <th>yhat</th>\n",
       "    </tr>\n",
       "  </thead>\n",
       "  <tbody>\n",
       "    <tr>\n",
       "      <th>28</th>\n",
       "      <td>2012-06-01</td>\n",
       "      <td>1,882,425.45</td>\n",
       "      <td>1,554,532.77</td>\n",
       "      <td>2,270,209.34</td>\n",
       "      <td>1,672,889.34</td>\n",
       "      <td>2,103,777.37</td>\n",
       "      <td>42,001.75</td>\n",
       "      <td>-80,702.41</td>\n",
       "      <td>155,359.92</td>\n",
       "      <td>42,001.75</td>\n",
       "      <td>-80,702.41</td>\n",
       "      <td>155,359.92</td>\n",
       "      <td>0.00</td>\n",
       "      <td>0.00</td>\n",
       "      <td>0.00</td>\n",
       "      <td>1,924,427.20</td>\n",
       "    </tr>\n",
       "    <tr>\n",
       "      <th>29</th>\n",
       "      <td>2012-07-01</td>\n",
       "      <td>1,871,012.73</td>\n",
       "      <td>1,484,208.34</td>\n",
       "      <td>2,257,491.22</td>\n",
       "      <td>1,647,886.67</td>\n",
       "      <td>2,107,553.13</td>\n",
       "      <td>-6,436.42</td>\n",
       "      <td>-141,195.07</td>\n",
       "      <td>115,299.84</td>\n",
       "      <td>-6,436.42</td>\n",
       "      <td>-141,195.07</td>\n",
       "      <td>115,299.84</td>\n",
       "      <td>0.00</td>\n",
       "      <td>0.00</td>\n",
       "      <td>0.00</td>\n",
       "      <td>1,864,576.31</td>\n",
       "    </tr>\n",
       "    <tr>\n",
       "      <th>30</th>\n",
       "      <td>2012-08-01</td>\n",
       "      <td>1,859,219.60</td>\n",
       "      <td>1,450,548.95</td>\n",
       "      <td>2,265,228.39</td>\n",
       "      <td>1,622,364.18</td>\n",
       "      <td>2,104,613.98</td>\n",
       "      <td>-4,321.45</td>\n",
       "      <td>-119,383.33</td>\n",
       "      <td>119,229.86</td>\n",
       "      <td>-4,321.45</td>\n",
       "      <td>-119,383.33</td>\n",
       "      <td>119,229.86</td>\n",
       "      <td>0.00</td>\n",
       "      <td>0.00</td>\n",
       "      <td>0.00</td>\n",
       "      <td>1,854,898.15</td>\n",
       "    </tr>\n",
       "    <tr>\n",
       "      <th>31</th>\n",
       "      <td>2012-09-01</td>\n",
       "      <td>1,847,426.46</td>\n",
       "      <td>1,381,304.31</td>\n",
       "      <td>2,181,566.83</td>\n",
       "      <td>1,594,138.97</td>\n",
       "      <td>2,104,949.05</td>\n",
       "      <td>-43,492.18</td>\n",
       "      <td>-170,234.44</td>\n",
       "      <td>81,467.72</td>\n",
       "      <td>-43,492.18</td>\n",
       "      <td>-170,234.44</td>\n",
       "      <td>81,467.72</td>\n",
       "      <td>0.00</td>\n",
       "      <td>0.00</td>\n",
       "      <td>0.00</td>\n",
       "      <td>1,803,934.29</td>\n",
       "    </tr>\n",
       "    <tr>\n",
       "      <th>32</th>\n",
       "      <td>2012-10-01</td>\n",
       "      <td>1,836,013.75</td>\n",
       "      <td>1,388,390.58</td>\n",
       "      <td>2,221,274.54</td>\n",
       "      <td>1,565,876.33</td>\n",
       "      <td>2,107,177.96</td>\n",
       "      <td>-33,808.45</td>\n",
       "      <td>-159,995.16</td>\n",
       "      <td>96,247.11</td>\n",
       "      <td>-33,808.45</td>\n",
       "      <td>-159,995.16</td>\n",
       "      <td>96,247.11</td>\n",
       "      <td>0.00</td>\n",
       "      <td>0.00</td>\n",
       "      <td>0.00</td>\n",
       "      <td>1,802,205.30</td>\n",
       "    </tr>\n",
       "  </tbody>\n",
       "</table>\n",
       "</div>"
      ],
      "text/plain": [
       "           ds        trend   yhat_lower   yhat_upper  trend_lower  \\\n",
       "28 2012-06-01 1,882,425.45 1,554,532.77 2,270,209.34 1,672,889.34   \n",
       "29 2012-07-01 1,871,012.73 1,484,208.34 2,257,491.22 1,647,886.67   \n",
       "30 2012-08-01 1,859,219.60 1,450,548.95 2,265,228.39 1,622,364.18   \n",
       "31 2012-09-01 1,847,426.46 1,381,304.31 2,181,566.83 1,594,138.97   \n",
       "32 2012-10-01 1,836,013.75 1,388,390.58 2,221,274.54 1,565,876.33   \n",
       "\n",
       "    trend_upper  additive_terms  additive_terms_lower  additive_terms_upper  \\\n",
       "28 2,103,777.37       42,001.75            -80,702.41            155,359.92   \n",
       "29 2,107,553.13       -6,436.42           -141,195.07            115,299.84   \n",
       "30 2,104,613.98       -4,321.45           -119,383.33            119,229.86   \n",
       "31 2,104,949.05      -43,492.18           -170,234.44             81,467.72   \n",
       "32 2,107,177.96      -33,808.45           -159,995.16             96,247.11   \n",
       "\n",
       "       yearly  yearly_lower  yearly_upper  multiplicative_terms  \\\n",
       "28  42,001.75    -80,702.41    155,359.92                  0.00   \n",
       "29  -6,436.42   -141,195.07    115,299.84                  0.00   \n",
       "30  -4,321.45   -119,383.33    119,229.86                  0.00   \n",
       "31 -43,492.18   -170,234.44     81,467.72                  0.00   \n",
       "32 -33,808.45   -159,995.16     96,247.11                  0.00   \n",
       "\n",
       "    multiplicative_terms_lower  multiplicative_terms_upper         yhat  \n",
       "28                        0.00                        0.00 1,924,427.20  \n",
       "29                        0.00                        0.00 1,864,576.31  \n",
       "30                        0.00                        0.00 1,854,898.15  \n",
       "31                        0.00                        0.00 1,803,934.29  \n",
       "32                        0.00                        0.00 1,802,205.30  "
      ]
     },
     "execution_count": 365,
     "metadata": {},
     "output_type": "execute_result"
    }
   ],
   "source": [
    "# El pr(perido) puede ser modififcado para calcular más semanas adelante,\n",
    "# en caso contrario tomará el valor que se le pasa al definir train y test\n",
    "# pr\n",
    "# MS:month-start y M:month end frequency\n",
    "fr = 'MS'\n",
    "future = m.make_future_dataframe(periods=pr, freq=fr)\n",
    "\n",
    "\n",
    "# Hacer predicciones\n",
    "forecast = m.predict(future)\n",
    "forecast.tail()"
   ]
  },
  {
   "cell_type": "code",
   "execution_count": 366,
   "id": "1ab7e238-b5b1-46e7-882b-67970ef37b7f",
   "metadata": {},
   "outputs": [
    {
     "name": "stdout",
     "output_type": "stream",
     "text": [
      "Tienda: s_20\n"
     ]
    },
    {
     "data": {
      "image/png": "[encoded data removed]",
      "text/plain": [
       "<Figure size 720x432 with 1 Axes>"
      ]
     },
     "metadata": {},
     "output_type": "display_data"
    }
   ],
   "source": [
    "print('Tienda:',vnames[0])\n",
    "plot = m.plot(forecast)\n",
    "\n",
    "\n",
    "# from prophet.plot import add_changepoints_to_plot\n",
    "# fig = m.plot(forecast)\n",
    "# a = add_changepoints_to_plot(fig.gca(), m, forecast)\n"
   ]
  },
  {
   "cell_type": "code",
   "execution_count": 367,
   "id": "6dd1ce7c-8874-4699-a2a7-4abeb41137b4",
   "metadata": {},
   "outputs": [
    {
     "name": "stdout",
     "output_type": "stream",
     "text": [
      "Tienda: s_20\n"
     ]
    },
    {
     "data": {
      "image/png": "[encoded data removed]",
      "text/plain": [
       "<Figure size 648x432 with 2 Axes>"
      ]
     },
     "metadata": {},
     "output_type": "display_data"
    }
   ],
   "source": [
    "print('Tienda:',vnames[0])\n",
    "plot2 = m.plot_components(forecast)"
   ]
  },
  {
   "cell_type": "code",
   "execution_count": 368,
   "id": "027d3ef6-3df9-4aff-a7ab-f0d75a7cdcb2",
   "metadata": {
    "tags": []
   },
   "outputs": [
    {
     "data": {
      "text/html": [
       "<div>\n",
       "<style scoped>\n",
       "    .dataframe tbody tr th:only-of-type {\n",
       "        vertical-align: middle;\n",
       "    }\n",
       "\n",
       "    .dataframe tbody tr th {\n",
       "        vertical-align: top;\n",
       "    }\n",
       "\n",
       "    .dataframe thead th {\n",
       "        text-align: right;\n",
       "    }\n",
       "</style>\n",
       "<table border=\"1\" class=\"dataframe\">\n",
       "  <thead>\n",
       "    <tr style=\"text-align: right;\">\n",
       "      <th></th>\n",
       "      <th>Date</th>\n",
       "      <th>Pred</th>\n",
       "    </tr>\n",
       "  </thead>\n",
       "  <tbody>\n",
       "    <tr>\n",
       "      <th>21</th>\n",
       "      <td>2011-11-01</td>\n",
       "      <td>2,003,914.60</td>\n",
       "    </tr>\n",
       "    <tr>\n",
       "      <th>22</th>\n",
       "      <td>2011-12-01</td>\n",
       "      <td>2,108,247.73</td>\n",
       "    </tr>\n",
       "    <tr>\n",
       "      <th>23</th>\n",
       "      <td>2012-01-01</td>\n",
       "      <td>1,835,286.36</td>\n",
       "    </tr>\n",
       "    <tr>\n",
       "      <th>24</th>\n",
       "      <td>2012-02-01</td>\n",
       "      <td>1,896,236.19</td>\n",
       "    </tr>\n",
       "    <tr>\n",
       "      <th>25</th>\n",
       "      <td>2012-03-01</td>\n",
       "      <td>1,885,076.00</td>\n",
       "    </tr>\n",
       "  </tbody>\n",
       "</table>\n",
       "</div>"
      ],
      "text/plain": [
       "         Date         Pred\n",
       "21 2011-11-01 2,003,914.60\n",
       "22 2011-12-01 2,108,247.73\n",
       "23 2012-01-01 1,835,286.36\n",
       "24 2012-02-01 1,896,236.19\n",
       "25 2012-03-01 1,885,076.00"
      ]
     },
     "execution_count": 368,
     "metadata": {},
     "output_type": "execute_result"
    }
   ],
   "source": [
    "pp = pd.DataFrame({'Date':forecast[-pr:]['ds'],'Pred':forecast[-pr:]['yhat']})\n",
    "pp.head()"
   ]
  },
  {
   "cell_type": "code",
   "execution_count": 369,
   "id": "f3578cdb-28bb-4566-8df9-c10c4f094f62",
   "metadata": {},
   "outputs": [],
   "source": [
    "train.columns = ['Date','Pred']\n",
    "test.columns = ['Date','Pred']\n",
    "\n",
    "x_train = train.Date\n",
    "y_train  = train.Pred\n",
    "x_test = test.Date\n",
    "y_test  = test.Pred\n",
    "x_pp = pp.Date\n",
    "y_pp = pp.Pred\n"
   ]
  },
  {
   "cell_type": "code",
   "execution_count": 370,
   "id": "a79e42fc-1957-4bca-8998-77e4620cbda9",
   "metadata": {},
   "outputs": [
    {
     "data": {
      "application/vnd.plotly.v1+json": {
       "config": {
        "plotlyServerURL": "https://plot.ly"
       },
       "data": [
        {
         "name": "prophet",
         "type": "scatter",
         "x": [
          "2011-11-01T00:00:00",
          "2011-12-01T00:00:00",
          "2012-01-01T00:00:00",
          "2012-02-01T00:00:00",
          "2012-03-01T00:00:00",
          "2012-04-01T00:00:00",
          "2012-05-01T00:00:00",
          "2012-06-01T00:00:00",
          "2012-07-01T00:00:00",
          "2012-08-01T00:00:00",
          "2012-09-01T00:00:00",
          "2012-10-01T00:00:00"
         ],
         "xaxis": "x",
         "y": [
          2003914.5965323774,
          2108247.725065647,
          1835286.3639215387,
          1896236.186723315,
          1885076.0041045332,
          1910112.0480967045,
          1906707.0896458891,
          1924427.2011878397,
          1864576.3101106882,
          1854898.1469970318,
          1803934.287413963,
          1802205.2980220697
         ],
         "yaxis": "y2"
        },
        {
         "name": "test",
         "type": "scatter",
         "x": [
          "2011-11-01T00:00:00",
          "2011-12-01T00:00:00",
          "2012-01-01T00:00:00",
          "2012-02-01T00:00:00",
          "2012-03-01T00:00:00",
          "2012-04-01T00:00:00",
          "2012-05-01T00:00:00",
          "2012-06-01T00:00:00",
          "2012-07-01T00:00:00",
          "2012-08-01T00:00:00",
          "2012-09-01T00:00:00",
          "2012-10-01T00:00:00"
         ],
         "xaxis": "x",
         "y": [
          2227575.9725,
          2498248.566,
          1734967.205,
          1962564.4375,
          1937273.1039999998,
          1987162.085,
          1974997.03,
          1861379.7899999998,
          1609829.03,
          1640214.662,
          1636792.805,
          1655452.5275
         ],
         "yaxis": "y"
        }
       ],
       "layout": {
        "height": 600,
        "template": {
         "data": {
          "bar": [
           {
            "error_x": {
             "color": "#2a3f5f"
            },
            "error_y": {
             "color": "#2a3f5f"
            },
            "marker": {
             "line": {
              "color": "#E5ECF6",
              "width": 0.5
             },
             "pattern": {
              "fillmode": "overlay",
              "size": 10,
              "solidity": 0.2
             }
            },
            "type": "bar"
           }
          ],
          "barpolar": [
           {
            "marker": {
             "line": {
              "color": "#E5ECF6",
              "width": 0.5
             },
             "pattern": {
              "fillmode": "overlay",
              "size": 10,
              "solidity": 0.2
             }
            },
            "type": "barpolar"
           }
          ],
          "carpet": [
           {
            "aaxis": {
             "endlinecolor": "#2a3f5f",
             "gridcolor": "white",
             "linecolor": "white",
             "minorgridcolor": "white",
             "startlinecolor": "#2a3f5f"
            },
            "baxis": {
             "endlinecolor": "#2a3f5f",
             "gridcolor": "white",
             "linecolor": "white",
             "minorgridcolor": "white",
             "startlinecolor": "#2a3f5f"
            },
            "type": "carpet"
           }
          ],
          "choropleth": [
           {
            "colorbar": {
             "outlinewidth": 0,
             "ticks": ""
            },
            "type": "choropleth"
           }
          ],
          "contour": [
           {
            "colorbar": {
             "outlinewidth": 0,
             "ticks": ""
            },
            "colorscale": [
             [
              0,
              "#0d0887"
             ],
             [
              0.1111111111111111,
              "#46039f"
             ],
             [
              0.2222222222222222,
              "#7201a8"
             ],
             [
              0.3333333333333333,
              "#9c179e"
             ],
             [
              0.4444444444444444,
              "#bd3786"
             ],
             [
              0.5555555555555556,
              "#d8576b"
             ],
             [
              0.6666666666666666,
              "#ed7953"
             ],
             [
              0.7777777777777778,
              "#fb9f3a"
             ],
             [
              0.8888888888888888,
              "#fdca26"
             ],
             [
              1,
              "#f0f921"
             ]
            ],
            "type": "contour"
           }
          ],
          "contourcarpet": [
           {
            "colorbar": {
             "outlinewidth": 0,
             "ticks": ""
            },
            "type": "contourcarpet"
           }
          ],
          "heatmap": [
           {
            "colorbar": {
             "outlinewidth": 0,
             "ticks": ""
            },
            "colorscale": [
             [
              0,
              "#0d0887"
             ],
             [
              0.1111111111111111,
              "#46039f"
             ],
             [
              0.2222222222222222,
              "#7201a8"
             ],
             [
              0.3333333333333333,
              "#9c179e"
             ],
             [
              0.4444444444444444,
              "#bd3786"
             ],
             [
              0.5555555555555556,
              "#d8576b"
             ],
             [
              0.6666666666666666,
              "#ed7953"
             ],
             [
              0.7777777777777778,
              "#fb9f3a"
             ],
             [
              0.8888888888888888,
              "#fdca26"
             ],
             [
              1,
              "#f0f921"
             ]
            ],
            "type": "heatmap"
           }
          ],
          "heatmapgl": [
           {
            "colorbar": {
             "outlinewidth": 0,
             "ticks": ""
            },
            "colorscale": [
             [
              0,
              "#0d0887"
             ],
             [
              0.1111111111111111,
              "#46039f"
             ],
             [
              0.2222222222222222,
              "#7201a8"
             ],
             [
              0.3333333333333333,
              "#9c179e"
             ],
             [
              0.4444444444444444,
              "#bd3786"
             ],
             [
              0.5555555555555556,
              "#d8576b"
             ],
             [
              0.6666666666666666,
              "#ed7953"
             ],
             [
              0.7777777777777778,
              "#fb9f3a"
             ],
             [
              0.8888888888888888,
              "#fdca26"
             ],
             [
              1,
              "#f0f921"
             ]
            ],
            "type": "heatmapgl"
           }
          ],
          "histogram": [
           {
            "marker": {
             "pattern": {
              "fillmode": "overlay",
              "size": 10,
              "solidity": 0.2
             }
            },
            "type": "histogram"
           }
          ],
          "histogram2d": [
           {
            "colorbar": {
             "outlinewidth": 0,
             "ticks": ""
            },
            "colorscale": [
             [
              0,
              "#0d0887"
             ],
             [
              0.1111111111111111,
              "#46039f"
             ],
             [
              0.2222222222222222,
              "#7201a8"
             ],
             [
              0.3333333333333333,
              "#9c179e"
             ],
             [
              0.4444444444444444,
              "#bd3786"
             ],
             [
              0.5555555555555556,
              "#d8576b"
             ],
             [
              0.6666666666666666,
              "#ed7953"
             ],
             [
              0.7777777777777778,
              "#fb9f3a"
             ],
             [
              0.8888888888888888,
              "#fdca26"
             ],
             [
              1,
              "#f0f921"
             ]
            ],
            "type": "histogram2d"
           }
          ],
          "histogram2dcontour": [
           {
            "colorbar": {
             "outlinewidth": 0,
             "ticks": ""
            },
            "colorscale": [
             [
              0,
              "#0d0887"
             ],
             [
              0.1111111111111111,
              "#46039f"
             ],
             [
              0.2222222222222222,
              "#7201a8"
             ],
             [
              0.3333333333333333,
              "#9c179e"
             ],
             [
              0.4444444444444444,
              "#bd3786"
             ],
             [
              0.5555555555555556,
              "#d8576b"
             ],
             [
              0.6666666666666666,
              "#ed7953"
             ],
             [
              0.7777777777777778,
              "#fb9f3a"
             ],
             [
              0.8888888888888888,
              "#fdca26"
             ],
             [
              1,
              "#f0f921"
             ]
            ],
            "type": "histogram2dcontour"
           }
          ],
          "mesh3d": [
           {
            "colorbar": {
             "outlinewidth": 0,
             "ticks": ""
            },
            "type": "mesh3d"
           }
          ],
          "parcoords": [
           {
            "line": {
             "colorbar": {
              "outlinewidth": 0,
              "ticks": ""
             }
            },
            "type": "parcoords"
           }
          ],
          "pie": [
           {
            "automargin": true,
            "type": "pie"
           }
          ],
          "scatter": [
           {
            "marker": {
             "colorbar": {
              "outlinewidth": 0,
              "ticks": ""
             }
            },
            "type": "scatter"
           }
          ],
          "scatter3d": [
           {
            "line": {
             "colorbar": {
              "outlinewidth": 0,
              "ticks": ""
             }
            },
            "marker": {
             "colorbar": {
              "outlinewidth": 0,
              "ticks": ""
             }
            },
            "type": "scatter3d"
           }
          ],
          "scattercarpet": [
           {
            "marker": {
             "colorbar": {
              "outlinewidth": 0,
              "ticks": ""
             }
            },
            "type": "scattercarpet"
           }
          ],
          "scattergeo": [
           {
            "marker": {
             "colorbar": {
              "outlinewidth": 0,
              "ticks": ""
             }
            },
            "type": "scattergeo"
           }
          ],
          "scattergl": [
           {
            "marker": {
             "colorbar": {
              "outlinewidth": 0,
              "ticks": ""
             }
            },
            "type": "scattergl"
           }
          ],
          "scattermapbox": [
           {
            "marker": {
             "colorbar": {
              "outlinewidth": 0,
              "ticks": ""
             }
            },
            "type": "scattermapbox"
           }
          ],
          "scatterpolar": [
           {
            "marker": {
             "colorbar": {
              "outlinewidth": 0,
              "ticks": ""
             }
            },
            "type": "scatterpolar"
           }
          ],
          "scatterpolargl": [
           {
            "marker": {
             "colorbar": {
              "outlinewidth": 0,
              "ticks": ""
             }
            },
            "type": "scatterpolargl"
           }
          ],
          "scatterternary": [
           {
            "marker": {
             "colorbar": {
              "outlinewidth": 0,
              "ticks": ""
             }
            },
            "type": "scatterternary"
           }
          ],
          "surface": [
           {
            "colorbar": {
             "outlinewidth": 0,
             "ticks": ""
            },
            "colorscale": [
             [
              0,
              "#0d0887"
             ],
             [
              0.1111111111111111,
              "#46039f"
             ],
             [
              0.2222222222222222,
              "#7201a8"
             ],
             [
              0.3333333333333333,
              "#9c179e"
             ],
             [
              0.4444444444444444,
              "#bd3786"
             ],
             [
              0.5555555555555556,
              "#d8576b"
             ],
             [
              0.6666666666666666,
              "#ed7953"
             ],
             [
              0.7777777777777778,
              "#fb9f3a"
             ],
             [
              0.8888888888888888,
              "#fdca26"
             ],
             [
              1,
              "#f0f921"
             ]
            ],
            "type": "surface"
           }
          ],
          "table": [
           {
            "cells": {
             "fill": {
              "color": "#EBF0F8"
             },
             "line": {
              "color": "white"
             }
            },
            "header": {
             "fill": {
              "color": "#C8D4E3"
             },
             "line": {
              "color": "white"
             }
            },
            "type": "table"
           }
          ]
         },
         "layout": {
          "annotationdefaults": {
           "arrowcolor": "#2a3f5f",
           "arrowhead": 0,
           "arrowwidth": 1
          },
          "autotypenumbers": "strict",
          "coloraxis": {
           "colorbar": {
            "outlinewidth": 0,
            "ticks": ""
           }
          },
          "colorscale": {
           "diverging": [
            [
             0,
             "#8e0152"
            ],
            [
             0.1,
             "#c51b7d"
            ],
            [
             0.2,
             "#de77ae"
            ],
            [
             0.3,
             "#f1b6da"
            ],
            [
             0.4,
             "#fde0ef"
            ],
            [
             0.5,
             "#f7f7f7"
            ],
            [
             0.6,
             "#e6f5d0"
            ],
            [
             0.7,
             "#b8e186"
            ],
            [
             0.8,
             "#7fbc41"
            ],
            [
             0.9,
             "#4d9221"
            ],
            [
             1,
             "#276419"
            ]
           ],
           "sequential": [
            [
             0,
             "#0d0887"
            ],
            [
             0.1111111111111111,
             "#46039f"
            ],
            [
             0.2222222222222222,
             "#7201a8"
            ],
            [
             0.3333333333333333,
             "#9c179e"
            ],
            [
             0.4444444444444444,
             "#bd3786"
            ],
            [
             0.5555555555555556,
             "#d8576b"
            ],
            [
             0.6666666666666666,
             "#ed7953"
            ],
            [
             0.7777777777777778,
             "#fb9f3a"
            ],
            [
             0.8888888888888888,
             "#fdca26"
            ],
            [
             1,
             "#f0f921"
            ]
           ],
           "sequentialminus": [
            [
             0,
             "#0d0887"
            ],
            [
             0.1111111111111111,
             "#46039f"
            ],
            [
             0.2222222222222222,
             "#7201a8"
            ],
            [
             0.3333333333333333,
             "#9c179e"
            ],
            [
             0.4444444444444444,
             "#bd3786"
            ],
            [
             0.5555555555555556,
             "#d8576b"
            ],
            [
             0.6666666666666666,
             "#ed7953"
            ],
            [
             0.7777777777777778,
             "#fb9f3a"
            ],
            [
             0.8888888888888888,
             "#fdca26"
            ],
            [
             1,
             "#f0f921"
            ]
           ]
          },
          "colorway": [
           "#636efa",
           "#EF553B",
           "#00cc96",
           "#ab63fa",
           "#FFA15A",
           "#19d3f3",
           "#FF6692",
           "#B6E880",
           "#FF97FF",
           "#FECB52"
          ],
          "font": {
           "color": "#2a3f5f"
          },
          "geo": {
           "bgcolor": "white",
           "lakecolor": "white",
           "landcolor": "#E5ECF6",
           "showlakes": true,
           "showland": true,
           "subunitcolor": "white"
          },
          "hoverlabel": {
           "align": "left"
          },
          "hovermode": "closest",
          "mapbox": {
           "style": "light"
          },
          "paper_bgcolor": "white",
          "plot_bgcolor": "#E5ECF6",
          "polar": {
           "angularaxis": {
            "gridcolor": "white",
            "linecolor": "white",
            "ticks": ""
           },
           "bgcolor": "#E5ECF6",
           "radialaxis": {
            "gridcolor": "white",
            "linecolor": "white",
            "ticks": ""
           }
          },
          "scene": {
           "xaxis": {
            "backgroundcolor": "#E5ECF6",
            "gridcolor": "white",
            "gridwidth": 2,
            "linecolor": "white",
            "showbackground": true,
            "ticks": "",
            "zerolinecolor": "white"
           },
           "yaxis": {
            "backgroundcolor": "#E5ECF6",
            "gridcolor": "white",
            "gridwidth": 2,
            "linecolor": "white",
            "showbackground": true,
            "ticks": "",
            "zerolinecolor": "white"
           },
           "zaxis": {
            "backgroundcolor": "#E5ECF6",
            "gridcolor": "white",
            "gridwidth": 2,
            "linecolor": "white",
            "showbackground": true,
            "ticks": "",
            "zerolinecolor": "white"
           }
          },
          "shapedefaults": {
           "line": {
            "color": "#2a3f5f"
           }
          },
          "ternary": {
           "aaxis": {
            "gridcolor": "white",
            "linecolor": "white",
            "ticks": ""
           },
           "baxis": {
            "gridcolor": "white",
            "linecolor": "white",
            "ticks": ""
           },
           "bgcolor": "#E5ECF6",
           "caxis": {
            "gridcolor": "white",
            "linecolor": "white",
            "ticks": ""
           }
          },
          "title": {
           "x": 0.05
          },
          "xaxis": {
           "automargin": true,
           "gridcolor": "white",
           "linecolor": "white",
           "ticks": "",
           "title": {
            "standoff": 15
           },
           "zerolinecolor": "white",
           "zerolinewidth": 2
          },
          "yaxis": {
           "automargin": true,
           "gridcolor": "white",
           "linecolor": "white",
           "ticks": "",
           "title": {
            "standoff": 15
           },
           "zerolinecolor": "white",
           "zerolinewidth": 2
          }
         }
        },
        "title": {
         "text": "Prophet Values,s_20"
        },
        "width": 1000,
        "xaxis": {
         "anchor": "y",
         "autorange": true,
         "domain": [
          0,
          0.94
         ],
         "range": [
          "2011-10-11 07:20:39.2153",
          "2012-10-21 16:39:20.7847"
         ],
         "type": "date"
        },
        "yaxis": {
         "anchor": "x",
         "autorange": true,
         "domain": [
          0,
          1
         ],
         "range": [
          1550481.1662591093,
          2557596.429740891
         ],
         "type": "linear"
        },
        "yaxis2": {
         "anchor": "x",
         "autorange": true,
         "overlaying": "y",
         "range": [
          1781761.1682802923,
          2128691.854807425
         ],
         "side": "right",
         "type": "linear"
        }
       }
      },
      "image/png": "[encoded data removed]",
      "text/html": [
       "<div>                            <div id=\"3e170d12-72b3-4d5c-8472-3bae01c07d91\" class=\"plotly-graph-div\" style=\"height:600px; width:1000px;\"></div>            <script type=\"text/javascript\">                require([\"plotly\"], function(Plotly) {                    window.PLOTLYENV=window.PLOTLYENV || {};                                    if (document.getElementById(\"3e170d12-72b3-4d5c-8472-3bae01c07d91\")) {                    Plotly.newPlot(                        \"3e170d12-72b3-4d5c-8472-3bae01c07d91\",                        [{\"name\":\"prophet\",\"type\":\"scatter\",\"x\":[\"2011-11-01T00:00:00\",\"2011-12-01T00:00:00\",\"2012-01-01T00:00:00\",\"2012-02-01T00:00:00\",\"2012-03-01T00:00:00\",\"2012-04-01T00:00:00\",\"2012-05-01T00:00:00\",\"2012-06-01T00:00:00\",\"2012-07-01T00:00:00\",\"2012-08-01T00:00:00\",\"2012-09-01T00:00:00\",\"2012-10-01T00:00:00\"],\"xaxis\":\"x\",\"y\":[2003914.5965323774,2108247.725065647,1835286.3639215387,1896236.186723315,1885076.0041045332,1910112.0480967045,1906707.0896458891,1924427.2011878397,1864576.3101106882,1854898.1469970318,1803934.287413963,1802205.2980220697],\"yaxis\":\"y2\"},{\"name\":\"test\",\"type\":\"scatter\",\"x\":[\"2011-11-01T00:00:00\",\"2011-12-01T00:00:00\",\"2012-01-01T00:00:00\",\"2012-02-01T00:00:00\",\"2012-03-01T00:00:00\",\"2012-04-01T00:00:00\",\"2012-05-01T00:00:00\",\"2012-06-01T00:00:00\",\"2012-07-01T00:00:00\",\"2012-08-01T00:00:00\",\"2012-09-01T00:00:00\",\"2012-10-01T00:00:00\"],\"xaxis\":\"x\",\"y\":[2227575.9725,2498248.566,1734967.205,1962564.4375,1937273.1039999998,1987162.085,1974997.03,1861379.7899999998,1609829.03,1640214.662,1636792.805,1655452.5275],\"yaxis\":\"y\"}],                        {\"height\":600,\"template\":{\"data\":{\"bar\":[{\"error_x\":{\"color\":\"#2a3f5f\"},\"error_y\":{\"color\":\"#2a3f5f\"},\"marker\":{\"line\":{\"color\":\"#E5ECF6\",\"width\":0.5},\"pattern\":{\"fillmode\":\"overlay\",\"size\":10,\"solidity\":0.2}},\"type\":\"bar\"}],\"barpolar\":[{\"marker\":{\"line\":{\"color\":\"#E5ECF6\",\"width\":0.5},\"pattern\":{\"fillmode\":\"overlay\",\"size\":10,\"solidity\":0.2}},\"type\":\"barpolar\"}],\"carpet\":[{\"aaxis\":{\"endlinecolor\":\"#2a3f5f\",\"gridcolor\":\"white\",\"linecolor\":\"white\",\"minorgridcolor\":\"white\",\"startlinecolor\":\"#2a3f5f\"},\"baxis\":{\"endlinecolor\":\"#2a3f5f\",\"gridcolor\":\"white\",\"linecolor\":\"white\",\"minorgridcolor\":\"white\",\"startlinecolor\":\"#2a3f5f\"},\"type\":\"carpet\"}],\"choropleth\":[{\"colorbar\":{\"outlinewidth\":0,\"ticks\":\"\"},\"type\":\"choropleth\"}],\"contour\":[{\"colorbar\":{\"outlinewidth\":0,\"ticks\":\"\"},\"colorscale\":[[0.0,\"#0d0887\"],[0.1111111111111111,\"#46039f\"],[0.2222222222222222,\"#7201a8\"],[0.3333333333333333,\"#9c179e\"],[0.4444444444444444,\"#bd3786\"],[0.5555555555555556,\"#d8576b\"],[0.6666666666666666,\"#ed7953\"],[0.7777777777777778,\"#fb9f3a\"],[0.8888888888888888,\"#fdca26\"],[1.0,\"#f0f921\"]],\"type\":\"contour\"}],\"contourcarpet\":[{\"colorbar\":{\"outlinewidth\":0,\"ticks\":\"\"},\"type\":\"contourcarpet\"}],\"heatmap\":[{\"colorbar\":{\"outlinewidth\":0,\"ticks\":\"\"},\"colorscale\":[[0.0,\"#0d0887\"],[0.1111111111111111,\"#46039f\"],[0.2222222222222222,\"#7201a8\"],[0.3333333333333333,\"#9c179e\"],[0.4444444444444444,\"#bd3786\"],[0.5555555555555556,\"#d8576b\"],[0.6666666666666666,\"#ed7953\"],[0.7777777777777778,\"#fb9f3a\"],[0.8888888888888888,\"#fdca26\"],[1.0,\"#f0f921\"]],\"type\":\"heatmap\"}],\"heatmapgl\":[{\"colorbar\":{\"outlinewidth\":0,\"ticks\":\"\"},\"colorscale\":[[0.0,\"#0d0887\"],[0.1111111111111111,\"#46039f\"],[0.2222222222222222,\"#7201a8\"],[0.3333333333333333,\"#9c179e\"],[0.4444444444444444,\"#bd3786\"],[0.5555555555555556,\"#d8576b\"],[0.6666666666666666,\"#ed7953\"],[0.7777777777777778,\"#fb9f3a\"],[0.8888888888888888,\"#fdca26\"],[1.0,\"#f0f921\"]],\"type\":\"heatmapgl\"}],\"histogram\":[{\"marker\":{\"pattern\":{\"fillmode\":\"overlay\",\"size\":10,\"solidity\":0.2}},\"type\":\"histogram\"}],\"histogram2d\":[{\"colorbar\":{\"outlinewidth\":0,\"ticks\":\"\"},\"colorscale\":[[0.0,\"#0d0887\"],[0.1111111111111111,\"#46039f\"],[0.2222222222222222,\"#7201a8\"],[0.3333333333333333,\"#9c179e\"],[0.4444444444444444,\"#bd3786\"],[0.5555555555555556,\"#d8576b\"],[0.6666666666666666,\"#ed7953\"],[0.7777777777777778,\"#fb9f3a\"],[0.8888888888888888,\"#fdca26\"],[1.0,\"#f0f921\"]],\"type\":\"histogram2d\"}],\"histogram2dcontour\":[{\"colorbar\":{\"outlinewidth\":0,\"ticks\":\"\"},\"colorscale\":[[0.0,\"#0d0887\"],[0.1111111111111111,\"#46039f\"],[0.2222222222222222,\"#7201a8\"],[0.3333333333333333,\"#9c179e\"],[0.4444444444444444,\"#bd3786\"],[0.5555555555555556,\"#d8576b\"],[0.6666666666666666,\"#ed7953\"],[0.7777777777777778,\"#fb9f3a\"],[0.8888888888888888,\"#fdca26\"],[1.0,\"#f0f921\"]],\"type\":\"histogram2dcontour\"}],\"mesh3d\":[{\"colorbar\":{\"outlinewidth\":0,\"ticks\":\"\"},\"type\":\"mesh3d\"}],\"parcoords\":[{\"line\":{\"colorbar\":{\"outlinewidth\":0,\"ticks\":\"\"}},\"type\":\"parcoords\"}],\"pie\":[{\"automargin\":true,\"type\":\"pie\"}],\"scatter\":[{\"marker\":{\"colorbar\":{\"outlinewidth\":0,\"ticks\":\"\"}},\"type\":\"scatter\"}],\"scatter3d\":[{\"line\":{\"colorbar\":{\"outlinewidth\":0,\"ticks\":\"\"}},\"marker\":{\"colorbar\":{\"outlinewidth\":0,\"ticks\":\"\"}},\"type\":\"scatter3d\"}],\"scattercarpet\":[{\"marker\":{\"colorbar\":{\"outlinewidth\":0,\"ticks\":\"\"}},\"type\":\"scattercarpet\"}],\"scattergeo\":[{\"marker\":{\"colorbar\":{\"outlinewidth\":0,\"ticks\":\"\"}},\"type\":\"scattergeo\"}],\"scattergl\":[{\"marker\":{\"colorbar\":{\"outlinewidth\":0,\"ticks\":\"\"}},\"type\":\"scattergl\"}],\"scattermapbox\":[{\"marker\":{\"colorbar\":{\"outlinewidth\":0,\"ticks\":\"\"}},\"type\":\"scattermapbox\"}],\"scatterpolar\":[{\"marker\":{\"colorbar\":{\"outlinewidth\":0,\"ticks\":\"\"}},\"type\":\"scatterpolar\"}],\"scatterpolargl\":[{\"marker\":{\"colorbar\":{\"outlinewidth\":0,\"ticks\":\"\"}},\"type\":\"scatterpolargl\"}],\"scatterternary\":[{\"marker\":{\"colorbar\":{\"outlinewidth\":0,\"ticks\":\"\"}},\"type\":\"scatterternary\"}],\"surface\":[{\"colorbar\":{\"outlinewidth\":0,\"ticks\":\"\"},\"colorscale\":[[0.0,\"#0d0887\"],[0.1111111111111111,\"#46039f\"],[0.2222222222222222,\"#7201a8\"],[0.3333333333333333,\"#9c179e\"],[0.4444444444444444,\"#bd3786\"],[0.5555555555555556,\"#d8576b\"],[0.6666666666666666,\"#ed7953\"],[0.7777777777777778,\"#fb9f3a\"],[0.8888888888888888,\"#fdca26\"],[1.0,\"#f0f921\"]],\"type\":\"surface\"}],\"table\":[{\"cells\":{\"fill\":{\"color\":\"#EBF0F8\"},\"line\":{\"color\":\"white\"}},\"header\":{\"fill\":{\"color\":\"#C8D4E3\"},\"line\":{\"color\":\"white\"}},\"type\":\"table\"}]},\"layout\":{\"annotationdefaults\":{\"arrowcolor\":\"#2a3f5f\",\"arrowhead\":0,\"arrowwidth\":1},\"autotypenumbers\":\"strict\",\"coloraxis\":{\"colorbar\":{\"outlinewidth\":0,\"ticks\":\"\"}},\"colorscale\":{\"diverging\":[[0,\"#8e0152\"],[0.1,\"#c51b7d\"],[0.2,\"#de77ae\"],[0.3,\"#f1b6da\"],[0.4,\"#fde0ef\"],[0.5,\"#f7f7f7\"],[0.6,\"#e6f5d0\"],[0.7,\"#b8e186\"],[0.8,\"#7fbc41\"],[0.9,\"#4d9221\"],[1,\"#276419\"]],\"sequential\":[[0.0,\"#0d0887\"],[0.1111111111111111,\"#46039f\"],[0.2222222222222222,\"#7201a8\"],[0.3333333333333333,\"#9c179e\"],[0.4444444444444444,\"#bd3786\"],[0.5555555555555556,\"#d8576b\"],[0.6666666666666666,\"#ed7953\"],[0.7777777777777778,\"#fb9f3a\"],[0.8888888888888888,\"#fdca26\"],[1.0,\"#f0f921\"]],\"sequentialminus\":[[0.0,\"#0d0887\"],[0.1111111111111111,\"#46039f\"],[0.2222222222222222,\"#7201a8\"],[0.3333333333333333,\"#9c179e\"],[0.4444444444444444,\"#bd3786\"],[0.5555555555555556,\"#d8576b\"],[0.6666666666666666,\"#ed7953\"],[0.7777777777777778,\"#fb9f3a\"],[0.8888888888888888,\"#fdca26\"],[1.0,\"#f0f921\"]]},\"colorway\":[\"#636efa\",\"#EF553B\",\"#00cc96\",\"#ab63fa\",\"#FFA15A\",\"#19d3f3\",\"#FF6692\",\"#B6E880\",\"#FF97FF\",\"#FECB52\"],\"font\":{\"color\":\"#2a3f5f\"},\"geo\":{\"bgcolor\":\"white\",\"lakecolor\":\"white\",\"landcolor\":\"#E5ECF6\",\"showlakes\":true,\"showland\":true,\"subunitcolor\":\"white\"},\"hoverlabel\":{\"align\":\"left\"},\"hovermode\":\"closest\",\"mapbox\":{\"style\":\"light\"},\"paper_bgcolor\":\"white\",\"plot_bgcolor\":\"#E5ECF6\",\"polar\":{\"angularaxis\":{\"gridcolor\":\"white\",\"linecolor\":\"white\",\"ticks\":\"\"},\"bgcolor\":\"#E5ECF6\",\"radialaxis\":{\"gridcolor\":\"white\",\"linecolor\":\"white\",\"ticks\":\"\"}},\"scene\":{\"xaxis\":{\"backgroundcolor\":\"#E5ECF6\",\"gridcolor\":\"white\",\"gridwidth\":2,\"linecolor\":\"white\",\"showbackground\":true,\"ticks\":\"\",\"zerolinecolor\":\"white\"},\"yaxis\":{\"backgroundcolor\":\"#E5ECF6\",\"gridcolor\":\"white\",\"gridwidth\":2,\"linecolor\":\"white\",\"showbackground\":true,\"ticks\":\"\",\"zerolinecolor\":\"white\"},\"zaxis\":{\"backgroundcolor\":\"#E5ECF6\",\"gridcolor\":\"white\",\"gridwidth\":2,\"linecolor\":\"white\",\"showbackground\":true,\"ticks\":\"\",\"zerolinecolor\":\"white\"}},\"shapedefaults\":{\"line\":{\"color\":\"#2a3f5f\"}},\"ternary\":{\"aaxis\":{\"gridcolor\":\"white\",\"linecolor\":\"white\",\"ticks\":\"\"},\"baxis\":{\"gridcolor\":\"white\",\"linecolor\":\"white\",\"ticks\":\"\"},\"bgcolor\":\"#E5ECF6\",\"caxis\":{\"gridcolor\":\"white\",\"linecolor\":\"white\",\"ticks\":\"\"}},\"title\":{\"x\":0.05},\"xaxis\":{\"automargin\":true,\"gridcolor\":\"white\",\"linecolor\":\"white\",\"ticks\":\"\",\"title\":{\"standoff\":15},\"zerolinecolor\":\"white\",\"zerolinewidth\":2},\"yaxis\":{\"automargin\":true,\"gridcolor\":\"white\",\"linecolor\":\"white\",\"ticks\":\"\",\"title\":{\"standoff\":15},\"zerolinecolor\":\"white\",\"zerolinewidth\":2}}},\"title\":{\"text\":\"Prophet Values,s_20\"},\"width\":1000,\"xaxis\":{\"anchor\":\"y\",\"domain\":[0.0,0.94]},\"yaxis\":{\"anchor\":\"x\",\"domain\":[0.0,1.0]},\"yaxis2\":{\"anchor\":\"x\",\"overlaying\":\"y\",\"side\":\"right\"}},                        {\"responsive\": true}                    ).then(function(){\n",
       "                            \n",
       "var gd = document.getElementById('3e170d12-72b3-4d5c-8472-3bae01c07d91');\n",
       "var x = new MutationObserver(function (mutations, observer) {{\n",
       "        var display = window.getComputedStyle(gd).display;\n",
       "        if (!display || display === 'none') {{\n",
       "            console.log([gd, 'removed!']);\n",
       "            Plotly.purge(gd);\n",
       "            observer.disconnect();\n",
       "        }}\n",
       "}});\n",
       "\n",
       "// Listen for the removal of the full notebook cells\n",
       "var notebookContainer = gd.closest('#notebook-container');\n",
       "if (notebookContainer) {{\n",
       "    x.observe(notebookContainer, {childList: true});\n",
       "}}\n",
       "\n",
       "// Listen for the clearing of the current output cell\n",
       "var outputEl = gd.closest('.output');\n",
       "if (outputEl) {{\n",
       "    x.observe(outputEl, {childList: true});\n",
       "}}\n",
       "\n",
       "                        })                };                });            </script>        </div>"
      ]
     },
     "metadata": {},
     "output_type": "display_data"
    }
   ],
   "source": [
    "fig = make_subplots(specs=[[{\"secondary_y\": True}]])\n",
    "\n",
    "\n",
    "fig.add_trace(\n",
    "    go.Scatter(x = x_pp ,y = y_pp, name=\"prophet\"),\n",
    "    secondary_y=True\n",
    ")\n",
    "\n",
    "fig.add_trace(\n",
    "    go.Scatter(x = x_test,y = y_test, name=\"test\"),\n",
    "    secondary_y=False\n",
    ")\n",
    "\n",
    "\n",
    "fig.update_layout(\n",
    "    title_text=f\"Prophet Values,{vnames[0]}\",\n",
    "    width = 1000, height = 600\n",
    ")\n",
    "\n",
    "fig.show()"
   ]
  },
  {
   "cell_type": "code",
   "execution_count": 371,
   "id": "8889bae1-bfbb-4c10-a974-9a7887425808",
   "metadata": {
    "tags": []
   },
   "outputs": [],
   "source": [
    "# fig = make_subplots(specs=[[{\"secondary_y\": True}]])\n",
    "\n",
    "# fig.add_trace(\n",
    "#     go.Scatter(x = x_pp ,y = y_pp, name=\"prophet\"),\n",
    "#     secondary_y=True\n",
    "# )\n",
    "\n",
    "# fig.add_trace(\n",
    "#     go.Scatter(x = x_train,y = y_train, name=\"train\"),\n",
    "#     secondary_y=False\n",
    "# )\n",
    "\n",
    "# fig.update_layout(\n",
    "#     title_text=\"Prophet Values\",\n",
    "#     width = 1000, height = 600\n",
    "# )\n",
    "\n",
    "# fig.show()"
   ]
  },
  {
   "cell_type": "code",
   "execution_count": 372,
   "id": "4f53e09b-da82-47ba-9467-74af81999d2b",
   "metadata": {
    "tags": []
   },
   "outputs": [],
   "source": [
    "# fig = make_subplots(specs=[[{\"secondary_y\": True}]])\n",
    "\n",
    "# fig.add_trace(\n",
    "#     go.Scatter(x = x_test,y = y_test, name=\"test\"),\n",
    "#     secondary_y=False\n",
    "# )\n",
    "\n",
    "# fig.add_trace(\n",
    "#     go.Scatter(x = x_train,y = y_train, name=\"train\"),\n",
    "#     secondary_y=True\n",
    "# )\n",
    "\n",
    "# fig.update_layout(\n",
    "#     title_text=\"Prophet Values\",\n",
    "#     width = 1000, height = 600\n",
    "# )\n",
    "\n",
    "# fig.show()\n"
   ]
  },
  {
   "cell_type": "code",
   "execution_count": 373,
   "id": "e1bdf243-78b0-4b15-b594-1c0f022bf2de",
   "metadata": {},
   "outputs": [
    {
     "name": "stdout",
     "output_type": "stream",
     "text": [
      "Tienda: s_20\n",
      "Accuracy test(R2):  50.25773142093384\n",
      "Mean Absolute Error:  152018.2610820554\n",
      "Mean Square Error:  32862166768.009174\n",
      "Root Mean Square Error:  181279.2507928284\n",
      "Mean Absolute Percentage Error:  0.08018298991194207\n"
     ]
    },
    {
     "data": {
      "image/png": "[encoded data removed]",
      "text/plain": [
       "<Figure size 600x480 with 1 Axes>"
      ]
     },
     "metadata": {},
     "output_type": "display_data"
    }
   ],
   "source": [
    "print('Tienda:',vnames[0])\n",
    "print('Accuracy test(R2): ', metrics.r2_score(test.Pred,pp.Pred)*100)\n",
    "performance(test.Pred,pp.Pred)"
   ]
  }
 ],
 "metadata": {
  "kernelspec": {
   "display_name": "Python 3 (ipykernel)",
   "language": "python",
   "name": "python3"
  },
  "language_info": {
   "codemirror_mode": {
    "name": "ipython",
    "version": 3
   },
   "file_extension": ".py",
   "mimetype": "text/x-python",
   "name": "python",
   "nbconvert_exporter": "python",
   "pygments_lexer": "ipython3",
   "version": "3.8.8"
  }
 },
 "nbformat": 4,
 "nbformat_minor": 5
}

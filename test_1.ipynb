{
 "cells": [
  {
   "cell_type": "code",
   "execution_count": null,
   "id": "b81076b4-a177-40e2-b41d-1d5c6e648a11",
   "metadata": {},
   "outputs": [],
   "source": []
  },
  {
   "cell_type": "code",
   "execution_count": null,
   "id": "df051b76-1eef-493e-b651-22db910451dc",
   "metadata": {},
   "outputs": [],
   "source": []
  },
  {
   "cell_type": "markdown",
   "id": "dbdfe369-7e20-4956-a6f5-af2ac7ce3716",
   "metadata": {},
   "source": [
    "# Instancia de librarias"
   ]
  },
  {
   "cell_type": "code",
   "execution_count": 69,
   "id": "12d6357f-7730-40eb-8b3f-203035832bac",
   "metadata": {},
   "outputs": [
    {
     "name": "stdout",
     "output_type": "stream",
     "text": [
      "Setup complete\n"
     ]
    }
   ],
   "source": [
    "import pandas as pd\n",
    "import numpy as np\n",
    "import datetime as dt\n",
    "\n",
    "import scipy.stats as stats\n",
    "import statistics\n",
    "\n",
    "\n",
    "import warnings\n",
    "warnings.filterwarnings('ignore')\n",
    "\n",
    "\n",
    "print(\"Setup complete\")"
   ]
  },
  {
   "cell_type": "markdown",
   "id": "6a776388-9303-42f9-a8b6-64f52eacec03",
   "metadata": {},
   "source": [
    "# Importación de datos"
   ]
  },
  {
   "cell_type": "code",
   "execution_count": 70,
   "id": "b8a3dfe0-0882-4da8-9114-63736d545424",
   "metadata": {},
   "outputs": [],
   "source": [
    "path = r'data/Walmart_Store_sales.csv'\n",
    "wall_data = pd.read_csv(path, header=0, encoding='utf-8')"
   ]
  },
  {
   "cell_type": "markdown",
   "id": "885bca66-5c25-4db5-ad28-f371bc03a0d9",
   "metadata": {},
   "source": [
    "# Análisis exploratorio"
   ]
  },
  {
   "cell_type": "code",
   "execution_count": 71,
   "id": "a0480555-0207-4689-b7d2-ece904a5fd02",
   "metadata": {},
   "outputs": [
    {
     "name": "stdout",
     "output_type": "stream",
     "text": [
      "Número de observaciones: 6435\n",
      "Número de variables: 8\n",
      "Variables Index(['Store', 'Date', 'Weekly_Sales', 'Holiday_Flag', 'Temperature',\n",
      "       'Fuel_Price', 'CPI', 'Unemployment'],\n",
      "      dtype='object')\n"
     ]
    }
   ],
   "source": [
    "print(\"Número de observaciones:\", wall_data.shape[0])\n",
    "print(\"Número de variables:\", wall_data.shape[1])\n",
    "print(\"Variables\",wall_data.keys())"
   ]
  },
  {
   "cell_type": "code",
   "execution_count": 72,
   "id": "7a51a2a3-4cb2-41fc-9939-7278e1dbffaf",
   "metadata": {},
   "outputs": [
    {
     "name": "stdout",
     "output_type": "stream",
     "text": [
      "<class 'pandas.core.frame.DataFrame'>\n",
      "RangeIndex: 6435 entries, 0 to 6434\n",
      "Data columns (total 8 columns):\n",
      " #   Column        Non-Null Count  Dtype  \n",
      "---  ------        --------------  -----  \n",
      " 0   Store         6435 non-null   int64  \n",
      " 1   Date          6435 non-null   object \n",
      " 2   Weekly_Sales  6435 non-null   float64\n",
      " 3   Holiday_Flag  6435 non-null   int64  \n",
      " 4   Temperature   6435 non-null   float64\n",
      " 5   Fuel_Price    6435 non-null   float64\n",
      " 6   CPI           6435 non-null   float64\n",
      " 7   Unemployment  6435 non-null   float64\n",
      "dtypes: float64(5), int64(2), object(1)\n",
      "memory usage: 402.3+ KB\n"
     ]
    }
   ],
   "source": [
    "wall_data.info()"
   ]
  },
  {
   "cell_type": "code",
   "execution_count": 73,
   "id": "08591557-f073-451f-9bf3-2d675ed76c0a",
   "metadata": {},
   "outputs": [
    {
     "data": {
      "image/png": "[encoded data removed]",
      "text/plain": [
       "<Figure size 648x288 with 1 Axes>"
      ]
     },
     "metadata": {
      "needs_background": "light"
     },
     "output_type": "display_data"
    }
   ],
   "source": [
    "wall_data.value_counts(wall_data.dtypes)\n",
    "unq_val = wall_data.select_dtypes(include='number').nunique().sort_values()\n",
    "unq_val.plot.bar(logy=True, figsize=(9,4),title=\"Valores únicos por variable\");\n"
   ]
  },
  {
   "cell_type": "code",
   "execution_count": 74,
   "id": "cd01d0ed-9e7a-478a-8aa4-c2937df280e5",
   "metadata": {},
   "outputs": [
    {
     "data": {
      "text/html": [
       "<div>\n",
       "<style scoped>\n",
       "    .dataframe tbody tr th:only-of-type {\n",
       "        vertical-align: middle;\n",
       "    }\n",
       "\n",
       "    .dataframe tbody tr th {\n",
       "        vertical-align: top;\n",
       "    }\n",
       "\n",
       "    .dataframe thead th {\n",
       "        text-align: right;\n",
       "    }\n",
       "</style>\n",
       "<table border=\"1\" class=\"dataframe\">\n",
       "  <thead>\n",
       "    <tr style=\"text-align: right;\">\n",
       "      <th></th>\n",
       "      <th>Store</th>\n",
       "      <th>Date</th>\n",
       "      <th>Weekly_Sales</th>\n",
       "      <th>Holiday_Flag</th>\n",
       "      <th>Temperature</th>\n",
       "      <th>Fuel_Price</th>\n",
       "      <th>CPI</th>\n",
       "      <th>Unemployment</th>\n",
       "    </tr>\n",
       "  </thead>\n",
       "  <tbody>\n",
       "    <tr>\n",
       "      <th>5306</th>\n",
       "      <td>38</td>\n",
       "      <td>21-05-2010</td>\n",
       "      <td>340497.08</td>\n",
       "      <td>0</td>\n",
       "      <td>76.20</td>\n",
       "      <td>3.120</td>\n",
       "      <td>126.184387</td>\n",
       "      <td>14.099</td>\n",
       "    </tr>\n",
       "    <tr>\n",
       "      <th>2441</th>\n",
       "      <td>18</td>\n",
       "      <td>16-04-2010</td>\n",
       "      <td>1135577.62</td>\n",
       "      <td>0</td>\n",
       "      <td>50.26</td>\n",
       "      <td>2.885</td>\n",
       "      <td>131.980900</td>\n",
       "      <td>9.269</td>\n",
       "    </tr>\n",
       "    <tr>\n",
       "      <th>5183</th>\n",
       "      <td>37</td>\n",
       "      <td>08-10-2010</td>\n",
       "      <td>524483.65</td>\n",
       "      <td>0</td>\n",
       "      <td>66.34</td>\n",
       "      <td>2.633</td>\n",
       "      <td>210.514440</td>\n",
       "      <td>8.476</td>\n",
       "    </tr>\n",
       "    <tr>\n",
       "      <th>897</th>\n",
       "      <td>7</td>\n",
       "      <td>05-11-2010</td>\n",
       "      <td>480512.44</td>\n",
       "      <td>0</td>\n",
       "      <td>49.44</td>\n",
       "      <td>2.729</td>\n",
       "      <td>190.996438</td>\n",
       "      <td>9.137</td>\n",
       "    </tr>\n",
       "    <tr>\n",
       "      <th>3194</th>\n",
       "      <td>23</td>\n",
       "      <td>07-01-2011</td>\n",
       "      <td>1122034.48</td>\n",
       "      <td>0</td>\n",
       "      <td>27.81</td>\n",
       "      <td>3.193</td>\n",
       "      <td>132.882323</td>\n",
       "      <td>5.114</td>\n",
       "    </tr>\n",
       "    <tr>\n",
       "      <th>4654</th>\n",
       "      <td>33</td>\n",
       "      <td>05-08-2011</td>\n",
       "      <td>242456.39</td>\n",
       "      <td>0</td>\n",
       "      <td>96.93</td>\n",
       "      <td>3.803</td>\n",
       "      <td>129.184645</td>\n",
       "      <td>8.442</td>\n",
       "    </tr>\n",
       "    <tr>\n",
       "      <th>3394</th>\n",
       "      <td>24</td>\n",
       "      <td>10-02-2012</td>\n",
       "      <td>1403460.87</td>\n",
       "      <td>1</td>\n",
       "      <td>33.82</td>\n",
       "      <td>3.826</td>\n",
       "      <td>137.166677</td>\n",
       "      <td>8.659</td>\n",
       "    </tr>\n",
       "    <tr>\n",
       "      <th>2580</th>\n",
       "      <td>19</td>\n",
       "      <td>19-03-2010</td>\n",
       "      <td>1332940.35</td>\n",
       "      <td>0</td>\n",
       "      <td>43.74</td>\n",
       "      <td>2.960</td>\n",
       "      <td>131.824290</td>\n",
       "      <td>8.350</td>\n",
       "    </tr>\n",
       "    <tr>\n",
       "      <th>2681</th>\n",
       "      <td>19</td>\n",
       "      <td>24-02-2012</td>\n",
       "      <td>1352470.09</td>\n",
       "      <td>0</td>\n",
       "      <td>33.91</td>\n",
       "      <td>3.917</td>\n",
       "      <td>137.341103</td>\n",
       "      <td>7.943</td>\n",
       "    </tr>\n",
       "    <tr>\n",
       "      <th>4674</th>\n",
       "      <td>33</td>\n",
       "      <td>23-12-2011</td>\n",
       "      <td>256235.19</td>\n",
       "      <td>0</td>\n",
       "      <td>53.39</td>\n",
       "      <td>3.541</td>\n",
       "      <td>129.984548</td>\n",
       "      <td>8.010</td>\n",
       "    </tr>\n",
       "  </tbody>\n",
       "</table>\n",
       "</div>"
      ],
      "text/plain": [
       "      Store        Date  Weekly_Sales  Holiday_Flag  Temperature  Fuel_Price  \\\n",
       "5306     38  21-05-2010     340497.08             0        76.20       3.120   \n",
       "2441     18  16-04-2010    1135577.62             0        50.26       2.885   \n",
       "5183     37  08-10-2010     524483.65             0        66.34       2.633   \n",
       "897       7  05-11-2010     480512.44             0        49.44       2.729   \n",
       "3194     23  07-01-2011    1122034.48             0        27.81       3.193   \n",
       "4654     33  05-08-2011     242456.39             0        96.93       3.803   \n",
       "3394     24  10-02-2012    1403460.87             1        33.82       3.826   \n",
       "2580     19  19-03-2010    1332940.35             0        43.74       2.960   \n",
       "2681     19  24-02-2012    1352470.09             0        33.91       3.917   \n",
       "4674     33  23-12-2011     256235.19             0        53.39       3.541   \n",
       "\n",
       "             CPI  Unemployment  \n",
       "5306  126.184387        14.099  \n",
       "2441  131.980900         9.269  \n",
       "5183  210.514440         8.476  \n",
       "897   190.996438         9.137  \n",
       "3194  132.882323         5.114  \n",
       "4654  129.184645         8.442  \n",
       "3394  137.166677         8.659  \n",
       "2580  131.824290         8.350  \n",
       "2681  137.341103         7.943  \n",
       "4674  129.984548         8.010  "
      ]
     },
     "execution_count": 74,
     "metadata": {},
     "output_type": "execute_result"
    }
   ],
   "source": [
    "muestra = int(wall_data.shape[0]*.60)\n",
    "wall_data.sample(10,random_state=muestra)"
   ]
  },
  {
   "cell_type": "code",
   "execution_count": 75,
   "id": "9295584f-fe84-436d-ac14-12bd5debd2c4",
   "metadata": {},
   "outputs": [],
   "source": [
    "wall_data.columns = [\"num_tienda\",\"fecha\",\"vta_semana\",\"dia_feriado\",\"temperatura\",\"precio_gasolina_reg\",\"ipc\",\"tasa_desempleo\"]"
   ]
  },
  {
   "cell_type": "code",
   "execution_count": 76,
   "id": "b42a34ee-c6ab-4f82-80eb-35dff6e10433",
   "metadata": {},
   "outputs": [
    {
     "data": {
      "text/html": [
       "<div>\n",
       "<style scoped>\n",
       "    .dataframe tbody tr th:only-of-type {\n",
       "        vertical-align: middle;\n",
       "    }\n",
       "\n",
       "    .dataframe tbody tr th {\n",
       "        vertical-align: top;\n",
       "    }\n",
       "\n",
       "    .dataframe thead th {\n",
       "        text-align: right;\n",
       "    }\n",
       "</style>\n",
       "<table border=\"1\" class=\"dataframe\">\n",
       "  <thead>\n",
       "    <tr style=\"text-align: right;\">\n",
       "      <th></th>\n",
       "      <th>num_tienda</th>\n",
       "      <th>fecha</th>\n",
       "      <th>vta_semana</th>\n",
       "      <th>dia_feriado</th>\n",
       "      <th>temperatura</th>\n",
       "      <th>precio_gasolina_reg</th>\n",
       "      <th>ipc</th>\n",
       "      <th>tasa_desempleo</th>\n",
       "    </tr>\n",
       "  </thead>\n",
       "  <tbody>\n",
       "    <tr>\n",
       "      <th>0</th>\n",
       "      <td>1</td>\n",
       "      <td>05-02-2010</td>\n",
       "      <td>1643690.90</td>\n",
       "      <td>0</td>\n",
       "      <td>42.31</td>\n",
       "      <td>2.572</td>\n",
       "      <td>211.096358</td>\n",
       "      <td>8.106</td>\n",
       "    </tr>\n",
       "    <tr>\n",
       "      <th>1</th>\n",
       "      <td>1</td>\n",
       "      <td>12-02-2010</td>\n",
       "      <td>1641957.44</td>\n",
       "      <td>1</td>\n",
       "      <td>38.51</td>\n",
       "      <td>2.548</td>\n",
       "      <td>211.242170</td>\n",
       "      <td>8.106</td>\n",
       "    </tr>\n",
       "    <tr>\n",
       "      <th>2</th>\n",
       "      <td>1</td>\n",
       "      <td>19-02-2010</td>\n",
       "      <td>1611968.17</td>\n",
       "      <td>0</td>\n",
       "      <td>39.93</td>\n",
       "      <td>2.514</td>\n",
       "      <td>211.289143</td>\n",
       "      <td>8.106</td>\n",
       "    </tr>\n",
       "    <tr>\n",
       "      <th>3</th>\n",
       "      <td>1</td>\n",
       "      <td>26-02-2010</td>\n",
       "      <td>1409727.59</td>\n",
       "      <td>0</td>\n",
       "      <td>46.63</td>\n",
       "      <td>2.561</td>\n",
       "      <td>211.319643</td>\n",
       "      <td>8.106</td>\n",
       "    </tr>\n",
       "    <tr>\n",
       "      <th>4</th>\n",
       "      <td>1</td>\n",
       "      <td>05-03-2010</td>\n",
       "      <td>1554806.68</td>\n",
       "      <td>0</td>\n",
       "      <td>46.50</td>\n",
       "      <td>2.625</td>\n",
       "      <td>211.350143</td>\n",
       "      <td>8.106</td>\n",
       "    </tr>\n",
       "  </tbody>\n",
       "</table>\n",
       "</div>"
      ],
      "text/plain": [
       "   num_tienda       fecha  vta_semana  dia_feriado  temperatura  \\\n",
       "0           1  05-02-2010  1643690.90            0        42.31   \n",
       "1           1  12-02-2010  1641957.44            1        38.51   \n",
       "2           1  19-02-2010  1611968.17            0        39.93   \n",
       "3           1  26-02-2010  1409727.59            0        46.63   \n",
       "4           1  05-03-2010  1554806.68            0        46.50   \n",
       "\n",
       "   precio_gasolina_reg         ipc  tasa_desempleo  \n",
       "0                2.572  211.096358           8.106  \n",
       "1                2.548  211.242170           8.106  \n",
       "2                2.514  211.289143           8.106  \n",
       "3                2.561  211.319643           8.106  \n",
       "4                2.625  211.350143           8.106  "
      ]
     },
     "execution_count": 76,
     "metadata": {},
     "output_type": "execute_result"
    }
   ],
   "source": [
    "wall_data.head()"
   ]
  },
  {
   "cell_type": "code",
   "execution_count": 77,
   "id": "a94a292c-f667-433a-90c8-c61e9167ad9e",
   "metadata": {},
   "outputs": [
    {
     "name": "stdout",
     "output_type": "stream",
     "text": [
      "Max:  100.14 Min:  -2.06\n"
     ]
    }
   ],
   "source": [
    "# la temperatura esta en °F\n",
    "print(\"Max: \",wall_data['temperatura'].max(),\"Min: \",wall_data['temperatura'].min())"
   ]
  },
  {
   "cell_type": "code",
   "execution_count": 78,
   "id": "6a36a194-fbae-494e-ae59-e7f88186c345",
   "metadata": {},
   "outputs": [
    {
     "name": "stdout",
     "output_type": "stream",
     "text": [
      "Max:  4.468 Min:  2.472\n"
     ]
    }
   ],
   "source": [
    "# El precio de la gasolina por region es en galones\n",
    "print(\"Max: \",wall_data['precio_gasolina_reg'].max(),\"Min: \",wall_data['precio_gasolina_reg'].min())"
   ]
  },
  {
   "cell_type": "code",
   "execution_count": 79,
   "id": "f543debc-f874-4fa0-b8f1-4d280022ff23",
   "metadata": {},
   "outputs": [
    {
     "data": {
      "text/plain": [
       "0    5.727778\n",
       "1    3.616667\n",
       "2    4.405556\n",
       "3    8.127778\n",
       "4    8.055556\n",
       "Name: temperatura, dtype: float64"
      ]
     },
     "execution_count": 79,
     "metadata": {},
     "output_type": "execute_result"
    }
   ],
   "source": [
    "# la temperatura se deja en °C\n",
    "wall_data['temperatura'] = (wall_data['temperatura']-32)*(5/9)\n",
    "wall_data['temperatura'].head()"
   ]
  },
  {
   "cell_type": "code",
   "execution_count": 80,
   "id": "e163e734-3337-4128-ba43-df20f2cb3b25",
   "metadata": {},
   "outputs": [
    {
     "data": {
      "text/plain": [
       "0    0.679450\n",
       "1    0.673110\n",
       "2    0.664129\n",
       "3    0.676545\n",
       "4    0.693452\n",
       "Name: precio_gasolina_reg, dtype: float64"
      ]
     },
     "execution_count": 80,
     "metadata": {},
     "output_type": "execute_result"
    }
   ],
   "source": [
    "# El precio de la gasolina se deja en Dolares\n",
    "wall_data['precio_gasolina_reg'] = (wall_data['precio_gasolina_reg'] / 3.785412)\n",
    "wall_data['precio_gasolina_reg'].head()\n",
    "\n",
    "# Posiblemente se pueda consumir un api que le pase la fecha y proporcione el precio del dolar ese día"
   ]
  },
  {
   "cell_type": "code",
   "execution_count": 82,
   "id": "92ce4525-d003-44a6-b4cf-48c2c74ccb5d",
   "metadata": {},
   "outputs": [],
   "source": [
    "# fecha - Cambio de tipo str a date\n",
    "# wall_data['fecha']\n",
    "wall_data['fecha'] = pd.to_datetime(wall_data['fecha'],format=\"%d-%m-%Y\", dayfirst=True)"
   ]
  },
  {
   "cell_type": "code",
   "execution_count": 83,
   "id": "353b8920-49e2-4490-b1a4-dafbfed83ec7",
   "metadata": {},
   "outputs": [
    {
     "data": {
      "text/plain": [
       "0      2010-02-05\n",
       "1      2010-02-12\n",
       "2      2010-02-19\n",
       "3      2010-02-26\n",
       "4      2010-03-05\n",
       "          ...    \n",
       "6430   2012-09-28\n",
       "6431   2012-10-05\n",
       "6432   2012-10-12\n",
       "6433   2012-10-19\n",
       "6434   2012-10-26\n",
       "Name: fecha, Length: 6435, dtype: datetime64[ns]"
      ]
     },
     "execution_count": 83,
     "metadata": {},
     "output_type": "execute_result"
    }
   ],
   "source": [
    "wall_data['fecha'] # año - mes - dia"
   ]
  },
  {
   "cell_type": "code",
   "execution_count": 84,
   "id": "416bc26e-0c4d-406a-9e80-150f4284abc6",
   "metadata": {},
   "outputs": [
    {
     "data": {
      "text/plain": [
       "float64           5\n",
       "int64             2\n",
       "datetime64[ns]    1\n",
       "dtype: int64"
      ]
     },
     "execution_count": 84,
     "metadata": {},
     "output_type": "execute_result"
    }
   ],
   "source": [
    "pd.value_counts(wall_data.dtypes)"
   ]
  },
  {
   "cell_type": "markdown",
   "id": "b8f5ab93-ae02-463c-95c5-46b7fc37d199",
   "metadata": {},
   "source": [
    "# Corroboración de valores ausentes"
   ]
  },
  {
   "cell_type": "code",
   "execution_count": 85,
   "id": "31d4fa09-eb6e-494b-8adb-72dd85cd52cf",
   "metadata": {},
   "outputs": [
    {
     "data": {
      "text/plain": [
       "num_tienda             0\n",
       "fecha                  0\n",
       "vta_semana             0\n",
       "dia_feriado            0\n",
       "temperatura            0\n",
       "precio_gasolina_reg    0\n",
       "ipc                    0\n",
       "tasa_desempleo         0\n",
       "dtype: int64"
      ]
     },
     "execution_count": 85,
     "metadata": {},
     "output_type": "execute_result"
    }
   ],
   "source": [
    "wall_data.isna().sum()"
   ]
  },
  {
   "cell_type": "markdown",
   "id": "f63cc18c-e18a-47c1-9195-95b219f6e45c",
   "metadata": {},
   "source": [
    "# Verificando periodicidad de fechas"
   ]
  },
  {
   "cell_type": "code",
   "execution_count": 100,
   "id": "41747aa5-7032-47a3-bc28-68a2901f316b",
   "metadata": {},
   "outputs": [
    {
     "data": {
      "text/plain": [
       "fecha\n",
       "2010-02-05    45\n",
       "2010-02-12    45\n",
       "2010-02-19    45\n",
       "2010-02-26    45\n",
       "2010-03-05    45\n",
       "              ..\n",
       "2012-09-28    45\n",
       "2012-10-05    45\n",
       "2012-10-12    45\n",
       "2012-10-19    45\n",
       "2012-10-26    45\n",
       "Length: 143, dtype: int64"
      ]
     },
     "execution_count": 100,
     "metadata": {},
     "output_type": "execute_result"
    }
   ],
   "source": [
    "# wall_data[wall_data['fecha']==\"2010-05-02\"] # Inicio del registro de semana viernes\n",
    "# wall_data[wall_data['fecha'] == \"2012-08-31\"] # Registro de última semana viernes\n",
    "# wall_data[wall_data['fecha'] == \"2012-11-01\"] # No hay registro\n",
    "wall_data.groupby(['fecha']).size() # 45 (tiendas)*143 = 6435 registros"
   ]
  },
  {
   "cell_type": "code",
   "execution_count": 87,
   "id": "25606389-6011-497d-b0b9-f2621dd9e9a4",
   "metadata": {},
   "outputs": [],
   "source": [
    "# Días festivos\n",
    "# Super Bowl: 12-Feb-10, 11-Feb-11, 10-Feb-12, 8-Feb-13\n",
    "# Labour Day: 10-Sep-10, 9-Sep-11, 7-Sep-12, 6-Sep-13\n",
    "# Thanksgiving: 26-Nov-10, 25-Nov-11, 23-Nov-12, 29-Nov-13\n",
    "# Christmas: 31-Dec-10, 30-Dec-11, 28-Dec-12, 27-Dec-13"
   ]
  },
  {
   "cell_type": "code",
   "execution_count": 88,
   "id": "85cb7042-b7c3-4093-b94e-861fff4e86b3",
   "metadata": {},
   "outputs": [],
   "source": [
    "# Todos los viernes de cada semana se registran ventas.\n",
    "# Se puede comparar por trimestres porque empieza el primer viernes de febrero 2010 y \n",
    "# el último registro se hizo el último viernes de Octubre 2022.\n",
    "\n",
    "# Trimestre strim\n",
    "# Febrero-Marzo-Abril (2010), Mayo-Junio-Julio, Agosto-Septiembre-Octubre, Noviembre-Diciembre-Enero (2010-2011)\n",
    "# Febrero-Marzo-Abril (2011), Mayo-Junio-Julio, Agosto-Septiembre-Octubre, Noviembre-Diciembre-Enero (2011-2012)\n",
    "# x Febrero-Marzo-Abril (2012), Mayo-Junio-Julio, Agosto-Septiembre-Octubre (2012) x ---trim_trun---\n",
    "\n",
    "# Bimestres bim\n",
    "# Febrero-Marzo(2010), Abril-Mayo, Junio-Julio, Agosto-Septiembre, Octubre-Noviembre, Diciembre-Enero (2010-2011)\n",
    "# Febrero-Marzo(2011), Abril-Mayo, Junio-Julio, Agosto-Septiembre, Octubre-Noviembre, Diciembre-Enero (2011-2012)\n",
    "# x Febrero-Marzo(2012), Abril-Mayo, Junio-Julio, Agosto-Septiembre, x Octubre (2012)x\n"
   ]
  },
  {
   "cell_type": "code",
   "execution_count": null,
   "id": "b7cbfe12-17b7-470b-be6f-d715f3bc30df",
   "metadata": {},
   "outputs": [],
   "source": [
    "# Deiniendo los periodos de tiempo por trimestre o bimestre\n",
    "trim = wall_data[(wall_data['fecha'] >= '2010-02-05') & (wall_data['fecha'] <= '2012-01-27')]\n",
    "bim = wall_data[(wall_data['fecha'] >= '2010-02-05') & (wall_data['fecha'] <= '2012-10-28')]\n",
    "trim_trun = wall_data[(wall_data['fecha'] >= '2010-02-05') & (wall_data['fecha'] <= '2012-10-26')]"
   ]
  },
  {
   "cell_type": "markdown",
   "id": "fcfdf521-88ef-4822-91dd-b1c2df10d9af",
   "metadata": {},
   "source": [
    "### La tienda con el máximo de ventas registradas es:"
   ]
  },
  {
   "cell_type": "code",
   "execution_count": 90,
   "id": "865a0631-4604-4c44-acf7-54f9c3579224",
   "metadata": {},
   "outputs": [
    {
     "data": {
      "text/html": [
       "<div>\n",
       "<style scoped>\n",
       "    .dataframe tbody tr th:only-of-type {\n",
       "        vertical-align: middle;\n",
       "    }\n",
       "\n",
       "    .dataframe tbody tr th {\n",
       "        vertical-align: top;\n",
       "    }\n",
       "\n",
       "    .dataframe thead th {\n",
       "        text-align: right;\n",
       "    }\n",
       "</style>\n",
       "<table border=\"1\" class=\"dataframe\">\n",
       "  <thead>\n",
       "    <tr style=\"text-align: right;\">\n",
       "      <th></th>\n",
       "      <th>num_tienda</th>\n",
       "      <th>fecha</th>\n",
       "      <th>vta_semana</th>\n",
       "      <th>dia_feriado</th>\n",
       "      <th>temperatura</th>\n",
       "      <th>precio_gasolina_reg</th>\n",
       "      <th>ipc</th>\n",
       "      <th>tasa_desempleo</th>\n",
       "    </tr>\n",
       "  </thead>\n",
       "  <tbody>\n",
       "    <tr>\n",
       "      <th>1905</th>\n",
       "      <td>14</td>\n",
       "      <td>2010-12-24</td>\n",
       "      <td>3818686.45</td>\n",
       "      <td>0</td>\n",
       "      <td>-0.783333</td>\n",
       "      <td>0.829764</td>\n",
       "      <td>182.54459</td>\n",
       "      <td>8.724</td>\n",
       "    </tr>\n",
       "  </tbody>\n",
       "</table>\n",
       "</div>"
      ],
      "text/plain": [
       "      num_tienda      fecha  vta_semana  dia_feriado  temperatura  \\\n",
       "1905          14 2010-12-24  3818686.45            0    -0.783333   \n",
       "\n",
       "      precio_gasolina_reg        ipc  tasa_desempleo  \n",
       "1905             0.829764  182.54459           8.724  "
      ]
     },
     "execution_count": 90,
     "metadata": {},
     "output_type": "execute_result"
    }
   ],
   "source": [
    "# wall_data.keys()\n",
    "trim_trun[trim_trun['vta_semana'] == max(trim_trun['vta_semana'])]"
   ]
  },
  {
   "cell_type": "markdown",
   "id": "8809a88e-d045-4dd9-b66f-e1acfabedd6a",
   "metadata": {},
   "source": [
    "### La tienda con la desviación estadar máxima fue:"
   ]
  },
  {
   "cell_type": "code",
   "execution_count": 91,
   "id": "e60f2e3a-7f46-4abe-8546-d37fd67aeeca",
   "metadata": {},
   "outputs": [
    {
     "data": {
      "text/plain": [
       "count    6.435000e+03\n",
       "mean     1.046965e+06\n",
       "std      5.643666e+05\n",
       "min      2.099862e+05\n",
       "25%      5.533501e+05\n",
       "50%      9.607460e+05\n",
       "75%      1.420159e+06\n",
       "max      3.818686e+06\n",
       "Name: vta_semana, dtype: float64"
      ]
     },
     "execution_count": 91,
     "metadata": {},
     "output_type": "execute_result"
    }
   ],
   "source": [
    "wall_data['vta_semana'].describe()"
   ]
  },
  {
   "cell_type": "code",
   "execution_count": 92,
   "id": "d49133b8-3dda-4b3b-a797-93b6d79cbdfc",
   "metadata": {},
   "outputs": [
    {
     "data": {
      "text/plain": [
       "564366.6220536975"
      ]
     },
     "execution_count": 92,
     "metadata": {},
     "output_type": "execute_result"
    }
   ],
   "source": [
    "statistics.stdev(wall_data['vta_semana'])"
   ]
  },
  {
   "cell_type": "markdown",
   "id": "2fe4e1f7-a266-4886-a2be-550218c239ec",
   "metadata": {},
   "source": [
    "### Las tiendas con buena tasa de crecimiento trimestral en el trimestre de 2012 (top5) son:\n"
   ]
  },
  {
   "cell_type": "code",
   "execution_count": 93,
   "id": "58165f57-8816-4931-ab9f-de1bed4cf0bd",
   "metadata": {},
   "outputs": [],
   "source": [
    "# Las tiendas con buena tasa de crecimiento trimestral en el trimestre de 2012 (top5), son:\n",
    "# trim_trun.groupby(['num_tienda','fecha']).transform('sum')\n",
    "\n",
    "# trim_trun.groupby(['fecha']).get_group('2010-02-05') \n",
    "# it's the same trim_trun[trim_trun['fecha']=='2010-02-05'] but less efficent\n",
    "\n",
    "# trim_trun.groupby(['num_tienda','fecha','vta_semana','dia_feriado'])[['vta_semana']].aggregate([min,max,'mean'])\n",
    "# trim_trun.groupby(['num_tienda','fecha','vta_semana','dia_feriado'])[['vta_semana']].count()\n",
    "# trim_trun.keys()\n",
    "# trim_trun[(trim_trun['fecha']>=\"2012-02-03\") & (trim_trun['fecha']<=\"2012-04-27\")].iloc[:,0:4]\n",
    "# trim_trun[(trim_trun['fecha']>=\"2012-05-04\") & (trim_trun['fecha']<=\"2012-07-27\")].iloc[:,0:4]\n",
    "# trim_trun[(trim_trun['fecha']>=\"2012-08-03\") & (trim_trun['fecha']<=\"2012-10-26\")].iloc[:,0:4]\n",
    "# trim_trun_1.groupby('num_tienda')[['vta_semana']].aggregate([min,max,'mean',sum]).reset_index()\n"
   ]
  },
  {
   "cell_type": "code",
   "execution_count": 94,
   "id": "9ed585e7-2ff4-426b-ab9f-30c14903d1b5",
   "metadata": {},
   "outputs": [],
   "source": [
    "# Separar por trimestres para evaluar el 2012\n",
    "# trim_trun_0 = trim_trun[(trim_trun['fecha']>=\"2011-11-04\") & (trim_trun['fecha']<=\"2012-01-27\")].iloc[:,0:4]\n",
    "# trim_trun_1 = trim_trun[(trim_trun['fecha']>=\"2012-02-03\") & (trim_trun['fecha']<=\"2012-04-27\")].iloc[:,0:4]\n",
    "# trim_trun_2 = trim_trun[(trim_trun['fecha']>=\"2012-05-04\") & (trim_trun['fecha']<=\"2012-07-27\")].iloc[:,0:4]\n",
    "# trim_trun_3 = trim_trun[(trim_trun['fecha']>=\"2012-08-03\") & (trim_trun['fecha']<=\"2012-10-26\")].iloc[:,0:4]\n",
    "\n",
    "# Funcion que separa fechas por trimestres\n",
    "def trimestre (df,f1,f2):\n",
    "    trim = df[(df['fecha']>=f1) & (df['fecha']<=f2)].iloc[:,0:4]\n",
    "    return trim\n",
    "\n",
    "trim_trun_0 = trimestre(trim_trun,\"2011-11-04\",\"2012-01-27\")\n",
    "trim_trun_1 = trimestre(trim_trun,\"2012-02-03\",\"2012-04-27\")\n",
    "trim_trun_2 = trimestre(trim_trun,\"2012-05-04\",\"2012-07-27\")\n",
    "trim_trun_3 = trimestre(trim_trun,\"2012-08-03\",\"2012-10-26\")\n",
    "\n",
    "# Obteniendo la tasa de ganancia\n",
    "# x = (((trim_trun_0.groupby('num_tienda')[['vta_semana']].aggregate([sum])-\\\n",
    "# trim_trun_1.groupby('num_tienda')[['vta_semana']].aggregate([sum])) / \\\n",
    "# (trim_trun_0.groupby('num_tienda')[['vta_semana']].aggregate([sum]))) * 100 ).reset_index()\n",
    "# x\n",
    "# x['num_tienda']\n",
    "# x['vta_semana']\n",
    "# y = pd.DataFrame(x['vta_semana'],x['vta_semana'])\n",
    "# len(x['vta_semana'] ) == len(x['vta_semana'])\n",
    "\n",
    "# y = pd.DataFrame()\n",
    "# y['trim_0']=x['vta_semana']\n",
    "# y['trim_1']=x['vta_semana']\n",
    "# y\n",
    "\n",
    "def tasa_ganancia (trem0,trem1):\n",
    "    tg = (((trem0.groupby('num_tienda')[['vta_semana']].aggregate([sum])-\\\n",
    "            trem1.groupby('num_tienda')[['vta_semana']].aggregate([sum])) / \\\n",
    "           (trem0.groupby('num_tienda')[['vta_semana']].aggregate([sum]))) * 100 ).reset_index()\n",
    "    return tg\n",
    "\n",
    "tg_s1_2012 = tasa_ganancia(trim_trun_0,trim_trun_1)\n",
    "tg_s2_2012 = tasa_ganancia(trim_trun_1,trim_trun_2)\n",
    "tg_s3_2012 = tasa_ganancia(trim_trun_2,trim_trun_3)\n",
    "\n",
    "def df_tasa (a,b,c,tg1,tg2,tg3):\n",
    "    df = pd.DataFrame()\n",
    "    df['tienda'] = range(1,46,1)\n",
    "    df[a]=tg1['vta_semana']\n",
    "    df[b]=tg2['vta_semana']\n",
    "    df[c]=tg3['vta_semana']\n",
    "    return df\n",
    "tasa_crec_2012 = df_tasa('trim_1','trim_2','trim_3',tg_s1_2012,tg_s2_2012,tg_s3_2012)\n",
    "# tasa_crec_2012"
   ]
  },
  {
   "cell_type": "code",
   "execution_count": 95,
   "id": "086d59bc-2c13-44d7-907c-8fd8a69312f6",
   "metadata": {},
   "outputs": [],
   "source": [
    "# # tasa_crec_2012.groupby('tienda').aggregate([max])\n",
    "\n",
    "# tasa_crec_2012.groupby('tienda')[['trim_1']].aggregate([min])\n",
    "# tasa_crec_2012.groupby('trim_1')[['tienda']].min()\n",
    "# tasa_crec_2012.sort_values(by=['trim_1','trim_2','trim_3'], ascending=False)\n",
    "\n",
    "# tasa_crec_2012.iloc[:,:].sort_values(by = ['trim_1','trim_2','trim_3'],ascending=[False,False,False])\n",
    "\n",
    "# tasa_crec_2012.iloc[:,[0,1]].sort_values(by='trim_1', ascending=False)\n",
    "# tasa_crec_2012.iloc[:,[0,2]].sort_values(by='trim_2', ascending=False)\n",
    "# tasa_crec_2012.iloc[:,[0,3]].sort_values(by='trim_3', ascending=False)\n",
    "\n",
    "tasa_crec_2012_1 = tasa_crec_2012.iloc[:,[0,1]].sort_values(by='trim_1', ascending=False)\n",
    "tasa_crec_2012_2 = tasa_crec_2012.iloc[:,[0,2]].sort_values(by='trim_2', ascending=False)\n",
    "tasa_crec_2012_3 = tasa_crec_2012.iloc[:,[0,3]].sort_values(by='trim_3', ascending=False)"
   ]
  },
  {
   "cell_type": "code",
   "execution_count": 96,
   "id": "9c963eec-f4b7-4e70-b9b6-3adc32f108bc",
   "metadata": {},
   "outputs": [
    {
     "data": {
      "text/html": [
       "<div>\n",
       "<style scoped>\n",
       "    .dataframe tbody tr th:only-of-type {\n",
       "        vertical-align: middle;\n",
       "    }\n",
       "\n",
       "    .dataframe tbody tr th {\n",
       "        vertical-align: top;\n",
       "    }\n",
       "\n",
       "    .dataframe thead th {\n",
       "        text-align: right;\n",
       "    }\n",
       "</style>\n",
       "<table border=\"1\" class=\"dataframe\">\n",
       "  <thead>\n",
       "    <tr style=\"text-align: right;\">\n",
       "      <th></th>\n",
       "      <th>tienda</th>\n",
       "      <th>trim_1</th>\n",
       "      <th>tienda</th>\n",
       "      <th>trim_2</th>\n",
       "      <th>tienda</th>\n",
       "      <th>trim_3</th>\n",
       "    </tr>\n",
       "  </thead>\n",
       "  <tbody>\n",
       "    <tr>\n",
       "      <th>0</th>\n",
       "      <td>16</td>\n",
       "      <td>18.801526</td>\n",
       "      <td>28</td>\n",
       "      <td>9.743405</td>\n",
       "      <td>14</td>\n",
       "      <td>9.625852</td>\n",
       "    </tr>\n",
       "    <tr>\n",
       "      <th>1</th>\n",
       "      <td>25</td>\n",
       "      <td>17.797406</td>\n",
       "      <td>12</td>\n",
       "      <td>8.986071</td>\n",
       "      <td>15</td>\n",
       "      <td>8.496627</td>\n",
       "    </tr>\n",
       "    <tr>\n",
       "      <th>2</th>\n",
       "      <td>15</td>\n",
       "      <td>17.604092</td>\n",
       "      <td>10</td>\n",
       "      <td>7.999261</td>\n",
       "      <td>7</td>\n",
       "      <td>8.492094</td>\n",
       "    </tr>\n",
       "    <tr>\n",
       "      <th>3</th>\n",
       "      <td>7</td>\n",
       "      <td>16.294563</td>\n",
       "      <td>14</td>\n",
       "      <td>7.216201</td>\n",
       "      <td>45</td>\n",
       "      <td>7.584280</td>\n",
       "    </tr>\n",
       "    <tr>\n",
       "      <th>4</th>\n",
       "      <td>35</td>\n",
       "      <td>15.038587</td>\n",
       "      <td>21</td>\n",
       "      <td>6.502043</td>\n",
       "      <td>6</td>\n",
       "      <td>7.403839</td>\n",
       "    </tr>\n",
       "  </tbody>\n",
       "</table>\n",
       "</div>"
      ],
      "text/plain": [
       "   tienda     trim_1  tienda    trim_2  tienda    trim_3\n",
       "0      16  18.801526      28  9.743405      14  9.625852\n",
       "1      25  17.797406      12  8.986071      15  8.496627\n",
       "2      15  17.604092      10  7.999261       7  8.492094\n",
       "3       7  16.294563      14  7.216201      45  7.584280\n",
       "4      35  15.038587      21  6.502043       6  7.403839"
      ]
     },
     "execution_count": 96,
     "metadata": {},
     "output_type": "execute_result"
    }
   ],
   "source": [
    "tasa_crec_2012_1.reset_index(drop=True, inplace=True)\n",
    "tasa_crec_2012_2.reset_index(drop=True, inplace=True)\n",
    "tasa_crec_2012_3.reset_index(drop=True, inplace=True)\n",
    "\n",
    "tiendas_crec_trime = pd.concat([tasa_crec_2012_1,tasa_crec_2012_2,tasa_crec_2012_3],axis=1)\n",
    "tiendas_crec_trime\n",
    "tiendas_crec_trime.head(5)\n",
    "\n",
    "\n",
    "# Fuentes de información\n",
    "# Definición de la tabla\n",
    "# https://www.statology.org/cbind-in-python/\n",
    "\n"
   ]
  },
  {
   "cell_type": "code",
   "execution_count": 97,
   "id": "30424772-1e82-40d2-a5bf-1baaf0355197",
   "metadata": {},
   "outputs": [],
   "source": [
    "# comp_tasas_trim_2012 = pd.concat([tasa_crec_2012_1.iloc[:,[0]],tasa_crec_2012_1.iloc[:,[1]],\\\n",
    "#                                tasa_crec_2012_2.iloc[:,[1]],\\\n",
    "#                                tasa_crec_2012_3.iloc[:,[1]]],axis=1)\n",
    "# comp_tasas_trim_2012\n",
    "\n",
    "# comp_tasas_trim_2012.insert(2, \"tienda\",tasa_crec_2012_2.iloc[:,[0]] , True)\n",
    "# comp_tasas_trim_2012.insert(4, \"tienda\",tasa_crec_2012_3.iloc[:,[0]] , True)\n",
    "# comp_tasas_trim_2012\n",
    "\n",
    "# tasa_crec_2012_1.iloc[:,[0]]\n",
    "# tasa_crec_2012_1.iloc[:,[1]]\n",
    "# tasa_crec_2012.loc[:,{'tienda','trim_2'}]\n",
    "# tasa_crec_2012.iloc[:,[0,2]]\n",
    "# tasa_crec_2012.loc[:,].sort_values(by='trim_1', ascending=False)"
   ]
  },
  {
   "cell_type": "code",
   "execution_count": 98,
   "id": "db8c9b79-79fa-4418-934d-d5d8f640f06e",
   "metadata": {},
   "outputs": [],
   "source": [
    "# Algunas festividades tienen un impacto negativo en las ventas. \n",
    "# Averigüe los días festivos que tienen ventas más altas que las ventas medias en temporada \n",
    "# no festiva para todas las tiendas juntas\n"
   ]
  },
  {
   "cell_type": "code",
   "execution_count": null,
   "id": "e14d8b70-58ff-41b4-a4be-47bb134a8912",
   "metadata": {},
   "outputs": [],
   "source": [
    "# tiendas_crec_trime[tiendas_crec_trime['tienda']==15]\n",
    "# tg_s1_2012[tg_s1_2012['num_tienda']==15] #-> 17.6040\n",
    "# tg_s2_2012[tg_s2_2012['num_tienda']==15] #-> -9.969296\n",
    "tg_s3_2012[tg_s3_2012['num_tienda']==15] #-> 8.496627"
   ]
  },
  {
   "cell_type": "code",
   "execution_count": null,
   "id": "54221a64-e898-493f-b1f3-7f50fcf1933e",
   "metadata": {},
   "outputs": [],
   "source": [
    "\n",
    "# tiendas_crec_trime[tiendas_crec_trime['tienda']==16] #-> Error cannot reindex on an axis with duplicate labels\n",
    "# tiendas_crec_trime.groupby(['tienda']) #->Grouper for 'tienda' not 1-dimensional\n",
    "\n",
    "# tiendas_crec_trime.iloc[:,[0,1]].groupby(['tienda']).get_group(16)\n",
    "# tiendas_crec_trime.iloc[:,[2,3]]\n",
    "# tiendas_crec_trime.iloc[:,[4,5]]\n",
    "\n",
    "# tiendas_crec_trime.iloc[:,[0,1]].groupby(['tienda']).get_group(16).iloc[0,1]\n",
    "\n",
    "# tiendas_crec_trime.iloc[:,[0,1]].groupby(['tienda']).get_group(16).iloc[0,1] + tiendas_crec_trime.iloc[:,[2,3]].groupby(['tienda']).get_group(16).iloc[0,1] +\\\n",
    "# tiendas_crec_trime.iloc[:,[4,5]].groupby(['tienda']).get_group(16).iloc[0,1]\n",
    "\n",
    "# a = pd.DataFrame(columns=['num_store', 'rate_sem_2012'])\n",
    "# new_row = {'num_store':\"sd\",\n",
    "#           'rate_sem_2012':12.344}\n",
    "# a = a.append(new_row, ignore_index=True)\n",
    "# a\n",
    "# new_row = {'num_store':\"asda\",\n",
    "#           'rate_sem_2012':254.23}\n",
    "# a = a.append(new_row, ignore_index=True)\n",
    "# a\n",
    "\n",
    "rate_store = pd.DataFrame(columns=['num_store', 'rate_sem_2012'])\n",
    "for n in range (1,46,1):\n",
    "    tasa_tienda = tiendas_crec_trime.iloc[:,[0,1]].groupby(['tienda']).get_group(n).iloc[0,1] +\\\n",
    "    tiendas_crec_trime.iloc[:,[2,3]].groupby(['tienda']).get_group(n).iloc[0,1] +\\\n",
    "    tiendas_crec_trime.iloc[:,[4,5]].groupby(['tienda']).get_group(n).iloc[0,1]\n",
    "    new_row = {'num_store':n,'rate_sem_2012':tasa_tienda}\n",
    "    rate_store = rate_store.append(new_row,ignore_index=True)\n",
    "    # print(n,tasa_tienda)\n",
    "rate_store.sort_values(by = 'rate_sem_2012',ascending= False)\n",
    "    \n",
    "\n"
   ]
  },
  {
   "cell_type": "code",
   "execution_count": null,
   "id": "bed13c6b-000e-4b7a-b1e5-a130ef6d260c",
   "metadata": {},
   "outputs": [],
   "source": [
    "df.quarte()"
   ]
  },
  {
   "cell_type": "code",
   "execution_count": null,
   "id": "0665ffa1-f449-432f-bd80-f4d7948f258e",
   "metadata": {},
   "outputs": [],
   "source": [
    "# Las número 7 y 15 tienen un mejor desempeño despues de las festividades\n",
    "# de fin de año y durate el mes del Super Bowl (febrero) y Labor Day (septiembre).\n",
    "# El trimestre con mejor tasa fue el de febrero - abril y fue aumentando el trimestre  agosto - septiembre que coincide con regreso a \n",
    "# las actividades escolares. También, el compartamiento de la tasa empieza con un maximo  en el primer semestre, cae durante el segundo trimestre\n",
    "# y comienza a recuperarse en el tercer trimestre especto al primer trimestre."
   ]
  },
  {
   "cell_type": "code",
   "execution_count": null,
   "id": "dd622203-ff97-4ad8-89be-55dcd1c6baa9",
   "metadata": {},
   "outputs": [],
   "source": []
  },
  {
   "cell_type": "code",
   "execution_count": null,
   "id": "ffbdf2ee-18c0-4d00-9b95-2b2924e29975",
   "metadata": {},
   "outputs": [],
   "source": []
  }
 ],
 "metadata": {
  "kernelspec": {
   "display_name": "Python 3 (ipykernel)",
   "language": "python",
   "name": "python3"
  },
  "language_info": {
   "codemirror_mode": {
    "name": "ipython",
    "version": 3
   },
   "file_extension": ".py",
   "mimetype": "text/x-python",
   "name": "python",
   "nbconvert_exporter": "python",
   "pygments_lexer": "ipython3",
   "version": "3.8.8"
  }
 },
 "nbformat": 4,
 "nbformat_minor": 5
}

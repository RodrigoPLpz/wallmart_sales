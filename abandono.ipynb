{
 "cells": [
  {
   "cell_type": "markdown",
   "id": "53f54cbe-c600-4d4b-a73d-8a95274a9232",
   "metadata": {
    "tags": []
   },
   "source": [
    "## Instanciar paquetes"
   ]
  },
  {
   "cell_type": "code",
   "execution_count": 224,
   "id": "dc441965-270d-4105-915b-a6a54a7a8b13",
   "metadata": {},
   "outputs": [
    {
     "name": "stdout",
     "output_type": "stream",
     "text": [
      "Setup complete\n"
     ]
    }
   ],
   "source": [
    "import pandas as pd\n",
    "import numpy as np\n",
    "# import datetime as dt\n",
    "from datetime import datetime\n",
    "\n",
    "import warnings\n",
    "warnings.filterwarnings('ignore')\n",
    "\n",
    "# Formato de visualización por centenas\n",
    "pd.options.display.float_format = '{:,.2f}'.format\n",
    "\n",
    "# Graficas\n",
    "pd.plotting.register_matplotlib_converters()\n",
    "import matplotlib.pyplot as plt\n",
    "%matplotlib inline\n",
    "import seaborn as sns;sns.set_theme(color_codes=True)\n",
    "\n",
    "print(\"Setup complete\")\n"
   ]
  },
  {
   "cell_type": "code",
   "execution_count": 52,
   "id": "7364b940-708b-4631-b256-7767bca734ca",
   "metadata": {},
   "outputs": [
    {
     "name": "stdout",
     "output_type": "stream",
     "text": [
      "{'encoding': 'ISO-8859-1', 'confidence': 0.73, 'language': ''}\n"
     ]
    }
   ],
   "source": [
    "import chardet\n",
    "with open('E:\\\\skillsForIndustry/banorte/data/muestra_abandono.csv','rb') as rawdata:\n",
    "    result = chardet.detect(rawdata.read(10000))\n",
    "print(result)"
   ]
  },
  {
   "cell_type": "markdown",
   "id": "d3c9c1a8-b5ac-4a7a-932d-af4930e3de52",
   "metadata": {},
   "source": [
    "## Importar Data"
   ]
  },
  {
   "cell_type": "code",
   "execution_count": 133,
   "id": "f651e375-fe83-40b5-9c3c-85f1d6026654",
   "metadata": {},
   "outputs": [],
   "source": [
    "path = r'E:\\\\skillsForIndustry/banorte/data/muestra_abandono.csv'\n",
    "\n",
    "abandono = pd.read_csv(path, sep=\"\\t\",quotechar='',encoding='ISO-8859-1',index_col = False,\n",
    "                       engine='python', header=0,names = ['seg','tipo_seg','con_crd',\n",
    "                                                             'Rango_Ant','Rango_score',\n",
    "                                                             'Rango_disp_prom','Rango_UDIR_anual',\n",
    "                                                             'Rango_Num_Productos','rango_sdo_capta',\n",
    "                                                             'conteo','udir_anual'])"
   ]
  },
  {
   "cell_type": "code",
   "execution_count": 134,
   "id": "1c245b55-6083-4160-90bf-cd21f9e5b94a",
   "metadata": {},
   "outputs": [],
   "source": [
    "# path = r'E:\\\\skillsForIndustry/banorte/data/muestra_abandono.txt'\n",
    "\n",
    "# cols =['seg','tipo_seg','con_crd','Rango_Ant','Rango_score','Rango_disp_prom','Rango_UDIR_anual',\\\n",
    "#        'Rango_Num_Productos','rango_sdo_capta','conteo','udir_anual']\n",
    "\n",
    "# abandono = pd.read_table(path, sep=\"\\t\",encoding='latin2',header=None,names = cols)"
   ]
  },
  {
   "cell_type": "code",
   "execution_count": 140,
   "id": "ecca29f6-669e-452f-a43e-2e745fd046a9",
   "metadata": {},
   "outputs": [
    {
     "data": {
      "text/html": [
       "<div>\n",
       "<style scoped>\n",
       "    .dataframe tbody tr th:only-of-type {\n",
       "        vertical-align: middle;\n",
       "    }\n",
       "\n",
       "    .dataframe tbody tr th {\n",
       "        vertical-align: top;\n",
       "    }\n",
       "\n",
       "    .dataframe thead th {\n",
       "        text-align: right;\n",
       "    }\n",
       "</style>\n",
       "<table border=\"1\" class=\"dataframe\">\n",
       "  <thead>\n",
       "    <tr style=\"text-align: right;\">\n",
       "      <th></th>\n",
       "      <th>seg</th>\n",
       "      <th>tipo_seg</th>\n",
       "      <th>con_crd</th>\n",
       "      <th>Rango_Ant</th>\n",
       "      <th>Rango_score</th>\n",
       "      <th>Rango_disp_prom</th>\n",
       "      <th>Rango_UDIR_anual</th>\n",
       "      <th>Rango_Num_Productos</th>\n",
       "      <th>rango_sdo_capta</th>\n",
       "      <th>conteo</th>\n",
       "      <th>udir_anual</th>\n",
       "    </tr>\n",
       "  </thead>\n",
       "  <tbody>\n",
       "    <tr>\n",
       "      <th>658313</th>\n",
       "      <td>BB</td>\n",
       "      <td>PL</td>\n",
       "      <td>0</td>\n",
       "      <td>6 o menos</td>\n",
       "      <td>70.1% a 80%</td>\n",
       "      <td>$5,000 a $9,999.9</td>\n",
       "      <td>$0.1 a $500</td>\n",
       "      <td>1</td>\n",
       "      <td>$100.01 a $1,000</td>\n",
       "      <td>14</td>\n",
       "      <td>0.57</td>\n",
       "    </tr>\n",
       "    <tr>\n",
       "      <th>570050</th>\n",
       "      <td>BB</td>\n",
       "      <td>PL</td>\n",
       "      <td>0</td>\n",
       "      <td>25 a 60</td>\n",
       "      <td>70.1% a 80%</td>\n",
       "      <td>$100 a $4,999.9</td>\n",
       "      <td>Menor igual a -$1,000</td>\n",
       "      <td>1</td>\n",
       "      <td>$100.01 a $1,000</td>\n",
       "      <td>1</td>\n",
       "      <td>-1.02</td>\n",
       "    </tr>\n",
       "    <tr>\n",
       "      <th>318770</th>\n",
       "      <td>BB</td>\n",
       "      <td>PL</td>\n",
       "      <td>1</td>\n",
       "      <td>25 a 60</td>\n",
       "      <td>20.1% a 30%</td>\n",
       "      <td>$20,000 a $39,999.9</td>\n",
       "      <td>Menor igual a -$1,000</td>\n",
       "      <td>Más de 2</td>\n",
       "      <td>$5,000.01 a $10,000</td>\n",
       "      <td>1</td>\n",
       "      <td>-4.65</td>\n",
       "    </tr>\n",
       "    <tr>\n",
       "      <th>656462</th>\n",
       "      <td>BB</td>\n",
       "      <td>PL</td>\n",
       "      <td>0</td>\n",
       "      <td>25 a 60</td>\n",
       "      <td>60.1% a 70%</td>\n",
       "      <td>$5,000 a $9,999.9</td>\n",
       "      <td>Menor igual a -$1,000</td>\n",
       "      <td>2</td>\n",
       "      <td>$100.01 a $1,000</td>\n",
       "      <td>41</td>\n",
       "      <td>-67.57</td>\n",
       "    </tr>\n",
       "    <tr>\n",
       "      <th>792801</th>\n",
       "      <td>BB</td>\n",
       "      <td>TPL</td>\n",
       "      <td>1</td>\n",
       "      <td>25 a 60</td>\n",
       "      <td>40.1% a 50%</td>\n",
       "      <td>$5,000 a $9,999.9</td>\n",
       "      <td>$1,000.1 a $5,000</td>\n",
       "      <td>Más de 2</td>\n",
       "      <td>$50,000.01 o más</td>\n",
       "      <td>1</td>\n",
       "      <td>2.20</td>\n",
       "    </tr>\n",
       "  </tbody>\n",
       "</table>\n",
       "</div>"
      ],
      "text/plain": [
       "       seg tipo_seg  con_crd  Rango_Ant  Rango_score      Rango_disp_prom  \\\n",
       "658313  BB       PL        0  6 o menos  70.1% a 80%    $5,000 a $9,999.9   \n",
       "570050  BB       PL        0    25 a 60  70.1% a 80%      $100 a $4,999.9   \n",
       "318770  BB       PL        1    25 a 60  20.1% a 30%  $20,000 a $39,999.9   \n",
       "656462  BB       PL        0    25 a 60  60.1% a 70%    $5,000 a $9,999.9   \n",
       "792801  BB      TPL        1    25 a 60  40.1% a 50%    $5,000 a $9,999.9   \n",
       "\n",
       "             Rango_UDIR_anual Rango_Num_Productos      rango_sdo_capta  \\\n",
       "658313            $0.1 a $500                   1     $100.01 a $1,000   \n",
       "570050  Menor igual a -$1,000                   1     $100.01 a $1,000   \n",
       "318770  Menor igual a -$1,000            Más de 2  $5,000.01 a $10,000   \n",
       "656462  Menor igual a -$1,000                   2     $100.01 a $1,000   \n",
       "792801      $1,000.1 a $5,000            Más de 2     $50,000.01 o más   \n",
       "\n",
       "        conteo udir_anual  \n",
       "658313      14       0.57  \n",
       "570050       1      -1.02  \n",
       "318770       1      -4.65  \n",
       "656462      41     -67.57  \n",
       "792801       1       2.20  "
      ]
     },
     "execution_count": 140,
     "metadata": {},
     "output_type": "execute_result"
    }
   ],
   "source": [
    "abandono.sample(5,random_state=1000)"
   ]
  },
  {
   "cell_type": "code",
   "execution_count": 142,
   "id": "76e8f6d5-8c6f-4a6e-8c2b-a89b2becd8db",
   "metadata": {},
   "outputs": [],
   "source": [
    "# abandono.Rango_UDIR_anual.str.replace('[0-9]+','')\n",
    "abandono.Rango_disp_prom = abandono.Rango_disp_prom.str.replace('[$,]','')\n",
    "abandono.Rango_UDIR_anual = abandono.Rango_UDIR_anual.str.replace('[$,]','')\n",
    "abandono.rango_sdo_capta = abandono.rango_sdo_capta.str.replace('[$,]','')"
   ]
  },
  {
   "cell_type": "code",
   "execution_count": 143,
   "id": "658dfddf-f96e-4d16-b062-866cdb735d82",
   "metadata": {},
   "outputs": [
    {
     "data": {
      "text/html": [
       "<div>\n",
       "<style scoped>\n",
       "    .dataframe tbody tr th:only-of-type {\n",
       "        vertical-align: middle;\n",
       "    }\n",
       "\n",
       "    .dataframe tbody tr th {\n",
       "        vertical-align: top;\n",
       "    }\n",
       "\n",
       "    .dataframe thead th {\n",
       "        text-align: right;\n",
       "    }\n",
       "</style>\n",
       "<table border=\"1\" class=\"dataframe\">\n",
       "  <thead>\n",
       "    <tr style=\"text-align: right;\">\n",
       "      <th></th>\n",
       "      <th>seg</th>\n",
       "      <th>tipo_seg</th>\n",
       "      <th>con_crd</th>\n",
       "      <th>Rango_Ant</th>\n",
       "      <th>Rango_score</th>\n",
       "      <th>Rango_disp_prom</th>\n",
       "      <th>Rango_UDIR_anual</th>\n",
       "      <th>Rango_Num_Productos</th>\n",
       "      <th>rango_sdo_capta</th>\n",
       "      <th>conteo</th>\n",
       "      <th>udir_anual</th>\n",
       "    </tr>\n",
       "  </thead>\n",
       "  <tbody>\n",
       "    <tr>\n",
       "      <th>658313</th>\n",
       "      <td>BB</td>\n",
       "      <td>PL</td>\n",
       "      <td>0</td>\n",
       "      <td>6 o menos</td>\n",
       "      <td>70.1% a 80%</td>\n",
       "      <td>5000 a 9999.9</td>\n",
       "      <td>0.1 a 500</td>\n",
       "      <td>1</td>\n",
       "      <td>100.01 a 1000</td>\n",
       "      <td>14</td>\n",
       "      <td>0.57</td>\n",
       "    </tr>\n",
       "    <tr>\n",
       "      <th>570050</th>\n",
       "      <td>BB</td>\n",
       "      <td>PL</td>\n",
       "      <td>0</td>\n",
       "      <td>25 a 60</td>\n",
       "      <td>70.1% a 80%</td>\n",
       "      <td>100 a 4999.9</td>\n",
       "      <td>Menor igual a -1000</td>\n",
       "      <td>1</td>\n",
       "      <td>100.01 a 1000</td>\n",
       "      <td>1</td>\n",
       "      <td>-1.02</td>\n",
       "    </tr>\n",
       "    <tr>\n",
       "      <th>318770</th>\n",
       "      <td>BB</td>\n",
       "      <td>PL</td>\n",
       "      <td>1</td>\n",
       "      <td>25 a 60</td>\n",
       "      <td>20.1% a 30%</td>\n",
       "      <td>20000 a 39999.9</td>\n",
       "      <td>Menor igual a -1000</td>\n",
       "      <td>Más de 2</td>\n",
       "      <td>5000.01 a 10000</td>\n",
       "      <td>1</td>\n",
       "      <td>-4.65</td>\n",
       "    </tr>\n",
       "    <tr>\n",
       "      <th>656462</th>\n",
       "      <td>BB</td>\n",
       "      <td>PL</td>\n",
       "      <td>0</td>\n",
       "      <td>25 a 60</td>\n",
       "      <td>60.1% a 70%</td>\n",
       "      <td>5000 a 9999.9</td>\n",
       "      <td>Menor igual a -1000</td>\n",
       "      <td>2</td>\n",
       "      <td>100.01 a 1000</td>\n",
       "      <td>41</td>\n",
       "      <td>-67.57</td>\n",
       "    </tr>\n",
       "    <tr>\n",
       "      <th>792801</th>\n",
       "      <td>BB</td>\n",
       "      <td>TPL</td>\n",
       "      <td>1</td>\n",
       "      <td>25 a 60</td>\n",
       "      <td>40.1% a 50%</td>\n",
       "      <td>5000 a 9999.9</td>\n",
       "      <td>1000.1 a 5000</td>\n",
       "      <td>Más de 2</td>\n",
       "      <td>50000.01 o más</td>\n",
       "      <td>1</td>\n",
       "      <td>2.20</td>\n",
       "    </tr>\n",
       "  </tbody>\n",
       "</table>\n",
       "</div>"
      ],
      "text/plain": [
       "       seg tipo_seg  con_crd  Rango_Ant  Rango_score  Rango_disp_prom  \\\n",
       "658313  BB       PL        0  6 o menos  70.1% a 80%    5000 a 9999.9   \n",
       "570050  BB       PL        0    25 a 60  70.1% a 80%     100 a 4999.9   \n",
       "318770  BB       PL        1    25 a 60  20.1% a 30%  20000 a 39999.9   \n",
       "656462  BB       PL        0    25 a 60  60.1% a 70%    5000 a 9999.9   \n",
       "792801  BB      TPL        1    25 a 60  40.1% a 50%    5000 a 9999.9   \n",
       "\n",
       "           Rango_UDIR_anual Rango_Num_Productos  rango_sdo_capta  conteo  \\\n",
       "658313            0.1 a 500                   1    100.01 a 1000      14   \n",
       "570050  Menor igual a -1000                   1    100.01 a 1000       1   \n",
       "318770  Menor igual a -1000            Más de 2  5000.01 a 10000       1   \n",
       "656462  Menor igual a -1000                   2    100.01 a 1000      41   \n",
       "792801        1000.1 a 5000            Más de 2   50000.01 o más       1   \n",
       "\n",
       "       udir_anual  \n",
       "658313       0.57  \n",
       "570050      -1.02  \n",
       "318770      -4.65  \n",
       "656462     -67.57  \n",
       "792801       2.20  "
      ]
     },
     "execution_count": 143,
     "metadata": {},
     "output_type": "execute_result"
    }
   ],
   "source": [
    "abandono.sample(5,random_state=1000)"
   ]
  },
  {
   "cell_type": "code",
   "execution_count": 144,
   "id": "c55c3f56-8ba3-41a8-b2f2-ea471334f55d",
   "metadata": {},
   "outputs": [
    {
     "name": "stdout",
     "output_type": "stream",
     "text": [
      "Número de observaciones: 886858\n",
      "Número de variables: 11\n",
      "Variables Index(['seg', 'tipo_seg', 'con_crd', 'Rango_Ant', 'Rango_score',\n",
      "       'Rango_disp_prom', 'Rango_UDIR_anual', 'Rango_Num_Productos',\n",
      "       'rango_sdo_capta', 'conteo', 'udir_anual'],\n",
      "      dtype='object')\n"
     ]
    }
   ],
   "source": [
    "print(\"Número de observaciones:\", abandono.shape[0])\n",
    "print(\"Número de variables:\", abandono.shape[1])\n",
    "print(\"Variables\",abandono.keys())"
   ]
  },
  {
   "cell_type": "code",
   "execution_count": 145,
   "id": "37faae8e-17af-4a7d-bc08-8a1c49b4f66c",
   "metadata": {},
   "outputs": [
    {
     "name": "stdout",
     "output_type": "stream",
     "text": [
      "<class 'pandas.core.frame.DataFrame'>\n",
      "RangeIndex: 886858 entries, 0 to 886857\n",
      "Data columns (total 11 columns):\n",
      " #   Column               Non-Null Count   Dtype \n",
      "---  ------               --------------   ----- \n",
      " 0   seg                  886858 non-null  object\n",
      " 1   tipo_seg             886858 non-null  object\n",
      " 2   con_crd              886858 non-null  int64 \n",
      " 3   Rango_Ant            886858 non-null  object\n",
      " 4   Rango_score          886858 non-null  object\n",
      " 5   Rango_disp_prom      886858 non-null  object\n",
      " 6   Rango_UDIR_anual     886858 non-null  object\n",
      " 7   Rango_Num_Productos  886858 non-null  object\n",
      " 8   rango_sdo_capta      886858 non-null  object\n",
      " 9   conteo               886858 non-null  int64 \n",
      " 10  udir_anual           886858 non-null  object\n",
      "dtypes: int64(2), object(9)\n",
      "memory usage: 74.4+ MB\n"
     ]
    }
   ],
   "source": [
    "abandono.info()"
   ]
  },
  {
   "cell_type": "code",
   "execution_count": 192,
   "id": "6607dd3b-0f85-429f-b3da-061654d9866e",
   "metadata": {},
   "outputs": [
    {
     "data": {
      "text/plain": [
       "seg                    0\n",
       "tipo_seg               0\n",
       "con_crd                0\n",
       "Rango_Ant              0\n",
       "Rango_score            0\n",
       "Rango_disp_prom        0\n",
       "Rango_UDIR_anual       0\n",
       "Rango_Num_Productos    0\n",
       "rango_sdo_capta        0\n",
       "conteo                 0\n",
       "udir_anual             0\n",
       "dtype: int64"
      ]
     },
     "execution_count": 192,
     "metadata": {},
     "output_type": "execute_result"
    }
   ],
   "source": [
    "abandono.isna().sum()"
   ]
  },
  {
   "cell_type": "markdown",
   "id": "1ad62f9b-2753-4232-88e6-d3e97c1a9830",
   "metadata": {},
   "source": [
    "<b>La variable \"Rango_score\" nos indica la probabilidad de que un cliente abandone el producto.Así que, una campaña de mkt debería enfocarce al mayor número de clientes por mayor porcentaje de abandono</b>"
   ]
  },
  {
   "cell_type": "code",
   "execution_count": 147,
   "id": "d2bc3038-370e-466a-8314-ad3cc0548f4e",
   "metadata": {},
   "outputs": [
    {
     "data": {
      "text/plain": [
       "array(['0% a 10%', '10.1% a 20%', '20.1% a 30%', '40.1% a 50%',\n",
       "       '90.1% a 100%', '30.1% a 40%', '60.1% a 70%', '50.1% a 60%',\n",
       "       '70.1% a 80%', '80.1% a 90%'], dtype=object)"
      ]
     },
     "execution_count": 147,
     "metadata": {},
     "output_type": "execute_result"
    }
   ],
   "source": [
    "abandono['Rango_score'].unique()"
   ]
  },
  {
   "cell_type": "code",
   "execution_count": 148,
   "id": "8f0f7834-7712-4a5b-96e1-f939e782ca19",
   "metadata": {},
   "outputs": [
    {
     "data": {
      "text/plain": [
       "Rango_score\n",
       "90.1% a 100%      1155\n",
       "80.1% a 90%      11091\n",
       "70.1% a 80%      28667\n",
       "60.1% a 70%      51757\n",
       "50.1% a 60%      79522\n",
       "0% a 10%        102549\n",
       "40.1% a 50%     112163\n",
       "30.1% a 40%     144125\n",
       "20.1% a 30%     174387\n",
       "10.1% a 20%     181442\n",
       "dtype: int64"
      ]
     },
     "execution_count": 148,
     "metadata": {},
     "output_type": "execute_result"
    }
   ],
   "source": [
    "abandono.groupby('Rango_score').size().sort_values()"
   ]
  },
  {
   "cell_type": "code",
   "execution_count": 228,
   "id": "bd535603-efa9-4e53-8373-18f38905d734",
   "metadata": {},
   "outputs": [
    {
     "data": {
      "image/png": "[encoded data removed]",
      "text/plain": [
       "<Figure size 936x504 with 1 Axes>"
      ]
     },
     "metadata": {},
     "output_type": "display_data"
    }
   ],
   "source": [
    "# Se gráfica el monto de venta por semana de cada tienda\n",
    "\n",
    "por_abn = abandono.groupby('Rango_score').size()\n",
    "por_abn = por_abn.to_frame()\n",
    "por_abn.columns= ['count']\n",
    "por_abn = por_abn.reset_index()\n",
    "por_abn.head()\n",
    "\n",
    "plt.figure(figsize=(13,7))\n",
    "plt.title('Porcentaje de abandono')\n",
    "sns.barplot(data = por_abn, x = 'Rango_score',y='count', color='#FF8300')\n",
    "plt.show()"
   ]
  },
  {
   "cell_type": "code",
   "execution_count": 189,
   "id": "8dffb2c5-922d-4a6d-aa3c-fe90789d0c04",
   "metadata": {},
   "outputs": [
    {
     "data": {
      "text/plain": [
       "171037"
      ]
     },
     "execution_count": 189,
     "metadata": {},
     "output_type": "execute_result"
    }
   ],
   "source": [
    "# ----------------------------- TODO -------------------------------------------------------------- #\n",
    "# abandono.groupby(['Rango_score'])['conteo'].get_group(('80.1% a 90%','70.1% a 80%','60.1% a 70%')).count()\n",
    "# abandono[(abandono['Rango_score']=='80.1% a 90%')|(abandono['Rango_score']=='70.1% a 80%')|\n",
    "#          (abandono['Rango_score']=='60.1% a 70%')|(abandono['Rango_score']=='50.1% a 60%')].groupby('Rango_score')['conteo'].size()\n",
    "# ----------------------------- TODO -------------------------------------------------------------- #\n",
    "\n",
    "# Menor porcentaje de abandono\n",
    "# abandono.groupby(['Rango_score'])['conteo'].get_group('40.1% a 50%').count() +\\\n",
    "# abandono.groupby(['Rango_score'])['conteo'].get_group('30.1% a 40%').count()+\\\n",
    "# abandono.groupby(['Rango_score'])['conteo'].get_group('60.1% a 70%').count()+\\\n",
    "# abandono.groupby(['Rango_score'])['conteo'].get_group('20.1% a 30%').count()\n",
    "\n",
    "# Mayor porcentaje de abandono\n",
    "abandono.groupby(['Rango_score'])['conteo'].get_group('80.1% a 90%').count() +\\\n",
    "abandono.groupby(['Rango_score'])['conteo'].get_group('70.1% a 80%').count()+\\\n",
    "abandono.groupby(['Rango_score'])['conteo'].get_group('60.1% a 70%').count()+\\\n",
    "abandono.groupby(['Rango_score'])['conteo'].get_group('50.1% a 60%').count()"
   ]
  },
  {
   "cell_type": "code",
   "execution_count": null,
   "id": "ea8f0088-32a1-43f7-8bea-0ffc3a38ce82",
   "metadata": {},
   "outputs": [],
   "source": [
    "mkt_abn_1 = abandono[(abandono['Rango_score']=='80.1% a 90%')|(abandono['Rango_score']=='70.1% a 80%')|\n",
    "                     (abandono['Rango_score']=='60.1% a 70%')|(abandono['Rango_score']=='50.1% a 60%')]"
   ]
  },
  {
   "cell_type": "code",
   "execution_count": 195,
   "id": "f2d58b42-8093-4587-b06a-6c3e16bdb27f",
   "metadata": {},
   "outputs": [
    {
     "data": {
      "text/html": [
       "<div>\n",
       "<style scoped>\n",
       "    .dataframe tbody tr th:only-of-type {\n",
       "        vertical-align: middle;\n",
       "    }\n",
       "\n",
       "    .dataframe tbody tr th {\n",
       "        vertical-align: top;\n",
       "    }\n",
       "\n",
       "    .dataframe thead th {\n",
       "        text-align: right;\n",
       "    }\n",
       "</style>\n",
       "<table border=\"1\" class=\"dataframe\">\n",
       "  <thead>\n",
       "    <tr style=\"text-align: right;\">\n",
       "      <th></th>\n",
       "      <th>seg</th>\n",
       "      <th>tipo_seg</th>\n",
       "      <th>con_crd</th>\n",
       "      <th>Rango_Ant</th>\n",
       "      <th>Rango_score</th>\n",
       "      <th>Rango_disp_prom</th>\n",
       "      <th>Rango_UDIR_anual</th>\n",
       "      <th>Rango_Num_Productos</th>\n",
       "      <th>rango_sdo_capta</th>\n",
       "      <th>conteo</th>\n",
       "      <th>udir_anual</th>\n",
       "    </tr>\n",
       "  </thead>\n",
       "  <tbody>\n",
       "    <tr>\n",
       "      <th>65</th>\n",
       "      <td>Otros</td>\n",
       "      <td>EL</td>\n",
       "      <td>0</td>\n",
       "      <td>7 a 12</td>\n",
       "      <td>60.1% a 70%</td>\n",
       "      <td>10000 a 19999.9</td>\n",
       "      <td>-1000.1 a -500</td>\n",
       "      <td>1</td>\n",
       "      <td>100.01 a 1000</td>\n",
       "      <td>1</td>\n",
       "      <td>-0.75</td>\n",
       "    </tr>\n",
       "    <tr>\n",
       "      <th>97</th>\n",
       "      <td>Otros</td>\n",
       "      <td>EL</td>\n",
       "      <td>1</td>\n",
       "      <td>25 a 60</td>\n",
       "      <td>50.1% a 60%</td>\n",
       "      <td>20000 a 39999.9</td>\n",
       "      <td>5000.1 a más</td>\n",
       "      <td>Más de 2</td>\n",
       "      <td>10000.01 a 50000</td>\n",
       "      <td>1</td>\n",
       "      <td>30.72</td>\n",
       "    </tr>\n",
       "    <tr>\n",
       "      <th>108</th>\n",
       "      <td>Otros</td>\n",
       "      <td>EL</td>\n",
       "      <td>1</td>\n",
       "      <td>61 a 120</td>\n",
       "      <td>50.1% a 60%</td>\n",
       "      <td>10000 a 19999.9</td>\n",
       "      <td>5000.1 a más</td>\n",
       "      <td>Más de 2</td>\n",
       "      <td>10000.01 a 50000</td>\n",
       "      <td>1</td>\n",
       "      <td>11.27</td>\n",
       "    </tr>\n",
       "    <tr>\n",
       "      <th>109</th>\n",
       "      <td>Otros</td>\n",
       "      <td>EL</td>\n",
       "      <td>1</td>\n",
       "      <td>61 a 120</td>\n",
       "      <td>50.1% a 60%</td>\n",
       "      <td>10000 a 19999.9</td>\n",
       "      <td>5000.1 a más</td>\n",
       "      <td>Más de 2</td>\n",
       "      <td>50000.01 o más</td>\n",
       "      <td>1</td>\n",
       "      <td>128.94</td>\n",
       "    </tr>\n",
       "    <tr>\n",
       "      <th>110</th>\n",
       "      <td>Otros</td>\n",
       "      <td>EL</td>\n",
       "      <td>1</td>\n",
       "      <td>61 a 120</td>\n",
       "      <td>50.1% a 60%</td>\n",
       "      <td>60000 o más</td>\n",
       "      <td>5000.1 a más</td>\n",
       "      <td>Más de 2</td>\n",
       "      <td>50000.01 o más</td>\n",
       "      <td>1</td>\n",
       "      <td>126.42</td>\n",
       "    </tr>\n",
       "    <tr>\n",
       "      <th>...</th>\n",
       "      <td>...</td>\n",
       "      <td>...</td>\n",
       "      <td>...</td>\n",
       "      <td>...</td>\n",
       "      <td>...</td>\n",
       "      <td>...</td>\n",
       "      <td>...</td>\n",
       "      <td>...</td>\n",
       "      <td>...</td>\n",
       "      <td>...</td>\n",
       "      <td>...</td>\n",
       "    </tr>\n",
       "    <tr>\n",
       "      <th>886686</th>\n",
       "      <td>AA</td>\n",
       "      <td>Tpre</td>\n",
       "      <td>0</td>\n",
       "      <td>61 a 120</td>\n",
       "      <td>50.1% a 60%</td>\n",
       "      <td>10000 a 19999.9</td>\n",
       "      <td>500.1 a 1000</td>\n",
       "      <td>1</td>\n",
       "      <td>10000.01 a 50000</td>\n",
       "      <td>1</td>\n",
       "      <td>0.84</td>\n",
       "    </tr>\n",
       "    <tr>\n",
       "      <th>886687</th>\n",
       "      <td>AA</td>\n",
       "      <td>Tpre</td>\n",
       "      <td>0</td>\n",
       "      <td>61 a 120</td>\n",
       "      <td>50.1% a 60%</td>\n",
       "      <td>100 a 4999.9</td>\n",
       "      <td>1000.1 a 5000</td>\n",
       "      <td>Más de 2</td>\n",
       "      <td>50000.01 o más</td>\n",
       "      <td>1</td>\n",
       "      <td>2.03</td>\n",
       "    </tr>\n",
       "    <tr>\n",
       "      <th>886689</th>\n",
       "      <td>AA</td>\n",
       "      <td>Tpre</td>\n",
       "      <td>0</td>\n",
       "      <td>7 a 12</td>\n",
       "      <td>60.1% a 70%</td>\n",
       "      <td>100 a 4999.9</td>\n",
       "      <td>0.1 a 500</td>\n",
       "      <td>1</td>\n",
       "      <td>10000.01 a 50000</td>\n",
       "      <td>1</td>\n",
       "      <td>0.31</td>\n",
       "    </tr>\n",
       "    <tr>\n",
       "      <th>886690</th>\n",
       "      <td>AA</td>\n",
       "      <td>Tpre</td>\n",
       "      <td>0</td>\n",
       "      <td>7 a 12</td>\n",
       "      <td>70.1% a 80%</td>\n",
       "      <td>100 a 4999.9</td>\n",
       "      <td>-500.1 a 0</td>\n",
       "      <td>1</td>\n",
       "      <td>100.01 a 1000</td>\n",
       "      <td>1</td>\n",
       "      <td>-0.18</td>\n",
       "    </tr>\n",
       "    <tr>\n",
       "      <th>886852</th>\n",
       "      <td>AA</td>\n",
       "      <td>Tpre</td>\n",
       "      <td>1</td>\n",
       "      <td>61 a 120</td>\n",
       "      <td>60.1% a 70%</td>\n",
       "      <td>100 a 4999.9</td>\n",
       "      <td>5000.1 a más</td>\n",
       "      <td>Más de 2</td>\n",
       "      <td>50000.01 o más</td>\n",
       "      <td>1</td>\n",
       "      <td>79.03</td>\n",
       "    </tr>\n",
       "  </tbody>\n",
       "</table>\n",
       "<p>171037 rows × 11 columns</p>\n",
       "</div>"
      ],
      "text/plain": [
       "          seg tipo_seg  con_crd Rango_Ant  Rango_score  Rango_disp_prom  \\\n",
       "65      Otros       EL        0    7 a 12  60.1% a 70%  10000 a 19999.9   \n",
       "97      Otros       EL        1   25 a 60  50.1% a 60%  20000 a 39999.9   \n",
       "108     Otros       EL        1  61 a 120  50.1% a 60%  10000 a 19999.9   \n",
       "109     Otros       EL        1  61 a 120  50.1% a 60%  10000 a 19999.9   \n",
       "110     Otros       EL        1  61 a 120  50.1% a 60%      60000 o más   \n",
       "...       ...      ...      ...       ...          ...              ...   \n",
       "886686     AA     Tpre        0  61 a 120  50.1% a 60%  10000 a 19999.9   \n",
       "886687     AA     Tpre        0  61 a 120  50.1% a 60%     100 a 4999.9   \n",
       "886689     AA     Tpre        0    7 a 12  60.1% a 70%     100 a 4999.9   \n",
       "886690     AA     Tpre        0    7 a 12  70.1% a 80%     100 a 4999.9   \n",
       "886852     AA     Tpre        1  61 a 120  60.1% a 70%     100 a 4999.9   \n",
       "\n",
       "       Rango_UDIR_anual Rango_Num_Productos   rango_sdo_capta  conteo  \\\n",
       "65       -1000.1 a -500                   1     100.01 a 1000       1   \n",
       "97         5000.1 a más            Más de 2  10000.01 a 50000       1   \n",
       "108        5000.1 a más            Más de 2  10000.01 a 50000       1   \n",
       "109        5000.1 a más            Más de 2    50000.01 o más       1   \n",
       "110        5000.1 a más            Más de 2    50000.01 o más       1   \n",
       "...                 ...                 ...               ...     ...   \n",
       "886686     500.1 a 1000                   1  10000.01 a 50000       1   \n",
       "886687    1000.1 a 5000            Más de 2    50000.01 o más       1   \n",
       "886689        0.1 a 500                   1  10000.01 a 50000       1   \n",
       "886690       -500.1 a 0                   1     100.01 a 1000       1   \n",
       "886852     5000.1 a más            Más de 2    50000.01 o más       1   \n",
       "\n",
       "       udir_anual  \n",
       "65          -0.75  \n",
       "97          30.72  \n",
       "108         11.27  \n",
       "109        128.94  \n",
       "110        126.42  \n",
       "...           ...  \n",
       "886686       0.84  \n",
       "886687       2.03  \n",
       "886689       0.31  \n",
       "886690      -0.18  \n",
       "886852      79.03  \n",
       "\n",
       "[171037 rows x 11 columns]"
      ]
     },
     "execution_count": 195,
     "metadata": {},
     "output_type": "execute_result"
    }
   ],
   "source": [
    "mkt_abn_1\n",
    "\n"
   ]
  },
  {
   "cell_type": "code",
   "execution_count": 28,
   "id": "9bd40a5f-80d9-46fe-a445-d808ca444c9e",
   "metadata": {},
   "outputs": [
    {
     "data": {
      "text/plain": [
       "seg\n",
       "AA        92467\n",
       "BB       782650\n",
       "Otros     11741\n",
       "dtype: int64"
      ]
     },
     "execution_count": 28,
     "metadata": {},
     "output_type": "execute_result"
    }
   ],
   "source": [
    "abandono.groupby('seg').size()"
   ]
  },
  {
   "cell_type": "code",
   "execution_count": 9,
   "id": "585722f8-ad74-4437-b892-f100d7fa8156",
   "metadata": {},
   "outputs": [
    {
     "data": {
      "text/plain": [
       "Rango_disp_prom\n",
       "$0.1 a $99.9               77\n",
       "$10,000 a $19,999.9    258302\n",
       "$100 a $4,999.9        116906\n",
       "$20,000 a $39,999.9    187701\n",
       "$40,000 a $59,999.9     70336\n",
       "$5,000 a $9,999.9      213367\n",
       "$60,000 o más           40021\n",
       "Sin dispersión            148\n",
       "dtype: int64"
      ]
     },
     "execution_count": 9,
     "metadata": {},
     "output_type": "execute_result"
    }
   ],
   "source": [
    "abandono.groupby('Rango_disp_prom').size()"
   ]
  },
  {
   "cell_type": "code",
   "execution_count": 29,
   "id": "815471ec-a3aa-4f7a-9e6a-4110542a1ffe",
   "metadata": {},
   "outputs": [
    {
     "data": {
      "text/plain": [
       "Rango_Num_Productos\n",
       "0              129\n",
       "1           258478\n",
       "2           320954\n",
       "Más de 2    307297\n",
       "dtype: int64"
      ]
     },
     "execution_count": 29,
     "metadata": {},
     "output_type": "execute_result"
    }
   ],
   "source": [
    "abandono.groupby('Rango_Num_Productos').size()"
   ]
  },
  {
   "cell_type": "code",
   "execution_count": 30,
   "id": "761d864a-25a0-41dc-aefd-86695a697b8a",
   "metadata": {},
   "outputs": [
    {
     "data": {
      "text/plain": [
       "rango_sdo_capta\n",
       "$0 a $100                71499\n",
       "$1,000.01 a $5,000      205541\n",
       "$10,000.01 a $50,000    168791\n",
       "$100.01 a $1,000        176706\n",
       "$5,000.01 a $10,000     119970\n",
       "$50,000.01 o más        143758\n",
       "Sin Captación              593\n",
       "dtype: int64"
      ]
     },
     "execution_count": 30,
     "metadata": {},
     "output_type": "execute_result"
    }
   ],
   "source": [
    "abandono.groupby('rango_sdo_capta').size()"
   ]
  },
  {
   "cell_type": "code",
   "execution_count": null,
   "id": "3e224e9a-6e66-4c69-b5fb-26d39c524cb9",
   "metadata": {},
   "outputs": [],
   "source": []
  },
  {
   "cell_type": "code",
   "execution_count": null,
   "id": "e9ee7f06-6ad8-4924-b7b3-d2689e96669e",
   "metadata": {},
   "outputs": [],
   "source": []
  },
  {
   "cell_type": "code",
   "execution_count": null,
   "id": "16ccd34f-72bb-4fa2-981c-396d82ab3737",
   "metadata": {},
   "outputs": [],
   "source": []
  },
  {
   "cell_type": "code",
   "execution_count": 31,
   "id": "6f3fc997-6537-4952-84b5-dc4b941bc905",
   "metadata": {},
   "outputs": [
    {
     "data": {
      "text/html": [
       "<div>\n",
       "<style scoped>\n",
       "    .dataframe tbody tr th:only-of-type {\n",
       "        vertical-align: middle;\n",
       "    }\n",
       "\n",
       "    .dataframe tbody tr th {\n",
       "        vertical-align: top;\n",
       "    }\n",
       "\n",
       "    .dataframe thead th {\n",
       "        text-align: right;\n",
       "    }\n",
       "</style>\n",
       "<table border=\"1\" class=\"dataframe\">\n",
       "  <thead>\n",
       "    <tr style=\"text-align: right;\">\n",
       "      <th></th>\n",
       "      <th>seg</th>\n",
       "      <th>tipo_seg</th>\n",
       "      <th>con_crd</th>\n",
       "      <th>Rango_Ant</th>\n",
       "      <th>Rango_score</th>\n",
       "      <th>Rango_disp_prom</th>\n",
       "      <th>Rango_UDIR_anual</th>\n",
       "      <th>Rango_Num_Productos</th>\n",
       "      <th>rango_sdo_capta</th>\n",
       "      <th>conteo</th>\n",
       "      <th>udir_anual</th>\n",
       "    </tr>\n",
       "  </thead>\n",
       "  <tbody>\n",
       "    <tr>\n",
       "      <th>535073</th>\n",
       "      <td>BB</td>\n",
       "      <td>PL</td>\n",
       "      <td>0</td>\n",
       "      <td>7 a 12</td>\n",
       "      <td>60.1% a 70%</td>\n",
       "      <td>$10,000 a $19,999.9</td>\n",
       "      <td>Menor igual a -$1,000</td>\n",
       "      <td>2</td>\n",
       "      <td>$1,000.01 a $5,000</td>\n",
       "      <td>1</td>\n",
       "      <td>-1.20</td>\n",
       "    </tr>\n",
       "    <tr>\n",
       "      <th>273710</th>\n",
       "      <td>BB</td>\n",
       "      <td>PL</td>\n",
       "      <td>1</td>\n",
       "      <td>13 a 24</td>\n",
       "      <td>60.1% a 70%</td>\n",
       "      <td>$5,000 a $9,999.9</td>\n",
       "      <td>$5,000.1 a más</td>\n",
       "      <td>Más de 2</td>\n",
       "      <td>$10,000.01 a $50,000</td>\n",
       "      <td>1</td>\n",
       "      <td>9.54</td>\n",
       "    </tr>\n",
       "    <tr>\n",
       "      <th>157613</th>\n",
       "      <td>BB</td>\n",
       "      <td>PL</td>\n",
       "      <td>0</td>\n",
       "      <td>7 a 12</td>\n",
       "      <td>60.1% a 70%</td>\n",
       "      <td>$20,000 a $39,999.9</td>\n",
       "      <td>Menor igual a -$1,000</td>\n",
       "      <td>1</td>\n",
       "      <td>$10,000.01 a $50,000</td>\n",
       "      <td>2</td>\n",
       "      <td>-2.28</td>\n",
       "    </tr>\n",
       "    <tr>\n",
       "      <th>687680</th>\n",
       "      <td>BB</td>\n",
       "      <td>PL</td>\n",
       "      <td>1</td>\n",
       "      <td>61 a 120</td>\n",
       "      <td>50.1% a 60%</td>\n",
       "      <td>$100 a $4,999.9</td>\n",
       "      <td>$5,000.1 a más</td>\n",
       "      <td>2</td>\n",
       "      <td>$100.01 a $1,000</td>\n",
       "      <td>9</td>\n",
       "      <td>162.18</td>\n",
       "    </tr>\n",
       "    <tr>\n",
       "      <th>691809</th>\n",
       "      <td>BB</td>\n",
       "      <td>PL</td>\n",
       "      <td>1</td>\n",
       "      <td>7 a 12</td>\n",
       "      <td>70.1% a 80%</td>\n",
       "      <td>$5,000 a $9,999.9</td>\n",
       "      <td>-$500.1 a $0</td>\n",
       "      <td>Más de 2</td>\n",
       "      <td>$1,000.01 a $5,000</td>\n",
       "      <td>2</td>\n",
       "      <td>-0.43</td>\n",
       "    </tr>\n",
       "  </tbody>\n",
       "</table>\n",
       "</div>"
      ],
      "text/plain": [
       "       seg tipo_seg  con_crd Rango_Ant  Rango_score      Rango_disp_prom  \\\n",
       "535073  BB       PL        0    7 a 12  60.1% a 70%  $10,000 a $19,999.9   \n",
       "273710  BB       PL        1   13 a 24  60.1% a 70%    $5,000 a $9,999.9   \n",
       "157613  BB       PL        0    7 a 12  60.1% a 70%  $20,000 a $39,999.9   \n",
       "687680  BB       PL        1  61 a 120  50.1% a 60%      $100 a $4,999.9   \n",
       "691809  BB       PL        1    7 a 12  70.1% a 80%    $5,000 a $9,999.9   \n",
       "\n",
       "             Rango_UDIR_anual Rango_Num_Productos       rango_sdo_capta  \\\n",
       "535073  Menor igual a -$1,000                   2    $1,000.01 a $5,000   \n",
       "273710         $5,000.1 a más            Más de 2  $10,000.01 a $50,000   \n",
       "157613  Menor igual a -$1,000                   1  $10,000.01 a $50,000   \n",
       "687680         $5,000.1 a más                   2      $100.01 a $1,000   \n",
       "691809           -$500.1 a $0            Más de 2    $1,000.01 a $5,000   \n",
       "\n",
       "        conteo udir_anual  \n",
       "535073       1      -1.20  \n",
       "273710       1       9.54  \n",
       "157613       2      -2.28  \n",
       "687680       9     162.18  \n",
       "691809       2      -0.43  "
      ]
     },
     "execution_count": 31,
     "metadata": {},
     "output_type": "execute_result"
    }
   ],
   "source": [
    "tg_obj = abandono[(abandono['Rango_score']=='60.1% a 70%')|(abandono['Rango_score']=='50.1% a 60%')|(abandono['Rango_score']=='70.1% a 80%')]\n",
    "tg_obj.sample(5,random_state=50000)"
   ]
  },
  {
   "cell_type": "code",
   "execution_count": 13,
   "id": "bc2e2d0b-b253-4215-a3f7-2e2fa0a2f76b",
   "metadata": {},
   "outputs": [
    {
     "data": {
      "text/plain": [
       "seg\n",
       "AA         5671\n",
       "BB       153031\n",
       "Otros      1244\n",
       "dtype: int64"
      ]
     },
     "execution_count": 13,
     "metadata": {},
     "output_type": "execute_result"
    }
   ],
   "source": [
    "tg_obj.groupby('seg').size()"
   ]
  },
  {
   "cell_type": "code",
   "execution_count": 14,
   "id": "c9eb5235-75b5-4d18-a5f5-bf12a8cf519b",
   "metadata": {},
   "outputs": [
    {
     "data": {
      "text/plain": [
       "Rango_disp_prom\n",
       "Sin dispersión             8\n",
       "$0.1 a $99.9              29\n",
       "$60,000 o más           3254\n",
       "$40,000 a $59,999.9     5283\n",
       "$20,000 a $39,999.9    18463\n",
       "$100 a $4,999.9        34907\n",
       "$10,000 a $19,999.9    42709\n",
       "$5,000 a $9,999.9      55293\n",
       "dtype: int64"
      ]
     },
     "execution_count": 14,
     "metadata": {},
     "output_type": "execute_result"
    }
   ],
   "source": [
    "tg_obj.groupby('Rango_disp_prom').size().sort_values()"
   ]
  },
  {
   "cell_type": "code",
   "execution_count": 15,
   "id": "8df4ed36-d621-494f-9fe6-9fc7147fa0a2",
   "metadata": {},
   "outputs": [
    {
     "data": {
      "text/plain": [
       "Rango_Num_Productos\n",
       "0              57\n",
       "Más de 2    41857\n",
       "2           54338\n",
       "1           63694\n",
       "dtype: int64"
      ]
     },
     "execution_count": 15,
     "metadata": {},
     "output_type": "execute_result"
    }
   ],
   "source": [
    "tg_obj.groupby('Rango_Num_Productos').size().sort_values()"
   ]
  },
  {
   "cell_type": "code",
   "execution_count": 16,
   "id": "498b4bdb-dcef-4c23-a2bb-3f086f1b3268",
   "metadata": {},
   "outputs": [
    {
     "data": {
      "text/plain": [
       "rango_sdo_capta\n",
       "Sin Captación             209\n",
       "$50,000.01 o más         9528\n",
       "$5,000.01 a $10,000     17195\n",
       "$10,000.01 a $50,000    21954\n",
       "$0 a $100               22062\n",
       "$1,000.01 a $5,000      42321\n",
       "$100.01 a $1,000        46677\n",
       "dtype: int64"
      ]
     },
     "execution_count": 16,
     "metadata": {},
     "output_type": "execute_result"
    }
   ],
   "source": [
    "tg_obj.groupby('rango_sdo_capta').size().sort_values()"
   ]
  },
  {
   "cell_type": "code",
   "execution_count": 17,
   "id": "0eb4f10e-f903-4156-a28e-d7462e9fc85f",
   "metadata": {},
   "outputs": [
    {
     "data": {
      "text/plain": [
       "tipo_seg\n",
       "EL           8\n",
       "PE        1236\n",
       "PL      146253\n",
       "Pre       4750\n",
       "TPL       6778\n",
       "Tpre       921\n",
       "dtype: int64"
      ]
     },
     "execution_count": 17,
     "metadata": {},
     "output_type": "execute_result"
    }
   ],
   "source": [
    "tg_obj.groupby('tipo_seg').size()"
   ]
  },
  {
   "cell_type": "code",
   "execution_count": null,
   "id": "7750706d-190a-4ac0-a31f-8876a183c84c",
   "metadata": {},
   "outputs": [],
   "source": []
  },
  {
   "cell_type": "code",
   "execution_count": null,
   "id": "0aa4b5d0-5e33-463d-82bf-1346a73dec69",
   "metadata": {},
   "outputs": [],
   "source": []
  },
  {
   "cell_type": "code",
   "execution_count": 18,
   "id": "5bec6ef8-992a-4735-8e75-7198db8eace9",
   "metadata": {},
   "outputs": [],
   "source": [
    "tg_obj_2 =tg_obj[(tg_obj['Rango_disp_prom']=='$10,000 a $19,999.9')|(tg_obj['Rango_disp_prom']=='$5,000 a $9,999.9')|(tg_obj['Rango_disp_prom']=='$20,000 a $39,999.9')]\n",
    "tg_obj_3 = tg_obj_2[(tg_obj_2['Rango_Num_Productos']=='2')|(tg_obj_2['Rango_Num_Productos']=='1')]\n",
    "tg_obj_4 = tg_obj_3[(tg_obj_3['rango_sdo_capta']=='$10,000.01 a $50,000')|(tg_obj_3['rango_sdo_capta']=='$1,000.01 a $5,000')]\n"
   ]
  },
  {
   "cell_type": "code",
   "execution_count": 19,
   "id": "960786f5-17ad-4e8a-b344-24459a109409",
   "metadata": {},
   "outputs": [
    {
     "data": {
      "text/html": [
       "<div>\n",
       "<style scoped>\n",
       "    .dataframe tbody tr th:only-of-type {\n",
       "        vertical-align: middle;\n",
       "    }\n",
       "\n",
       "    .dataframe tbody tr th {\n",
       "        vertical-align: top;\n",
       "    }\n",
       "\n",
       "    .dataframe thead th {\n",
       "        text-align: right;\n",
       "    }\n",
       "</style>\n",
       "<table border=\"1\" class=\"dataframe\">\n",
       "  <thead>\n",
       "    <tr style=\"text-align: right;\">\n",
       "      <th></th>\n",
       "      <th>seg</th>\n",
       "      <th>tipo_seg</th>\n",
       "      <th>con_crd</th>\n",
       "      <th>Rango_Ant</th>\n",
       "      <th>Rango_score</th>\n",
       "      <th>Rango_disp_prom</th>\n",
       "      <th>Rango_UDIR_anual</th>\n",
       "      <th>Rango_Num_Productos</th>\n",
       "      <th>rango_sdo_capta</th>\n",
       "      <th>conteo</th>\n",
       "      <th>udir_anual</th>\n",
       "    </tr>\n",
       "  </thead>\n",
       "  <tbody>\n",
       "    <tr>\n",
       "      <th>158</th>\n",
       "      <td>Otros</td>\n",
       "      <td>EL</td>\n",
       "      <td>1</td>\n",
       "      <td>61 a 120</td>\n",
       "      <td>50.1% a 60%</td>\n",
       "      <td>$10,000 a $19,999.9</td>\n",
       "      <td>-$500.1 a $0</td>\n",
       "      <td>2</td>\n",
       "      <td>$1,000.01 a $5,000</td>\n",
       "      <td>1</td>\n",
       "      <td>-0.29</td>\n",
       "    </tr>\n",
       "    <tr>\n",
       "      <th>1555</th>\n",
       "      <td>Otros</td>\n",
       "      <td>PE</td>\n",
       "      <td>0</td>\n",
       "      <td>61 a 120</td>\n",
       "      <td>50.1% a 60%</td>\n",
       "      <td>$10,000 a $19,999.9</td>\n",
       "      <td>Menor igual a -$1,000</td>\n",
       "      <td>2</td>\n",
       "      <td>$10,000.01 a $50,000</td>\n",
       "      <td>1</td>\n",
       "      <td>-1.22</td>\n",
       "    </tr>\n",
       "    <tr>\n",
       "      <th>1556</th>\n",
       "      <td>Otros</td>\n",
       "      <td>PE</td>\n",
       "      <td>0</td>\n",
       "      <td>61 a 120</td>\n",
       "      <td>50.1% a 60%</td>\n",
       "      <td>$20,000 a $39,999.9</td>\n",
       "      <td>-$1,000.1 a -$500</td>\n",
       "      <td>2</td>\n",
       "      <td>$10,000.01 a $50,000</td>\n",
       "      <td>1</td>\n",
       "      <td>-0.65</td>\n",
       "    </tr>\n",
       "    <tr>\n",
       "      <th>1558</th>\n",
       "      <td>Otros</td>\n",
       "      <td>PE</td>\n",
       "      <td>0</td>\n",
       "      <td>61 a 120</td>\n",
       "      <td>50.1% a 60%</td>\n",
       "      <td>$20,000 a $39,999.9</td>\n",
       "      <td>$1,000.1 a $5,000</td>\n",
       "      <td>2</td>\n",
       "      <td>$10,000.01 a $50,000</td>\n",
       "      <td>1</td>\n",
       "      <td>1.43</td>\n",
       "    </tr>\n",
       "    <tr>\n",
       "      <th>2436</th>\n",
       "      <td>Otros</td>\n",
       "      <td>PE</td>\n",
       "      <td>0</td>\n",
       "      <td>121 o más</td>\n",
       "      <td>50.1% a 60%</td>\n",
       "      <td>$10,000 a $19,999.9</td>\n",
       "      <td>Menor igual a -$1,000</td>\n",
       "      <td>1</td>\n",
       "      <td>$1,000.01 a $5,000</td>\n",
       "      <td>1</td>\n",
       "      <td>-1.57</td>\n",
       "    </tr>\n",
       "    <tr>\n",
       "      <th>...</th>\n",
       "      <td>...</td>\n",
       "      <td>...</td>\n",
       "      <td>...</td>\n",
       "      <td>...</td>\n",
       "      <td>...</td>\n",
       "      <td>...</td>\n",
       "      <td>...</td>\n",
       "      <td>...</td>\n",
       "      <td>...</td>\n",
       "      <td>...</td>\n",
       "      <td>...</td>\n",
       "    </tr>\n",
       "    <tr>\n",
       "      <th>884003</th>\n",
       "      <td>AA</td>\n",
       "      <td>Tpre</td>\n",
       "      <td>1</td>\n",
       "      <td>25 a 60</td>\n",
       "      <td>50.1% a 60%</td>\n",
       "      <td>$20,000 a $39,999.9</td>\n",
       "      <td>$5,000.1 a más</td>\n",
       "      <td>2</td>\n",
       "      <td>$10,000.01 a $50,000</td>\n",
       "      <td>1</td>\n",
       "      <td>19.69</td>\n",
       "    </tr>\n",
       "    <tr>\n",
       "      <th>884800</th>\n",
       "      <td>AA</td>\n",
       "      <td>Tpre</td>\n",
       "      <td>1</td>\n",
       "      <td>61 a 120</td>\n",
       "      <td>50.1% a 60%</td>\n",
       "      <td>$10,000 a $19,999.9</td>\n",
       "      <td>$5,000.1 a más</td>\n",
       "      <td>2</td>\n",
       "      <td>$1,000.01 a $5,000</td>\n",
       "      <td>1</td>\n",
       "      <td>29.98</td>\n",
       "    </tr>\n",
       "    <tr>\n",
       "      <th>885415</th>\n",
       "      <td>AA</td>\n",
       "      <td>Tpre</td>\n",
       "      <td>0</td>\n",
       "      <td>13 a 24</td>\n",
       "      <td>60.1% a 70%</td>\n",
       "      <td>$20,000 a $39,999.9</td>\n",
       "      <td>$0.1 a $500</td>\n",
       "      <td>2</td>\n",
       "      <td>$1,000.01 a $5,000</td>\n",
       "      <td>1</td>\n",
       "      <td>0.22</td>\n",
       "    </tr>\n",
       "    <tr>\n",
       "      <th>886651</th>\n",
       "      <td>AA</td>\n",
       "      <td>Tpre</td>\n",
       "      <td>0</td>\n",
       "      <td>13 a 24</td>\n",
       "      <td>50.1% a 60%</td>\n",
       "      <td>$10,000 a $19,999.9</td>\n",
       "      <td>-$500.1 a $0</td>\n",
       "      <td>1</td>\n",
       "      <td>$10,000.01 a $50,000</td>\n",
       "      <td>1</td>\n",
       "      <td>-0.04</td>\n",
       "    </tr>\n",
       "    <tr>\n",
       "      <th>886686</th>\n",
       "      <td>AA</td>\n",
       "      <td>Tpre</td>\n",
       "      <td>0</td>\n",
       "      <td>61 a 120</td>\n",
       "      <td>50.1% a 60%</td>\n",
       "      <td>$10,000 a $19,999.9</td>\n",
       "      <td>$500.1 a $1,000</td>\n",
       "      <td>1</td>\n",
       "      <td>$10,000.01 a $50,000</td>\n",
       "      <td>1</td>\n",
       "      <td>0.84</td>\n",
       "    </tr>\n",
       "  </tbody>\n",
       "</table>\n",
       "<p>36128 rows × 11 columns</p>\n",
       "</div>"
      ],
      "text/plain": [
       "          seg tipo_seg  con_crd  Rango_Ant  Rango_score      Rango_disp_prom  \\\n",
       "158     Otros       EL        1   61 a 120  50.1% a 60%  $10,000 a $19,999.9   \n",
       "1555    Otros       PE        0   61 a 120  50.1% a 60%  $10,000 a $19,999.9   \n",
       "1556    Otros       PE        0   61 a 120  50.1% a 60%  $20,000 a $39,999.9   \n",
       "1558    Otros       PE        0   61 a 120  50.1% a 60%  $20,000 a $39,999.9   \n",
       "2436    Otros       PE        0  121 o más  50.1% a 60%  $10,000 a $19,999.9   \n",
       "...       ...      ...      ...        ...          ...                  ...   \n",
       "884003     AA     Tpre        1    25 a 60  50.1% a 60%  $20,000 a $39,999.9   \n",
       "884800     AA     Tpre        1   61 a 120  50.1% a 60%  $10,000 a $19,999.9   \n",
       "885415     AA     Tpre        0    13 a 24  60.1% a 70%  $20,000 a $39,999.9   \n",
       "886651     AA     Tpre        0    13 a 24  50.1% a 60%  $10,000 a $19,999.9   \n",
       "886686     AA     Tpre        0   61 a 120  50.1% a 60%  $10,000 a $19,999.9   \n",
       "\n",
       "             Rango_UDIR_anual Rango_Num_Productos       rango_sdo_capta  \\\n",
       "158              -$500.1 a $0                   2    $1,000.01 a $5,000   \n",
       "1555    Menor igual a -$1,000                   2  $10,000.01 a $50,000   \n",
       "1556        -$1,000.1 a -$500                   2  $10,000.01 a $50,000   \n",
       "1558        $1,000.1 a $5,000                   2  $10,000.01 a $50,000   \n",
       "2436    Menor igual a -$1,000                   1    $1,000.01 a $5,000   \n",
       "...                       ...                 ...                   ...   \n",
       "884003         $5,000.1 a más                   2  $10,000.01 a $50,000   \n",
       "884800         $5,000.1 a más                   2    $1,000.01 a $5,000   \n",
       "885415            $0.1 a $500                   2    $1,000.01 a $5,000   \n",
       "886651           -$500.1 a $0                   1  $10,000.01 a $50,000   \n",
       "886686        $500.1 a $1,000                   1  $10,000.01 a $50,000   \n",
       "\n",
       "        conteo udir_anual  \n",
       "158          1      -0.29  \n",
       "1555         1      -1.22  \n",
       "1556         1      -0.65  \n",
       "1558         1       1.43  \n",
       "2436         1      -1.57  \n",
       "...        ...        ...  \n",
       "884003       1      19.69  \n",
       "884800       1      29.98  \n",
       "885415       1       0.22  \n",
       "886651       1      -0.04  \n",
       "886686       1       0.84  \n",
       "\n",
       "[36128 rows x 11 columns]"
      ]
     },
     "execution_count": 19,
     "metadata": {},
     "output_type": "execute_result"
    }
   ],
   "source": [
    "tg_obj_4"
   ]
  },
  {
   "cell_type": "code",
   "execution_count": 20,
   "id": "76264b1e-2907-46e5-97e6-cb5cac46554a",
   "metadata": {},
   "outputs": [
    {
     "ename": "ValueError",
     "evalue": "could not convert string to float: '$1,000.01 a $5,000'",
     "output_type": "error",
     "traceback": [
      "\u001b[1;31m---------------------------------------------------------------------------\u001b[0m",
      "\u001b[1;31mValueError\u001b[0m                                Traceback (most recent call last)",
      "Input \u001b[1;32mIn [20]\u001b[0m, in \u001b[0;36m<cell line: 10>\u001b[1;34m()\u001b[0m\n\u001b[0;32m      1\u001b[0m \u001b[38;5;66;03m# plt.figure(figsize=(12,8))\u001b[39;00m\n\u001b[0;32m      2\u001b[0m \u001b[38;5;66;03m# plt.title('')\u001b[39;00m\n\u001b[0;32m      3\u001b[0m \u001b[38;5;66;03m# sns.barplot(x=tg_obj_4.Rango_score, y=tg_obj_4.rango_sdo_capta, color = '#0171CE')\u001b[39;00m\n\u001b[0;32m      4\u001b[0m \u001b[38;5;66;03m# plt.xlabel('')\u001b[39;00m\n\u001b[0;32m      5\u001b[0m \u001b[38;5;66;03m# plt.ylabel('')\u001b[39;00m\n\u001b[0;32m      6\u001b[0m \u001b[38;5;66;03m# plt.show()\u001b[39;00m\n\u001b[0;32m      9\u001b[0m plt\u001b[38;5;241m.\u001b[39mfigure(figsize\u001b[38;5;241m=\u001b[39m(\u001b[38;5;241m10\u001b[39m,\u001b[38;5;241m8\u001b[39m))\n\u001b[1;32m---> 10\u001b[0m \u001b[43msns\u001b[49m\u001b[38;5;241;43m.\u001b[39;49m\u001b[43mdistplot\u001b[49m\u001b[43m(\u001b[49m\u001b[43mtg_obj_4\u001b[49m\u001b[38;5;241;43m.\u001b[39;49m\u001b[43mrango_sdo_capta\u001b[49m\u001b[43m,\u001b[49m\u001b[43mcolor\u001b[49m\u001b[38;5;241;43m=\u001b[39;49m\u001b[38;5;124;43m'\u001b[39;49m\u001b[38;5;124;43m#01949A\u001b[39;49m\u001b[38;5;124;43m'\u001b[39;49m\u001b[43m,\u001b[49m\u001b[43m \u001b[49m\u001b[43mkde\u001b[49m\u001b[38;5;241;43m=\u001b[39;49m\u001b[38;5;28;43;01mTrue\u001b[39;49;00m\u001b[43m)\u001b[49m\n\u001b[0;32m     11\u001b[0m plt\u001b[38;5;241m.\u001b[39mtitle(\u001b[38;5;124m'\u001b[39m\u001b[38;5;124mDistribución de ventas, tienda 14\u001b[39m\u001b[38;5;124m'\u001b[39m)\n\u001b[0;32m     12\u001b[0m plt\u001b[38;5;241m.\u001b[39mxlabel(\u001b[38;5;124m'\u001b[39m\u001b[38;5;124mVentas [Dolares]\u001b[39m\u001b[38;5;124m'\u001b[39m)\n",
      "File \u001b[1;32mC:\\ProgramData\\Anaconda3\\lib\\site-packages\\seaborn\\distributions.py:2636\u001b[0m, in \u001b[0;36mdistplot\u001b[1;34m(a, bins, hist, kde, rug, fit, hist_kws, kde_kws, rug_kws, fit_kws, color, vertical, norm_hist, axlabel, label, ax, x)\u001b[0m\n\u001b[0;32m   2633\u001b[0m     a \u001b[38;5;241m=\u001b[39m x\n\u001b[0;32m   2635\u001b[0m \u001b[38;5;66;03m# Make a a 1-d float array\u001b[39;00m\n\u001b[1;32m-> 2636\u001b[0m a \u001b[38;5;241m=\u001b[39m \u001b[43mnp\u001b[49m\u001b[38;5;241;43m.\u001b[39;49m\u001b[43masarray\u001b[49m\u001b[43m(\u001b[49m\u001b[43ma\u001b[49m\u001b[43m,\u001b[49m\u001b[43m \u001b[49m\u001b[38;5;28;43mfloat\u001b[39;49m\u001b[43m)\u001b[49m\n\u001b[0;32m   2637\u001b[0m \u001b[38;5;28;01mif\u001b[39;00m a\u001b[38;5;241m.\u001b[39mndim \u001b[38;5;241m>\u001b[39m \u001b[38;5;241m1\u001b[39m:\n\u001b[0;32m   2638\u001b[0m     a \u001b[38;5;241m=\u001b[39m a\u001b[38;5;241m.\u001b[39msqueeze()\n",
      "File \u001b[1;32mC:\\ProgramData\\Anaconda3\\lib\\site-packages\\pandas\\core\\series.py:872\u001b[0m, in \u001b[0;36mSeries.__array__\u001b[1;34m(self, dtype)\u001b[0m\n\u001b[0;32m    825\u001b[0m \u001b[38;5;28;01mdef\u001b[39;00m \u001b[38;5;21m__array__\u001b[39m(\u001b[38;5;28mself\u001b[39m, dtype: npt\u001b[38;5;241m.\u001b[39mDTypeLike \u001b[38;5;241m|\u001b[39m \u001b[38;5;28;01mNone\u001b[39;00m \u001b[38;5;241m=\u001b[39m \u001b[38;5;28;01mNone\u001b[39;00m) \u001b[38;5;241m-\u001b[39m\u001b[38;5;241m>\u001b[39m np\u001b[38;5;241m.\u001b[39mndarray:\n\u001b[0;32m    826\u001b[0m     \u001b[38;5;124;03m\"\"\"\u001b[39;00m\n\u001b[0;32m    827\u001b[0m \u001b[38;5;124;03m    Return the values as a NumPy array.\u001b[39;00m\n\u001b[0;32m    828\u001b[0m \n\u001b[1;32m   (...)\u001b[0m\n\u001b[0;32m    870\u001b[0m \u001b[38;5;124;03m          dtype='datetime64[ns]')\u001b[39;00m\n\u001b[0;32m    871\u001b[0m \u001b[38;5;124;03m    \"\"\"\u001b[39;00m\n\u001b[1;32m--> 872\u001b[0m     \u001b[38;5;28;01mreturn\u001b[39;00m \u001b[43mnp\u001b[49m\u001b[38;5;241;43m.\u001b[39;49m\u001b[43masarray\u001b[49m\u001b[43m(\u001b[49m\u001b[38;5;28;43mself\u001b[39;49m\u001b[38;5;241;43m.\u001b[39;49m\u001b[43m_values\u001b[49m\u001b[43m,\u001b[49m\u001b[43m \u001b[49m\u001b[43mdtype\u001b[49m\u001b[43m)\u001b[49m\n",
      "\u001b[1;31mValueError\u001b[0m: could not convert string to float: '$1,000.01 a $5,000'"
     ]
    },
    {
     "data": {
      "image/png": "[encoded data removed]",
      "text/plain": [
       "<Figure size 720x576 with 1 Axes>"
      ]
     },
     "metadata": {},
     "output_type": "display_data"
    }
   ],
   "source": [
    "# plt.figure(figsize=(12,8))\n",
    "# plt.title('')\n",
    "# sns.barplot(x=tg_obj_4.Rango_score, y=tg_obj_4.rango_sdo_capta, color = '#0171CE')\n",
    "# plt.xlabel('')\n",
    "# plt.ylabel('')\n",
    "# plt.show()\n",
    "\n",
    "\n",
    "plt.figure(figsize=(10,8))\n",
    "sns.distplot(tg_obj_4.rango_sdo_capta,color='#01949A', kde=True)\n",
    "plt.title('Distribución de ventas, tienda 14')\n",
    "plt.xlabel('Ventas [Dolares]')\n",
    "plt.show()"
   ]
  }
 ],
 "metadata": {
  "kernelspec": {
   "display_name": "Python 3 (ipykernel)",
   "language": "python",
   "name": "python3"
  },
  "language_info": {
   "codemirror_mode": {
    "name": "ipython",
    "version": 3
   },
   "file_extension": ".py",
   "mimetype": "text/x-python",
   "name": "python",
   "nbconvert_exporter": "python",
   "pygments_lexer": "ipython3",
   "version": "3.8.8"
  }
 },
 "nbformat": 4,
 "nbformat_minor": 5
}

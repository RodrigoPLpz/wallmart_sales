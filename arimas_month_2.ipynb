{
 "cells": [
  {
   "cell_type": "markdown",
   "id": "777a1c71-7b5d-4704-a7c2-c7edf6e8bf53",
   "metadata": {
    "tags": []
   },
   "source": [
    "# Instancia de librarias"
   ]
  },
  {
   "cell_type": "code",
   "execution_count": 30,
   "id": "13f323cd-3508-41ac-a0c4-2265c69d7320",
   "metadata": {
    "tags": []
   },
   "outputs": [
    {
     "name": "stdout",
     "output_type": "stream",
     "text": [
      "Setup complete\n"
     ]
    }
   ],
   "source": [
    "import pandas as pd\n",
    "import numpy as np\n",
    "import warnings\n",
    "warnings.filterwarnings('ignore')\n",
    "# import datetime as dt\n",
    "from datetime import datetime # Trabajar con fechas\n",
    "\n",
    "# Metricas de desempeño de modelos \n",
    "import scipy.stats as stats\n",
    "import statistics\n",
    "from sklearn import metrics\n",
    "from sklearn.metrics import r2_score\n",
    "from sklearn.preprocessing import StandardScaler  # Estandarización de los datos\n",
    "from sklearn.model_selection import cross_val_score\n",
    "\n",
    "# Series de tiempo\n",
    "from statsmodels.tsa.seasonal import seasonal_decompose # graficas de estacionalidad y tendencia\n",
    "from statsmodels.tsa.stattools import adfuller # prueba ADF\n",
    "from statsmodels.tsa.statespace.sarimax import SARIMAX #SARIMAX\n",
    "import pmdarima as pm # autoarima\n",
    "# import statsmodels.formula.api as smf\n",
    "\n",
    "# Formato de visualización por centenas\n",
    "pd.options.display.float_format = '{:,.2f}'.format\n",
    "\n",
    "# Graficas\n",
    "pd.plotting.register_matplotlib_converters()\n",
    "import matplotlib.pyplot as plt\n",
    "%matplotlib inline\n",
    "import seaborn as sns;sns.set_theme(color_codes=True)\n",
    "\n",
    "# Tamaño del cuadro de las gráficas por defult\n",
    "plt.rcParams[\"figure.figsize\"] = (12,6)\n",
    "\n",
    "import plotly.graph_objects as go\n",
    "from plotly.subplots import make_subplots\n",
    "\n",
    "\n",
    "print(\"Setup complete\")"
   ]
  },
  {
   "cell_type": "markdown",
   "id": "1760a4be-073d-4c5f-b7b5-5a5d7f95e896",
   "metadata": {
    "tags": []
   },
   "source": [
    "# Importación de datos"
   ]
  },
  {
   "cell_type": "code",
   "execution_count": 31,
   "id": "e6ba8072-56b5-4eed-ac67-b29e26a85bfb",
   "metadata": {
    "tags": []
   },
   "outputs": [],
   "source": [
    "path = r'E:\\\\skillsForIndustry/project_wallmart/data/Walmart_Store_sales.csv' #TODO Skills: ¿Por qué no cargaste los datos al repo?\n",
    "wall_data = pd.read_csv(path, header=0, encoding='utf-8')"
   ]
  },
  {
   "cell_type": "code",
   "execution_count": 32,
   "id": "1321fba4-2210-48d3-b7d3-db2cf10387de",
   "metadata": {
    "tags": []
   },
   "outputs": [
    {
     "name": "stdout",
     "output_type": "stream",
     "text": [
      "<class 'pandas.core.frame.DataFrame'>\n",
      "RangeIndex: 6435 entries, 0 to 6434\n",
      "Data columns (total 8 columns):\n",
      " #   Column        Non-Null Count  Dtype         \n",
      "---  ------        --------------  -----         \n",
      " 0   Store         6435 non-null   int64         \n",
      " 1   Date          6435 non-null   datetime64[ns]\n",
      " 2   Weekly_Sales  6435 non-null   float64       \n",
      " 3   Holiday_Flag  6435 non-null   int64         \n",
      " 4   Temperature   6435 non-null   float64       \n",
      " 5   Fuel_Price    6435 non-null   float64       \n",
      " 6   CPI           6435 non-null   float64       \n",
      " 7   Unemployment  6435 non-null   float64       \n",
      "dtypes: datetime64[ns](1), float64(5), int64(2)\n",
      "memory usage: 402.3 KB\n"
     ]
    },
    {
     "data": {
      "text/html": [
       "<div>\n",
       "<style scoped>\n",
       "    .dataframe tbody tr th:only-of-type {\n",
       "        vertical-align: middle;\n",
       "    }\n",
       "\n",
       "    .dataframe tbody tr th {\n",
       "        vertical-align: top;\n",
       "    }\n",
       "\n",
       "    .dataframe thead th {\n",
       "        text-align: right;\n",
       "    }\n",
       "</style>\n",
       "<table border=\"1\" class=\"dataframe\">\n",
       "  <thead>\n",
       "    <tr style=\"text-align: right;\">\n",
       "      <th></th>\n",
       "      <th>Store</th>\n",
       "      <th>Date</th>\n",
       "      <th>Weekly_Sales</th>\n",
       "      <th>Holiday_Flag</th>\n",
       "      <th>Temperature</th>\n",
       "      <th>Fuel_Price</th>\n",
       "      <th>CPI</th>\n",
       "      <th>Unemployment</th>\n",
       "    </tr>\n",
       "  </thead>\n",
       "  <tbody>\n",
       "    <tr>\n",
       "      <th>0</th>\n",
       "      <td>1</td>\n",
       "      <td>2010-02-05</td>\n",
       "      <td>1,643,690.90</td>\n",
       "      <td>0</td>\n",
       "      <td>42.31</td>\n",
       "      <td>2.57</td>\n",
       "      <td>211.10</td>\n",
       "      <td>8.11</td>\n",
       "    </tr>\n",
       "    <tr>\n",
       "      <th>1</th>\n",
       "      <td>1</td>\n",
       "      <td>2010-02-12</td>\n",
       "      <td>1,641,957.44</td>\n",
       "      <td>1</td>\n",
       "      <td>38.51</td>\n",
       "      <td>2.55</td>\n",
       "      <td>211.24</td>\n",
       "      <td>8.11</td>\n",
       "    </tr>\n",
       "    <tr>\n",
       "      <th>2</th>\n",
       "      <td>1</td>\n",
       "      <td>2010-02-19</td>\n",
       "      <td>1,611,968.17</td>\n",
       "      <td>0</td>\n",
       "      <td>39.93</td>\n",
       "      <td>2.51</td>\n",
       "      <td>211.29</td>\n",
       "      <td>8.11</td>\n",
       "    </tr>\n",
       "    <tr>\n",
       "      <th>3</th>\n",
       "      <td>1</td>\n",
       "      <td>2010-02-26</td>\n",
       "      <td>1,409,727.59</td>\n",
       "      <td>0</td>\n",
       "      <td>46.63</td>\n",
       "      <td>2.56</td>\n",
       "      <td>211.32</td>\n",
       "      <td>8.11</td>\n",
       "    </tr>\n",
       "    <tr>\n",
       "      <th>4</th>\n",
       "      <td>1</td>\n",
       "      <td>2010-03-05</td>\n",
       "      <td>1,554,806.68</td>\n",
       "      <td>0</td>\n",
       "      <td>46.50</td>\n",
       "      <td>2.62</td>\n",
       "      <td>211.35</td>\n",
       "      <td>8.11</td>\n",
       "    </tr>\n",
       "  </tbody>\n",
       "</table>\n",
       "</div>"
      ],
      "text/plain": [
       "   Store       Date  Weekly_Sales  Holiday_Flag  Temperature  Fuel_Price  \\\n",
       "0      1 2010-02-05  1,643,690.90             0        42.31        2.57   \n",
       "1      1 2010-02-12  1,641,957.44             1        38.51        2.55   \n",
       "2      1 2010-02-19  1,611,968.17             0        39.93        2.51   \n",
       "3      1 2010-02-26  1,409,727.59             0        46.63        2.56   \n",
       "4      1 2010-03-05  1,554,806.68             0        46.50        2.62   \n",
       "\n",
       "     CPI  Unemployment  \n",
       "0 211.10          8.11  \n",
       "1 211.24          8.11  \n",
       "2 211.29          8.11  \n",
       "3 211.32          8.11  \n",
       "4 211.35          8.11  "
      ]
     },
     "execution_count": 32,
     "metadata": {},
     "output_type": "execute_result"
    }
   ],
   "source": [
    "wall_data['Date'] = pd.to_datetime(wall_data['Date'],format=\"%d-%m-%Y\",dayfirst=True)\n",
    "wall_data.info()\n",
    "wall_data.head()\n",
    "#TODO Skills: Te recomiendo que el output de tu análisis exploratorio sea un archivo .pickle\n",
    "#con la tabla lista para aplicar pequeñas trasnformaciones y el modelo, evitando\n",
    "#volver a tener que aplicar pd.todatetime\n",
    "#para crear un archivo pickle usa TuDataFrame.to_pickle(\"<ruta_archivo>.pickle\")"
   ]
  },
  {
   "cell_type": "markdown",
   "id": "2f7c3e1b-b4a9-4bdb-a0f0-847bc7eab84e",
   "metadata": {
    "tags": []
   },
   "source": [
    "#### Frecuencia de tiempo"
   ]
  },
  {
   "cell_type": "code",
   "execution_count": 33,
   "id": "78556c30-0fb0-4b63-980b-0257a425b519",
   "metadata": {
    "tags": []
   },
   "outputs": [
    {
     "data": {
      "text/html": [
       "<div>\n",
       "<style scoped>\n",
       "    .dataframe tbody tr th:only-of-type {\n",
       "        vertical-align: middle;\n",
       "    }\n",
       "\n",
       "    .dataframe tbody tr th {\n",
       "        vertical-align: top;\n",
       "    }\n",
       "\n",
       "    .dataframe thead th {\n",
       "        text-align: right;\n",
       "    }\n",
       "</style>\n",
       "<table border=\"1\" class=\"dataframe\">\n",
       "  <thead>\n",
       "    <tr style=\"text-align: right;\">\n",
       "      <th></th>\n",
       "      <th>Date</th>\n",
       "      <th>Store</th>\n",
       "      <th>Weekly_Sales</th>\n",
       "    </tr>\n",
       "  </thead>\n",
       "  <tbody>\n",
       "    <tr>\n",
       "      <th>0</th>\n",
       "      <td>2010-02-01</td>\n",
       "      <td>1</td>\n",
       "      <td>1,576,836.02</td>\n",
       "    </tr>\n",
       "    <tr>\n",
       "      <th>1</th>\n",
       "      <td>2010-02-01</td>\n",
       "      <td>2</td>\n",
       "      <td>2,066,086.94</td>\n",
       "    </tr>\n",
       "    <tr>\n",
       "      <th>2</th>\n",
       "      <td>2010-02-01</td>\n",
       "      <td>3</td>\n",
       "      <td>427,799.56</td>\n",
       "    </tr>\n",
       "    <tr>\n",
       "      <th>3</th>\n",
       "      <td>2010-02-01</td>\n",
       "      <td>4</td>\n",
       "      <td>2,074,760.09</td>\n",
       "    </tr>\n",
       "    <tr>\n",
       "      <th>4</th>\n",
       "      <td>2010-02-01</td>\n",
       "      <td>5</td>\n",
       "      <td>300,682.00</td>\n",
       "    </tr>\n",
       "  </tbody>\n",
       "</table>\n",
       "</div>"
      ],
      "text/plain": [
       "        Date Store  Weekly_Sales\n",
       "0 2010-02-01     1  1,576,836.02\n",
       "1 2010-02-01     2  2,066,086.94\n",
       "2 2010-02-01     3    427,799.56\n",
       "3 2010-02-01     4  2,074,760.09\n",
       "4 2010-02-01     5    300,682.00"
      ]
     },
     "execution_count": 33,
     "metadata": {},
     "output_type": "execute_result"
    }
   ],
   "source": [
    "# Mensual con promedio de ventas\n",
    "\n",
    "# Mensual con frecuencia\n",
    "stores = wall_data\n",
    "stores = stores.iloc[:,[1,0,2]]\n",
    "stores.Date = pd.PeriodIndex(stores.Date, freq='M')\n",
    "# stores = stores.groupby(['Date'])['Weekly_Sales'].aggregate([sum,min,'mean','count']).reset_index()\n",
    "# stores = stores.groupby(['Date','Store'])['Weekly_Sales'].aggregate([sum,min,'mean','count']).reset_index()\n",
    "#TODO Skills: Se supone que los registros son únicos a nivel tienda y semana, ¿por qué haces este groupby?\n",
    "stores = stores.groupby(['Date','Store'])['Weekly_Sales'].mean().reset_index()\n",
    "stores['Date'] = stores['Date'].astype(str)\n",
    "stores['Store'] = stores.Store.astype(str)\n",
    "stores['Date'] =pd.to_datetime(stores['Date'])\n",
    "stores.head()\n",
    "\n",
    "# Mensual sin frecuencia \n",
    "# stores = wall_data\n",
    "# stores = stores.iloc[:,[1,0,2]]\n",
    "# stores['year'] = pd.DatetimeIndex(stores['Date']).year\n",
    "# stores['month'] = pd.DatetimeIndex(stores['Date']).month\n",
    "# stores= stores.groupby(['year','month','Store'])[['Weekly_Sales']].mean().reset_index()\n",
    "# stores['year_str']=stores.year.apply(str)\n",
    "# stores['month_str']=stores.month.apply(str)\n",
    "# stores['Store'] = stores.Store.astype(str)\n",
    "# stores['year_month'] = stores[['year_str','month_str']].apply('-'.join,axis=1)\n",
    "# stores['Date']=pd.to_datetime(stores['year_month'],format=\"%Y-%m\",yearfirst=True)\n",
    "# stores = stores.iloc[:,[7,2,3]]\n",
    "# stores.head()"
   ]
  },
  {
   "cell_type": "code",
   "execution_count": 34,
   "id": "a01e0694-fd7b-4b93-bd8a-18c1965fb048",
   "metadata": {
    "tags": []
   },
   "outputs": [
    {
     "data": {
      "text/plain": [
       "array(['1', '2', '3', '4', '5', '6', '7', '8', '9', '10', '11', '12',\n",
       "       '13', '14', '15', '16', '17', '18', '19', '20', '21', '22', '23',\n",
       "       '24', '25', '26', '27', '28', '29', '30', '31', '32', '33', '34',\n",
       "       '35', '36', '37', '38', '39', '40', '41', '42', '43', '44', '45'],\n",
       "      dtype=object)"
      ]
     },
     "execution_count": 34,
     "metadata": {},
     "output_type": "execute_result"
    }
   ],
   "source": [
    "num_store = stores['Store'].unique()\n",
    "num_store"
   ]
  },
  {
   "cell_type": "code",
   "execution_count": 35,
   "id": "b0084ec7-003e-4645-bfe1-6cc8279655d3",
   "metadata": {
    "tags": []
   },
   "outputs": [],
   "source": [
    "#TODO Skills: ¿Por qué la variable se llama mes? ¿no era mejor poner tiendas_mensuales_dict?\n",
    "mes = {}\n",
    "for store in num_store:\n",
    "    df = stores[stores['Store']==store].copy()\n",
    "    df.drop('Store',axis=1, inplace=True)\n",
    "    mes[store] = df\n",
    "    df.set_index('Date',inplace=True)\n",
    "    \n",
    "# Elegir una tienda    \n",
    "# semana['20']"
   ]
  },
  {
   "cell_type": "code",
   "execution_count": 36,
   "id": "1acc43f3-aa1d-4af2-9164-e0d8e5ee8c05",
   "metadata": {},
   "outputs": [],
   "source": [
    "# mes['20']"
   ]
  },
  {
   "cell_type": "markdown",
   "id": "fd1605e0-57af-47a7-980c-877bf1377bb9",
   "metadata": {
    "tags": []
   },
   "source": [
    "#### Performance"
   ]
  },
  {
   "cell_type": "code",
   "execution_count": 37,
   "id": "9bddc6c9-ccaf-45c9-90f0-5ddf7da56e49",
   "metadata": {
    "tags": []
   },
   "outputs": [],
   "source": [
    "def performance(a,b):\n",
    "    print('Mean Absolute Error: ',metrics.mean_absolute_error(a,b))\n",
    "    print('Mean Square Error: ',metrics.mean_squared_error(a,b))\n",
    "    print('Root Mean Square Error: ',np.sqrt(metrics.mean_squared_error(a,b)))\n",
    "    print('Mean Absolute Percentage Error: ', metrics.mean_absolute_percentage_error(a,b))\n",
    "    \n",
    "    plt.figure(figsize=(10,8),dpi=60)\n",
    "    sns.regplot(b,a);\n",
    "    \n",
    "# def cross_validation(model,a,b):\n",
    "#     cv = cross_val_score(model,a,b,cv=10,scoring='r2')\n",
    "#     print(f'Cross validation: {cv.mean()*100}%')"
   ]
  },
  {
   "cell_type": "markdown",
   "id": "b3941a31-7e91-4517-b85c-6dfa2222af2d",
   "metadata": {
    "tags": []
   },
   "source": [
    "#### ADF"
   ]
  },
  {
   "cell_type": "code",
   "execution_count": 38,
   "id": "e2ca08e5-9925-4331-9978-36145401b29e",
   "metadata": {
    "tags": []
   },
   "outputs": [],
   "source": [
    "def adf(series,column_name):\n",
    "    print(f'Resultados ADF: ,{column_name}')\n",
    "    dftest = adfuller(series, autolag='AIC')\n",
    "    dfoutput = pd.Series(dftest[0:4], index=['Test Statistic','p-value','No Lags Used', 'Observation number'])\n",
    "    for key, value in dftest[4].items():\n",
    "        dfoutput['Critical Values (%s)'%key] = value\n",
    "    print(dfoutput)\n",
    "    if ((dftest[1] > 0.00) & (dftest[1] <= 0.05)):\n",
    "        print('Los datos son estacionarios')\n",
    "    else:\n",
    "        print('Los datos no son estacionarios')"
   ]
  },
  {
   "cell_type": "markdown",
   "id": "e0370398-b260-487a-91e7-b11333d83954",
   "metadata": {
    "tags": []
   },
   "source": [
    "#### Diferencias"
   ]
  },
  {
   "cell_type": "code",
   "execution_count": 39,
   "id": "a5e4faf8-e2ad-413c-afb2-5c692c5f37c4",
   "metadata": {
    "tags": []
   },
   "outputs": [],
   "source": [
    "#TODO ¿El objetivo de la función es sólo mostrar la gráfica con sus diferencias?\n",
    "def dif(st):\n",
    "    prev_values = st.Weekly_Sales.shift()\n",
    "    dif = st.Weekly_Sales - prev_values\n",
    "    dif.plot()"
   ]
  },
  {
   "cell_type": "markdown",
   "id": "0d728b70-e4ab-4b3e-b3d5-6c0a9f0b3695",
   "metadata": {
    "tags": []
   },
   "source": [
    "#### Estacionalidad"
   ]
  },
  {
   "cell_type": "code",
   "execution_count": 40,
   "id": "f8de1568-122d-4d93-8c74-0d683142a26c",
   "metadata": {
    "tags": []
   },
   "outputs": [],
   "source": [
    "def estacionalidad(st):\n",
    "    est = seasonal_decompose(st.iloc[1:],model='additive',period = 12)\n",
    "    est.plot();"
   ]
  },
  {
   "cell_type": "markdown",
   "id": "45f068e2-e520-41a8-957f-f0564b173bca",
   "metadata": {},
   "source": [
    "#### Conjunto de entrenamiento y test"
   ]
  },
  {
   "cell_type": "code",
   "execution_count": 41,
   "id": "352c429e-60ca-4a36-9d71-9a3f8ecbaaa3",
   "metadata": {
    "tags": []
   },
   "outputs": [],
   "source": [
    "def tra_tes(st,period):\n",
    "    train = st.Weekly_Sales[:len(st.Weekly_Sales)-period]  # primero datos\n",
    "    test = st.Weekly_Sales[len(st.Weekly_Sales)-period:]   # últimos datos\n",
    "    return train,test"
   ]
  },
  {
   "cell_type": "markdown",
   "id": "a207375f-e794-43ef-a949-d1e98f344645",
   "metadata": {
    "tags": []
   },
   "source": [
    "## Semanal y tiendas"
   ]
  },
  {
   "cell_type": "code",
   "execution_count": 42,
   "id": "2a09bc9b-fffd-43f8-8586-8148da034089",
   "metadata": {},
   "outputs": [],
   "source": [
    "#TODO ¿Por qué no los dejaste en el mismo diccionario y usaste un for para el rename_axis?\n",
    "\n",
    "s_20 =  mes['20'].rename_axis(index=None,columns=None)\n",
    "s_14 =  mes['14'].rename_axis(index=None,columns=None) \n",
    "s_13 =  mes['13'].rename_axis(index=None,columns=None)\n",
    "s_10 =  mes['10'].rename_axis(index=None,columns=None)\n",
    "s_29 =  mes['29'].rename_axis(index=None,columns=None)\n",
    "s_27 =  mes['27'].rename_axis(index=None,columns=None)\n",
    "s_26 =  mes['26'].rename_axis(index=None,columns=None)\n",
    "s_23 =  mes['23'].rename_axis(index=None,columns=None)\n",
    "s_24 =  mes['24'].rename_axis(index=None,columns=None)\n",
    "s_39 =  mes['39'].rename_axis(index=None,columns=None)\n",
    "s_37 =  mes['37'].rename_axis(index=None,columns=None)\n",
    "s_30 =  mes['30'].rename_axis(index=None,columns=None)\n",
    "s_31 =  mes['31'].rename_axis(index=None,columns=None)\n",
    "s_44 =  mes['44'].rename_axis(index=None,columns=None) #No estacionario\n",
    "s_19=  mes['19'].rename_axis(index=None,columns=None)\n",
    "s_5 =  mes['5'].rename_axis(index=None,columns=None) # ***************\n",
    "s_1 =  mes['1'].rename_axis(index=None,columns=None)\n",
    "s_2 =  mes['2'].rename_axis(index=None,columns=None)\n",
    "s_4 =  mes['4'].rename_axis(index=None,columns=None)\n",
    "s_6 =  mes['6'].rename_axis(index=None,columns=None)\n",
    "s_11 =  mes['11'].rename_axis(index=None,columns=None)"
   ]
  },
  {
   "cell_type": "markdown",
   "id": "242bfe33-5ecd-41ea-90ce-1bc07239ed00",
   "metadata": {
    "tags": []
   },
   "source": [
    "## Elegit tienda y periodicidad"
   ]
  },
  {
   "cell_type": "code",
   "execution_count": 43,
   "id": "13086302-69d3-4152-b1c2-acf407be2630",
   "metadata": {
    "tags": []
   },
   "outputs": [],
   "source": [
    "st = s_20\n",
    "periodos = 12"
   ]
  },
  {
   "cell_type": "code",
   "execution_count": 44,
   "id": "c5291b98-b466-4304-a562-3585840a8a58",
   "metadata": {},
   "outputs": [],
   "source": [
    "vnames = [name for name in globals() if globals()[name] is st]\n",
    "# print(vnames[0])"
   ]
  },
  {
   "cell_type": "code",
   "execution_count": 45,
   "id": "fc45efe3-6db0-4846-90c1-70f63ee4ffd7",
   "metadata": {
    "tags": []
   },
   "outputs": [
    {
     "name": "stdout",
     "output_type": "stream",
     "text": [
      "Tienda: s_20\n"
     ]
    },
    {
     "data": {
      "image/png": "[encoded data removed]",
      "text/plain": [
       "<Figure size 864x432 with 1 Axes>"
      ]
     },
     "metadata": {},
     "output_type": "display_data"
    }
   ],
   "source": [
    "print('Tienda:',vnames[0])\n",
    "st.plot();"
   ]
  },
  {
   "cell_type": "markdown",
   "id": "4728c64c-8854-4c5d-ab8c-71e51b51c8de",
   "metadata": {
    "tags": []
   },
   "source": [
    "#### Prueba  Dickey Fuller Aumentada (ADF)"
   ]
  },
  {
   "cell_type": "code",
   "execution_count": 46,
   "id": "d2b53d42-a41e-49bf-a4b0-5c75f1d7eae1",
   "metadata": {},
   "outputs": [
    {
     "name": "stdout",
     "output_type": "stream",
     "text": [
      "Resultados ADF: ,Weekly_Sales\n",
      "Test Statistic          -5.57\n",
      "p-value                  0.00\n",
      "No Lags Used             0.00\n",
      "Observation number      32.00\n",
      "Critical Values (1%)    -3.65\n",
      "Critical Values (5%)    -2.96\n",
      "Critical Values (10%)   -2.62\n",
      "dtype: float64\n",
      "Los datos son estacionarios\n"
     ]
    }
   ],
   "source": [
    "adf(st.Weekly_Sales,'Weekly_Sales')"
   ]
  },
  {
   "cell_type": "code",
   "execution_count": 47,
   "id": "0c8cca81-cab8-488d-99fb-d68ed2838a94",
   "metadata": {},
   "outputs": [
    {
     "name": "stdout",
     "output_type": "stream",
     "text": [
      "Tienda: s_20\n"
     ]
    },
    {
     "data": {
      "image/png": "[encoded data removed]",
      "text/plain": [
       "<Figure size 864x432 with 1 Axes>"
      ]
     },
     "metadata": {},
     "output_type": "display_data"
    }
   ],
   "source": [
    "# prev_values = st.Weekly_Sales.shift()\n",
    "# dif = st.Weekly_Sales - prev_values\n",
    "# dif.plot()\n",
    "print('Tienda:',vnames[0])\n",
    "dif(st)"
   ]
  },
  {
   "cell_type": "code",
   "execution_count": 48,
   "id": "a19f455c-35ea-4350-9f4c-834b65b144da",
   "metadata": {},
   "outputs": [
    {
     "name": "stdout",
     "output_type": "stream",
     "text": [
      "Tienda: s_20\n"
     ]
    },
    {
     "data": {
      "image/png": "[encoded data removed]",
      "text/plain": [
       "<Figure size 864x432 with 4 Axes>"
      ]
     },
     "metadata": {},
     "output_type": "display_data"
    }
   ],
   "source": [
    "# differenced_store_20_dif = seasonal_decompose(st.iloc[1:],model='additive',period = 12)\n",
    "# differenced_store_20_dif.plot();\n",
    "\n",
    "# estacionalidad(tienda)\n",
    "print('Tienda:',vnames[0])\n",
    "estacionalidad(st)"
   ]
  },
  {
   "cell_type": "markdown",
   "id": "ab173c86-473d-44e0-a010-da7bd8894b2f",
   "metadata": {},
   "source": [
    "### ARIMA"
   ]
  },
  {
   "cell_type": "markdown",
   "id": "c635f3dd-c37f-487f-8bc6-c86b0fca5855",
   "metadata": {},
   "source": [
    "#### Entrenamiento y Test"
   ]
  },
  {
   "cell_type": "code",
   "execution_count": 49,
   "id": "4ff502bf-e890-4404-ac88-e1acc0fe90b7",
   "metadata": {},
   "outputs": [
    {
     "name": "stdout",
     "output_type": "stream",
     "text": [
      "Tienda: s_20\n"
     ]
    },
    {
     "data": {
      "image/png": "[encoded data removed]",
      "text/plain": [
       "<Figure size 1152x360 with 1 Axes>"
      ]
     },
     "metadata": {},
     "output_type": "display_data"
    }
   ],
   "source": [
    "# train = s_20.Weekly_Sales[:len(s_20.Weekly_Sales)-periodos]  # primero datos\n",
    "# test = s_20.Weekly_Sales[len(s_20.Weekly_Sales)-periodos:]   # últimos datos \n",
    "\n",
    "# periodos\n",
    "# tra_tes(tienda,periodos)\n",
    "train, test = tra_tes(st,periodos)\n",
    "print('Tienda:',vnames[0])\n",
    "test.plot(figsize=(16,5),legend=True, label='test')\n",
    "train.plot(legend=True, label='train');\n"
   ]
  },
  {
   "cell_type": "code",
   "execution_count": 50,
   "id": "d2597d1e-f77b-4523-8e8a-4239404de9cd",
   "metadata": {},
   "outputs": [
    {
     "name": "stdout",
     "output_type": "stream",
     "text": [
      "Tienda: s_20\n"
     ]
    },
    {
     "data": {
      "image/png": "[encoded data removed]",
      "text/plain": [
       "<Figure size 720x576 with 2 Axes>"
      ]
     },
     "metadata": {},
     "output_type": "display_data"
    }
   ],
   "source": [
    "print('Tienda:',vnames[0])\n",
    "fig, axs = plt.subplots(2,figsize=(10,8))\n",
    "sns.boxplot(train, ax=axs[0]).set_title(\"train\")\n",
    "sns.boxplot(test, ax=axs[1]).set_title('test')\n",
    "fig.subplots_adjust(hspace=0.3)"
   ]
  },
  {
   "cell_type": "code",
   "execution_count": 51,
   "id": "b5c09803-57a6-4569-9a06-f1b1a3432733",
   "metadata": {},
   "outputs": [
    {
     "name": "stdout",
     "output_type": "stream",
     "text": [
      "21 12\n"
     ]
    }
   ],
   "source": [
    "# Para determinar el train y el test, se sugiere que los datos asignados sean del 80% y 20% sucesivamente\n",
    "# pero a mayor número de datos de entrenamiento, el AIC disminuye y el R2 aumenta\n",
    "# caso contrario, el AIC aumenta y el R2 se hace negativo\n",
    "# ¿De qué depende el periodo que se quiere calcular? Por ejemplo, yo determine 48 semanas que se quieren predecir\n",
    "print(len(train),len(test))"
   ]
  },
  {
   "cell_type": "code",
   "execution_count": 52,
   "id": "e4bd6755-f926-4b5e-bf0e-43ac00ebbfdf",
   "metadata": {
    "tags": []
   },
   "outputs": [
    {
     "name": "stdout",
     "output_type": "stream",
     "text": [
      "Performing stepwise search to minimize aic\n",
      " ARIMA(0,0,0)(0,1,0)[12] intercept   : AIC=224.291, Time=0.02 sec\n",
      " ARIMA(1,0,0)(1,1,0)[12] intercept   : AIC=228.002, Time=0.05 sec\n",
      " ARIMA(0,0,1)(0,1,1)[12] intercept   : AIC=228.362, Time=0.06 sec\n",
      " ARIMA(0,0,0)(0,1,0)[12]             : AIC=224.829, Time=0.02 sec\n",
      " ARIMA(0,0,0)(1,1,0)[12] intercept   : AIC=226.290, Time=0.02 sec\n",
      " ARIMA(0,0,0)(0,1,1)[12] intercept   : AIC=226.290, Time=0.03 sec\n",
      " ARIMA(0,0,0)(1,1,1)[12] intercept   : AIC=inf, Time=0.43 sec\n",
      " ARIMA(1,0,0)(0,1,0)[12] intercept   : AIC=226.011, Time=0.02 sec\n",
      " ARIMA(0,0,1)(0,1,0)[12] intercept   : AIC=226.444, Time=0.03 sec\n",
      " ARIMA(1,0,1)(0,1,0)[12] intercept   : AIC=225.971, Time=0.06 sec\n",
      "\n",
      "Best model:  ARIMA(0,0,0)(0,1,0)[12] intercept\n",
      "Total fit time: 0.750 seconds\n"
     ]
    }
   ],
   "source": [
    "# Nunca se debe utilizar toda la información de un dataset, debe ser el dataset de train \n",
    "# para el entrenamiento de los modelo.\n",
    "# El test nunca filtra inforamción al train.\n",
    "\n",
    "# D(e):parametro parte estacional, d(ne):parametro parte no estacional\n",
    "e = 1\n",
    "ne = 0\n",
    "arima_model = pm.auto_arima(train, start_p=ne,d=ne,start_q=0,max_p=5,max_d=5,max_q=5,\n",
    "                            start_P=0,D=e,start_Q=0,max_P=5,max_D=5,max_Q=5,m=12,\n",
    "                            seasonal=True,error_Action='warn',trace=True,test='adf',\n",
    "                            supress_warnings = True, stepwise=True, random_state=20,\n",
    "                            n_fits = 50)"
   ]
  },
  {
   "cell_type": "markdown",
   "id": "e5d32f22-0d15-4601-ae85-ec847505922b",
   "metadata": {},
   "source": [
    "#### SARIMAX"
   ]
  },
  {
   "cell_type": "code",
   "execution_count": 53,
   "id": "7f11e93f-b67f-49b2-9a91-0e732b3e189f",
   "metadata": {},
   "outputs": [
    {
     "data": {
      "text/html": [
       "<table class=\"simpletable\">\n",
       "<caption>SARIMAX Results</caption>\n",
       "<tr>\n",
       "  <th>Dep. Variable:</th>       <td>Weekly_Sales</td>     <th>  No. Observations:  </th>    <td>21</td>   \n",
       "</tr>\n",
       "<tr>\n",
       "  <th>Model:</th>           <td>SARIMAX(0, 1, 0, 12)</td> <th>  Log Likelihood     </th> <td>-111.415</td>\n",
       "</tr>\n",
       "<tr>\n",
       "  <th>Date:</th>              <td>Thu, 15 Dec 2022</td>   <th>  AIC                </th>  <td>224.829</td>\n",
       "</tr>\n",
       "<tr>\n",
       "  <th>Time:</th>                  <td>19:49:01</td>       <th>  BIC                </th>  <td>225.026</td>\n",
       "</tr>\n",
       "<tr>\n",
       "  <th>Sample:</th>               <td>02-01-2010</td>      <th>  HQIC               </th>  <td>224.403</td>\n",
       "</tr>\n",
       "<tr>\n",
       "  <th></th>                     <td>- 10-01-2011</td>     <th>                     </th>     <td> </td>   \n",
       "</tr>\n",
       "<tr>\n",
       "  <th>Covariance Type:</th>          <td>opg</td>         <th>                     </th>     <td> </td>   \n",
       "</tr>\n",
       "</table>\n",
       "<table class=\"simpletable\">\n",
       "<tr>\n",
       "     <td></td>       <th>coef</th>     <th>std err</th>      <th>z</th>      <th>P>|z|</th>  <th>[0.025</th>    <th>0.975]</th>  \n",
       "</tr>\n",
       "<tr>\n",
       "  <th>sigma2</th> <td> 1.978e+09</td> <td> 4.81e+08</td> <td>    4.117</td> <td> 0.000</td> <td> 1.04e+09</td> <td> 2.92e+09</td>\n",
       "</tr>\n",
       "</table>\n",
       "<table class=\"simpletable\">\n",
       "<tr>\n",
       "  <th>Ljung-Box (L1) (Q):</th>     <td>0.26</td> <th>  Jarque-Bera (JB):  </th> <td>1.48</td>\n",
       "</tr>\n",
       "<tr>\n",
       "  <th>Prob(Q):</th>                <td>0.61</td> <th>  Prob(JB):          </th> <td>0.48</td>\n",
       "</tr>\n",
       "<tr>\n",
       "  <th>Heteroskedasticity (H):</th> <td>8.48</td> <th>  Skew:              </th> <td>0.99</td>\n",
       "</tr>\n",
       "<tr>\n",
       "  <th>Prob(H) (two-sided):</th>    <td>0.11</td> <th>  Kurtosis:          </th> <td>2.98</td>\n",
       "</tr>\n",
       "</table><br/><br/>Warnings:<br/>[1] Covariance matrix calculated using the outer product of gradients (complex-step)."
      ],
      "text/plain": [
       "<class 'statsmodels.iolib.summary.Summary'>\n",
       "\"\"\"\n",
       "                                SARIMAX Results                                 \n",
       "================================================================================\n",
       "Dep. Variable:             Weekly_Sales   No. Observations:                   21\n",
       "Model:             SARIMAX(0, 1, 0, 12)   Log Likelihood                -111.415\n",
       "Date:                  Thu, 15 Dec 2022   AIC                            224.829\n",
       "Time:                          19:49:01   BIC                            225.026\n",
       "Sample:                      02-01-2010   HQIC                           224.403\n",
       "                           - 10-01-2011                                         \n",
       "Covariance Type:                    opg                                         \n",
       "==============================================================================\n",
       "                 coef    std err          z      P>|z|      [0.025      0.975]\n",
       "------------------------------------------------------------------------------\n",
       "sigma2      1.978e+09   4.81e+08      4.117      0.000    1.04e+09    2.92e+09\n",
       "===================================================================================\n",
       "Ljung-Box (L1) (Q):                   0.26   Jarque-Bera (JB):                 1.48\n",
       "Prob(Q):                              0.61   Prob(JB):                         0.48\n",
       "Heteroskedasticity (H):               8.48   Skew:                             0.99\n",
       "Prob(H) (two-sided):                  0.11   Kurtosis:                         2.98\n",
       "===================================================================================\n",
       "\n",
       "Warnings:\n",
       "[1] Covariance matrix calculated using the outer product of gradients (complex-step).\n",
       "\"\"\""
      ]
     },
     "execution_count": 53,
     "metadata": {},
     "output_type": "execute_result"
    }
   ],
   "source": [
    "arima_model = SARIMAX(train,order=(0,0,0),seasonal_order = (0,1,0,12))     #AIC 224.829; D=1;d=0  /// tienda 20, periodos = 12->\n",
    "# arima_model = SARIMAX(train,order=(0,0,2),seasonal_order = (0,1,0,12))     #AIC 224.829; D=1;d=0  /// tienda 13, periodos = 12->\n",
    "# arima_model = SARIMAX(train,order=(1,0,0),seasonal_order = (0,0,0,12))     #AIC 224.829; D=0;d=0  /// tienda 30, periodos = 12->\n",
    "# arima_model = SARIMAX(train,order=(3,0,1),seasonal_order = (0,0,0,12))     #AIC 224.829; D=0;d=0  /// tienda 44, periodos = 12->\n",
    "# arima_model = SARIMAX(train,order=(1,0,0),seasonal_order = (0,1,0,12))     #AIC 224.829; D=1;d=0  /// tienda 5, periodos = 12->\n",
    "\n",
    "arima_result = arima_model.fit() \n",
    "arima_result.summary()"
   ]
  },
  {
   "cell_type": "code",
   "execution_count": 54,
   "id": "1a3cfaf4-2307-4440-907d-d70dce14b14e",
   "metadata": {
    "tags": []
   },
   "outputs": [
    {
     "data": {
      "text/plain": [
       "{'trend': 0,\n",
       " 'exog': 0,\n",
       " 'ar': 0,\n",
       " 'ma': 0,\n",
       " 'seasonal_ar': 0,\n",
       " 'seasonal_ma': 0,\n",
       " 'reduced_ar': 0,\n",
       " 'reduced_ma': 0,\n",
       " 'exog_variance': 0,\n",
       " 'measurement_variance': 0,\n",
       " 'variance': 1}"
      ]
     },
     "execution_count": 54,
     "metadata": {},
     "output_type": "execute_result"
    }
   ],
   "source": [
    "arima_result.model_orders\n",
    "# r2. si no hay una cte (ar,phi_0) en el modelo. este es negativo.\n",
    "# el autoarima no tiene una cte "
   ]
  },
  {
   "cell_type": "code",
   "execution_count": 55,
   "id": "4c9ae5b0-ff64-4c14-843f-fa47bd2d6fd3",
   "metadata": {},
   "outputs": [
    {
     "data": {
      "text/plain": [
       "2011-11-01   2,322,193.72\n",
       "2011-12-01   2,710,758.33\n",
       "2012-01-01   1,817,672.07\n",
       "2012-02-01   2,189,938.99\n",
       "2012-03-01   1,972,684.31\n",
       "2012-04-01   2,041,621.16\n",
       "2012-05-01   2,006,359.05\n",
       "2012-06-01   2,083,331.58\n",
       "Freq: MS, Name: ARIMA Predictions, dtype: float64"
      ]
     },
     "execution_count": 55,
     "metadata": {},
     "output_type": "execute_result"
    }
   ],
   "source": [
    "arima_pred = arima_result.predict(start= len(train),end=len(st)-1,type='levels').rename('ARIMA Predictions')\n",
    "arima_pred.head(8)"
   ]
  },
  {
   "cell_type": "code",
   "execution_count": 56,
   "id": "d5c61ca1-477c-48bb-9fc3-f761311923b8",
   "metadata": {},
   "outputs": [],
   "source": [
    "# len(arima_pred)\n",
    "# len(train)\n",
    "# len(s_20)\n",
    "# len(test)\n",
    "# len(train)-len(arima_pred)"
   ]
  },
  {
   "cell_type": "code",
   "execution_count": 57,
   "id": "31a23520-9c8b-4b19-a65a-8443bf255a63",
   "metadata": {},
   "outputs": [
    {
     "data": {
      "application/vnd.plotly.v1+json": {
       "config": {
        "plotlyServerURL": "https://plot.ly"
       },
       "data": [
        {
         "name": "arima",
         "type": "scatter",
         "x": [
          "2011-11-01T00:00:00",
          "2011-12-01T00:00:00",
          "2012-01-01T00:00:00",
          "2012-02-01T00:00:00",
          "2012-03-01T00:00:00",
          "2012-04-01T00:00:00",
          "2012-05-01T00:00:00",
          "2012-06-01T00:00:00",
          "2012-07-01T00:00:00",
          "2012-08-01T00:00:00",
          "2012-09-01T00:00:00",
          "2012-10-01T00:00:00"
         ],
         "xaxis": "x",
         "y": [
          2322193.7175,
          2710758.328,
          1817672.075,
          2189938.9925,
          1972684.3074999999,
          2041621.162,
          2006359.05,
          2083331.58,
          2005234.9420000003,
          2041298.79,
          2001049.1920000003,
          2078938.4725000001
         ],
         "yaxis": "y2"
        },
        {
         "name": "test",
         "type": "scatter",
         "x": [
          "2011-11-01T00:00:00",
          "2011-12-01T00:00:00",
          "2012-01-01T00:00:00",
          "2012-02-01T00:00:00",
          "2012-03-01T00:00:00",
          "2012-04-01T00:00:00",
          "2012-05-01T00:00:00",
          "2012-06-01T00:00:00",
          "2012-07-01T00:00:00",
          "2012-08-01T00:00:00",
          "2012-09-01T00:00:00",
          "2012-10-01T00:00:00"
         ],
         "xaxis": "x",
         "y": [
          2407562.38,
          2641266.658,
          1882501.2574999998,
          2255341.0475,
          2084047.7140000002,
          2095396.9375,
          2121454.815,
          2131358.062,
          2093616.2025000001,
          2070329.0620000002,
          2041354.215,
          2110094.3225
         ],
         "yaxis": "y"
        }
       ],
       "layout": {
        "height": 600,
        "template": {
         "data": {
          "bar": [
           {
            "error_x": {
             "color": "#2a3f5f"
            },
            "error_y": {
             "color": "#2a3f5f"
            },
            "marker": {
             "line": {
              "color": "#E5ECF6",
              "width": 0.5
             },
             "pattern": {
              "fillmode": "overlay",
              "size": 10,
              "solidity": 0.2
             }
            },
            "type": "bar"
           }
          ],
          "barpolar": [
           {
            "marker": {
             "line": {
              "color": "#E5ECF6",
              "width": 0.5
             },
             "pattern": {
              "fillmode": "overlay",
              "size": 10,
              "solidity": 0.2
             }
            },
            "type": "barpolar"
           }
          ],
          "carpet": [
           {
            "aaxis": {
             "endlinecolor": "#2a3f5f",
             "gridcolor": "white",
             "linecolor": "white",
             "minorgridcolor": "white",
             "startlinecolor": "#2a3f5f"
            },
            "baxis": {
             "endlinecolor": "#2a3f5f",
             "gridcolor": "white",
             "linecolor": "white",
             "minorgridcolor": "white",
             "startlinecolor": "#2a3f5f"
            },
            "type": "carpet"
           }
          ],
          "choropleth": [
           {
            "colorbar": {
             "outlinewidth": 0,
             "ticks": ""
            },
            "type": "choropleth"
           }
          ],
          "contour": [
           {
            "colorbar": {
             "outlinewidth": 0,
             "ticks": ""
            },
            "colorscale": [
             [
              0,
              "#0d0887"
             ],
             [
              0.1111111111111111,
              "#46039f"
             ],
             [
              0.2222222222222222,
              "#7201a8"
             ],
             [
              0.3333333333333333,
              "#9c179e"
             ],
             [
              0.4444444444444444,
              "#bd3786"
             ],
             [
              0.5555555555555556,
              "#d8576b"
             ],
             [
              0.6666666666666666,
              "#ed7953"
             ],
             [
              0.7777777777777778,
              "#fb9f3a"
             ],
             [
              0.8888888888888888,
              "#fdca26"
             ],
             [
              1,
              "#f0f921"
             ]
            ],
            "type": "contour"
           }
          ],
          "contourcarpet": [
           {
            "colorbar": {
             "outlinewidth": 0,
             "ticks": ""
            },
            "type": "contourcarpet"
           }
          ],
          "heatmap": [
           {
            "colorbar": {
             "outlinewidth": 0,
             "ticks": ""
            },
            "colorscale": [
             [
              0,
              "#0d0887"
             ],
             [
              0.1111111111111111,
              "#46039f"
             ],
             [
              0.2222222222222222,
              "#7201a8"
             ],
             [
              0.3333333333333333,
              "#9c179e"
             ],
             [
              0.4444444444444444,
              "#bd3786"
             ],
             [
              0.5555555555555556,
              "#d8576b"
             ],
             [
              0.6666666666666666,
              "#ed7953"
             ],
             [
              0.7777777777777778,
              "#fb9f3a"
             ],
             [
              0.8888888888888888,
              "#fdca26"
             ],
             [
              1,
              "#f0f921"
             ]
            ],
            "type": "heatmap"
           }
          ],
          "heatmapgl": [
           {
            "colorbar": {
             "outlinewidth": 0,
             "ticks": ""
            },
            "colorscale": [
             [
              0,
              "#0d0887"
             ],
             [
              0.1111111111111111,
              "#46039f"
             ],
             [
              0.2222222222222222,
              "#7201a8"
             ],
             [
              0.3333333333333333,
              "#9c179e"
             ],
             [
              0.4444444444444444,
              "#bd3786"
             ],
             [
              0.5555555555555556,
              "#d8576b"
             ],
             [
              0.6666666666666666,
              "#ed7953"
             ],
             [
              0.7777777777777778,
              "#fb9f3a"
             ],
             [
              0.8888888888888888,
              "#fdca26"
             ],
             [
              1,
              "#f0f921"
             ]
            ],
            "type": "heatmapgl"
           }
          ],
          "histogram": [
           {
            "marker": {
             "pattern": {
              "fillmode": "overlay",
              "size": 10,
              "solidity": 0.2
             }
            },
            "type": "histogram"
           }
          ],
          "histogram2d": [
           {
            "colorbar": {
             "outlinewidth": 0,
             "ticks": ""
            },
            "colorscale": [
             [
              0,
              "#0d0887"
             ],
             [
              0.1111111111111111,
              "#46039f"
             ],
             [
              0.2222222222222222,
              "#7201a8"
             ],
             [
              0.3333333333333333,
              "#9c179e"
             ],
             [
              0.4444444444444444,
              "#bd3786"
             ],
             [
              0.5555555555555556,
              "#d8576b"
             ],
             [
              0.6666666666666666,
              "#ed7953"
             ],
             [
              0.7777777777777778,
              "#fb9f3a"
             ],
             [
              0.8888888888888888,
              "#fdca26"
             ],
             [
              1,
              "#f0f921"
             ]
            ],
            "type": "histogram2d"
           }
          ],
          "histogram2dcontour": [
           {
            "colorbar": {
             "outlinewidth": 0,
             "ticks": ""
            },
            "colorscale": [
             [
              0,
              "#0d0887"
             ],
             [
              0.1111111111111111,
              "#46039f"
             ],
             [
              0.2222222222222222,
              "#7201a8"
             ],
             [
              0.3333333333333333,
              "#9c179e"
             ],
             [
              0.4444444444444444,
              "#bd3786"
             ],
             [
              0.5555555555555556,
              "#d8576b"
             ],
             [
              0.6666666666666666,
              "#ed7953"
             ],
             [
              0.7777777777777778,
              "#fb9f3a"
             ],
             [
              0.8888888888888888,
              "#fdca26"
             ],
             [
              1,
              "#f0f921"
             ]
            ],
            "type": "histogram2dcontour"
           }
          ],
          "mesh3d": [
           {
            "colorbar": {
             "outlinewidth": 0,
             "ticks": ""
            },
            "type": "mesh3d"
           }
          ],
          "parcoords": [
           {
            "line": {
             "colorbar": {
              "outlinewidth": 0,
              "ticks": ""
             }
            },
            "type": "parcoords"
           }
          ],
          "pie": [
           {
            "automargin": true,
            "type": "pie"
           }
          ],
          "scatter": [
           {
            "marker": {
             "colorbar": {
              "outlinewidth": 0,
              "ticks": ""
             }
            },
            "type": "scatter"
           }
          ],
          "scatter3d": [
           {
            "line": {
             "colorbar": {
              "outlinewidth": 0,
              "ticks": ""
             }
            },
            "marker": {
             "colorbar": {
              "outlinewidth": 0,
              "ticks": ""
             }
            },
            "type": "scatter3d"
           }
          ],
          "scattercarpet": [
           {
            "marker": {
             "colorbar": {
              "outlinewidth": 0,
              "ticks": ""
             }
            },
            "type": "scattercarpet"
           }
          ],
          "scattergeo": [
           {
            "marker": {
             "colorbar": {
              "outlinewidth": 0,
              "ticks": ""
             }
            },
            "type": "scattergeo"
           }
          ],
          "scattergl": [
           {
            "marker": {
             "colorbar": {
              "outlinewidth": 0,
              "ticks": ""
             }
            },
            "type": "scattergl"
           }
          ],
          "scattermapbox": [
           {
            "marker": {
             "colorbar": {
              "outlinewidth": 0,
              "ticks": ""
             }
            },
            "type": "scattermapbox"
           }
          ],
          "scatterpolar": [
           {
            "marker": {
             "colorbar": {
              "outlinewidth": 0,
              "ticks": ""
             }
            },
            "type": "scatterpolar"
           }
          ],
          "scatterpolargl": [
           {
            "marker": {
             "colorbar": {
              "outlinewidth": 0,
              "ticks": ""
             }
            },
            "type": "scatterpolargl"
           }
          ],
          "scatterternary": [
           {
            "marker": {
             "colorbar": {
              "outlinewidth": 0,
              "ticks": ""
             }
            },
            "type": "scatterternary"
           }
          ],
          "surface": [
           {
            "colorbar": {
             "outlinewidth": 0,
             "ticks": ""
            },
            "colorscale": [
             [
              0,
              "#0d0887"
             ],
             [
              0.1111111111111111,
              "#46039f"
             ],
             [
              0.2222222222222222,
              "#7201a8"
             ],
             [
              0.3333333333333333,
              "#9c179e"
             ],
             [
              0.4444444444444444,
              "#bd3786"
             ],
             [
              0.5555555555555556,
              "#d8576b"
             ],
             [
              0.6666666666666666,
              "#ed7953"
             ],
             [
              0.7777777777777778,
              "#fb9f3a"
             ],
             [
              0.8888888888888888,
              "#fdca26"
             ],
             [
              1,
              "#f0f921"
             ]
            ],
            "type": "surface"
           }
          ],
          "table": [
           {
            "cells": {
             "fill": {
              "color": "#EBF0F8"
             },
             "line": {
              "color": "white"
             }
            },
            "header": {
             "fill": {
              "color": "#C8D4E3"
             },
             "line": {
              "color": "white"
             }
            },
            "type": "table"
           }
          ]
         },
         "layout": {
          "annotationdefaults": {
           "arrowcolor": "#2a3f5f",
           "arrowhead": 0,
           "arrowwidth": 1
          },
          "autotypenumbers": "strict",
          "coloraxis": {
           "colorbar": {
            "outlinewidth": 0,
            "ticks": ""
           }
          },
          "colorscale": {
           "diverging": [
            [
             0,
             "#8e0152"
            ],
            [
             0.1,
             "#c51b7d"
            ],
            [
             0.2,
             "#de77ae"
            ],
            [
             0.3,
             "#f1b6da"
            ],
            [
             0.4,
             "#fde0ef"
            ],
            [
             0.5,
             "#f7f7f7"
            ],
            [
             0.6,
             "#e6f5d0"
            ],
            [
             0.7,
             "#b8e186"
            ],
            [
             0.8,
             "#7fbc41"
            ],
            [
             0.9,
             "#4d9221"
            ],
            [
             1,
             "#276419"
            ]
           ],
           "sequential": [
            [
             0,
             "#0d0887"
            ],
            [
             0.1111111111111111,
             "#46039f"
            ],
            [
             0.2222222222222222,
             "#7201a8"
            ],
            [
             0.3333333333333333,
             "#9c179e"
            ],
            [
             0.4444444444444444,
             "#bd3786"
            ],
            [
             0.5555555555555556,
             "#d8576b"
            ],
            [
             0.6666666666666666,
             "#ed7953"
            ],
            [
             0.7777777777777778,
             "#fb9f3a"
            ],
            [
             0.8888888888888888,
             "#fdca26"
            ],
            [
             1,
             "#f0f921"
            ]
           ],
           "sequentialminus": [
            [
             0,
             "#0d0887"
            ],
            [
             0.1111111111111111,
             "#46039f"
            ],
            [
             0.2222222222222222,
             "#7201a8"
            ],
            [
             0.3333333333333333,
             "#9c179e"
            ],
            [
             0.4444444444444444,
             "#bd3786"
            ],
            [
             0.5555555555555556,
             "#d8576b"
            ],
            [
             0.6666666666666666,
             "#ed7953"
            ],
            [
             0.7777777777777778,
             "#fb9f3a"
            ],
            [
             0.8888888888888888,
             "#fdca26"
            ],
            [
             1,
             "#f0f921"
            ]
           ]
          },
          "colorway": [
           "#636efa",
           "#EF553B",
           "#00cc96",
           "#ab63fa",
           "#FFA15A",
           "#19d3f3",
           "#FF6692",
           "#B6E880",
           "#FF97FF",
           "#FECB52"
          ],
          "font": {
           "color": "#2a3f5f"
          },
          "geo": {
           "bgcolor": "white",
           "lakecolor": "white",
           "landcolor": "#E5ECF6",
           "showlakes": true,
           "showland": true,
           "subunitcolor": "white"
          },
          "hoverlabel": {
           "align": "left"
          },
          "hovermode": "closest",
          "mapbox": {
           "style": "light"
          },
          "paper_bgcolor": "white",
          "plot_bgcolor": "#E5ECF6",
          "polar": {
           "angularaxis": {
            "gridcolor": "white",
            "linecolor": "white",
            "ticks": ""
           },
           "bgcolor": "#E5ECF6",
           "radialaxis": {
            "gridcolor": "white",
            "linecolor": "white",
            "ticks": ""
           }
          },
          "scene": {
           "xaxis": {
            "backgroundcolor": "#E5ECF6",
            "gridcolor": "white",
            "gridwidth": 2,
            "linecolor": "white",
            "showbackground": true,
            "ticks": "",
            "zerolinecolor": "white"
           },
           "yaxis": {
            "backgroundcolor": "#E5ECF6",
            "gridcolor": "white",
            "gridwidth": 2,
            "linecolor": "white",
            "showbackground": true,
            "ticks": "",
            "zerolinecolor": "white"
           },
           "zaxis": {
            "backgroundcolor": "#E5ECF6",
            "gridcolor": "white",
            "gridwidth": 2,
            "linecolor": "white",
            "showbackground": true,
            "ticks": "",
            "zerolinecolor": "white"
           }
          },
          "shapedefaults": {
           "line": {
            "color": "#2a3f5f"
           }
          },
          "ternary": {
           "aaxis": {
            "gridcolor": "white",
            "linecolor": "white",
            "ticks": ""
           },
           "baxis": {
            "gridcolor": "white",
            "linecolor": "white",
            "ticks": ""
           },
           "bgcolor": "#E5ECF6",
           "caxis": {
            "gridcolor": "white",
            "linecolor": "white",
            "ticks": ""
           }
          },
          "title": {
           "x": 0.05
          },
          "xaxis": {
           "automargin": true,
           "gridcolor": "white",
           "linecolor": "white",
           "ticks": "",
           "title": {
            "standoff": 15
           },
           "zerolinecolor": "white",
           "zerolinewidth": 2
          },
          "yaxis": {
           "automargin": true,
           "gridcolor": "white",
           "linecolor": "white",
           "ticks": "",
           "title": {
            "standoff": 15
           },
           "zerolinecolor": "white",
           "zerolinewidth": 2
          }
         }
        },
        "title": {
         "text": "Arima Values,s_20"
        },
        "width": 1000,
        "xaxis": {
         "anchor": "y",
         "autorange": true,
         "domain": [
          0,
          0.94
         ],
         "range": [
          "2011-10-11 08:09:04.9279",
          "2012-10-21 15:50:55.0721"
         ],
         "type": "date"
        },
        "yaxis": {
         "anchor": "x",
         "autorange": true,
         "domain": [
          0,
          1
         ],
         "range": [
          1831814.4999767204,
          2691953.415523279
         ],
         "type": "linear"
        },
        "yaxis2": {
         "anchor": "x",
         "autorange": true,
         "overlaying": "y",
         "range": [
          1758012.4670060729,
          2770417.9359939275
         ],
         "side": "right",
         "type": "linear"
        }
       }
      },
      "image/png": "[encoded data removed]",
      "text/html": [
       "<div>                            <div id=\"5e5e59e3-bdc4-4f24-8bad-1f40dad3e465\" class=\"plotly-graph-div\" style=\"height:600px; width:1000px;\"></div>            <script type=\"text/javascript\">                require([\"plotly\"], function(Plotly) {                    window.PLOTLYENV=window.PLOTLYENV || {};                                    if (document.getElementById(\"5e5e59e3-bdc4-4f24-8bad-1f40dad3e465\")) {                    Plotly.newPlot(                        \"5e5e59e3-bdc4-4f24-8bad-1f40dad3e465\",                        [{\"name\":\"arima\",\"type\":\"scatter\",\"x\":[\"2011-11-01T00:00:00\",\"2011-12-01T00:00:00\",\"2012-01-01T00:00:00\",\"2012-02-01T00:00:00\",\"2012-03-01T00:00:00\",\"2012-04-01T00:00:00\",\"2012-05-01T00:00:00\",\"2012-06-01T00:00:00\",\"2012-07-01T00:00:00\",\"2012-08-01T00:00:00\",\"2012-09-01T00:00:00\",\"2012-10-01T00:00:00\"],\"xaxis\":\"x\",\"y\":[2322193.7175,2710758.328,1817672.075,2189938.9925,1972684.3074999999,2041621.162,2006359.05,2083331.58,2005234.9420000003,2041298.79,2001049.1920000003,2078938.4725000001],\"yaxis\":\"y2\"},{\"name\":\"test\",\"type\":\"scatter\",\"x\":[\"2011-11-01T00:00:00\",\"2011-12-01T00:00:00\",\"2012-01-01T00:00:00\",\"2012-02-01T00:00:00\",\"2012-03-01T00:00:00\",\"2012-04-01T00:00:00\",\"2012-05-01T00:00:00\",\"2012-06-01T00:00:00\",\"2012-07-01T00:00:00\",\"2012-08-01T00:00:00\",\"2012-09-01T00:00:00\",\"2012-10-01T00:00:00\"],\"xaxis\":\"x\",\"y\":[2407562.38,2641266.658,1882501.2574999998,2255341.0475,2084047.7140000002,2095396.9375,2121454.815,2131358.062,2093616.2025000001,2070329.0620000002,2041354.215,2110094.3225],\"yaxis\":\"y\"}],                        {\"height\":600,\"template\":{\"data\":{\"bar\":[{\"error_x\":{\"color\":\"#2a3f5f\"},\"error_y\":{\"color\":\"#2a3f5f\"},\"marker\":{\"line\":{\"color\":\"#E5ECF6\",\"width\":0.5},\"pattern\":{\"fillmode\":\"overlay\",\"size\":10,\"solidity\":0.2}},\"type\":\"bar\"}],\"barpolar\":[{\"marker\":{\"line\":{\"color\":\"#E5ECF6\",\"width\":0.5},\"pattern\":{\"fillmode\":\"overlay\",\"size\":10,\"solidity\":0.2}},\"type\":\"barpolar\"}],\"carpet\":[{\"aaxis\":{\"endlinecolor\":\"#2a3f5f\",\"gridcolor\":\"white\",\"linecolor\":\"white\",\"minorgridcolor\":\"white\",\"startlinecolor\":\"#2a3f5f\"},\"baxis\":{\"endlinecolor\":\"#2a3f5f\",\"gridcolor\":\"white\",\"linecolor\":\"white\",\"minorgridcolor\":\"white\",\"startlinecolor\":\"#2a3f5f\"},\"type\":\"carpet\"}],\"choropleth\":[{\"colorbar\":{\"outlinewidth\":0,\"ticks\":\"\"},\"type\":\"choropleth\"}],\"contour\":[{\"colorbar\":{\"outlinewidth\":0,\"ticks\":\"\"},\"colorscale\":[[0.0,\"#0d0887\"],[0.1111111111111111,\"#46039f\"],[0.2222222222222222,\"#7201a8\"],[0.3333333333333333,\"#9c179e\"],[0.4444444444444444,\"#bd3786\"],[0.5555555555555556,\"#d8576b\"],[0.6666666666666666,\"#ed7953\"],[0.7777777777777778,\"#fb9f3a\"],[0.8888888888888888,\"#fdca26\"],[1.0,\"#f0f921\"]],\"type\":\"contour\"}],\"contourcarpet\":[{\"colorbar\":{\"outlinewidth\":0,\"ticks\":\"\"},\"type\":\"contourcarpet\"}],\"heatmap\":[{\"colorbar\":{\"outlinewidth\":0,\"ticks\":\"\"},\"colorscale\":[[0.0,\"#0d0887\"],[0.1111111111111111,\"#46039f\"],[0.2222222222222222,\"#7201a8\"],[0.3333333333333333,\"#9c179e\"],[0.4444444444444444,\"#bd3786\"],[0.5555555555555556,\"#d8576b\"],[0.6666666666666666,\"#ed7953\"],[0.7777777777777778,\"#fb9f3a\"],[0.8888888888888888,\"#fdca26\"],[1.0,\"#f0f921\"]],\"type\":\"heatmap\"}],\"heatmapgl\":[{\"colorbar\":{\"outlinewidth\":0,\"ticks\":\"\"},\"colorscale\":[[0.0,\"#0d0887\"],[0.1111111111111111,\"#46039f\"],[0.2222222222222222,\"#7201a8\"],[0.3333333333333333,\"#9c179e\"],[0.4444444444444444,\"#bd3786\"],[0.5555555555555556,\"#d8576b\"],[0.6666666666666666,\"#ed7953\"],[0.7777777777777778,\"#fb9f3a\"],[0.8888888888888888,\"#fdca26\"],[1.0,\"#f0f921\"]],\"type\":\"heatmapgl\"}],\"histogram\":[{\"marker\":{\"pattern\":{\"fillmode\":\"overlay\",\"size\":10,\"solidity\":0.2}},\"type\":\"histogram\"}],\"histogram2d\":[{\"colorbar\":{\"outlinewidth\":0,\"ticks\":\"\"},\"colorscale\":[[0.0,\"#0d0887\"],[0.1111111111111111,\"#46039f\"],[0.2222222222222222,\"#7201a8\"],[0.3333333333333333,\"#9c179e\"],[0.4444444444444444,\"#bd3786\"],[0.5555555555555556,\"#d8576b\"],[0.6666666666666666,\"#ed7953\"],[0.7777777777777778,\"#fb9f3a\"],[0.8888888888888888,\"#fdca26\"],[1.0,\"#f0f921\"]],\"type\":\"histogram2d\"}],\"histogram2dcontour\":[{\"colorbar\":{\"outlinewidth\":0,\"ticks\":\"\"},\"colorscale\":[[0.0,\"#0d0887\"],[0.1111111111111111,\"#46039f\"],[0.2222222222222222,\"#7201a8\"],[0.3333333333333333,\"#9c179e\"],[0.4444444444444444,\"#bd3786\"],[0.5555555555555556,\"#d8576b\"],[0.6666666666666666,\"#ed7953\"],[0.7777777777777778,\"#fb9f3a\"],[0.8888888888888888,\"#fdca26\"],[1.0,\"#f0f921\"]],\"type\":\"histogram2dcontour\"}],\"mesh3d\":[{\"colorbar\":{\"outlinewidth\":0,\"ticks\":\"\"},\"type\":\"mesh3d\"}],\"parcoords\":[{\"line\":{\"colorbar\":{\"outlinewidth\":0,\"ticks\":\"\"}},\"type\":\"parcoords\"}],\"pie\":[{\"automargin\":true,\"type\":\"pie\"}],\"scatter\":[{\"marker\":{\"colorbar\":{\"outlinewidth\":0,\"ticks\":\"\"}},\"type\":\"scatter\"}],\"scatter3d\":[{\"line\":{\"colorbar\":{\"outlinewidth\":0,\"ticks\":\"\"}},\"marker\":{\"colorbar\":{\"outlinewidth\":0,\"ticks\":\"\"}},\"type\":\"scatter3d\"}],\"scattercarpet\":[{\"marker\":{\"colorbar\":{\"outlinewidth\":0,\"ticks\":\"\"}},\"type\":\"scattercarpet\"}],\"scattergeo\":[{\"marker\":{\"colorbar\":{\"outlinewidth\":0,\"ticks\":\"\"}},\"type\":\"scattergeo\"}],\"scattergl\":[{\"marker\":{\"colorbar\":{\"outlinewidth\":0,\"ticks\":\"\"}},\"type\":\"scattergl\"}],\"scattermapbox\":[{\"marker\":{\"colorbar\":{\"outlinewidth\":0,\"ticks\":\"\"}},\"type\":\"scattermapbox\"}],\"scatterpolar\":[{\"marker\":{\"colorbar\":{\"outlinewidth\":0,\"ticks\":\"\"}},\"type\":\"scatterpolar\"}],\"scatterpolargl\":[{\"marker\":{\"colorbar\":{\"outlinewidth\":0,\"ticks\":\"\"}},\"type\":\"scatterpolargl\"}],\"scatterternary\":[{\"marker\":{\"colorbar\":{\"outlinewidth\":0,\"ticks\":\"\"}},\"type\":\"scatterternary\"}],\"surface\":[{\"colorbar\":{\"outlinewidth\":0,\"ticks\":\"\"},\"colorscale\":[[0.0,\"#0d0887\"],[0.1111111111111111,\"#46039f\"],[0.2222222222222222,\"#7201a8\"],[0.3333333333333333,\"#9c179e\"],[0.4444444444444444,\"#bd3786\"],[0.5555555555555556,\"#d8576b\"],[0.6666666666666666,\"#ed7953\"],[0.7777777777777778,\"#fb9f3a\"],[0.8888888888888888,\"#fdca26\"],[1.0,\"#f0f921\"]],\"type\":\"surface\"}],\"table\":[{\"cells\":{\"fill\":{\"color\":\"#EBF0F8\"},\"line\":{\"color\":\"white\"}},\"header\":{\"fill\":{\"color\":\"#C8D4E3\"},\"line\":{\"color\":\"white\"}},\"type\":\"table\"}]},\"layout\":{\"annotationdefaults\":{\"arrowcolor\":\"#2a3f5f\",\"arrowhead\":0,\"arrowwidth\":1},\"autotypenumbers\":\"strict\",\"coloraxis\":{\"colorbar\":{\"outlinewidth\":0,\"ticks\":\"\"}},\"colorscale\":{\"diverging\":[[0,\"#8e0152\"],[0.1,\"#c51b7d\"],[0.2,\"#de77ae\"],[0.3,\"#f1b6da\"],[0.4,\"#fde0ef\"],[0.5,\"#f7f7f7\"],[0.6,\"#e6f5d0\"],[0.7,\"#b8e186\"],[0.8,\"#7fbc41\"],[0.9,\"#4d9221\"],[1,\"#276419\"]],\"sequential\":[[0.0,\"#0d0887\"],[0.1111111111111111,\"#46039f\"],[0.2222222222222222,\"#7201a8\"],[0.3333333333333333,\"#9c179e\"],[0.4444444444444444,\"#bd3786\"],[0.5555555555555556,\"#d8576b\"],[0.6666666666666666,\"#ed7953\"],[0.7777777777777778,\"#fb9f3a\"],[0.8888888888888888,\"#fdca26\"],[1.0,\"#f0f921\"]],\"sequentialminus\":[[0.0,\"#0d0887\"],[0.1111111111111111,\"#46039f\"],[0.2222222222222222,\"#7201a8\"],[0.3333333333333333,\"#9c179e\"],[0.4444444444444444,\"#bd3786\"],[0.5555555555555556,\"#d8576b\"],[0.6666666666666666,\"#ed7953\"],[0.7777777777777778,\"#fb9f3a\"],[0.8888888888888888,\"#fdca26\"],[1.0,\"#f0f921\"]]},\"colorway\":[\"#636efa\",\"#EF553B\",\"#00cc96\",\"#ab63fa\",\"#FFA15A\",\"#19d3f3\",\"#FF6692\",\"#B6E880\",\"#FF97FF\",\"#FECB52\"],\"font\":{\"color\":\"#2a3f5f\"},\"geo\":{\"bgcolor\":\"white\",\"lakecolor\":\"white\",\"landcolor\":\"#E5ECF6\",\"showlakes\":true,\"showland\":true,\"subunitcolor\":\"white\"},\"hoverlabel\":{\"align\":\"left\"},\"hovermode\":\"closest\",\"mapbox\":{\"style\":\"light\"},\"paper_bgcolor\":\"white\",\"plot_bgcolor\":\"#E5ECF6\",\"polar\":{\"angularaxis\":{\"gridcolor\":\"white\",\"linecolor\":\"white\",\"ticks\":\"\"},\"bgcolor\":\"#E5ECF6\",\"radialaxis\":{\"gridcolor\":\"white\",\"linecolor\":\"white\",\"ticks\":\"\"}},\"scene\":{\"xaxis\":{\"backgroundcolor\":\"#E5ECF6\",\"gridcolor\":\"white\",\"gridwidth\":2,\"linecolor\":\"white\",\"showbackground\":true,\"ticks\":\"\",\"zerolinecolor\":\"white\"},\"yaxis\":{\"backgroundcolor\":\"#E5ECF6\",\"gridcolor\":\"white\",\"gridwidth\":2,\"linecolor\":\"white\",\"showbackground\":true,\"ticks\":\"\",\"zerolinecolor\":\"white\"},\"zaxis\":{\"backgroundcolor\":\"#E5ECF6\",\"gridcolor\":\"white\",\"gridwidth\":2,\"linecolor\":\"white\",\"showbackground\":true,\"ticks\":\"\",\"zerolinecolor\":\"white\"}},\"shapedefaults\":{\"line\":{\"color\":\"#2a3f5f\"}},\"ternary\":{\"aaxis\":{\"gridcolor\":\"white\",\"linecolor\":\"white\",\"ticks\":\"\"},\"baxis\":{\"gridcolor\":\"white\",\"linecolor\":\"white\",\"ticks\":\"\"},\"bgcolor\":\"#E5ECF6\",\"caxis\":{\"gridcolor\":\"white\",\"linecolor\":\"white\",\"ticks\":\"\"}},\"title\":{\"x\":0.05},\"xaxis\":{\"automargin\":true,\"gridcolor\":\"white\",\"linecolor\":\"white\",\"ticks\":\"\",\"title\":{\"standoff\":15},\"zerolinecolor\":\"white\",\"zerolinewidth\":2},\"yaxis\":{\"automargin\":true,\"gridcolor\":\"white\",\"linecolor\":\"white\",\"ticks\":\"\",\"title\":{\"standoff\":15},\"zerolinecolor\":\"white\",\"zerolinewidth\":2}}},\"title\":{\"text\":\"Arima Values,s_20\"},\"width\":1000,\"xaxis\":{\"anchor\":\"y\",\"domain\":[0.0,0.94]},\"yaxis\":{\"anchor\":\"x\",\"domain\":[0.0,1.0]},\"yaxis2\":{\"anchor\":\"x\",\"overlaying\":\"y\",\"side\":\"right\"}},                        {\"responsive\": true}                    ).then(function(){\n",
       "                            \n",
       "var gd = document.getElementById('5e5e59e3-bdc4-4f24-8bad-1f40dad3e465');\n",
       "var x = new MutationObserver(function (mutations, observer) {{\n",
       "        var display = window.getComputedStyle(gd).display;\n",
       "        if (!display || display === 'none') {{\n",
       "            console.log([gd, 'removed!']);\n",
       "            Plotly.purge(gd);\n",
       "            observer.disconnect();\n",
       "        }}\n",
       "}});\n",
       "\n",
       "// Listen for the removal of the full notebook cells\n",
       "var notebookContainer = gd.closest('#notebook-container');\n",
       "if (notebookContainer) {{\n",
       "    x.observe(notebookContainer, {childList: true});\n",
       "}}\n",
       "\n",
       "// Listen for the clearing of the current output cell\n",
       "var outputEl = gd.closest('.output');\n",
       "if (outputEl) {{\n",
       "    x.observe(outputEl, {childList: true});\n",
       "}}\n",
       "\n",
       "                        })                };                });            </script>        </div>"
      ]
     },
     "metadata": {},
     "output_type": "display_data"
    }
   ],
   "source": [
    "fig = make_subplots(specs=[[{\"secondary_y\": True}]])\n",
    "\n",
    "\n",
    "fig.add_trace(\n",
    "    go.Scatter(x = arima_pred.index,y = arima_pred, name=\"arima\"),\n",
    "    secondary_y=True\n",
    ")\n",
    "\n",
    "fig.add_trace(\n",
    "    go.Scatter(x = test.index,y = test, name=\"test\"),\n",
    "    secondary_y=False\n",
    ")\n",
    "\n",
    "\n",
    "fig.update_layout(\n",
    "    title_text=f\"Arima Values,{vnames[0]}\",\n",
    "    width = 1000, height = 600\n",
    ")\n",
    "\n",
    "fig.show()"
   ]
  },
  {
   "cell_type": "code",
   "execution_count": 58,
   "id": "12cf5386-5f57-44c0-b629-0e1cacb7eff2",
   "metadata": {},
   "outputs": [
    {
     "name": "stdout",
     "output_type": "stream",
     "text": [
      "Tienda: s_20\n",
      "Accuracy test(R2):  85.08172077109136\n",
      "Mean Absolute Error:  66852.11704166663\n",
      "Mean Square Error:  5224463219.885597\n",
      "Root Mean Square Error:  72280.44839294784\n",
      "Mean Absolute Percentage Error:  0.030986461666270827\n"
     ]
    },
    {
     "data": {
      "image/png": "[encoded data removed]",
      "text/plain": [
       "<Figure size 600x480 with 1 Axes>"
      ]
     },
     "metadata": {},
     "output_type": "display_data"
    }
   ],
   "source": [
    "print('Tienda:',vnames[0])\n",
    "print('Accuracy test(R2): ', metrics.r2_score(test,arima_pred)*100)\n",
    "performance(test,arima_pred)"
   ]
  }
 ],
 "metadata": {
  "kernelspec": {
   "display_name": "Python 3 (ipykernel)",
   "language": "python",
   "name": "python3"
  },
  "language_info": {
   "codemirror_mode": {
    "name": "ipython",
    "version": 3
   },
   "file_extension": ".py",
   "mimetype": "text/x-python",
   "name": "python",
   "nbconvert_exporter": "python",
   "pygments_lexer": "ipython3",
   "version": "3.8.8"
  }
 },
 "nbformat": 4,
 "nbformat_minor": 5
}
